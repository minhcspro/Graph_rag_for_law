{
  "cells": [
    {
      "cell_type": "markdown",
      "metadata": {
        "id": "pxDxgcC8JZM3"
      },
      "source": [
        "<a href=\"https://colab.research.google.com/github/run-llama/llama_index/blob/main/docs/docs/examples/query_engine/knowledge_graph_query_engine.ipynb\" target=\"_parent\"><img src=\"https://colab.research.google.com/assets/colab-badge.svg\" alt=\"Open In Colab\"/></a>"
      ]
    },
    {
      "cell_type": "markdown",
      "metadata": {
        "id": "z4SPgLrVJZM7"
      },
      "source": [
        "# Knowledge Graph Query Engine\n",
        "\n",
        "Creating a Knowledge Graph usually involves specialized and complex tasks. However, by utilizing the Llama Index (LLM), the KnowledgeGraphIndex, and the GraphStore, we can facilitate the creation of a relatively effective Knowledge Graph from any data source supported by [Llama Hub](https://llamahub.ai/).\n",
        "\n",
        "Furthermore, querying a Knowledge Graph often requires domain-specific knowledge related to the storage system, such as Cypher. But, with the assistance of the LLM and the LlamaIndex KnowledgeGraphQueryEngine, this can be accomplished using Natural Language!\n",
        "\n",
        "In this demonstration, we will guide you through the steps to:\n",
        "\n",
        "- Extract and Set Up a Knowledge Graph using the Llama Index\n",
        "- Query a Knowledge Graph using Cypher\n",
        "- Query a Knowledge Graph using Natural Language"
      ]
    },
    {
      "cell_type": "markdown",
      "metadata": {
        "id": "Svb-NLGPJZM8"
      },
      "source": [
        "If you're opening this Notebook on colab, you will probably need to install LlamaIndex 🦙."
      ]
    },
    {
      "cell_type": "code",
      "execution_count": 17,
      "metadata": {
        "id": "JV1n0APJJZM8"
      },
      "outputs": [],
      "source": [
        "# %pip install llama-index-readers-wikipedia\n",
        "# %pip install llama-index-llms-azure-openai\n",
        "# %pip install llama-index-graph-stores-nebula\n",
        "# %pip install llama-index-llms-openai\n",
        "# %pip install llama-index-embeddings-azure-openai"
      ]
    },
    {
      "cell_type": "markdown",
      "metadata": {
        "id": "bvd-awGsJZM-"
      },
      "source": [
        "Let's first get ready for basic preparation of Llama Index."
      ]
    },
    {
      "cell_type": "markdown",
      "metadata": {
        "id": "u8rqThXKJZM-"
      },
      "source": [
        "### OpenAI"
      ]
    },
    {
      "cell_type": "code",
      "execution_count": 18,
      "metadata": {
        "id": "ksMf3L8bJZM_"
      },
      "outputs": [],
      "source": [
        "# For OpenAI\n",
        "\n",
        "import os\n",
        "\n",
        "os.environ[\"OPENAI_API_KEY\"] = \"sk-a0khYUHBaQOMhZkcr5pNgNEcl6i9-4cmpmjKxIShyLT3BlbkFJxt6vnTi02sQ7JSk_39KIv9j4JoRS8tCO3mZ-3V8cQA\"\n",
        "\n",
        "import logging\n",
        "import sys\n",
        "\n",
        "logging.basicConfig(\n",
        "    stream=sys.stdout, level=logging.INFO\n",
        ")  # logging.DEBUG for more verbose output\n",
        "\n",
        "\n",
        "# define LLM\n",
        "from llama_index.llms.openai import OpenAI\n",
        "from llama_index.core import Settings\n",
        "\n",
        "Settings.llm = OpenAI(temperature=0, model=\"gpt-4o-mini\")\n",
        "Settings.chunk_size = 512\n",
        "# Settings.chunk_overlap =32"
      ]
    },
    {
      "cell_type": "markdown",
      "metadata": {
        "id": "Iw5jDPUEJZM_"
      },
      "source": [
        "### Azure"
      ]
    },
    {
      "cell_type": "code",
      "execution_count": 19,
      "metadata": {
        "id": "JEZ-qQGhJZM_"
      },
      "outputs": [],
      "source": [
        "from llama_index.llms.openai import OpenAI\n",
        "from llama_index.embeddings.openai import OpenAIEmbedding\n",
        "\n",
        "# For OpenAI\n",
        "api_key = \"sk-a0khYUHBaQOMhZkcr5pNgNEcl6i9-4cmpmjKxIShyLT3BlbkFJxt6vnTi02sQ7JSk_39KIv9j4JoRS8tCO3mZ-3V8cQA\"\n",
        "\n",
        "llm = OpenAI(model=\"gpt-4o-mini\")\n",
        "\n",
        "# You need to deploy your own embedding model as well as your own chat completion model\n",
        "embed_model = OpenAIEmbedding(model=\"text-embedding-3-large\")\n"
      ]
    },
    {
      "cell_type": "code",
      "execution_count": 20,
      "metadata": {
        "id": "DO_MKvL8JZNA"
      },
      "outputs": [],
      "source": [
        "from llama_index.core import Settings\n",
        "\n",
        "Settings.llm = llm\n",
        "Settings.embed_model = embed_model\n",
        "# Settings.chunk_size = 512\n",
        "# Settings.chunk_overlap =32"
      ]
    },
    {
      "cell_type": "markdown",
      "metadata": {
        "id": "oOvUZ4qKJZNA"
      },
      "source": [
        "## Prepare for NebulaGraph\n",
        "\n",
        "Before next step to creating the Knowledge Graph, let's ensure we have a running NebulaGraph with defined data schema."
      ]
    },
    {
      "cell_type": "code",
      "execution_count": 21,
      "metadata": {},
      "outputs": [
        {
          "name": "stdout",
          "output_type": "stream",
          "text": [
            "Requirement already satisfied: neo4j in c:\\users\\my_pc\\anaconda3\\envs\\minh-ai\\lib\\site-packages (5.25.0)\n",
            "Requirement already satisfied: pytz in c:\\users\\my_pc\\anaconda3\\envs\\minh-ai\\lib\\site-packages (from neo4j) (2024.1)\n",
            "Note: you may need to restart the kernel to use updated packages.\n"
          ]
        }
      ],
      "source": [
        "%pip install neo4j\n",
        "\n",
        "username = \"neo4j\"\n",
        "password = \"minhminh\"\n",
        "url = \"bolt://localhost:7687\"\n",
        "database = \"neo4j\""
      ]
    },
    {
      "cell_type": "markdown",
      "metadata": {
        "id": "0aIQbfLeJZNB"
      },
      "source": [
        "Prepare for StorageContext with graph_store as NebulaGraphStore"
      ]
    },
    {
      "cell_type": "code",
      "execution_count": 22,
      "metadata": {
        "id": "CTvYk76EJZNB"
      },
      "outputs": [
        {
          "ename": "ValueError",
          "evalue": "Could not use APOC procedures. Please ensure the APOC plugin is installed in Neo4j and that 'apoc.meta.data()' is allowed in Neo4j configuration ",
          "output_type": "error",
          "traceback": [
            "\u001b[1;31m---------------------------------------------------------------------------\u001b[0m",
            "\u001b[1;31mClientError\u001b[0m                               Traceback (most recent call last)",
            "File \u001b[1;32mc:\\Users\\My_Pc\\anaconda3\\envs\\Minh-AI\\Lib\\site-packages\\llama_index\\graph_stores\\neo4j\\base.py:72\u001b[0m, in \u001b[0;36mNeo4jGraphStore.__init__\u001b[1;34m(self, username, password, url, database, node_label, refresh_schema, **kwargs)\u001b[0m\n\u001b[0;32m     71\u001b[0m \u001b[38;5;28;01mtry\u001b[39;00m:\n\u001b[1;32m---> 72\u001b[0m     \u001b[38;5;28;43mself\u001b[39;49m\u001b[38;5;241;43m.\u001b[39;49m\u001b[43mrefresh_schema\u001b[49m\u001b[43m(\u001b[49m\u001b[43m)\u001b[49m\n\u001b[0;32m     73\u001b[0m \u001b[38;5;28;01mexcept\u001b[39;00m neo4j\u001b[38;5;241m.\u001b[39mexceptions\u001b[38;5;241m.\u001b[39mClientError:\n",
            "File \u001b[1;32mc:\\Users\\My_Pc\\anaconda3\\envs\\Minh-AI\\Lib\\site-packages\\llama_index\\graph_stores\\neo4j\\base.py:206\u001b[0m, in \u001b[0;36mNeo4jGraphStore.refresh_schema\u001b[1;34m(self)\u001b[0m\n\u001b[0;32m    203\u001b[0m \u001b[38;5;250m\u001b[39m\u001b[38;5;124;03m\"\"\"\u001b[39;00m\n\u001b[0;32m    204\u001b[0m \u001b[38;5;124;03mRefreshes the Neo4j graph schema information.\u001b[39;00m\n\u001b[0;32m    205\u001b[0m \u001b[38;5;124;03m\"\"\"\u001b[39;00m\n\u001b[1;32m--> 206\u001b[0m node_properties \u001b[38;5;241m=\u001b[39m [el[\u001b[38;5;124m\"\u001b[39m\u001b[38;5;124moutput\u001b[39m\u001b[38;5;124m\"\u001b[39m] \u001b[38;5;28;01mfor\u001b[39;00m el \u001b[38;5;129;01min\u001b[39;00m \u001b[38;5;28;43mself\u001b[39;49m\u001b[38;5;241;43m.\u001b[39;49m\u001b[43mquery\u001b[49m\u001b[43m(\u001b[49m\u001b[43mnode_properties_query\u001b[49m\u001b[43m)\u001b[49m]\n\u001b[0;32m    207\u001b[0m rel_properties \u001b[38;5;241m=\u001b[39m [el[\u001b[38;5;124m\"\u001b[39m\u001b[38;5;124moutput\u001b[39m\u001b[38;5;124m\"\u001b[39m] \u001b[38;5;28;01mfor\u001b[39;00m el \u001b[38;5;129;01min\u001b[39;00m \u001b[38;5;28mself\u001b[39m\u001b[38;5;241m.\u001b[39mquery(rel_properties_query)]\n",
            "File \u001b[1;32mc:\\Users\\My_Pc\\anaconda3\\envs\\Minh-AI\\Lib\\site-packages\\llama_index\\graph_stores\\neo4j\\base.py:259\u001b[0m, in \u001b[0;36mNeo4jGraphStore.query\u001b[1;34m(self, query, param_map)\u001b[0m\n\u001b[0;32m    258\u001b[0m \u001b[38;5;28;01mtry\u001b[39;00m:\n\u001b[1;32m--> 259\u001b[0m     data, _, _ \u001b[38;5;241m=\u001b[39m \u001b[38;5;28;43mself\u001b[39;49m\u001b[38;5;241;43m.\u001b[39;49m\u001b[43m_driver\u001b[49m\u001b[38;5;241;43m.\u001b[39;49m\u001b[43mexecute_query\u001b[49m\u001b[43m(\u001b[49m\n\u001b[0;32m    260\u001b[0m \u001b[43m        \u001b[49m\u001b[43mquery\u001b[49m\u001b[43m,\u001b[49m\u001b[43m \u001b[49m\u001b[43mdatabase_\u001b[49m\u001b[38;5;241;43m=\u001b[39;49m\u001b[38;5;28;43mself\u001b[39;49m\u001b[38;5;241;43m.\u001b[39;49m\u001b[43m_database\u001b[49m\u001b[43m,\u001b[49m\u001b[43m \u001b[49m\u001b[43mparameters_\u001b[49m\u001b[38;5;241;43m=\u001b[39;49m\u001b[43mparam_map\u001b[49m\n\u001b[0;32m    261\u001b[0m \u001b[43m    \u001b[49m\u001b[43m)\u001b[49m\n\u001b[0;32m    262\u001b[0m     \u001b[38;5;28;01mreturn\u001b[39;00m [r\u001b[38;5;241m.\u001b[39mdata() \u001b[38;5;28;01mfor\u001b[39;00m r \u001b[38;5;129;01min\u001b[39;00m data]\n",
            "File \u001b[1;32mc:\\Users\\My_Pc\\anaconda3\\envs\\Minh-AI\\Lib\\site-packages\\neo4j\\_sync\\driver.py:971\u001b[0m, in \u001b[0;36mDriver.execute_query\u001b[1;34m(self, query_, parameters_, routing_, database_, impersonated_user_, bookmark_manager_, auth_, result_transformer_, **kwargs)\u001b[0m\n\u001b[0;32m    970\u001b[0m \u001b[38;5;28;01mwith\u001b[39;00m session\u001b[38;5;241m.\u001b[39m_pipelined_begin:\n\u001b[1;32m--> 971\u001b[0m     \u001b[38;5;28;01mreturn\u001b[39;00m \u001b[43msession\u001b[49m\u001b[38;5;241;43m.\u001b[39;49m\u001b[43m_run_transaction\u001b[49m\u001b[43m(\u001b[49m\n\u001b[0;32m    972\u001b[0m \u001b[43m        \u001b[49m\u001b[43maccess_mode\u001b[49m\u001b[43m,\u001b[49m\n\u001b[0;32m    973\u001b[0m \u001b[43m        \u001b[49m\u001b[43mTelemetryAPI\u001b[49m\u001b[38;5;241;43m.\u001b[39;49m\u001b[43mDRIVER\u001b[49m\u001b[43m,\u001b[49m\n\u001b[0;32m    974\u001b[0m \u001b[43m        \u001b[49m\u001b[43mwork\u001b[49m\u001b[43m,\u001b[49m\n\u001b[0;32m    975\u001b[0m \u001b[43m        \u001b[49m\u001b[43m(\u001b[49m\u001b[43mquery_str\u001b[49m\u001b[43m,\u001b[49m\u001b[43m \u001b[49m\u001b[43mparameters\u001b[49m\u001b[43m,\u001b[49m\u001b[43m \u001b[49m\u001b[43mresult_transformer_\u001b[49m\u001b[43m)\u001b[49m\u001b[43m,\u001b[49m\n\u001b[0;32m    976\u001b[0m \u001b[43m        \u001b[49m\u001b[43m{\u001b[49m\u001b[43m}\u001b[49m\u001b[43m,\u001b[49m\n\u001b[0;32m    977\u001b[0m \u001b[43m    \u001b[49m\u001b[43m)\u001b[49m\n",
            "File \u001b[1;32mc:\\Users\\My_Pc\\anaconda3\\envs\\Minh-AI\\Lib\\site-packages\\neo4j\\_sync\\work\\session.py:574\u001b[0m, in \u001b[0;36mSession._run_transaction\u001b[1;34m(self, access_mode, api, transaction_function, args, kwargs)\u001b[0m\n\u001b[0;32m    573\u001b[0m \u001b[38;5;28;01mtry\u001b[39;00m:\n\u001b[1;32m--> 574\u001b[0m     result \u001b[38;5;241m=\u001b[39m \u001b[43mtransaction_function\u001b[49m\u001b[43m(\u001b[49m\u001b[43mtx\u001b[49m\u001b[43m,\u001b[49m\u001b[43m \u001b[49m\u001b[38;5;241;43m*\u001b[39;49m\u001b[43margs\u001b[49m\u001b[43m,\u001b[49m\u001b[43m \u001b[49m\u001b[38;5;241;43m*\u001b[39;49m\u001b[38;5;241;43m*\u001b[39;49m\u001b[43mkwargs\u001b[49m\u001b[43m)\u001b[49m\n\u001b[0;32m    575\u001b[0m \u001b[38;5;28;01mexcept\u001b[39;00m asyncio\u001b[38;5;241m.\u001b[39mCancelledError:\n\u001b[0;32m    576\u001b[0m     \u001b[38;5;66;03m# if cancellation callback has not been called yet:\u001b[39;00m\n",
            "File \u001b[1;32mc:\\Users\\My_Pc\\anaconda3\\envs\\Minh-AI\\Lib\\site-packages\\neo4j\\_sync\\driver.py:1308\u001b[0m, in \u001b[0;36m_work\u001b[1;34m(tx, query, parameters, transformer)\u001b[0m\n\u001b[0;32m   1307\u001b[0m res \u001b[38;5;241m=\u001b[39m tx\u001b[38;5;241m.\u001b[39mrun(query, parameters)\n\u001b[1;32m-> 1308\u001b[0m \u001b[38;5;28;01mreturn\u001b[39;00m \u001b[43mtransformer\u001b[49m\u001b[43m(\u001b[49m\u001b[43mres\u001b[49m\u001b[43m)\u001b[49m\n",
            "File \u001b[1;32mc:\\Users\\My_Pc\\anaconda3\\envs\\Minh-AI\\Lib\\site-packages\\neo4j\\_sync\\work\\result.py:797\u001b[0m, in \u001b[0;36mResult.to_eager_result\u001b[1;34m(self)\u001b[0m\n\u001b[0;32m    781\u001b[0m \u001b[38;5;250m\u001b[39m\u001b[38;5;124;03m\"\"\"\u001b[39;00m\n\u001b[0;32m    782\u001b[0m \u001b[38;5;124;03mConvert this result to an :class:`.EagerResult`.\u001b[39;00m\n\u001b[0;32m    783\u001b[0m \n\u001b[1;32m   (...)\u001b[0m\n\u001b[0;32m    795\u001b[0m \u001b[38;5;124;03m.. versionchanged:: 5.8 Stabilized from experimental.\u001b[39;00m\n\u001b[0;32m    796\u001b[0m \u001b[38;5;124;03m\"\"\"\u001b[39;00m\n\u001b[1;32m--> 797\u001b[0m \u001b[38;5;28;43mself\u001b[39;49m\u001b[38;5;241;43m.\u001b[39;49m\u001b[43m_buffer_all\u001b[49m\u001b[43m(\u001b[49m\u001b[43m)\u001b[49m\n\u001b[0;32m    798\u001b[0m \u001b[38;5;28;01mreturn\u001b[39;00m EagerResult(\n\u001b[0;32m    799\u001b[0m     keys\u001b[38;5;241m=\u001b[39m\u001b[38;5;28mlist\u001b[39m(\u001b[38;5;28mself\u001b[39m\u001b[38;5;241m.\u001b[39mkeys()),\n\u001b[0;32m    800\u001b[0m     records\u001b[38;5;241m=\u001b[39mUtil\u001b[38;5;241m.\u001b[39mlist(\u001b[38;5;28mself\u001b[39m),\n\u001b[0;32m    801\u001b[0m     summary\u001b[38;5;241m=\u001b[39m\u001b[38;5;28mself\u001b[39m\u001b[38;5;241m.\u001b[39mconsume(),\n\u001b[0;32m    802\u001b[0m )\n",
            "File \u001b[1;32mc:\\Users\\My_Pc\\anaconda3\\envs\\Minh-AI\\Lib\\site-packages\\neo4j\\_sync\\work\\result.py:454\u001b[0m, in \u001b[0;36mResult._buffer_all\u001b[1;34m(self)\u001b[0m\n\u001b[0;32m    453\u001b[0m \u001b[38;5;28;01mdef\u001b[39;00m \u001b[38;5;21m_buffer_all\u001b[39m(\u001b[38;5;28mself\u001b[39m):\n\u001b[1;32m--> 454\u001b[0m     \u001b[38;5;28;43mself\u001b[39;49m\u001b[38;5;241;43m.\u001b[39;49m\u001b[43m_buffer\u001b[49m\u001b[43m(\u001b[49m\u001b[43m)\u001b[49m\n",
            "File \u001b[1;32mc:\\Users\\My_Pc\\anaconda3\\envs\\Minh-AI\\Lib\\site-packages\\neo4j\\_sync\\work\\result.py:443\u001b[0m, in \u001b[0;36mResult._buffer\u001b[1;34m(self, n)\u001b[0m\n\u001b[0;32m    442\u001b[0m record_buffer \u001b[38;5;241m=\u001b[39m deque()\n\u001b[1;32m--> 443\u001b[0m \u001b[43m\u001b[49m\u001b[38;5;28;43;01mfor\u001b[39;49;00m\u001b[43m \u001b[49m\u001b[43mrecord\u001b[49m\u001b[43m \u001b[49m\u001b[38;5;129;43;01min\u001b[39;49;00m\u001b[43m \u001b[49m\u001b[38;5;28;43mself\u001b[39;49m\u001b[43m:\u001b[49m\n\u001b[0;32m    444\u001b[0m \u001b[43m    \u001b[49m\u001b[43mrecord_buffer\u001b[49m\u001b[38;5;241;43m.\u001b[39;49m\u001b[43mappend\u001b[49m\u001b[43m(\u001b[49m\u001b[43mrecord\u001b[49m\u001b[43m)\u001b[49m\n",
            "File \u001b[1;32mc:\\Users\\My_Pc\\anaconda3\\envs\\Minh-AI\\Lib\\site-packages\\neo4j\\_sync\\work\\result.py:393\u001b[0m, in \u001b[0;36mResult.__iter__\u001b[1;34m(self)\u001b[0m\n\u001b[0;32m    392\u001b[0m \u001b[38;5;28;01melif\u001b[39;00m \u001b[38;5;28mself\u001b[39m\u001b[38;5;241m.\u001b[39m_streaming:\n\u001b[1;32m--> 393\u001b[0m     \u001b[38;5;28;43mself\u001b[39;49m\u001b[38;5;241;43m.\u001b[39;49m\u001b[43m_connection\u001b[49m\u001b[38;5;241;43m.\u001b[39;49m\u001b[43mfetch_message\u001b[49m\u001b[43m(\u001b[49m\u001b[43m)\u001b[49m\n\u001b[0;32m    394\u001b[0m \u001b[38;5;28;01melif\u001b[39;00m \u001b[38;5;28mself\u001b[39m\u001b[38;5;241m.\u001b[39m_discarding:\n",
            "File \u001b[1;32mc:\\Users\\My_Pc\\anaconda3\\envs\\Minh-AI\\Lib\\site-packages\\neo4j\\_sync\\io\\_common.py:181\u001b[0m, in \u001b[0;36mConnectionErrorHandler.__getattr__.<locals>.outer.<locals>.inner\u001b[1;34m(*args, **kwargs)\u001b[0m\n\u001b[0;32m    180\u001b[0m \u001b[38;5;28;01mtry\u001b[39;00m:\n\u001b[1;32m--> 181\u001b[0m     \u001b[43mfunc\u001b[49m\u001b[43m(\u001b[49m\u001b[38;5;241;43m*\u001b[39;49m\u001b[43margs\u001b[49m\u001b[43m,\u001b[49m\u001b[43m \u001b[49m\u001b[38;5;241;43m*\u001b[39;49m\u001b[38;5;241;43m*\u001b[39;49m\u001b[43mkwargs\u001b[49m\u001b[43m)\u001b[49m\n\u001b[0;32m    182\u001b[0m \u001b[38;5;28;01mexcept\u001b[39;00m (Neo4jError, ServiceUnavailable, SessionExpired) \u001b[38;5;28;01mas\u001b[39;00m exc:\n",
            "File \u001b[1;32mc:\\Users\\My_Pc\\anaconda3\\envs\\Minh-AI\\Lib\\site-packages\\neo4j\\_sync\\io\\_bolt.py:977\u001b[0m, in \u001b[0;36mBolt.fetch_message\u001b[1;34m(self)\u001b[0m\n\u001b[0;32m    974\u001b[0m tag, fields \u001b[38;5;241m=\u001b[39m \u001b[38;5;28mself\u001b[39m\u001b[38;5;241m.\u001b[39minbox\u001b[38;5;241m.\u001b[39mpop(\n\u001b[0;32m    975\u001b[0m     hydration_hooks\u001b[38;5;241m=\u001b[39m\u001b[38;5;28mself\u001b[39m\u001b[38;5;241m.\u001b[39mresponses[\u001b[38;5;241m0\u001b[39m]\u001b[38;5;241m.\u001b[39mhydration_hooks\n\u001b[0;32m    976\u001b[0m )\n\u001b[1;32m--> 977\u001b[0m res \u001b[38;5;241m=\u001b[39m \u001b[38;5;28;43mself\u001b[39;49m\u001b[38;5;241;43m.\u001b[39;49m\u001b[43m_process_message\u001b[49m\u001b[43m(\u001b[49m\u001b[43mtag\u001b[49m\u001b[43m,\u001b[49m\u001b[43m \u001b[49m\u001b[43mfields\u001b[49m\u001b[43m)\u001b[49m\n\u001b[0;32m    978\u001b[0m \u001b[38;5;28mself\u001b[39m\u001b[38;5;241m.\u001b[39midle_since \u001b[38;5;241m=\u001b[39m monotonic()\n",
            "File \u001b[1;32mc:\\Users\\My_Pc\\anaconda3\\envs\\Minh-AI\\Lib\\site-packages\\neo4j\\_sync\\io\\_bolt5.py:466\u001b[0m, in \u001b[0;36mBolt5x0._process_message\u001b[1;34m(self, tag, fields)\u001b[0m\n\u001b[0;32m    465\u001b[0m \u001b[38;5;28;01mtry\u001b[39;00m:\n\u001b[1;32m--> 466\u001b[0m     \u001b[43mresponse\u001b[49m\u001b[38;5;241;43m.\u001b[39;49m\u001b[43mon_failure\u001b[49m\u001b[43m(\u001b[49m\u001b[43msummary_metadata\u001b[49m\u001b[43m \u001b[49m\u001b[38;5;129;43;01mor\u001b[39;49;00m\u001b[43m \u001b[49m\u001b[43m{\u001b[49m\u001b[43m}\u001b[49m\u001b[43m)\u001b[49m\n\u001b[0;32m    467\u001b[0m \u001b[38;5;28;01mexcept\u001b[39;00m (ServiceUnavailable, DatabaseUnavailable):\n",
            "File \u001b[1;32mc:\\Users\\My_Pc\\anaconda3\\envs\\Minh-AI\\Lib\\site-packages\\neo4j\\_sync\\io\\_common.py:251\u001b[0m, in \u001b[0;36mResponse.on_failure\u001b[1;34m(self, metadata)\u001b[0m\n\u001b[0;32m    250\u001b[0m Util\u001b[38;5;241m.\u001b[39mcallback(handler)\n\u001b[1;32m--> 251\u001b[0m \u001b[38;5;28;01mraise\u001b[39;00m Neo4jError\u001b[38;5;241m.\u001b[39mhydrate(\u001b[38;5;241m*\u001b[39m\u001b[38;5;241m*\u001b[39mmetadata)\n",
            "\u001b[1;31mClientError\u001b[0m: {code: Neo.ClientError.Procedure.ProcedureRegistrationFailed} {message: apoc.meta.data is unavailable because it is sandboxed and has dependencies outside of the sandbox. Sandboxing is controlled by the dbms.security.procedures.unrestricted setting. Only unrestrict procedures you can trust with access to database internals.}",
            "\nDuring handling of the above exception, another exception occurred:\n",
            "\u001b[1;31mValueError\u001b[0m                                Traceback (most recent call last)",
            "Cell \u001b[1;32mIn[22], line 3\u001b[0m\n\u001b[0;32m      1\u001b[0m \u001b[38;5;28;01mfrom\u001b[39;00m \u001b[38;5;21;01mllama_index\u001b[39;00m\u001b[38;5;21;01m.\u001b[39;00m\u001b[38;5;21;01mgraph_stores\u001b[39;00m\u001b[38;5;21;01m.\u001b[39;00m\u001b[38;5;21;01mneo4j\u001b[39;00m \u001b[38;5;28;01mimport\u001b[39;00m Neo4jGraphStore\n\u001b[1;32m----> 3\u001b[0m graph_store \u001b[38;5;241m=\u001b[39m \u001b[43mNeo4jGraphStore\u001b[49m\u001b[43m(\u001b[49m\n\u001b[0;32m      4\u001b[0m \u001b[43m    \u001b[49m\u001b[43musername\u001b[49m\u001b[38;5;241;43m=\u001b[39;49m\u001b[43musername\u001b[49m\u001b[43m,\u001b[49m\n\u001b[0;32m      5\u001b[0m \u001b[43m    \u001b[49m\u001b[43mpassword\u001b[49m\u001b[38;5;241;43m=\u001b[39;49m\u001b[43mpassword\u001b[49m\u001b[43m,\u001b[49m\n\u001b[0;32m      6\u001b[0m \u001b[43m    \u001b[49m\u001b[43murl\u001b[49m\u001b[38;5;241;43m=\u001b[39;49m\u001b[43murl\u001b[49m\u001b[43m,\u001b[49m\n\u001b[0;32m      7\u001b[0m \u001b[43m    \u001b[49m\u001b[43mdatabase\u001b[49m\u001b[38;5;241;43m=\u001b[39;49m\u001b[43mdatabase\u001b[49m\u001b[43m,\u001b[49m\n\u001b[0;32m      8\u001b[0m \u001b[43m)\u001b[49m\n\u001b[0;32m     10\u001b[0m storage_context \u001b[38;5;241m=\u001b[39m StorageContext\u001b[38;5;241m.\u001b[39mfrom_defaults(graph_store\u001b[38;5;241m=\u001b[39mgraph_store)\n\u001b[0;32m     12\u001b[0m \u001b[38;5;66;03m# NOTE: can take a while!\u001b[39;00m\n",
            "File \u001b[1;32mc:\\Users\\My_Pc\\anaconda3\\envs\\Minh-AI\\Lib\\site-packages\\llama_index\\graph_stores\\neo4j\\base.py:74\u001b[0m, in \u001b[0;36mNeo4jGraphStore.__init__\u001b[1;34m(self, username, password, url, database, node_label, refresh_schema, **kwargs)\u001b[0m\n\u001b[0;32m     72\u001b[0m         \u001b[38;5;28mself\u001b[39m\u001b[38;5;241m.\u001b[39mrefresh_schema()\n\u001b[0;32m     73\u001b[0m     \u001b[38;5;28;01mexcept\u001b[39;00m neo4j\u001b[38;5;241m.\u001b[39mexceptions\u001b[38;5;241m.\u001b[39mClientError:\n\u001b[1;32m---> 74\u001b[0m         \u001b[38;5;28;01mraise\u001b[39;00m \u001b[38;5;167;01mValueError\u001b[39;00m(\n\u001b[0;32m     75\u001b[0m             \u001b[38;5;124m\"\u001b[39m\u001b[38;5;124mCould not use APOC procedures. \u001b[39m\u001b[38;5;124m\"\u001b[39m\n\u001b[0;32m     76\u001b[0m             \u001b[38;5;124m\"\u001b[39m\u001b[38;5;124mPlease ensure the APOC plugin is installed in Neo4j and that \u001b[39m\u001b[38;5;124m\"\u001b[39m\n\u001b[0;32m     77\u001b[0m             \u001b[38;5;124m\"\u001b[39m\u001b[38;5;124m'\u001b[39m\u001b[38;5;124mapoc.meta.data()\u001b[39m\u001b[38;5;124m'\u001b[39m\u001b[38;5;124m is allowed in Neo4j configuration \u001b[39m\u001b[38;5;124m\"\u001b[39m\n\u001b[0;32m     78\u001b[0m         )\n\u001b[0;32m     79\u001b[0m \u001b[38;5;66;03m# Create constraint for faster insert and retrieval\u001b[39;00m\n\u001b[0;32m     80\u001b[0m \u001b[38;5;28;01mtry\u001b[39;00m:  \u001b[38;5;66;03m# Using Neo4j 5\u001b[39;00m\n",
            "\u001b[1;31mValueError\u001b[0m: Could not use APOC procedures. Please ensure the APOC plugin is installed in Neo4j and that 'apoc.meta.data()' is allowed in Neo4j configuration "
          ]
        }
      ],
      "source": [
        "from llama_index.graph_stores.neo4j import Neo4jGraphStore\n",
        "\n",
        "graph_store = Neo4jGraphStore(\n",
        "    username=username,\n",
        "    password=password,\n",
        "    url=url,\n",
        "    database=database,\n",
        ")\n",
        "\n",
        "storage_context = StorageContext.from_defaults(graph_store=graph_store)\n",
        "\n",
        "# NOTE: can take a while!\n",
        "index = KnowledgeGraphIndex.from_documents(\n",
        "    documents,\n",
        "    storage_context=storage_context,\n",
        "    max_triplets_per_chunk=2,\n",
        ")"
      ]
    },
    {
      "cell_type": "markdown",
      "metadata": {
        "id": "PmCedmfIJZNB"
      },
      "source": [
        "## (Optional)Build the Knowledge Graph with LlamaIndex\n",
        "\n",
        "With the help of Llama Index and LLM defined, we could build Knowledge Graph from given documents.\n",
        "\n",
        "If we have a Knowledge Graph on NebulaGraphStore already, this step could be skipped"
      ]
    },
    {
      "cell_type": "markdown",
      "metadata": {
        "id": "o4tO8LdWJZNB"
      },
      "source": [
        "### Step 1, load data from Wikipedia for \"Guardians of the Galaxy Vol. 3\""
      ]
    },
    {
      "cell_type": "code",
      "execution_count": 11,
      "metadata": {
        "id": "UzAgcC5EJZNC"
      },
      "outputs": [],
      "source": [
        "# from llama_index.core import download_loader\n",
        "\n",
        "# from llama_index.readers.wikipedia import WikipediaReader\n",
        "\n",
        "# loader = WikipediaReader()\n",
        "\n",
        "# documents = loader.load_data(\n",
        "#     pages=[\"Guardians of the Galaxy Vol. 3\"], auto_suggest=False\n",
        "# )"
      ]
    },
    {
      "cell_type": "code",
      "execution_count": 12,
      "metadata": {},
      "outputs": [],
      "source": [
        "from llama_index.core import SimpleDirectoryReader\n",
        "\n",
        "reader = SimpleDirectoryReader(input_dir= r\"C:\\Users\\My_Pc\\Desktop\\sample_test\")\n",
        "documents = reader.load_data(num_workers=4)"
      ]
    },
    {
      "cell_type": "code",
      "execution_count": 13,
      "metadata": {},
      "outputs": [
        {
          "name": "stdout",
          "output_type": "stream",
          "text": [
            "INFO:httpx:HTTP Request: POST https://api.openai.com/v1/chat/completions \"HTTP/1.1 200 OK\"\n"
          ]
        },
        {
          "ename": "KeyboardInterrupt",
          "evalue": "",
          "output_type": "error",
          "traceback": [
            "\u001b[1;31m---------------------------------------------------------------------------\u001b[0m",
            "\u001b[1;31mKeyboardInterrupt\u001b[0m                         Traceback (most recent call last)",
            "Cell \u001b[1;32mIn[13], line 4\u001b[0m\n\u001b[0;32m      1\u001b[0m \u001b[38;5;28;01mfrom\u001b[39;00m \u001b[38;5;21;01mllama_index\u001b[39;00m\u001b[38;5;21;01m.\u001b[39;00m\u001b[38;5;21;01mcore\u001b[39;00m \u001b[38;5;28;01mimport\u001b[39;00m KnowledgeGraphIndex\n\u001b[0;32m      3\u001b[0m \u001b[38;5;66;03m# Tạo KnowledgeGraphIndex với các cạnh đã dịch và hai chiều\u001b[39;00m\n\u001b[1;32m----> 4\u001b[0m kg_index \u001b[38;5;241m=\u001b[39m \u001b[43mKnowledgeGraphIndex\u001b[49m\u001b[38;5;241;43m.\u001b[39;49m\u001b[43mfrom_documents\u001b[49m\u001b[43m(\u001b[49m\n\u001b[0;32m      5\u001b[0m \u001b[43m    \u001b[49m\u001b[43mdocuments\u001b[49m\u001b[38;5;241;43m=\u001b[39;49m\u001b[43mdocuments\u001b[49m\u001b[43m,\u001b[49m\n\u001b[0;32m      6\u001b[0m \u001b[43m    \u001b[49m\u001b[43mstorage_context\u001b[49m\u001b[38;5;241;43m=\u001b[39;49m\u001b[43mstorage_context\u001b[49m\u001b[43m,\u001b[49m\n\u001b[0;32m      7\u001b[0m \u001b[43m    \u001b[49m\u001b[43mmax_triplets_per_chunk\u001b[49m\u001b[38;5;241;43m=\u001b[39;49m\u001b[38;5;241;43m10\u001b[39;49m\u001b[43m,\u001b[49m\n\u001b[0;32m      8\u001b[0m \u001b[43m    \u001b[49m\u001b[43mspace_name\u001b[49m\u001b[38;5;241;43m=\u001b[39;49m\u001b[43mspace_name\u001b[49m\u001b[43m,\u001b[49m\n\u001b[0;32m      9\u001b[0m \u001b[43m    \u001b[49m\u001b[43medge_types\u001b[49m\u001b[38;5;241;43m=\u001b[39;49m\u001b[43medge_types\u001b[49m\u001b[43m,\u001b[49m\u001b[43m  \u001b[49m\u001b[38;5;66;43;03m# Sử dụng cạnh hai chiều\u001b[39;49;00m\n\u001b[0;32m     10\u001b[0m \u001b[43m    \u001b[49m\u001b[43mrel_prop_names\u001b[49m\u001b[38;5;241;43m=\u001b[39;49m\u001b[43mrel_prop_names\u001b[49m\u001b[43m,\u001b[49m\u001b[43m  \u001b[49m\u001b[38;5;66;43;03m# Sử dụng quan hệ đã dịch\u001b[39;49;00m\n\u001b[0;32m     11\u001b[0m \u001b[43m    \u001b[49m\u001b[43mtags\u001b[49m\u001b[38;5;241;43m=\u001b[39;49m\u001b[43mtags\u001b[49m\u001b[43m,\u001b[49m\n\u001b[0;32m     12\u001b[0m \u001b[43m    \u001b[49m\u001b[43minclude_embeddings\u001b[49m\u001b[38;5;241;43m=\u001b[39;49m\u001b[38;5;28;43;01mTrue\u001b[39;49;00m\u001b[43m,\u001b[49m\n\u001b[0;32m     13\u001b[0m \u001b[43m)\u001b[49m\n\u001b[0;32m     15\u001b[0m \u001b[38;5;66;03m# In kết quả đồ thị để kiểm tra\u001b[39;00m\n\u001b[0;32m     16\u001b[0m \u001b[38;5;28mprint\u001b[39m(kg_index)\n",
            "File \u001b[1;32mc:\\Users\\My_Pc\\anaconda3\\envs\\Minh-AI\\Lib\\site-packages\\llama_index\\core\\indices\\base.py:119\u001b[0m, in \u001b[0;36mBaseIndex.from_documents\u001b[1;34m(cls, documents, storage_context, show_progress, callback_manager, transformations, **kwargs)\u001b[0m\n\u001b[0;32m    110\u001b[0m     docstore\u001b[38;5;241m.\u001b[39mset_document_hash(doc\u001b[38;5;241m.\u001b[39mget_doc_id(), doc\u001b[38;5;241m.\u001b[39mhash)\n\u001b[0;32m    112\u001b[0m nodes \u001b[38;5;241m=\u001b[39m run_transformations(\n\u001b[0;32m    113\u001b[0m     documents,  \u001b[38;5;66;03m# type: ignore\u001b[39;00m\n\u001b[0;32m    114\u001b[0m     transformations,\n\u001b[0;32m    115\u001b[0m     show_progress\u001b[38;5;241m=\u001b[39mshow_progress,\n\u001b[0;32m    116\u001b[0m     \u001b[38;5;241m*\u001b[39m\u001b[38;5;241m*\u001b[39mkwargs,\n\u001b[0;32m    117\u001b[0m )\n\u001b[1;32m--> 119\u001b[0m \u001b[38;5;28;01mreturn\u001b[39;00m \u001b[38;5;28;43mcls\u001b[39;49m\u001b[43m(\u001b[49m\n\u001b[0;32m    120\u001b[0m \u001b[43m    \u001b[49m\u001b[43mnodes\u001b[49m\u001b[38;5;241;43m=\u001b[39;49m\u001b[43mnodes\u001b[49m\u001b[43m,\u001b[49m\n\u001b[0;32m    121\u001b[0m \u001b[43m    \u001b[49m\u001b[43mstorage_context\u001b[49m\u001b[38;5;241;43m=\u001b[39;49m\u001b[43mstorage_context\u001b[49m\u001b[43m,\u001b[49m\n\u001b[0;32m    122\u001b[0m \u001b[43m    \u001b[49m\u001b[43mcallback_manager\u001b[49m\u001b[38;5;241;43m=\u001b[39;49m\u001b[43mcallback_manager\u001b[49m\u001b[43m,\u001b[49m\n\u001b[0;32m    123\u001b[0m \u001b[43m    \u001b[49m\u001b[43mshow_progress\u001b[49m\u001b[38;5;241;43m=\u001b[39;49m\u001b[43mshow_progress\u001b[49m\u001b[43m,\u001b[49m\n\u001b[0;32m    124\u001b[0m \u001b[43m    \u001b[49m\u001b[43mtransformations\u001b[49m\u001b[38;5;241;43m=\u001b[39;49m\u001b[43mtransformations\u001b[49m\u001b[43m,\u001b[49m\n\u001b[0;32m    125\u001b[0m \u001b[43m    \u001b[49m\u001b[38;5;241;43m*\u001b[39;49m\u001b[38;5;241;43m*\u001b[39;49m\u001b[43mkwargs\u001b[49m\u001b[43m,\u001b[49m\n\u001b[0;32m    126\u001b[0m \u001b[43m\u001b[49m\u001b[43m)\u001b[49m\n",
            "File \u001b[1;32mc:\\Users\\My_Pc\\anaconda3\\envs\\Minh-AI\\Lib\\site-packages\\llama_index\\core\\indices\\knowledge_graph\\base.py:99\u001b[0m, in \u001b[0;36mKnowledgeGraphIndex.__init__\u001b[1;34m(self, nodes, objects, index_struct, llm, embed_model, storage_context, kg_triplet_extract_template, max_triplets_per_chunk, include_embeddings, show_progress, max_object_length, kg_triplet_extract_fn, **kwargs)\u001b[0m\n\u001b[0;32m     96\u001b[0m \u001b[38;5;28mself\u001b[39m\u001b[38;5;241m.\u001b[39m_llm \u001b[38;5;241m=\u001b[39m llm \u001b[38;5;129;01mor\u001b[39;00m Settings\u001b[38;5;241m.\u001b[39mllm\n\u001b[0;32m     97\u001b[0m \u001b[38;5;28mself\u001b[39m\u001b[38;5;241m.\u001b[39m_embed_model \u001b[38;5;241m=\u001b[39m embed_model \u001b[38;5;129;01mor\u001b[39;00m Settings\u001b[38;5;241m.\u001b[39membed_model\n\u001b[1;32m---> 99\u001b[0m \u001b[38;5;28;43msuper\u001b[39;49m\u001b[43m(\u001b[49m\u001b[43m)\u001b[49m\u001b[38;5;241;43m.\u001b[39;49m\u001b[38;5;21;43m__init__\u001b[39;49m\u001b[43m(\u001b[49m\n\u001b[0;32m    100\u001b[0m \u001b[43m    \u001b[49m\u001b[43mnodes\u001b[49m\u001b[38;5;241;43m=\u001b[39;49m\u001b[43mnodes\u001b[49m\u001b[43m,\u001b[49m\n\u001b[0;32m    101\u001b[0m \u001b[43m    \u001b[49m\u001b[43mindex_struct\u001b[49m\u001b[38;5;241;43m=\u001b[39;49m\u001b[43mindex_struct\u001b[49m\u001b[43m,\u001b[49m\n\u001b[0;32m    102\u001b[0m \u001b[43m    \u001b[49m\u001b[43mstorage_context\u001b[49m\u001b[38;5;241;43m=\u001b[39;49m\u001b[43mstorage_context\u001b[49m\u001b[43m,\u001b[49m\n\u001b[0;32m    103\u001b[0m \u001b[43m    \u001b[49m\u001b[43mshow_progress\u001b[49m\u001b[38;5;241;43m=\u001b[39;49m\u001b[43mshow_progress\u001b[49m\u001b[43m,\u001b[49m\n\u001b[0;32m    104\u001b[0m \u001b[43m    \u001b[49m\u001b[43mobjects\u001b[49m\u001b[38;5;241;43m=\u001b[39;49m\u001b[43mobjects\u001b[49m\u001b[43m,\u001b[49m\n\u001b[0;32m    105\u001b[0m \u001b[43m    \u001b[49m\u001b[38;5;241;43m*\u001b[39;49m\u001b[38;5;241;43m*\u001b[39;49m\u001b[43mkwargs\u001b[49m\u001b[43m,\u001b[49m\n\u001b[0;32m    106\u001b[0m \u001b[43m\u001b[49m\u001b[43m)\u001b[49m\n\u001b[0;32m    108\u001b[0m \u001b[38;5;66;03m# TODO: legacy conversion - remove in next release\u001b[39;00m\n\u001b[0;32m    109\u001b[0m \u001b[38;5;28;01mif\u001b[39;00m (\n\u001b[0;32m    110\u001b[0m     \u001b[38;5;28mlen\u001b[39m(\u001b[38;5;28mself\u001b[39m\u001b[38;5;241m.\u001b[39mindex_struct\u001b[38;5;241m.\u001b[39mtable) \u001b[38;5;241m>\u001b[39m \u001b[38;5;241m0\u001b[39m\n\u001b[0;32m    111\u001b[0m     \u001b[38;5;129;01mand\u001b[39;00m \u001b[38;5;28misinstance\u001b[39m(\u001b[38;5;28mself\u001b[39m\u001b[38;5;241m.\u001b[39mgraph_store, SimpleGraphStore)\n\u001b[0;32m    112\u001b[0m     \u001b[38;5;129;01mand\u001b[39;00m \u001b[38;5;28mlen\u001b[39m(\u001b[38;5;28mself\u001b[39m\u001b[38;5;241m.\u001b[39mgraph_store\u001b[38;5;241m.\u001b[39m_data\u001b[38;5;241m.\u001b[39mgraph_dict) \u001b[38;5;241m==\u001b[39m \u001b[38;5;241m0\u001b[39m\n\u001b[0;32m    113\u001b[0m ):\n",
            "File \u001b[1;32mc:\\Users\\My_Pc\\anaconda3\\envs\\Minh-AI\\Lib\\site-packages\\llama_index\\core\\indices\\base.py:77\u001b[0m, in \u001b[0;36mBaseIndex.__init__\u001b[1;34m(self, nodes, objects, index_struct, storage_context, callback_manager, transformations, show_progress, **kwargs)\u001b[0m\n\u001b[0;32m     75\u001b[0m \u001b[38;5;28;01mif\u001b[39;00m index_struct \u001b[38;5;129;01mis\u001b[39;00m \u001b[38;5;28;01mNone\u001b[39;00m:\n\u001b[0;32m     76\u001b[0m     nodes \u001b[38;5;241m=\u001b[39m nodes \u001b[38;5;129;01mor\u001b[39;00m []\n\u001b[1;32m---> 77\u001b[0m     index_struct \u001b[38;5;241m=\u001b[39m \u001b[38;5;28;43mself\u001b[39;49m\u001b[38;5;241;43m.\u001b[39;49m\u001b[43mbuild_index_from_nodes\u001b[49m\u001b[43m(\u001b[49m\n\u001b[0;32m     78\u001b[0m \u001b[43m        \u001b[49m\u001b[43mnodes\u001b[49m\u001b[43m \u001b[49m\u001b[38;5;241;43m+\u001b[39;49m\u001b[43m \u001b[49m\u001b[43mobjects\u001b[49m\u001b[43m,\u001b[49m\u001b[43m  \u001b[49m\u001b[38;5;66;43;03m# type: ignore\u001b[39;49;00m\n\u001b[0;32m     79\u001b[0m \u001b[43m        \u001b[49m\u001b[38;5;241;43m*\u001b[39;49m\u001b[38;5;241;43m*\u001b[39;49m\u001b[43mkwargs\u001b[49m\u001b[43m,\u001b[49m\u001b[43m  \u001b[49m\u001b[38;5;66;43;03m# type: ignore\u001b[39;49;00m\n\u001b[0;32m     80\u001b[0m \u001b[43m    \u001b[49m\u001b[43m)\u001b[49m\n\u001b[0;32m     81\u001b[0m \u001b[38;5;28mself\u001b[39m\u001b[38;5;241m.\u001b[39m_index_struct \u001b[38;5;241m=\u001b[39m index_struct\n\u001b[0;32m     82\u001b[0m \u001b[38;5;28mself\u001b[39m\u001b[38;5;241m.\u001b[39m_storage_context\u001b[38;5;241m.\u001b[39mindex_store\u001b[38;5;241m.\u001b[39madd_index_struct(\u001b[38;5;28mself\u001b[39m\u001b[38;5;241m.\u001b[39m_index_struct)\n",
            "File \u001b[1;32mc:\\Users\\My_Pc\\anaconda3\\envs\\Minh-AI\\Lib\\site-packages\\llama_index\\core\\indices\\base.py:185\u001b[0m, in \u001b[0;36mBaseIndex.build_index_from_nodes\u001b[1;34m(self, nodes, **build_kwargs)\u001b[0m\n\u001b[0;32m    183\u001b[0m \u001b[38;5;250m\u001b[39m\u001b[38;5;124;03m\"\"\"Build the index from nodes.\"\"\"\u001b[39;00m\n\u001b[0;32m    184\u001b[0m \u001b[38;5;28mself\u001b[39m\u001b[38;5;241m.\u001b[39m_docstore\u001b[38;5;241m.\u001b[39madd_documents(nodes, allow_update\u001b[38;5;241m=\u001b[39m\u001b[38;5;28;01mTrue\u001b[39;00m)\n\u001b[1;32m--> 185\u001b[0m \u001b[38;5;28;01mreturn\u001b[39;00m \u001b[38;5;28;43mself\u001b[39;49m\u001b[38;5;241;43m.\u001b[39;49m\u001b[43m_build_index_from_nodes\u001b[49m\u001b[43m(\u001b[49m\u001b[43mnodes\u001b[49m\u001b[43m,\u001b[49m\u001b[43m \u001b[49m\u001b[38;5;241;43m*\u001b[39;49m\u001b[38;5;241;43m*\u001b[39;49m\u001b[43mbuild_kwargs\u001b[49m\u001b[43m)\u001b[49m\n",
            "File \u001b[1;32mc:\\Users\\My_Pc\\anaconda3\\envs\\Minh-AI\\Lib\\site-packages\\llama_index\\core\\indices\\knowledge_graph\\base.py:218\u001b[0m, in \u001b[0;36mKnowledgeGraphIndex._build_index_from_nodes\u001b[1;34m(self, nodes, **build_kwargs)\u001b[0m\n\u001b[0;32m    216\u001b[0m \u001b[38;5;28;01mfor\u001b[39;00m triplet \u001b[38;5;129;01min\u001b[39;00m triplets:\n\u001b[0;32m    217\u001b[0m     subj, _, obj \u001b[38;5;241m=\u001b[39m triplet\n\u001b[1;32m--> 218\u001b[0m     \u001b[38;5;28;43mself\u001b[39;49m\u001b[38;5;241;43m.\u001b[39;49m\u001b[43mupsert_triplet\u001b[49m\u001b[43m(\u001b[49m\u001b[43mtriplet\u001b[49m\u001b[43m)\u001b[49m\n\u001b[0;32m    219\u001b[0m     index_struct\u001b[38;5;241m.\u001b[39madd_node([subj, obj], n)\n\u001b[0;32m    221\u001b[0m \u001b[38;5;28;01mif\u001b[39;00m \u001b[38;5;28mself\u001b[39m\u001b[38;5;241m.\u001b[39minclude_embeddings:\n",
            "File \u001b[1;32mc:\\Users\\My_Pc\\anaconda3\\envs\\Minh-AI\\Lib\\site-packages\\llama_index\\core\\indices\\knowledge_graph\\base.py:266\u001b[0m, in \u001b[0;36mKnowledgeGraphIndex.upsert_triplet\u001b[1;34m(self, triplet, include_embeddings)\u001b[0m\n\u001b[0;32m    254\u001b[0m \u001b[38;5;28;01mdef\u001b[39;00m \u001b[38;5;21mupsert_triplet\u001b[39m(\n\u001b[0;32m    255\u001b[0m     \u001b[38;5;28mself\u001b[39m, triplet: Tuple[\u001b[38;5;28mstr\u001b[39m, \u001b[38;5;28mstr\u001b[39m, \u001b[38;5;28mstr\u001b[39m], include_embeddings: \u001b[38;5;28mbool\u001b[39m \u001b[38;5;241m=\u001b[39m \u001b[38;5;28;01mFalse\u001b[39;00m\n\u001b[0;32m    256\u001b[0m ) \u001b[38;5;241m-\u001b[39m\u001b[38;5;241m>\u001b[39m \u001b[38;5;28;01mNone\u001b[39;00m:\n\u001b[0;32m    257\u001b[0m \u001b[38;5;250m    \u001b[39m\u001b[38;5;124;03m\"\"\"Insert triplets and optionally embeddings.\u001b[39;00m\n\u001b[0;32m    258\u001b[0m \n\u001b[0;32m    259\u001b[0m \u001b[38;5;124;03m    Used for manual insertion of KG triplets (in the form\u001b[39;00m\n\u001b[1;32m   (...)\u001b[0m\n\u001b[0;32m    264\u001b[0m \u001b[38;5;124;03m        embedding (Any, optional): Embedding option for the triplet. Defaults to None.\u001b[39;00m\n\u001b[0;32m    265\u001b[0m \u001b[38;5;124;03m    \"\"\"\u001b[39;00m\n\u001b[1;32m--> 266\u001b[0m     \u001b[38;5;28;43mself\u001b[39;49m\u001b[38;5;241;43m.\u001b[39;49m\u001b[43m_graph_store\u001b[49m\u001b[38;5;241;43m.\u001b[39;49m\u001b[43mupsert_triplet\u001b[49m\u001b[43m(\u001b[49m\u001b[38;5;241;43m*\u001b[39;49m\u001b[43mtriplet\u001b[49m\u001b[43m)\u001b[49m\n\u001b[0;32m    267\u001b[0m     triplet_str \u001b[38;5;241m=\u001b[39m \u001b[38;5;28mstr\u001b[39m(triplet)\n\u001b[0;32m    268\u001b[0m     \u001b[38;5;28;01mif\u001b[39;00m include_embeddings:\n",
            "File \u001b[1;32mc:\\Users\\My_Pc\\anaconda3\\envs\\Minh-AI\\Lib\\site-packages\\llama_index\\graph_stores\\nebula\\nebula_graph_store.py:521\u001b[0m, in \u001b[0;36mNebulaGraphStore.upsert_triplet\u001b[1;34m(self, subj, rel, obj)\u001b[0m\n\u001b[0;32m    510\u001b[0m dml_query \u001b[38;5;241m=\u001b[39m (\n\u001b[0;32m    511\u001b[0m     \u001b[38;5;124mf\u001b[39m\u001b[38;5;124m\"\u001b[39m\u001b[38;5;124mINSERT VERTEX `\u001b[39m\u001b[38;5;132;01m{\u001b[39;00mentity_type\u001b[38;5;132;01m}\u001b[39;00m\u001b[38;5;124m`(name) \u001b[39m\u001b[38;5;124m\"\u001b[39m\n\u001b[0;32m    512\u001b[0m     \u001b[38;5;124mf\u001b[39m\u001b[38;5;124m\"\u001b[39m\u001b[38;5;124m  VALUES \u001b[39m\u001b[38;5;132;01m{\u001b[39;00msubj_field\u001b[38;5;132;01m}\u001b[39;00m\u001b[38;5;124m:(\u001b[39m\u001b[38;5;132;01m{\u001b[39;00mQUOTE\u001b[38;5;132;01m}\u001b[39;00m\u001b[38;5;132;01m{\u001b[39;00msubj\u001b[38;5;132;01m}\u001b[39;00m\u001b[38;5;132;01m{\u001b[39;00mQUOTE\u001b[38;5;132;01m}\u001b[39;00m\u001b[38;5;124m);\u001b[39m\u001b[38;5;124m\"\u001b[39m\n\u001b[1;32m   (...)\u001b[0m\n\u001b[0;32m    518\u001b[0m     \u001b[38;5;124mf\u001b[39m\u001b[38;5;124m\"\u001b[39m\u001b[38;5;124m@\u001b[39m\u001b[38;5;132;01m{\u001b[39;00mrel_hash\u001b[38;5;132;01m}\u001b[39;00m\u001b[38;5;124m:(\u001b[39m\u001b[38;5;132;01m{\u001b[39;00mQUOTE\u001b[38;5;132;01m}\u001b[39;00m\u001b[38;5;132;01m{\u001b[39;00mrel\u001b[38;5;132;01m}\u001b[39;00m\u001b[38;5;132;01m{\u001b[39;00mQUOTE\u001b[38;5;132;01m}\u001b[39;00m\u001b[38;5;124m);\u001b[39m\u001b[38;5;124m\"\u001b[39m\n\u001b[0;32m    519\u001b[0m )\n\u001b[0;32m    520\u001b[0m logger\u001b[38;5;241m.\u001b[39mdebug(\u001b[38;5;124mf\u001b[39m\u001b[38;5;124m\"\u001b[39m\u001b[38;5;124mupsert_triplet()\u001b[39m\u001b[38;5;130;01m\\n\u001b[39;00m\u001b[38;5;124mDML query: \u001b[39m\u001b[38;5;132;01m{\u001b[39;00mdml_query\u001b[38;5;132;01m}\u001b[39;00m\u001b[38;5;124m\"\u001b[39m)\n\u001b[1;32m--> 521\u001b[0m result \u001b[38;5;241m=\u001b[39m \u001b[38;5;28;43mself\u001b[39;49m\u001b[38;5;241;43m.\u001b[39;49m\u001b[43mexecute\u001b[49m\u001b[43m(\u001b[49m\u001b[43mdml_query\u001b[49m\u001b[43m)\u001b[49m\n\u001b[0;32m    522\u001b[0m \u001b[38;5;28;01massert\u001b[39;00m (\n\u001b[0;32m    523\u001b[0m     result \u001b[38;5;129;01mand\u001b[39;00m result\u001b[38;5;241m.\u001b[39mis_succeeded()\n\u001b[0;32m    524\u001b[0m ), \u001b[38;5;124mf\u001b[39m\u001b[38;5;124m\"\u001b[39m\u001b[38;5;124mFailed to upsert triplet: \u001b[39m\u001b[38;5;132;01m{\u001b[39;00msubj\u001b[38;5;132;01m}\u001b[39;00m\u001b[38;5;124m \u001b[39m\u001b[38;5;132;01m{\u001b[39;00mrel\u001b[38;5;132;01m}\u001b[39;00m\u001b[38;5;124m \u001b[39m\u001b[38;5;132;01m{\u001b[39;00mobj\u001b[38;5;132;01m}\u001b[39;00m\u001b[38;5;124m, query: \u001b[39m\u001b[38;5;132;01m{\u001b[39;00mdml_query\u001b[38;5;132;01m}\u001b[39;00m\u001b[38;5;124m\"\u001b[39m\n",
            "File \u001b[1;32mc:\\Users\\My_Pc\\anaconda3\\envs\\Minh-AI\\Lib\\site-packages\\tenacity\\__init__.py:336\u001b[0m, in \u001b[0;36mBaseRetrying.wraps.<locals>.wrapped_f\u001b[1;34m(*args, **kw)\u001b[0m\n\u001b[0;32m    334\u001b[0m copy \u001b[38;5;241m=\u001b[39m \u001b[38;5;28mself\u001b[39m\u001b[38;5;241m.\u001b[39mcopy()\n\u001b[0;32m    335\u001b[0m wrapped_f\u001b[38;5;241m.\u001b[39mstatistics \u001b[38;5;241m=\u001b[39m copy\u001b[38;5;241m.\u001b[39mstatistics  \u001b[38;5;66;03m# type: ignore[attr-defined]\u001b[39;00m\n\u001b[1;32m--> 336\u001b[0m \u001b[38;5;28;01mreturn\u001b[39;00m \u001b[43mcopy\u001b[49m\u001b[43m(\u001b[49m\u001b[43mf\u001b[49m\u001b[43m,\u001b[49m\u001b[43m \u001b[49m\u001b[38;5;241;43m*\u001b[39;49m\u001b[43margs\u001b[49m\u001b[43m,\u001b[49m\u001b[43m \u001b[49m\u001b[38;5;241;43m*\u001b[39;49m\u001b[38;5;241;43m*\u001b[39;49m\u001b[43mkw\u001b[49m\u001b[43m)\u001b[49m\n",
            "File \u001b[1;32mc:\\Users\\My_Pc\\anaconda3\\envs\\Minh-AI\\Lib\\site-packages\\tenacity\\__init__.py:475\u001b[0m, in \u001b[0;36mRetrying.__call__\u001b[1;34m(self, fn, *args, **kwargs)\u001b[0m\n\u001b[0;32m    473\u001b[0m retry_state \u001b[38;5;241m=\u001b[39m RetryCallState(retry_object\u001b[38;5;241m=\u001b[39m\u001b[38;5;28mself\u001b[39m, fn\u001b[38;5;241m=\u001b[39mfn, args\u001b[38;5;241m=\u001b[39margs, kwargs\u001b[38;5;241m=\u001b[39mkwargs)\n\u001b[0;32m    474\u001b[0m \u001b[38;5;28;01mwhile\u001b[39;00m \u001b[38;5;28;01mTrue\u001b[39;00m:\n\u001b[1;32m--> 475\u001b[0m     do \u001b[38;5;241m=\u001b[39m \u001b[38;5;28;43mself\u001b[39;49m\u001b[38;5;241;43m.\u001b[39;49m\u001b[43miter\u001b[49m\u001b[43m(\u001b[49m\u001b[43mretry_state\u001b[49m\u001b[38;5;241;43m=\u001b[39;49m\u001b[43mretry_state\u001b[49m\u001b[43m)\u001b[49m\n\u001b[0;32m    476\u001b[0m     \u001b[38;5;28;01mif\u001b[39;00m \u001b[38;5;28misinstance\u001b[39m(do, DoAttempt):\n\u001b[0;32m    477\u001b[0m         \u001b[38;5;28;01mtry\u001b[39;00m:\n",
            "File \u001b[1;32mc:\\Users\\My_Pc\\anaconda3\\envs\\Minh-AI\\Lib\\site-packages\\tenacity\\__init__.py:376\u001b[0m, in \u001b[0;36mBaseRetrying.iter\u001b[1;34m(self, retry_state)\u001b[0m\n\u001b[0;32m    374\u001b[0m result \u001b[38;5;241m=\u001b[39m \u001b[38;5;28;01mNone\u001b[39;00m\n\u001b[0;32m    375\u001b[0m \u001b[38;5;28;01mfor\u001b[39;00m action \u001b[38;5;129;01min\u001b[39;00m \u001b[38;5;28mself\u001b[39m\u001b[38;5;241m.\u001b[39miter_state\u001b[38;5;241m.\u001b[39mactions:\n\u001b[1;32m--> 376\u001b[0m     result \u001b[38;5;241m=\u001b[39m \u001b[43maction\u001b[49m\u001b[43m(\u001b[49m\u001b[43mretry_state\u001b[49m\u001b[43m)\u001b[49m\n\u001b[0;32m    377\u001b[0m \u001b[38;5;28;01mreturn\u001b[39;00m result\n",
            "File \u001b[1;32mc:\\Users\\My_Pc\\anaconda3\\envs\\Minh-AI\\Lib\\site-packages\\tenacity\\__init__.py:398\u001b[0m, in \u001b[0;36mBaseRetrying._post_retry_check_actions.<locals>.<lambda>\u001b[1;34m(rs)\u001b[0m\n\u001b[0;32m    396\u001b[0m \u001b[38;5;28;01mdef\u001b[39;00m \u001b[38;5;21m_post_retry_check_actions\u001b[39m(\u001b[38;5;28mself\u001b[39m, retry_state: \u001b[38;5;124m\"\u001b[39m\u001b[38;5;124mRetryCallState\u001b[39m\u001b[38;5;124m\"\u001b[39m) \u001b[38;5;241m-\u001b[39m\u001b[38;5;241m>\u001b[39m \u001b[38;5;28;01mNone\u001b[39;00m:\n\u001b[0;32m    397\u001b[0m     \u001b[38;5;28;01mif\u001b[39;00m \u001b[38;5;129;01mnot\u001b[39;00m (\u001b[38;5;28mself\u001b[39m\u001b[38;5;241m.\u001b[39miter_state\u001b[38;5;241m.\u001b[39mis_explicit_retry \u001b[38;5;129;01mor\u001b[39;00m \u001b[38;5;28mself\u001b[39m\u001b[38;5;241m.\u001b[39miter_state\u001b[38;5;241m.\u001b[39mretry_run_result):\n\u001b[1;32m--> 398\u001b[0m         \u001b[38;5;28mself\u001b[39m\u001b[38;5;241m.\u001b[39m_add_action_func(\u001b[38;5;28;01mlambda\u001b[39;00m rs: \u001b[43mrs\u001b[49m\u001b[38;5;241;43m.\u001b[39;49m\u001b[43moutcome\u001b[49m\u001b[38;5;241;43m.\u001b[39;49m\u001b[43mresult\u001b[49m\u001b[43m(\u001b[49m\u001b[43m)\u001b[49m)\n\u001b[0;32m    399\u001b[0m         \u001b[38;5;28;01mreturn\u001b[39;00m\n\u001b[0;32m    401\u001b[0m     \u001b[38;5;28;01mif\u001b[39;00m \u001b[38;5;28mself\u001b[39m\u001b[38;5;241m.\u001b[39mafter \u001b[38;5;129;01mis\u001b[39;00m \u001b[38;5;129;01mnot\u001b[39;00m \u001b[38;5;28;01mNone\u001b[39;00m:\n",
            "File \u001b[1;32mc:\\Users\\My_Pc\\anaconda3\\envs\\Minh-AI\\Lib\\concurrent\\futures\\_base.py:449\u001b[0m, in \u001b[0;36mFuture.result\u001b[1;34m(self, timeout)\u001b[0m\n\u001b[0;32m    447\u001b[0m     \u001b[38;5;28;01mraise\u001b[39;00m CancelledError()\n\u001b[0;32m    448\u001b[0m \u001b[38;5;28;01melif\u001b[39;00m \u001b[38;5;28mself\u001b[39m\u001b[38;5;241m.\u001b[39m_state \u001b[38;5;241m==\u001b[39m FINISHED:\n\u001b[1;32m--> 449\u001b[0m     \u001b[38;5;28;01mreturn\u001b[39;00m \u001b[38;5;28;43mself\u001b[39;49m\u001b[38;5;241;43m.\u001b[39;49m\u001b[43m__get_result\u001b[49m\u001b[43m(\u001b[49m\u001b[43m)\u001b[49m\n\u001b[0;32m    451\u001b[0m \u001b[38;5;28mself\u001b[39m\u001b[38;5;241m.\u001b[39m_condition\u001b[38;5;241m.\u001b[39mwait(timeout)\n\u001b[0;32m    453\u001b[0m \u001b[38;5;28;01mif\u001b[39;00m \u001b[38;5;28mself\u001b[39m\u001b[38;5;241m.\u001b[39m_state \u001b[38;5;129;01min\u001b[39;00m [CANCELLED, CANCELLED_AND_NOTIFIED]:\n",
            "File \u001b[1;32mc:\\Users\\My_Pc\\anaconda3\\envs\\Minh-AI\\Lib\\concurrent\\futures\\_base.py:401\u001b[0m, in \u001b[0;36mFuture.__get_result\u001b[1;34m(self)\u001b[0m\n\u001b[0;32m    399\u001b[0m \u001b[38;5;28;01mif\u001b[39;00m \u001b[38;5;28mself\u001b[39m\u001b[38;5;241m.\u001b[39m_exception:\n\u001b[0;32m    400\u001b[0m     \u001b[38;5;28;01mtry\u001b[39;00m:\n\u001b[1;32m--> 401\u001b[0m         \u001b[38;5;28;01mraise\u001b[39;00m \u001b[38;5;28mself\u001b[39m\u001b[38;5;241m.\u001b[39m_exception\n\u001b[0;32m    402\u001b[0m     \u001b[38;5;28;01mfinally\u001b[39;00m:\n\u001b[0;32m    403\u001b[0m         \u001b[38;5;66;03m# Break a reference cycle with the exception in self._exception\u001b[39;00m\n\u001b[0;32m    404\u001b[0m         \u001b[38;5;28mself\u001b[39m \u001b[38;5;241m=\u001b[39m \u001b[38;5;28;01mNone\u001b[39;00m\n",
            "File \u001b[1;32mc:\\Users\\My_Pc\\anaconda3\\envs\\Minh-AI\\Lib\\site-packages\\tenacity\\__init__.py:478\u001b[0m, in \u001b[0;36mRetrying.__call__\u001b[1;34m(self, fn, *args, **kwargs)\u001b[0m\n\u001b[0;32m    476\u001b[0m \u001b[38;5;28;01mif\u001b[39;00m \u001b[38;5;28misinstance\u001b[39m(do, DoAttempt):\n\u001b[0;32m    477\u001b[0m     \u001b[38;5;28;01mtry\u001b[39;00m:\n\u001b[1;32m--> 478\u001b[0m         result \u001b[38;5;241m=\u001b[39m \u001b[43mfn\u001b[49m\u001b[43m(\u001b[49m\u001b[38;5;241;43m*\u001b[39;49m\u001b[43margs\u001b[49m\u001b[43m,\u001b[49m\u001b[43m \u001b[49m\u001b[38;5;241;43m*\u001b[39;49m\u001b[38;5;241;43m*\u001b[39;49m\u001b[43mkwargs\u001b[49m\u001b[43m)\u001b[49m\n\u001b[0;32m    479\u001b[0m     \u001b[38;5;28;01mexcept\u001b[39;00m \u001b[38;5;167;01mBaseException\u001b[39;00m:  \u001b[38;5;66;03m# noqa: B902\u001b[39;00m\n\u001b[0;32m    480\u001b[0m         retry_state\u001b[38;5;241m.\u001b[39mset_exception(sys\u001b[38;5;241m.\u001b[39mexc_info())  \u001b[38;5;66;03m# type: ignore[arg-type]\u001b[39;00m\n",
            "File \u001b[1;32mc:\\Users\\My_Pc\\anaconda3\\envs\\Minh-AI\\Lib\\site-packages\\llama_index\\graph_stores\\nebula\\nebula_graph_store.py:262\u001b[0m, in \u001b[0;36mNebulaGraphStore.execute\u001b[1;34m(self, query, param_map)\u001b[0m\n\u001b[0;32m    259\u001b[0m query \u001b[38;5;241m=\u001b[39m query\u001b[38;5;241m.\u001b[39mreplace(\u001b[38;5;124m\"\u001b[39m\u001b[38;5;124m```\u001b[39m\u001b[38;5;124m\"\u001b[39m, \u001b[38;5;124m\"\u001b[39m\u001b[38;5;124m\"\u001b[39m)\u001b[38;5;241m.\u001b[39mstrip()\n\u001b[0;32m    261\u001b[0m \u001b[38;5;28;01mtry\u001b[39;00m:\n\u001b[1;32m--> 262\u001b[0m     result \u001b[38;5;241m=\u001b[39m \u001b[38;5;28;43mself\u001b[39;49m\u001b[38;5;241;43m.\u001b[39;49m\u001b[43m_session_pool\u001b[49m\u001b[38;5;241;43m.\u001b[39;49m\u001b[43mexecute_parameter\u001b[49m\u001b[43m(\u001b[49m\u001b[43mquery\u001b[49m\u001b[43m,\u001b[49m\u001b[43m \u001b[49m\u001b[43mparam_map\u001b[49m\u001b[43m)\u001b[49m\n\u001b[0;32m    263\u001b[0m     \u001b[38;5;28;01mif\u001b[39;00m result \u001b[38;5;129;01mis\u001b[39;00m \u001b[38;5;28;01mNone\u001b[39;00m:\n\u001b[0;32m    264\u001b[0m         \u001b[38;5;28;01mraise\u001b[39;00m \u001b[38;5;167;01mValueError\u001b[39;00m(\u001b[38;5;124mf\u001b[39m\u001b[38;5;124m\"\u001b[39m\u001b[38;5;124mQuery failed. Query: \u001b[39m\u001b[38;5;132;01m{\u001b[39;00mquery\u001b[38;5;132;01m}\u001b[39;00m\u001b[38;5;124m, Param: \u001b[39m\u001b[38;5;132;01m{\u001b[39;00mparam_map\u001b[38;5;132;01m}\u001b[39;00m\u001b[38;5;124m\"\u001b[39m)\n",
            "File \u001b[1;32mc:\\Users\\My_Pc\\anaconda3\\envs\\Minh-AI\\Lib\\site-packages\\nebula3\\gclient\\net\\SessionPool.py:190\u001b[0m, in \u001b[0;36mSessionPool.execute_parameter\u001b[1;34m(self, stmt, params)\u001b[0m\n\u001b[0;32m    187\u001b[0m \u001b[38;5;28mself\u001b[39m\u001b[38;5;241m.\u001b[39m_add_session_to_active(session)\n\u001b[0;32m    189\u001b[0m \u001b[38;5;28;01mtry\u001b[39;00m:\n\u001b[1;32m--> 190\u001b[0m     resp \u001b[38;5;241m=\u001b[39m \u001b[43msession\u001b[49m\u001b[38;5;241;43m.\u001b[39;49m\u001b[43mexecute_parameter\u001b[49m\u001b[43m(\u001b[49m\u001b[43mstmt\u001b[49m\u001b[43m,\u001b[49m\u001b[43m \u001b[49m\u001b[43mparams\u001b[49m\u001b[43m)\u001b[49m\n\u001b[0;32m    192\u001b[0m     \u001b[38;5;66;03m# Check for session validity based on error code\u001b[39;00m\n\u001b[0;32m    193\u001b[0m     \u001b[38;5;28;01mif\u001b[39;00m resp\u001b[38;5;241m.\u001b[39merror_code() \u001b[38;5;129;01min\u001b[39;00m [\n\u001b[0;32m    194\u001b[0m         ErrorCode\u001b[38;5;241m.\u001b[39mE_SESSION_INVALID,\n\u001b[0;32m    195\u001b[0m         ErrorCode\u001b[38;5;241m.\u001b[39mE_SESSION_TIMEOUT,\n\u001b[0;32m    196\u001b[0m     ]:\n",
            "File \u001b[1;32mc:\\Users\\My_Pc\\anaconda3\\envs\\Minh-AI\\Lib\\site-packages\\nebula3\\gclient\\net\\Session.py:78\u001b[0m, in \u001b[0;36mSession.execute_parameter\u001b[1;34m(self, stmt, params)\u001b[0m\n\u001b[0;32m     76\u001b[0m \u001b[38;5;28;01mtry\u001b[39;00m:\n\u001b[0;32m     77\u001b[0m     start_time \u001b[38;5;241m=\u001b[39m time\u001b[38;5;241m.\u001b[39mtime()\n\u001b[1;32m---> 78\u001b[0m     resp \u001b[38;5;241m=\u001b[39m \u001b[38;5;28;43mself\u001b[39;49m\u001b[38;5;241;43m.\u001b[39;49m\u001b[43m_connection\u001b[49m\u001b[38;5;241;43m.\u001b[39;49m\u001b[43mexecute_parameter\u001b[49m\u001b[43m(\u001b[49m\u001b[38;5;28;43mself\u001b[39;49m\u001b[38;5;241;43m.\u001b[39;49m\u001b[43m_session_id\u001b[49m\u001b[43m,\u001b[49m\u001b[43m \u001b[49m\u001b[43mstmt\u001b[49m\u001b[43m,\u001b[49m\u001b[43m \u001b[49m\u001b[43mparams\u001b[49m\u001b[43m)\u001b[49m\n\u001b[0;32m     79\u001b[0m     end_time \u001b[38;5;241m=\u001b[39m time\u001b[38;5;241m.\u001b[39mtime()\n\u001b[0;32m     81\u001b[0m     \u001b[38;5;28;01mif\u001b[39;00m (\n\u001b[0;32m     82\u001b[0m         \u001b[38;5;28mself\u001b[39m\u001b[38;5;241m.\u001b[39m_execution_retry_count \u001b[38;5;241m>\u001b[39m \u001b[38;5;241m0\u001b[39m\n\u001b[0;32m     83\u001b[0m         \u001b[38;5;129;01mand\u001b[39;00m resp\u001b[38;5;241m.\u001b[39merror_code \u001b[38;5;241m==\u001b[39m ErrorCode\u001b[38;5;241m.\u001b[39mE_EXECUTION_ERROR\n\u001b[0;32m     84\u001b[0m     ):\n",
            "File \u001b[1;32mc:\\Users\\My_Pc\\anaconda3\\envs\\Minh-AI\\Lib\\site-packages\\nebula3\\gclient\\net\\Connection.py:203\u001b[0m, in \u001b[0;36mConnection.execute_parameter\u001b[1;34m(self, session_id, stmt, params)\u001b[0m\n\u001b[0;32m    196\u001b[0m \u001b[38;5;250m\u001b[39m\u001b[38;5;124;03m\"\"\"execute interface with session_id and ngql\u001b[39;00m\n\u001b[0;32m    197\u001b[0m \u001b[38;5;124;03m:param session_id: the session id get from result of authenticate interface\u001b[39;00m\n\u001b[0;32m    198\u001b[0m \u001b[38;5;124;03m:param stmt: the ngql\u001b[39;00m\n\u001b[0;32m    199\u001b[0m \u001b[38;5;124;03m:param params: parameter map\u001b[39;00m\n\u001b[0;32m    200\u001b[0m \u001b[38;5;124;03m:return: ExecutionResponse\u001b[39;00m\n\u001b[0;32m    201\u001b[0m \u001b[38;5;124;03m\"\"\"\u001b[39;00m\n\u001b[0;32m    202\u001b[0m \u001b[38;5;28;01mtry\u001b[39;00m:\n\u001b[1;32m--> 203\u001b[0m     resp \u001b[38;5;241m=\u001b[39m \u001b[38;5;28;43mself\u001b[39;49m\u001b[38;5;241;43m.\u001b[39;49m\u001b[43m_connection\u001b[49m\u001b[38;5;241;43m.\u001b[39;49m\u001b[43mexecuteWithParameter\u001b[49m\u001b[43m(\u001b[49m\u001b[43msession_id\u001b[49m\u001b[43m,\u001b[49m\u001b[43m \u001b[49m\u001b[43mstmt\u001b[49m\u001b[43m,\u001b[49m\u001b[43m \u001b[49m\u001b[43mparams\u001b[49m\u001b[43m)\u001b[49m\n\u001b[0;32m    204\u001b[0m     \u001b[38;5;28;01mreturn\u001b[39;00m resp\n\u001b[0;32m    205\u001b[0m \u001b[38;5;28;01mexcept\u001b[39;00m \u001b[38;5;167;01mException\u001b[39;00m \u001b[38;5;28;01mas\u001b[39;00m te:\n",
            "File \u001b[1;32mc:\\Users\\My_Pc\\anaconda3\\envs\\Minh-AI\\Lib\\site-packages\\nebula3\\graph\\GraphService.py:1652\u001b[0m, in \u001b[0;36mClient.executeWithParameter\u001b[1;34m(self, sessionId, stmt, parameterMap)\u001b[0m\n\u001b[0;32m   1645\u001b[0m \u001b[38;5;250m\u001b[39m\u001b[38;5;124;03m\"\"\"\u001b[39;00m\n\u001b[0;32m   1646\u001b[0m \u001b[38;5;124;03mParameters:\u001b[39;00m\n\u001b[0;32m   1647\u001b[0m \u001b[38;5;124;03m - sessionId\u001b[39;00m\n\u001b[0;32m   1648\u001b[0m \u001b[38;5;124;03m - stmt\u001b[39;00m\n\u001b[0;32m   1649\u001b[0m \u001b[38;5;124;03m - parameterMap\u001b[39;00m\n\u001b[0;32m   1650\u001b[0m \u001b[38;5;124;03m\"\"\"\u001b[39;00m\n\u001b[0;32m   1651\u001b[0m \u001b[38;5;28mself\u001b[39m\u001b[38;5;241m.\u001b[39msend_executeWithParameter(sessionId, stmt, parameterMap)\n\u001b[1;32m-> 1652\u001b[0m \u001b[38;5;28;01mreturn\u001b[39;00m \u001b[38;5;28;43mself\u001b[39;49m\u001b[38;5;241;43m.\u001b[39;49m\u001b[43mrecv_executeWithParameter\u001b[49m\u001b[43m(\u001b[49m\u001b[43m)\u001b[49m\n",
            "File \u001b[1;32mc:\\Users\\My_Pc\\anaconda3\\envs\\Minh-AI\\Lib\\site-packages\\nebula3\\graph\\GraphService.py:1665\u001b[0m, in \u001b[0;36mClient.recv_executeWithParameter\u001b[1;34m(self)\u001b[0m\n\u001b[0;32m   1664\u001b[0m \u001b[38;5;28;01mdef\u001b[39;00m \u001b[38;5;21mrecv_executeWithParameter\u001b[39m(\u001b[38;5;28mself\u001b[39m, ):\n\u001b[1;32m-> 1665\u001b[0m   (fname, mtype, rseqid) \u001b[38;5;241m=\u001b[39m \u001b[38;5;28;43mself\u001b[39;49m\u001b[38;5;241;43m.\u001b[39;49m\u001b[43m_iprot\u001b[49m\u001b[38;5;241;43m.\u001b[39;49m\u001b[43mreadMessageBegin\u001b[49m\u001b[43m(\u001b[49m\u001b[43m)\u001b[49m\n\u001b[0;32m   1666\u001b[0m   \u001b[38;5;28;01mif\u001b[39;00m mtype \u001b[38;5;241m==\u001b[39m TMessageType\u001b[38;5;241m.\u001b[39mEXCEPTION:\n\u001b[0;32m   1667\u001b[0m     x \u001b[38;5;241m=\u001b[39m TApplicationException()\n",
            "File \u001b[1;32mc:\\Users\\My_Pc\\anaconda3\\envs\\Minh-AI\\Lib\\site-packages\\nebula3\\fbthrift\\protocol\\THeaderProtocol.py:157\u001b[0m, in \u001b[0;36mTHeaderProtocol.readMessageBegin\u001b[1;34m(self)\u001b[0m\n\u001b[0;32m    154\u001b[0m \u001b[38;5;28;01mdef\u001b[39;00m \u001b[38;5;21mreadMessageBegin\u001b[39m(\u001b[38;5;28mself\u001b[39m):\n\u001b[0;32m    155\u001b[0m     \u001b[38;5;66;03m#Read the next frame, and change protocols if needed\u001b[39;00m\n\u001b[0;32m    156\u001b[0m     \u001b[38;5;28;01mtry\u001b[39;00m:\n\u001b[1;32m--> 157\u001b[0m         \u001b[38;5;28;43mself\u001b[39;49m\u001b[38;5;241;43m.\u001b[39;49m\u001b[43mtrans\u001b[49m\u001b[38;5;241;43m.\u001b[39;49m\u001b[43m_reset_protocol\u001b[49m\u001b[43m(\u001b[49m\u001b[43m)\u001b[49m\n\u001b[0;32m    158\u001b[0m         \u001b[38;5;28mself\u001b[39m\u001b[38;5;241m.\u001b[39mreset_protocol()\n\u001b[0;32m    159\u001b[0m     \u001b[38;5;28;01mexcept\u001b[39;00m TApplicationException \u001b[38;5;28;01mas\u001b[39;00m ex:\n",
            "File \u001b[1;32mc:\\Users\\My_Pc\\anaconda3\\envs\\Minh-AI\\Lib\\site-packages\\nebula3\\fbthrift\\transport\\THeaderTransport.py:238\u001b[0m, in \u001b[0;36mTHeaderTransport._reset_protocol\u001b[1;34m(self)\u001b[0m\n\u001b[0;32m    236\u001b[0m \u001b[38;5;28mself\u001b[39m\u001b[38;5;241m.\u001b[39m__client_type \u001b[38;5;241m=\u001b[39m CLIENT_TYPE\u001b[38;5;241m.\u001b[39mUNKNOWN\n\u001b[0;32m    237\u001b[0m \u001b[38;5;66;03m# Read header bytes to check which protocol to decode\u001b[39;00m\n\u001b[1;32m--> 238\u001b[0m \u001b[38;5;28;43mself\u001b[39;49m\u001b[38;5;241;43m.\u001b[39;49m\u001b[43mreadFrame\u001b[49m\u001b[43m(\u001b[49m\u001b[38;5;241;43m0\u001b[39;49m\u001b[43m)\u001b[49m\n",
            "File \u001b[1;32mc:\\Users\\My_Pc\\anaconda3\\envs\\Minh-AI\\Lib\\site-packages\\nebula3\\fbthrift\\transport\\THeaderTransport.py:268\u001b[0m, in \u001b[0;36mTHeaderTransport.readFrame\u001b[1;34m(self, req_sz)\u001b[0m\n\u001b[0;32m    266\u001b[0m \u001b[38;5;28;01mdef\u001b[39;00m \u001b[38;5;21mreadFrame\u001b[39m(\u001b[38;5;28mself\u001b[39m, req_sz):\n\u001b[0;32m    267\u001b[0m     \u001b[38;5;28mself\u001b[39m\u001b[38;5;241m.\u001b[39m__rbuf_frame \u001b[38;5;241m=\u001b[39m \u001b[38;5;28;01mTrue\u001b[39;00m\n\u001b[1;32m--> 268\u001b[0m     word1 \u001b[38;5;241m=\u001b[39m \u001b[38;5;28;43mself\u001b[39;49m\u001b[38;5;241;43m.\u001b[39;49m\u001b[43mgetTransport\u001b[49m\u001b[43m(\u001b[49m\u001b[43m)\u001b[49m\u001b[38;5;241;43m.\u001b[39;49m\u001b[43mreadAll\u001b[49m\u001b[43m(\u001b[49m\u001b[38;5;241;43m4\u001b[39;49m\u001b[43m)\u001b[49m\n\u001b[0;32m    269\u001b[0m     sz \u001b[38;5;241m=\u001b[39m unpack(\u001b[38;5;124m'\u001b[39m\u001b[38;5;124m!I\u001b[39m\u001b[38;5;124m'\u001b[39m, word1)[\u001b[38;5;241m0\u001b[39m]\n\u001b[0;32m    270\u001b[0m     proto_id \u001b[38;5;241m=\u001b[39m word1[\u001b[38;5;241m0\u001b[39m] \u001b[38;5;28;01mif\u001b[39;00m PY3 \u001b[38;5;28;01melse\u001b[39;00m \u001b[38;5;28mord\u001b[39m(word1[\u001b[38;5;241m0\u001b[39m])\n",
            "File \u001b[1;32mc:\\Users\\My_Pc\\anaconda3\\envs\\Minh-AI\\Lib\\site-packages\\nebula3\\fbthrift\\transport\\TTransport.py:72\u001b[0m, in \u001b[0;36mTTransportBase.readAll\u001b[1;34m(self, sz)\u001b[0m\n\u001b[0;32m     70\u001b[0m need \u001b[38;5;241m=\u001b[39m sz\n\u001b[0;32m     71\u001b[0m \u001b[38;5;28;01mwhile\u001b[39;00m need:\n\u001b[1;32m---> 72\u001b[0m     chunk \u001b[38;5;241m=\u001b[39m \u001b[38;5;28;43mself\u001b[39;49m\u001b[38;5;241;43m.\u001b[39;49m\u001b[43mread\u001b[49m\u001b[43m(\u001b[49m\u001b[43mneed\u001b[49m\u001b[43m)\u001b[49m\n\u001b[0;32m     73\u001b[0m     \u001b[38;5;28;01mif\u001b[39;00m \u001b[38;5;129;01mnot\u001b[39;00m chunk:\n\u001b[0;32m     74\u001b[0m         \u001b[38;5;28;01mraise\u001b[39;00m TTransportException(TTransportException\u001b[38;5;241m.\u001b[39mEND_OF_FILE,\n\u001b[0;32m     75\u001b[0m                                   \u001b[38;5;124m\"\u001b[39m\u001b[38;5;124mEnd of file reading from transport\u001b[39m\u001b[38;5;124m\"\u001b[39m)\n",
            "File \u001b[1;32mc:\\Users\\My_Pc\\anaconda3\\envs\\Minh-AI\\Lib\\site-packages\\nebula3\\fbthrift\\transport\\TTransport.py:183\u001b[0m, in \u001b[0;36mTBufferedTransport.read\u001b[1;34m(self, sz)\u001b[0m\n\u001b[0;32m    180\u001b[0m \u001b[38;5;28;01mif\u001b[39;00m \u001b[38;5;28mlen\u001b[39m(ret) \u001b[38;5;241m!=\u001b[39m \u001b[38;5;241m0\u001b[39m:\n\u001b[0;32m    181\u001b[0m     \u001b[38;5;28;01mreturn\u001b[39;00m ret\n\u001b[1;32m--> 183\u001b[0m \u001b[38;5;28mself\u001b[39m\u001b[38;5;241m.\u001b[39m__rbuf \u001b[38;5;241m=\u001b[39m StringIO(\u001b[38;5;28;43mself\u001b[39;49m\u001b[38;5;241;43m.\u001b[39;49m\u001b[43m__trans\u001b[49m\u001b[38;5;241;43m.\u001b[39;49m\u001b[43mread\u001b[49m\u001b[43m(\u001b[49m\u001b[38;5;28;43mmax\u001b[39;49m\u001b[43m(\u001b[49m\u001b[43msz\u001b[49m\u001b[43m,\u001b[49m\u001b[43m \u001b[49m\u001b[38;5;28;43mself\u001b[39;49m\u001b[38;5;241;43m.\u001b[39;49m\u001b[43m__rbuf_size\u001b[49m\u001b[43m)\u001b[49m\u001b[43m)\u001b[49m)\n\u001b[0;32m    184\u001b[0m \u001b[38;5;28;01mreturn\u001b[39;00m \u001b[38;5;28mself\u001b[39m\u001b[38;5;241m.\u001b[39m__rbuf\u001b[38;5;241m.\u001b[39mread(sz)\n",
            "File \u001b[1;32mc:\\Users\\My_Pc\\anaconda3\\envs\\Minh-AI\\Lib\\site-packages\\nebula3\\fbthrift\\transport\\TSocket.py:310\u001b[0m, in \u001b[0;36mTSocket.read\u001b[1;34m(self, sz)\u001b[0m\n\u001b[0;32m    308\u001b[0m \u001b[38;5;28;01mdef\u001b[39;00m \u001b[38;5;21mread\u001b[39m(\u001b[38;5;28mself\u001b[39m, sz):\n\u001b[0;32m    309\u001b[0m     \u001b[38;5;28;01mtry\u001b[39;00m:\n\u001b[1;32m--> 310\u001b[0m         buff \u001b[38;5;241m=\u001b[39m \u001b[38;5;28;43mself\u001b[39;49m\u001b[38;5;241;43m.\u001b[39;49m\u001b[43mhandle\u001b[49m\u001b[38;5;241;43m.\u001b[39;49m\u001b[43mrecv\u001b[49m\u001b[43m(\u001b[49m\u001b[43msz\u001b[49m\u001b[43m)\u001b[49m\n\u001b[0;32m    311\u001b[0m         \u001b[38;5;28;01mif\u001b[39;00m \u001b[38;5;28mlen\u001b[39m(buff) \u001b[38;5;241m==\u001b[39m \u001b[38;5;241m0\u001b[39m:\n\u001b[0;32m    312\u001b[0m             \u001b[38;5;28;01mraise\u001b[39;00m TTransportException(\u001b[38;5;28mtype\u001b[39m\u001b[38;5;241m=\u001b[39mTTransportException\u001b[38;5;241m.\u001b[39mEND_OF_FILE,\n\u001b[0;32m    313\u001b[0m                                       message\u001b[38;5;241m=\u001b[39m\u001b[38;5;124m'\u001b[39m\u001b[38;5;124mTSocket read 0 bytes\u001b[39m\u001b[38;5;124m'\u001b[39m)\n",
            "\u001b[1;31mKeyboardInterrupt\u001b[0m: "
          ]
        }
      ],
      "source": [
        "from llama_index.core import KnowledgeGraphIndex\n",
        "\n",
        "# Tạo KnowledgeGraphIndex với các cạnh đã dịch và hai chiều\n",
        "kg_index = KnowledgeGraphIndex.from_documents(\n",
        "    documents=documents,\n",
        "    storage_context=storage_context,\n",
        "    max_triplets_per_chunk=10,\n",
        "    space_name=space_name,\n",
        "    edge_types=edge_types,  # Sử dụng cạnh hai chiều\n",
        "    rel_prop_names=rel_prop_names,  # Sử dụng quan hệ đã dịch\n",
        "    tags=tags,\n",
        "    include_embeddings=True,\n",
        ")\n",
        "\n",
        "# In kết quả đồ thị để kiểm tra\n",
        "print(kg_index)"
      ]
    },
    {
      "cell_type": "code",
      "execution_count": 29,
      "metadata": {},
      "outputs": [
        {
          "ename": "NameError",
          "evalue": "name 'index' is not defined",
          "output_type": "error",
          "traceback": [
            "\u001b[1;31m---------------------------------------------------------------------------\u001b[0m",
            "\u001b[1;31mNameError\u001b[0m                                 Traceback (most recent call last)",
            "Cell \u001b[1;32mIn[29], line 1\u001b[0m\n\u001b[1;32m----> 1\u001b[0m query_engine \u001b[38;5;241m=\u001b[39m \u001b[43mindex\u001b[49m\u001b[38;5;241m.\u001b[39mas_query_engine()\n\u001b[0;32m      3\u001b[0m response \u001b[38;5;241m=\u001b[39m query_engine\u001b[38;5;241m.\u001b[39mquery(\u001b[38;5;124m\"\u001b[39m\u001b[38;5;124mĐiều kiện hưởng lương hưu được quy định như thế nào?\u001b[39m\u001b[38;5;124m\"\u001b[39m)\n",
            "\u001b[1;31mNameError\u001b[0m: name 'index' is not defined"
          ]
        }
      ],
      "source": [
        "query_engine = index.as_query_engine()\n",
        "\n",
        "response = query_engine.query(\"Điều kiện hưởng lương hưu được quy định như thế nào?\")"
      ]
    },
    {
      "cell_type": "markdown",
      "metadata": {
        "id": "r5wybGhnJZNC"
      },
      "source": [
        "Now we have a Knowledge Graph on NebulaGraph cluster under space named `llamaindex` about the 'Guardians of the Galaxy Vol. 3' movie, let's play with it a little bit."
      ]
    },
    {
      "cell_type": "code",
      "execution_count": 151,
      "metadata": {
        "id": "OGG9RyJEJZNC",
        "outputId": "8fff2802-46fc-4e23-fa42-4393fb65146b"
      },
      "outputs": [
        {
          "name": "stdout",
          "output_type": "stream",
          "text": [
            "Requirement already satisfied: ipython-ngql in c:\\users\\my_pc\\anaconda3\\envs\\minh-ai\\lib\\site-packages (0.14.3)\n",
            "Requirement already satisfied: networkx in c:\\users\\my_pc\\anaconda3\\envs\\minh-ai\\lib\\site-packages (3.3)\n",
            "Requirement already satisfied: pyvis in c:\\users\\my_pc\\anaconda3\\envs\\minh-ai\\lib\\site-packages (0.3.2)\n",
            "Requirement already satisfied: Jinja2 in c:\\users\\my_pc\\anaconda3\\envs\\minh-ai\\lib\\site-packages (from ipython-ngql) (3.1.4)\n",
            "Requirement already satisfied: nebula3-python>=3.8.0 in c:\\users\\my_pc\\anaconda3\\envs\\minh-ai\\lib\\site-packages (from ipython-ngql) (3.8.2)\n",
            "Requirement already satisfied: pandas in c:\\users\\my_pc\\anaconda3\\envs\\minh-ai\\lib\\site-packages (from ipython-ngql) (2.2.2)\n",
            "Requirement already satisfied: tqdm in c:\\users\\my_pc\\anaconda3\\envs\\minh-ai\\lib\\site-packages (from ipython-ngql) (4.66.4)\n",
            "Requirement already satisfied: requests in c:\\users\\my_pc\\anaconda3\\envs\\minh-ai\\lib\\site-packages (from ipython-ngql) (2.32.3)\n",
            "Requirement already satisfied: pydantic in c:\\users\\my_pc\\anaconda3\\envs\\minh-ai\\lib\\site-packages (from ipython-ngql) (2.8.2)\n",
            "Requirement already satisfied: scipy in c:\\users\\my_pc\\anaconda3\\envs\\minh-ai\\lib\\site-packages (from ipython-ngql) (1.14.0)\n",
            "Requirement already satisfied: ipywidgets in c:\\users\\my_pc\\anaconda3\\envs\\minh-ai\\lib\\site-packages (from ipython-ngql) (8.1.5)\n",
            "Requirement already satisfied: pyarrow in c:\\users\\my_pc\\anaconda3\\envs\\minh-ai\\lib\\site-packages (from ipython-ngql) (16.1.0)\n",
            "Requirement already satisfied: ipython>=5.3.0 in c:\\users\\my_pc\\anaconda3\\envs\\minh-ai\\lib\\site-packages (from pyvis) (8.26.0)\n",
            "Requirement already satisfied: jsonpickle>=1.4.1 in c:\\users\\my_pc\\anaconda3\\envs\\minh-ai\\lib\\site-packages (from pyvis) (3.3.0)\n",
            "Requirement already satisfied: decorator in c:\\users\\my_pc\\anaconda3\\envs\\minh-ai\\lib\\site-packages (from ipython>=5.3.0->pyvis) (5.1.1)\n",
            "Requirement already satisfied: jedi>=0.16 in c:\\users\\my_pc\\anaconda3\\envs\\minh-ai\\lib\\site-packages (from ipython>=5.3.0->pyvis) (0.19.1)\n",
            "Requirement already satisfied: matplotlib-inline in c:\\users\\my_pc\\anaconda3\\envs\\minh-ai\\lib\\site-packages (from ipython>=5.3.0->pyvis) (0.1.7)\n",
            "Requirement already satisfied: prompt-toolkit<3.1.0,>=3.0.41 in c:\\users\\my_pc\\anaconda3\\envs\\minh-ai\\lib\\site-packages (from ipython>=5.3.0->pyvis) (3.0.47)\n",
            "Requirement already satisfied: pygments>=2.4.0 in c:\\users\\my_pc\\anaconda3\\envs\\minh-ai\\lib\\site-packages (from ipython>=5.3.0->pyvis) (2.18.0)\n",
            "Requirement already satisfied: stack-data in c:\\users\\my_pc\\anaconda3\\envs\\minh-ai\\lib\\site-packages (from ipython>=5.3.0->pyvis) (0.6.2)\n",
            "Requirement already satisfied: traitlets>=5.13.0 in c:\\users\\my_pc\\anaconda3\\envs\\minh-ai\\lib\\site-packages (from ipython>=5.3.0->pyvis) (5.14.3)\n",
            "Requirement already satisfied: colorama in c:\\users\\my_pc\\anaconda3\\envs\\minh-ai\\lib\\site-packages (from ipython>=5.3.0->pyvis) (0.4.6)\n",
            "Requirement already satisfied: MarkupSafe>=2.0 in c:\\users\\my_pc\\anaconda3\\envs\\minh-ai\\lib\\site-packages (from Jinja2->ipython-ngql) (2.1.5)\n",
            "Requirement already satisfied: future>=0.18.0 in c:\\users\\my_pc\\anaconda3\\envs\\minh-ai\\lib\\site-packages (from nebula3-python>=3.8.0->ipython-ngql) (1.0.0)\n",
            "Requirement already satisfied: httplib2>=0.20.0 in c:\\users\\my_pc\\anaconda3\\envs\\minh-ai\\lib\\site-packages (from nebula3-python>=3.8.0->ipython-ngql) (0.22.0)\n",
            "Requirement already satisfied: pytz>=2021.1 in c:\\users\\my_pc\\anaconda3\\envs\\minh-ai\\lib\\site-packages (from nebula3-python>=3.8.0->ipython-ngql) (2024.1)\n",
            "Requirement already satisfied: six>=1.16.0 in c:\\users\\my_pc\\anaconda3\\envs\\minh-ai\\lib\\site-packages (from nebula3-python>=3.8.0->ipython-ngql) (1.16.0)\n",
            "Requirement already satisfied: httpx>=0.22.0 in c:\\users\\my_pc\\anaconda3\\envs\\minh-ai\\lib\\site-packages (from httpx[http2]>=0.22.0->nebula3-python>=3.8.0->ipython-ngql) (0.24.1)\n",
            "Requirement already satisfied: comm>=0.1.3 in c:\\users\\my_pc\\anaconda3\\envs\\minh-ai\\lib\\site-packages (from ipywidgets->ipython-ngql) (0.2.2)\n",
            "Requirement already satisfied: widgetsnbextension~=4.0.12 in c:\\users\\my_pc\\anaconda3\\envs\\minh-ai\\lib\\site-packages (from ipywidgets->ipython-ngql) (4.0.13)\n",
            "Requirement already satisfied: jupyterlab-widgets~=3.0.12 in c:\\users\\my_pc\\anaconda3\\envs\\minh-ai\\lib\\site-packages (from ipywidgets->ipython-ngql) (3.0.13)\n",
            "Requirement already satisfied: numpy>=1.26.0 in c:\\users\\my_pc\\anaconda3\\envs\\minh-ai\\lib\\site-packages (from pandas->ipython-ngql) (1.26.4)\n",
            "Requirement already satisfied: python-dateutil>=2.8.2 in c:\\users\\my_pc\\anaconda3\\envs\\minh-ai\\lib\\site-packages (from pandas->ipython-ngql) (2.9.0)\n",
            "Requirement already satisfied: tzdata>=2022.7 in c:\\users\\my_pc\\anaconda3\\envs\\minh-ai\\lib\\site-packages (from pandas->ipython-ngql) (2024.1)\n",
            "Requirement already satisfied: annotated-types>=0.4.0 in c:\\users\\my_pc\\anaconda3\\envs\\minh-ai\\lib\\site-packages (from pydantic->ipython-ngql) (0.7.0)\n",
            "Requirement already satisfied: pydantic-core==2.20.1 in c:\\users\\my_pc\\anaconda3\\envs\\minh-ai\\lib\\site-packages (from pydantic->ipython-ngql) (2.20.1)\n",
            "Requirement already satisfied: typing-extensions>=4.6.1 in c:\\users\\my_pc\\anaconda3\\envs\\minh-ai\\lib\\site-packages (from pydantic->ipython-ngql) (4.12.2)\n",
            "Requirement already satisfied: charset-normalizer<4,>=2 in c:\\users\\my_pc\\anaconda3\\envs\\minh-ai\\lib\\site-packages (from requests->ipython-ngql) (3.3.2)\n",
            "Requirement already satisfied: idna<4,>=2.5 in c:\\users\\my_pc\\anaconda3\\envs\\minh-ai\\lib\\site-packages (from requests->ipython-ngql) (2.10)\n",
            "Requirement already satisfied: urllib3<3,>=1.21.1 in c:\\users\\my_pc\\anaconda3\\envs\\minh-ai\\lib\\site-packages (from requests->ipython-ngql) (2.2.2)\n",
            "Requirement already satisfied: certifi>=2017.4.17 in c:\\users\\my_pc\\anaconda3\\envs\\minh-ai\\lib\\site-packages (from requests->ipython-ngql) (2024.7.4)\n",
            "Requirement already satisfied: pyparsing!=3.0.0,!=3.0.1,!=3.0.2,!=3.0.3,<4,>=2.4.2 in c:\\users\\my_pc\\anaconda3\\envs\\minh-ai\\lib\\site-packages (from httplib2>=0.20.0->nebula3-python>=3.8.0->ipython-ngql) (3.1.2)\n",
            "Requirement already satisfied: httpcore<0.18.0,>=0.15.0 in c:\\users\\my_pc\\anaconda3\\envs\\minh-ai\\lib\\site-packages (from httpx>=0.22.0->httpx[http2]>=0.22.0->nebula3-python>=3.8.0->ipython-ngql) (0.17.3)\n",
            "Requirement already satisfied: sniffio in c:\\users\\my_pc\\anaconda3\\envs\\minh-ai\\lib\\site-packages (from httpx>=0.22.0->httpx[http2]>=0.22.0->nebula3-python>=3.8.0->ipython-ngql) (1.3.1)\n",
            "Requirement already satisfied: h2<5,>=3 in c:\\users\\my_pc\\anaconda3\\envs\\minh-ai\\lib\\site-packages (from httpx[http2]>=0.22.0->nebula3-python>=3.8.0->ipython-ngql) (3.2.0)\n",
            "Requirement already satisfied: parso<0.9.0,>=0.8.3 in c:\\users\\my_pc\\anaconda3\\envs\\minh-ai\\lib\\site-packages (from jedi>=0.16->ipython>=5.3.0->pyvis) (0.8.4)\n",
            "Requirement already satisfied: wcwidth in c:\\users\\my_pc\\anaconda3\\envs\\minh-ai\\lib\\site-packages (from prompt-toolkit<3.1.0,>=3.0.41->ipython>=5.3.0->pyvis) (0.2.13)\n",
            "Requirement already satisfied: executing>=1.2.0 in c:\\users\\my_pc\\anaconda3\\envs\\minh-ai\\lib\\site-packages (from stack-data->ipython>=5.3.0->pyvis) (2.0.1)\n",
            "Requirement already satisfied: asttokens>=2.1.0 in c:\\users\\my_pc\\anaconda3\\envs\\minh-ai\\lib\\site-packages (from stack-data->ipython>=5.3.0->pyvis) (2.4.1)\n",
            "Requirement already satisfied: pure-eval in c:\\users\\my_pc\\anaconda3\\envs\\minh-ai\\lib\\site-packages (from stack-data->ipython>=5.3.0->pyvis) (0.2.2)\n",
            "Requirement already satisfied: hyperframe<6,>=5.2.0 in c:\\users\\my_pc\\anaconda3\\envs\\minh-ai\\lib\\site-packages (from h2<5,>=3->httpx[http2]>=0.22.0->nebula3-python>=3.8.0->ipython-ngql) (5.2.0)\n",
            "Requirement already satisfied: hpack<4,>=3.0 in c:\\users\\my_pc\\anaconda3\\envs\\minh-ai\\lib\\site-packages (from h2<5,>=3->httpx[http2]>=0.22.0->nebula3-python>=3.8.0->ipython-ngql) (3.0.0)\n",
            "Requirement already satisfied: h11<0.15,>=0.13 in c:\\users\\my_pc\\anaconda3\\envs\\minh-ai\\lib\\site-packages (from httpcore<0.18.0,>=0.15.0->httpx>=0.22.0->httpx[http2]>=0.22.0->nebula3-python>=3.8.0->ipython-ngql) (0.14.0)\n",
            "Requirement already satisfied: anyio<5.0,>=3.0 in c:\\users\\my_pc\\anaconda3\\envs\\minh-ai\\lib\\site-packages (from httpcore<0.18.0,>=0.15.0->httpx>=0.22.0->httpx[http2]>=0.22.0->nebula3-python>=3.8.0->ipython-ngql) (3.7.1)\n",
            "Note: you may need to restart the kernel to use updated packages.\n",
            "The ngql extension is already loaded. To reload it, use:\n",
            "  %reload_ext ngql\n",
            "\u001b[1;3;38;2;0;135;107m[OK] Connection Pool Created\u001b[0m\n",
            "INFO:nebula3.logger:Get connection to ('127.0.0.1', 9669)\n"
          ]
        },
        {
          "data": {
            "text/html": [
              "<div>\n",
              "<style scoped>\n",
              "    .dataframe tbody tr th:only-of-type {\n",
              "        vertical-align: middle;\n",
              "    }\n",
              "\n",
              "    .dataframe tbody tr th {\n",
              "        vertical-align: top;\n",
              "    }\n",
              "\n",
              "    .dataframe thead th {\n",
              "        text-align: right;\n",
              "    }\n",
              "</style>\n",
              "<table border=\"1\" class=\"dataframe\">\n",
              "  <thead>\n",
              "    <tr style=\"text-align: right;\">\n",
              "      <th></th>\n",
              "      <th>Name</th>\n",
              "    </tr>\n",
              "  </thead>\n",
              "  <tbody>\n",
              "    <tr>\n",
              "      <th>0</th>\n",
              "      <td>quocminhdb</td>\n",
              "    </tr>\n",
              "    <tr>\n",
              "      <th>1</th>\n",
              "      <td>test_data</td>\n",
              "    </tr>\n",
              "  </tbody>\n",
              "</table>\n",
              "</div>"
            ],
            "text/plain": [
              "         Name\n",
              "0  quocminhdb\n",
              "1   test_data"
            ]
          },
          "execution_count": 151,
          "metadata": {},
          "output_type": "execute_result"
        }
      ],
      "source": [
        "# install related packages, password is nebula by default\n",
        "%pip install ipython-ngql networkx pyvis\n",
        "%load_ext ngql\n",
        "%ngql --address 127.0.0.1 --port 9669 --user root --password <nebula>"
      ]
    },
    {
      "cell_type": "code",
      "execution_count": 152,
      "metadata": {
        "id": "pGuNQxUWJZNC",
        "outputId": "bccbe84a-152b-4f0d-c20f-85bddb97d845"
      },
      "outputs": [
        {
          "name": "stdout",
          "output_type": "stream",
          "text": [
            "INFO:nebula3.logger:Get connection to ('127.0.0.1', 9669)\n",
            "INFO:nebula3.logger:Get connection to ('127.0.0.1', 9669)\n"
          ]
        },
        {
          "data": {
            "text/html": [
              "<div>\n",
              "<style scoped>\n",
              "    .dataframe tbody tr th:only-of-type {\n",
              "        vertical-align: middle;\n",
              "    }\n",
              "\n",
              "    .dataframe tbody tr th {\n",
              "        vertical-align: top;\n",
              "    }\n",
              "\n",
              "    .dataframe thead th {\n",
              "        text-align: right;\n",
              "    }\n",
              "</style>\n",
              "<table border=\"1\" class=\"dataframe\">\n",
              "  <thead>\n",
              "    <tr style=\"text-align: right;\">\n",
              "      <th></th>\n",
              "      <th>e</th>\n",
              "    </tr>\n",
              "  </thead>\n",
              "  <tbody>\n",
              "    <tr>\n",
              "      <th>0</th>\n",
              "      <td>(\"Luật bảo hiểm xã hội 2014\")-[:relationship@6148495660377499677{relationship: \"Có hiệu lực thi hành từ\"}]-&gt;(\"Ngày 01 tháng 01 năm 2018\")</td>\n",
              "    </tr>\n",
              "    <tr>\n",
              "      <th>1</th>\n",
              "      <td>(\"Mức lương hưu\")-[:relationship@6173169967880352367{relationship: \"Được tính bằng\"}]-&gt;(\"45 % mức bình quân tiền lương\")</td>\n",
              "    </tr>\n",
              "  </tbody>\n",
              "</table>\n",
              "</div>"
            ],
            "text/plain": [
              "                                                                                                                                           e\n",
              "0  (\"Luật bảo hiểm xã hội 2014\")-[:relationship@6148495660377499677{relationship: \"Có hiệu lực thi hành từ\"}]->(\"Ngày 01 tháng 01 năm 2018\")\n",
              "1                   (\"Mức lương hưu\")-[:relationship@6173169967880352367{relationship: \"Được tính bằng\"}]->(\"45 % mức bình quân tiền lương\")"
            ]
          },
          "execution_count": 152,
          "metadata": {},
          "output_type": "execute_result"
        }
      ],
      "source": [
        "# Query some random Relationships with Cypher\n",
        "%ngql USE tvpl_graph;\n",
        "%ngql MATCH ()-[e]->() RETURN e LIMIT 10"
      ]
    },
    {
      "cell_type": "markdown",
      "metadata": {
        "id": "onW8ng8CJZND"
      },
      "source": [
        "## Asking the Knowledge Graph\n",
        "\n",
        "Finally, let's demo how to Query Knowledge Graph with Natural language!\n",
        "\n",
        "Here, we will leverage the `KnowledgeGraphQueryEngine`, with `NebulaGraphStore` as the `storage_context.graph_store`."
      ]
    },
    {
      "cell_type": "code",
      "execution_count": 154,
      "metadata": {},
      "outputs": [
        {
          "name": "stdout",
          "output_type": "stream",
          "text": [
            "INFO:httpx:HTTP Request: POST https://api.openai.com/v1/chat/completions \"HTTP/1.1 200 OK\"\n"
          ]
        }
      ],
      "source": [
        "graph_store = NebulaGraphStore(\n",
        "    space_name=space_name,\n",
        "    edge_types=edge_types,\n",
        "    rel_prop_names=rel_prop_names,\n",
        "    tags=tags,\n",
        ")\n",
        "\n",
        "storage_context = StorageContext.from_defaults(graph_store=graph_store)\n",
        "\n",
        "# NOTE: can take a while!\n",
        "index = KnowledgeGraphIndex.from_documents(\n",
        "    documents,\n",
        "    storage_context=storage_context,\n",
        "    max_triplets_per_chunk=10,\n",
        "    space_name=space_name,\n",
        "    edge_types=edge_types,\n",
        "    rel_prop_names=rel_prop_names,\n",
        "    tags=tags,\n",
        ")"
      ]
    },
    {
      "cell_type": "code",
      "execution_count": 155,
      "metadata": {},
      "outputs": [
        {
          "name": "stdout",
          "output_type": "stream",
          "text": [
            "INFO:httpx:HTTP Request: POST https://api.openai.com/v1/chat/completions \"HTTP/1.1 200 OK\"\n",
            "WARNING:llama_index.core.indices.knowledge_graph.retrievers:Index was not constructed with embeddings, skipping embedding usage...\n",
            "INFO:llama_index.core.indices.knowledge_graph.retrievers:> No relationships found, returning nodes found by keywords.\n",
            "INFO:llama_index.core.indices.knowledge_graph.retrievers:> No nodes found by keywords, returning empty response.\n",
            "INFO:httpx:HTTP Request: POST https://api.openai.com/v1/chat/completions \"HTTP/1.1 200 OK\"\n"
          ]
        }
      ],
      "source": [
        "query_engine = index.as_query_engine()\n",
        "\n",
        "response = query_engine.query(\"Mức lương hưu hằng tháng được tính như thế nào\")"
      ]
    },
    {
      "cell_type": "code",
      "execution_count": 156,
      "metadata": {},
      "outputs": [
        {
          "name": "stdout",
          "output_type": "stream",
          "text": [
            "INFO:httpx:HTTP Request: POST https://api.openai.com/v1/chat/completions \"HTTP/1.1 200 OK\"\n",
            "INFO:httpx:HTTP Request: POST https://api.openai.com/v1/embeddings \"HTTP/1.1 200 OK\"\n",
            "INFO:httpx:HTTP Request: POST https://api.openai.com/v1/chat/completions \"HTTP/1.1 200 OK\"\n",
            "WARNING:llama_index.core.indices.knowledge_graph.retrievers:Index was not constructed with embeddings, skipping embedding usage...\n",
            "INFO:llama_index.core.indices.knowledge_graph.retrievers:> No relationships found, returning nodes found by keywords.\n",
            "INFO:llama_index.core.indices.knowledge_graph.retrievers:> No nodes found by keywords, returning empty response.\n",
            "INFO:httpx:HTTP Request: POST https://api.openai.com/v1/chat/completions \"HTTP/1.1 200 OK\"\n"
          ]
        }
      ],
      "source": [
        "# NOTE: can take a while!\n",
        "new_index = KnowledgeGraphIndex.from_documents(\n",
        "    documents,\n",
        "    max_triplets_per_chunk=10,\n",
        "    include_embeddings=True,\n",
        ")\n",
        "\n",
        "# query using top 3 triplets plus keywords (duplicate triplets are removed)\n",
        "query_engine = index.as_query_engine(\n",
        "    include_text=True,\n",
        "    response_mode=\"tree_summarize\",\n",
        "    embedding_mode=\"hybrid\",\n",
        "    similarity_top_k=5,\n",
        ")\n",
        "response = query_engine.query(\n",
        "    \"Luật bảo hiểm xã hội 2014 quy định điều gì\",\n",
        ")"
      ]
    },
    {
      "cell_type": "code",
      "execution_count": 157,
      "metadata": {
        "id": "6fJxdr5-JZND",
        "outputId": "bcfda6c5-0d22-4dd2-8b2c-0e6ed84d1355"
      },
      "outputs": [
        {
          "ename": "AttributeError",
          "evalue": "'RetrieverQueryEngine' object has no attribute 'generate_query'",
          "output_type": "error",
          "traceback": [
            "\u001b[1;31m---------------------------------------------------------------------------\u001b[0m",
            "\u001b[1;31mAttributeError\u001b[0m                            Traceback (most recent call last)",
            "Cell \u001b[1;32mIn[157], line 1\u001b[0m\n\u001b[1;32m----> 1\u001b[0m graph_query \u001b[38;5;241m=\u001b[39m \u001b[43mquery_engine\u001b[49m\u001b[38;5;241;43m.\u001b[39;49m\u001b[43mgenerate_query\u001b[49m(\n\u001b[0;32m      2\u001b[0m     \u001b[38;5;124m\"\u001b[39m\u001b[38;5;124mTell me about Peter Quill?\u001b[39m\u001b[38;5;124m\"\u001b[39m,\n\u001b[0;32m      3\u001b[0m )\n\u001b[0;32m      5\u001b[0m graph_query \u001b[38;5;241m=\u001b[39m graph_query\u001b[38;5;241m.\u001b[39mreplace(\u001b[38;5;124m\"\u001b[39m\u001b[38;5;124mWHERE\u001b[39m\u001b[38;5;124m\"\u001b[39m, \u001b[38;5;124m\"\u001b[39m\u001b[38;5;130;01m\\n\u001b[39;00m\u001b[38;5;124m  WHERE\u001b[39m\u001b[38;5;124m\"\u001b[39m)\u001b[38;5;241m.\u001b[39mreplace(\n\u001b[0;32m      6\u001b[0m     \u001b[38;5;124m\"\u001b[39m\u001b[38;5;124mRETURN\u001b[39m\u001b[38;5;124m\"\u001b[39m, \u001b[38;5;124m\"\u001b[39m\u001b[38;5;130;01m\\n\u001b[39;00m\u001b[38;5;124mRETURN\u001b[39m\u001b[38;5;124m\"\u001b[39m\n\u001b[0;32m      7\u001b[0m )\n\u001b[0;32m      9\u001b[0m display(\n\u001b[0;32m     10\u001b[0m     Markdown(\n\u001b[0;32m     11\u001b[0m         \u001b[38;5;124mf\u001b[39m\u001b[38;5;124m\"\"\"\u001b[39m\n\u001b[1;32m   (...)\u001b[0m\n\u001b[0;32m     16\u001b[0m     )\n\u001b[0;32m     17\u001b[0m )\n",
            "\u001b[1;31mAttributeError\u001b[0m: 'RetrieverQueryEngine' object has no attribute 'generate_query'"
          ]
        }
      ],
      "source": [
        "graph_query = query_engine.generate_query(\n",
        "    \"Tell me about Peter Quill?\",\n",
        ")\n",
        "\n",
        "graph_query = graph_query.replace(\"WHERE\", \"\\n  WHERE\").replace(\n",
        "    \"RETURN\", \"\\nRETURN\"\n",
        ")\n",
        "\n",
        "display(\n",
        "    Markdown(\n",
        "        f\"\"\"\n",
        "```cypher\n",
        "{graph_query}\n",
        "```\n",
        "\"\"\"\n",
        "    )\n",
        ")"
      ]
    },
    {
      "cell_type": "markdown",
      "metadata": {
        "id": "VbKbzhM9JZND"
      },
      "source": [
        "We could see it helps generate the Graph query:\n",
        "\n",
        "```cypher\n",
        "MATCH (p:`entity`)-[:relationship]->(e:`entity`)\n",
        "  WHERE p.`entity`.`name` == 'Peter Quill'\n",
        "RETURN e.`entity`.`name`;\n",
        "```\n",
        "And synthese the question based on its result:\n",
        "\n",
        "```json\n",
        "{'e2.entity.name': ['grandfather', 'alternate version of Gamora', 'Guardians of the Galaxy']}\n",
        "```"
      ]
    },
    {
      "cell_type": "markdown",
      "metadata": {
        "id": "ZxyD-FyVJZNE"
      },
      "source": [
        "Of course we still could query it, too! And this query engine could be our best Graph Query Language learning bot, then :)."
      ]
    },
    {
      "cell_type": "code",
      "execution_count": null,
      "metadata": {
        "id": "GOy_a3mYJZNE",
        "outputId": "d20b737c-6d4c-48a9-9294-eebde1ce4db0"
      },
      "outputs": [
        {
          "name": "stdout",
          "output_type": "stream",
          "text": [
            "INFO:nebula3.logger:Get connection to ('127.0.0.1', 9669)\n"
          ]
        },
        {
          "data": {
            "text/html": [
              "<div>\n",
              "<style scoped>\n",
              "    .dataframe tbody tr th:only-of-type {\n",
              "        vertical-align: middle;\n",
              "    }\n",
              "\n",
              "    .dataframe tbody tr th {\n",
              "        vertical-align: top;\n",
              "    }\n",
              "\n",
              "    .dataframe thead th {\n",
              "        text-align: right;\n",
              "    }\n",
              "</style>\n",
              "<table border=\"1\" class=\"dataframe\">\n",
              "  <thead>\n",
              "    <tr style=\"text-align: right;\">\n",
              "      <th></th>\n",
              "      <th>p.entity.name</th>\n",
              "      <th>e.relationship</th>\n",
              "      <th>m.entity.name</th>\n",
              "    </tr>\n",
              "  </thead>\n",
              "  <tbody>\n",
              "    <tr>\n",
              "      <th>0</th>\n",
              "      <td>Peter Quill</td>\n",
              "      <td>would return to the MCU</td>\n",
              "      <td>May 2021</td>\n",
              "    </tr>\n",
              "    <tr>\n",
              "      <th>1</th>\n",
              "      <td>Peter Quill</td>\n",
              "      <td>was abducted from Earth</td>\n",
              "      <td>as a child</td>\n",
              "    </tr>\n",
              "    <tr>\n",
              "      <th>2</th>\n",
              "      <td>Peter Quill</td>\n",
              "      <td>is leader of</td>\n",
              "      <td>Guardians of the Galaxy</td>\n",
              "    </tr>\n",
              "    <tr>\n",
              "      <th>3</th>\n",
              "      <td>Peter Quill</td>\n",
              "      <td>was raised by</td>\n",
              "      <td>a group of alien thieves and smugglers</td>\n",
              "    </tr>\n",
              "    <tr>\n",
              "      <th>4</th>\n",
              "      <td>Peter Quill</td>\n",
              "      <td>is half-human</td>\n",
              "      <td>half-Celestial</td>\n",
              "    </tr>\n",
              "  </tbody>\n",
              "</table>\n",
              "</div>"
            ],
            "text/plain": [
              "  p.entity.name           e.relationship  \\\n",
              "0   Peter Quill  would return to the MCU   \n",
              "1   Peter Quill  was abducted from Earth   \n",
              "2   Peter Quill             is leader of   \n",
              "3   Peter Quill            was raised by   \n",
              "4   Peter Quill            is half-human   \n",
              "\n",
              "                            m.entity.name  \n",
              "0                                May 2021  \n",
              "1                              as a child  \n",
              "2                 Guardians of the Galaxy  \n",
              "3  a group of alien thieves and smugglers  \n",
              "4                          half-Celestial  "
            ]
          },
          "execution_count": null,
          "metadata": {},
          "output_type": "execute_result"
        }
      ],
      "source": [
        "%%ngql\n",
        "MATCH (p:`entity`)-[e:relationship]->(m:`entity`)\n",
        "  WHERE p.`entity`.`name` == 'Peter Quill'\n",
        "RETURN p.`entity`.`name`, e.relationship, m.`entity`.`name`;"
      ]
    },
    {
      "cell_type": "markdown",
      "metadata": {
        "id": "E2TLZnfGJZNE"
      },
      "source": [
        "And change the query to be rendered"
      ]
    },
    {
      "cell_type": "code",
      "execution_count": null,
      "metadata": {
        "id": "kjaM7sHAJZNE",
        "outputId": "9c7b59f5-b9c4-433b-880b-c0f2a0366eec"
      },
      "outputs": [
        {
          "name": "stdout",
          "output_type": "stream",
          "text": [
            "INFO:nebula3.logger:Get connection to ('127.0.0.1', 9669)\n"
          ]
        },
        {
          "data": {
            "text/html": [
              "<div>\n",
              "<style scoped>\n",
              "    .dataframe tbody tr th:only-of-type {\n",
              "        vertical-align: middle;\n",
              "    }\n",
              "\n",
              "    .dataframe tbody tr th {\n",
              "        vertical-align: top;\n",
              "    }\n",
              "\n",
              "    .dataframe thead th {\n",
              "        text-align: right;\n",
              "    }\n",
              "</style>\n",
              "<table border=\"1\" class=\"dataframe\">\n",
              "  <thead>\n",
              "    <tr style=\"text-align: right;\">\n",
              "      <th></th>\n",
              "      <th>p</th>\n",
              "      <th>e</th>\n",
              "      <th>m</th>\n",
              "    </tr>\n",
              "  </thead>\n",
              "  <tbody>\n",
              "    <tr>\n",
              "      <th>0</th>\n",
              "      <td>(\"Peter Quill\" :entity{name: \"Peter Quill\"})</td>\n",
              "      <td>(\"Peter Quill\")-[:relationship@-84437522554765...</td>\n",
              "      <td>(\"May 2021\" :entity{name: \"May 2021\"})</td>\n",
              "    </tr>\n",
              "    <tr>\n",
              "      <th>1</th>\n",
              "      <td>(\"Peter Quill\" :entity{name: \"Peter Quill\"})</td>\n",
              "      <td>(\"Peter Quill\")-[:relationship@-11770408155938...</td>\n",
              "      <td>(\"as a child\" :entity{name: \"as a child\"})</td>\n",
              "    </tr>\n",
              "    <tr>\n",
              "      <th>2</th>\n",
              "      <td>(\"Peter Quill\" :entity{name: \"Peter Quill\"})</td>\n",
              "      <td>(\"Peter Quill\")-[:relationship@-79394488349732...</td>\n",
              "      <td>(\"Guardians of the Galaxy\" :entity{name: \"Guar...</td>\n",
              "    </tr>\n",
              "    <tr>\n",
              "      <th>3</th>\n",
              "      <td>(\"Peter Quill\" :entity{name: \"Peter Quill\"})</td>\n",
              "      <td>(\"Peter Quill\")-[:relationship@325695233021653...</td>\n",
              "      <td>(\"a group of alien thieves and smugglers\" :ent...</td>\n",
              "    </tr>\n",
              "    <tr>\n",
              "      <th>4</th>\n",
              "      <td>(\"Peter Quill\" :entity{name: \"Peter Quill\"})</td>\n",
              "      <td>(\"Peter Quill\")-[:relationship@555553046209276...</td>\n",
              "      <td>(\"half-Celestial\" :entity{name: \"half-Celestia...</td>\n",
              "    </tr>\n",
              "  </tbody>\n",
              "</table>\n",
              "</div>"
            ],
            "text/plain": [
              "                                              p  \\\n",
              "0  (\"Peter Quill\" :entity{name: \"Peter Quill\"})   \n",
              "1  (\"Peter Quill\" :entity{name: \"Peter Quill\"})   \n",
              "2  (\"Peter Quill\" :entity{name: \"Peter Quill\"})   \n",
              "3  (\"Peter Quill\" :entity{name: \"Peter Quill\"})   \n",
              "4  (\"Peter Quill\" :entity{name: \"Peter Quill\"})   \n",
              "\n",
              "                                                   e  \\\n",
              "0  (\"Peter Quill\")-[:relationship@-84437522554765...   \n",
              "1  (\"Peter Quill\")-[:relationship@-11770408155938...   \n",
              "2  (\"Peter Quill\")-[:relationship@-79394488349732...   \n",
              "3  (\"Peter Quill\")-[:relationship@325695233021653...   \n",
              "4  (\"Peter Quill\")-[:relationship@555553046209276...   \n",
              "\n",
              "                                                   m  \n",
              "0             (\"May 2021\" :entity{name: \"May 2021\"})  \n",
              "1         (\"as a child\" :entity{name: \"as a child\"})  \n",
              "2  (\"Guardians of the Galaxy\" :entity{name: \"Guar...  \n",
              "3  (\"a group of alien thieves and smugglers\" :ent...  \n",
              "4  (\"half-Celestial\" :entity{name: \"half-Celestia...  "
            ]
          },
          "execution_count": null,
          "metadata": {},
          "output_type": "execute_result"
        }
      ],
      "source": [
        "%%ngql\n",
        "MATCH (p:`entity`)-[e:relationship]->(m:`entity`)\n",
        "  WHERE p.`entity`.`name` == 'Peter Quill'\n",
        "RETURN p, e, m;"
      ]
    },
    {
      "cell_type": "code",
      "execution_count": null,
      "metadata": {
        "id": "1U7dsdhcJZNE",
        "outputId": "f06b0b40-bafe-4330-9fd0-8b1723dac243"
      },
      "outputs": [
        {
          "name": "stdout",
          "output_type": "stream",
          "text": [
            "nebulagraph_draw.html\n"
          ]
        },
        {
          "data": {
            "text/html": [
              "\n",
              "        <iframe\n",
              "            width=\"100%\"\n",
              "            height=\"500px\"\n",
              "            src=\"nebulagraph_draw.html\"\n",
              "            frameborder=\"0\"\n",
              "            allowfullscreen\n",
              "            \n",
              "        ></iframe>\n",
              "        "
            ],
            "text/plain": [
              "<IPython.lib.display.IFrame at 0x2ae69fdf0>"
            ]
          },
          "execution_count": null,
          "metadata": {},
          "output_type": "execute_result"
        }
      ],
      "source": [
        "%ng_draw"
      ]
    },
    {
      "cell_type": "markdown",
      "metadata": {
        "id": "rQAZXQ5jJZNE"
      },
      "source": [
        "The results of this knowledge-fetching query could not be more clear from the renderred graph then."
      ]
    }
  ],
  "metadata": {
    "colab": {
      "provenance": []
    },
    "kernelspec": {
      "display_name": "Minh-AI",
      "language": "python",
      "name": "python3"
    },
    "language_info": {
      "codemirror_mode": {
        "name": "ipython",
        "version": 3
      },
      "file_extension": ".py",
      "mimetype": "text/x-python",
      "name": "python",
      "nbconvert_exporter": "python",
      "pygments_lexer": "ipython3",
      "version": "3.12.4"
    }
  },
  "nbformat": 4,
  "nbformat_minor": 0
}
