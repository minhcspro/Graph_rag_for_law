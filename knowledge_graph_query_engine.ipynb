{
  "cells": [
    {
      "cell_type": "markdown",
      "metadata": {
        "id": "pxDxgcC8JZM3"
      },
      "source": [
        "<a href=\"https://colab.research.google.com/github/run-llama/llama_index/blob/main/docs/docs/examples/query_engine/knowledge_graph_query_engine.ipynb\" target=\"_parent\"><img src=\"https://colab.research.google.com/assets/colab-badge.svg\" alt=\"Open In Colab\"/></a>"
      ]
    },
    {
      "cell_type": "markdown",
      "metadata": {
        "id": "z4SPgLrVJZM7"
      },
      "source": [
        "# Knowledge Graph Query Engine\n",
        "\n",
        "Creating a Knowledge Graph usually involves specialized and complex tasks. However, by utilizing the Llama Index (LLM), the KnowledgeGraphIndex, and the GraphStore, we can facilitate the creation of a relatively effective Knowledge Graph from any data source supported by [Llama Hub](https://llamahub.ai/).\n",
        "\n",
        "Furthermore, querying a Knowledge Graph often requires domain-specific knowledge related to the storage system, such as Cypher. But, with the assistance of the LLM and the LlamaIndex KnowledgeGraphQueryEngine, this can be accomplished using Natural Language!\n",
        "\n",
        "In this demonstration, we will guide you through the steps to:\n",
        "\n",
        "- Extract and Set Up a Knowledge Graph using the Llama Index\n",
        "- Query a Knowledge Graph using Cypher\n",
        "- Query a Knowledge Graph using Natural Language"
      ]
    },
    {
      "cell_type": "markdown",
      "metadata": {
        "id": "Svb-NLGPJZM8"
      },
      "source": [
        "If you're opening this Notebook on colab, you will probably need to install LlamaIndex 🦙."
      ]
    },
    {
      "cell_type": "code",
      "execution_count": 14,
      "metadata": {
        "id": "JV1n0APJJZM8"
      },
      "outputs": [],
      "source": [
        "# %pip install llama-index-readers-wikipedia\n",
        "# %pip install llama-index-llms-azure-openai\n",
        "# %pip install llama-index-graph-stores-nebula\n",
        "# %pip install llama-index-llms-openai\n",
        "# %pip install llama-index-embeddings-azure-openai"
      ]
    },
    {
      "cell_type": "markdown",
      "metadata": {
        "id": "bvd-awGsJZM-"
      },
      "source": [
        "Let's first get ready for basic preparation of Llama Index."
      ]
    },
    {
      "cell_type": "markdown",
      "metadata": {
        "id": "u8rqThXKJZM-"
      },
      "source": [
        "### OpenAI"
      ]
    },
    {
      "cell_type": "code",
      "execution_count": 15,
      "metadata": {
        "id": "ksMf3L8bJZM_"
      },
      "outputs": [],
      "source": [
        "# For OpenAI\n",
        "\n",
        "import os\n",
        "\n",
        "os.environ[\"OPENAI_API_KEY\"] = \"sk-a0khYUHBaQOMhZkcr5pNgNEcl6i9-4cmpmjKxIShyLT3BlbkFJxt6vnTi02sQ7JSk_39KIv9j4JoRS8tCO3mZ-3V8cQA\"\n",
        "\n",
        "import logging\n",
        "import sys\n",
        "\n",
        "logging.basicConfig(\n",
        "    stream=sys.stdout, level=logging.INFO\n",
        ")  # logging.DEBUG for more verbose output\n",
        "\n",
        "\n",
        "# define LLM\n",
        "from llama_index.llms.openai import OpenAI\n",
        "from llama_index.core import Settings\n",
        "\n",
        "Settings.llm = OpenAI(temperature=0, model=\"gpt-4o-mini\")\n",
        "Settings.chunk_size = 512\n",
        "# Settings.chunk_overlap =32"
      ]
    },
    {
      "cell_type": "markdown",
      "metadata": {
        "id": "Iw5jDPUEJZM_"
      },
      "source": [
        "### Azure"
      ]
    },
    {
      "cell_type": "code",
      "execution_count": 16,
      "metadata": {
        "id": "JEZ-qQGhJZM_"
      },
      "outputs": [],
      "source": [
        "from llama_index.llms.openai import OpenAI\n",
        "from llama_index.embeddings.openai import OpenAIEmbedding\n",
        "\n",
        "# For OpenAI\n",
        "api_key = \"sk-a0khYUHBaQOMhZkcr5pNgNEcl6i9-4cmpmjKxIShyLT3BlbkFJxt6vnTi02sQ7JSk_39KIv9j4JoRS8tCO3mZ-3V8cQA\"\n",
        "\n",
        "llm = OpenAI(model=\"gpt-4o-mini\")\n",
        "\n",
        "# You need to deploy your own embedding model as well as your own chat completion model\n",
        "embed_model = OpenAIEmbedding(model=\"text-embedding-3-large\")\n"
      ]
    },
    {
      "cell_type": "code",
      "execution_count": 17,
      "metadata": {
        "id": "DO_MKvL8JZNA"
      },
      "outputs": [],
      "source": [
        "from llama_index.core import Settings\n",
        "\n",
        "Settings.llm = llm\n",
        "Settings.embed_model = embed_model\n",
        "# Settings.chunk_size = 512\n",
        "# Settings.chunk_overlap =32"
      ]
    },
    {
      "cell_type": "markdown",
      "metadata": {
        "id": "oOvUZ4qKJZNA"
      },
      "source": [
        "## Prepare for NebulaGraph\n",
        "\n",
        "Before next step to creating the Knowledge Graph, let's ensure we have a running NebulaGraph with defined data schema."
      ]
    },
    {
      "cell_type": "code",
      "execution_count": 18,
      "metadata": {
        "id": "f1bwbgjVJZNA",
        "outputId": "1b232fda-3a9b-474d-af28-057ec6ff9e71"
      },
      "outputs": [],
      "source": [
        "# Create a NebulaGraph (version 3.5.0 or newer) cluster with:\n",
        "# Option 0 for machines with Docker: `curl -fsSL nebula-up.siwei.io/install.sh | bash`\n",
        "# Option 1 for Desktop: NebulaGraph Docker Extension https://hub.docker.com/extensions/weygu/nebulagraph-dd-ext\n",
        "\n",
        "# If not, create it with the following commands from NebulaGraph's console:\n",
        "# CREATE SPACE llamaindex(vid_type=FIXED_STRING(256), partition_num=1, replica_factor=1);\n",
        "# :sleep 10;\n",
        "# USE llamaindex;\n",
        "# CREATE TAG entity(name string);\n",
        "# CREATE EDGE relationship(relationship string);\n",
        "# :sleep 10;\n",
        "# CREATE TAG INDEX entity_index ON entity(name(256));\n",
        "\n",
        "# %pip install ipython-ngql nebula3-python\n",
        "\n",
        "os.environ[\"NEBULA_USER\"] = \"root\"\n",
        "os.environ[\"NEBULA_PASSWORD\"] = \"nebula\"  # default is \"nebula\"\n",
        "os.environ[\n",
        "    \"NEBULA_ADDRESS\"\n",
        "] = \"127.0.0.1:9669\"  # assumed we have NebulaGraph installed locally\n",
        "\n",
        "space_name = \"tvpl_graph\"\n",
        "edge_types, rel_prop_names = [\"relationship\"], [\n",
        "    \"relationship\"\n",
        "]  # default, could be omit if create from an empty kg\n",
        "tags = [\"entity\"]  # default, could be omit if create from an empty kg"
      ]
    },
    {
      "cell_type": "markdown",
      "metadata": {
        "id": "0aIQbfLeJZNB"
      },
      "source": [
        "Prepare for StorageContext with graph_store as NebulaGraphStore"
      ]
    },
    {
      "cell_type": "code",
      "execution_count": 19,
      "metadata": {
        "id": "CTvYk76EJZNB"
      },
      "outputs": [],
      "source": [
        "from llama_index.core import StorageContext\n",
        "from llama_index.graph_stores.nebula import NebulaGraphStore\n",
        "graph_store = NebulaGraphStore(\n",
        "    space_name=space_name,\n",
        "    edge_types=edge_types,\n",
        "    rel_prop_names=rel_prop_names,\n",
        "    tags=tags,\n",
        ")\n",
        "storage_context = StorageContext.from_defaults(graph_store=graph_store)"
      ]
    },
    {
      "cell_type": "markdown",
      "metadata": {
        "id": "PmCedmfIJZNB"
      },
      "source": [
        "## (Optional)Build the Knowledge Graph with LlamaIndex\n",
        "\n",
        "With the help of Llama Index and LLM defined, we could build Knowledge Graph from given documents.\n",
        "\n",
        "If we have a Knowledge Graph on NebulaGraphStore already, this step could be skipped"
      ]
    },
    {
      "cell_type": "markdown",
      "metadata": {
        "id": "o4tO8LdWJZNB"
      },
      "source": [
        "### Step 1, load data from Wikipedia for \"Guardians of the Galaxy Vol. 3\""
      ]
    },
    {
      "cell_type": "code",
      "execution_count": 20,
      "metadata": {
        "id": "UzAgcC5EJZNC"
      },
      "outputs": [],
      "source": [
        "# from llama_index.core import download_loader\n",
        "\n",
        "# from llama_index.readers.wikipedia import WikipediaReader\n",
        "\n",
        "# loader = WikipediaReader()\n",
        "\n",
        "# documents = loader.load_data(\n",
        "#     pages=[\"Guardians of the Galaxy Vol. 3\"], auto_suggest=False\n",
        "# )"
      ]
    },
    {
      "cell_type": "code",
      "execution_count": 21,
      "metadata": {},
      "outputs": [],
      "source": [
        "from llama_index.core import SimpleDirectoryReader\n",
        "\n",
        "reader = SimpleDirectoryReader(input_dir= r\"C:\\Users\\My_Pc\\Desktop\\sample_test\")\n",
        "documents = reader.load_data(num_workers=4)"
      ]
    },
    {
      "cell_type": "code",
      "execution_count": 22,
      "metadata": {},
      "outputs": [
        {
          "name": "stdout",
          "output_type": "stream",
          "text": [
            "INFO:httpx:HTTP Request: POST https://api.openai.com/v1/chat/completions \"HTTP/1.1 200 OK\"\n",
            "INFO:httpx:HTTP Request: POST https://api.openai.com/v1/embeddings \"HTTP/1.1 200 OK\"\n",
            "INFO:httpx:HTTP Request: POST https://api.openai.com/v1/chat/completions \"HTTP/1.1 200 OK\"\n",
            "INFO:httpx:HTTP Request: POST https://api.openai.com/v1/embeddings \"HTTP/1.1 200 OK\"\n",
            "INFO:httpx:HTTP Request: POST https://api.openai.com/v1/chat/completions \"HTTP/1.1 200 OK\"\n",
            "INFO:httpx:HTTP Request: POST https://api.openai.com/v1/embeddings \"HTTP/1.1 200 OK\"\n",
            "INFO:httpx:HTTP Request: POST https://api.openai.com/v1/chat/completions \"HTTP/1.1 200 OK\"\n",
            "INFO:httpx:HTTP Request: POST https://api.openai.com/v1/embeddings \"HTTP/1.1 200 OK\"\n",
            "INFO:httpx:HTTP Request: POST https://api.openai.com/v1/chat/completions \"HTTP/1.1 200 OK\"\n",
            "INFO:httpx:HTTP Request: POST https://api.openai.com/v1/embeddings \"HTTP/1.1 200 OK\"\n",
            "INFO:httpx:HTTP Request: POST https://api.openai.com/v1/chat/completions \"HTTP/1.1 200 OK\"\n",
            "INFO:httpx:HTTP Request: POST https://api.openai.com/v1/embeddings \"HTTP/1.1 200 OK\"\n",
            "<llama_index.core.indices.knowledge_graph.base.KnowledgeGraphIndex object at 0x000001883C9D1C10>\n"
          ]
        }
      ],
      "source": [
        "from llama_index.core import KnowledgeGraphIndex\n",
        "\n",
        "# Tạo KnowledgeGraphIndex với các cạnh đã dịch và hai chiều\n",
        "kg_index = KnowledgeGraphIndex.from_documents(\n",
        "    documents=documents,\n",
        "    storage_context=storage_context,\n",
        "    max_triplets_per_chunk=10,\n",
        "    space_name=space_name,\n",
        "    edge_types=edge_types,  # Sử dụng cạnh hai chiều\n",
        "    rel_prop_names=rel_prop_names,  # Sử dụng quan hệ đã dịch\n",
        "    tags=tags,\n",
        "    include_embeddings=True,\n",
        ")\n",
        "\n",
        "# In kết quả đồ thị để kiểm tra\n",
        "print(kg_index)"
      ]
    },
    {
      "cell_type": "code",
      "execution_count": 70,
      "metadata": {},
      "outputs": [
        {
          "name": "stdout",
          "output_type": "stream",
          "text": [
            "INFO:httpx:HTTP Request: POST https://api.openai.com/v1/chat/completions \"HTTP/1.1 200 OK\"\n",
            "INFO:httpx:HTTP Request: POST https://api.openai.com/v1/embeddings \"HTTP/1.1 200 OK\"\n",
            "INFO:httpx:HTTP Request: POST https://api.openai.com/v1/chat/completions \"HTTP/1.1 200 OK\"\n"
          ]
        }
      ],
      "source": [
        "query_engine = kg_index.as_query_engine(\n",
        "    include_text=False, response_mode=\"tree_summarize\"\n",
        ")\n",
        "response1 = query_engine.query(\n",
        "    \"Người khuyết tật đặc biệt nặng\",\n",
        ")"
      ]
    },
    {
      "cell_type": "markdown",
      "metadata": {
        "id": "r5wybGhnJZNC"
      },
      "source": [
        "Now we have a Knowledge Graph on NebulaGraph cluster under space named `llamaindex` about the 'Guardians of the Galaxy Vol. 3' movie, let's play with it a little bit."
      ]
    },
    {
      "cell_type": "code",
      "execution_count": 71,
      "metadata": {},
      "outputs": [
        {
          "data": {
            "text/plain": [
              "{'cfe5b90b-63ef-439c-943c-a7d98de9e1f2': {'kg_rel_texts': [\"('Người khuyết tật đặc biệt nặng', 'Được kết luận', 'Không còn khả năng tự phục vụ')\",\n",
              "   \"('Người khuyết tật đặc biệt nặng', 'Suy giảm khả năng lao động', 'Từ 81% trở lên')\"],\n",
              "  'kg_rel_map': {},\n",
              "  'kg_schema': {'schema': \"Node properties: [{'tag': 'entity', 'properties': [('name', 'string')]}]\\nEdge properties: [{'edge': 'relationship', 'properties': [('relationship', 'string')]}]\\nRelationships: ['(:entity)-[:relationship]->(:entity)']\\n\"}}}"
            ]
          },
          "execution_count": 71,
          "metadata": {},
          "output_type": "execute_result"
        }
      ],
      "source": [
        "from IPython.display import Markdown, display\n",
        "\n",
        "response1.metadata"
      ]
    },
    {
      "cell_type": "code",
      "execution_count": 7,
      "metadata": {
        "id": "OGG9RyJEJZNC",
        "outputId": "8fff2802-46fc-4e23-fa42-4393fb65146b"
      },
      "outputs": [
        {
          "name": "stdout",
          "output_type": "stream",
          "text": [
            "Requirement already satisfied: ipython-ngql in c:\\users\\my_pc\\anaconda3\\envs\\minh-ai\\lib\\site-packages (0.14.3)\n",
            "Requirement already satisfied: networkx in c:\\users\\my_pc\\anaconda3\\envs\\minh-ai\\lib\\site-packages (3.3)\n",
            "Requirement already satisfied: pyvis in c:\\users\\my_pc\\anaconda3\\envs\\minh-ai\\lib\\site-packages (0.3.2)\n",
            "Requirement already satisfied: Jinja2 in c:\\users\\my_pc\\anaconda3\\envs\\minh-ai\\lib\\site-packages (from ipython-ngql) (3.1.4)\n",
            "Requirement already satisfied: nebula3-python>=3.8.0 in c:\\users\\my_pc\\anaconda3\\envs\\minh-ai\\lib\\site-packages (from ipython-ngql) (3.8.2)\n",
            "Requirement already satisfied: pandas in c:\\users\\my_pc\\anaconda3\\envs\\minh-ai\\lib\\site-packages (from ipython-ngql) (2.2.2)\n",
            "Requirement already satisfied: tqdm in c:\\users\\my_pc\\anaconda3\\envs\\minh-ai\\lib\\site-packages (from ipython-ngql) (4.66.4)\n",
            "Requirement already satisfied: requests in c:\\users\\my_pc\\anaconda3\\envs\\minh-ai\\lib\\site-packages (from ipython-ngql) (2.32.3)\n",
            "Requirement already satisfied: pydantic in c:\\users\\my_pc\\anaconda3\\envs\\minh-ai\\lib\\site-packages (from ipython-ngql) (2.8.2)\n",
            "Requirement already satisfied: scipy in c:\\users\\my_pc\\anaconda3\\envs\\minh-ai\\lib\\site-packages (from ipython-ngql) (1.14.0)\n",
            "Requirement already satisfied: ipywidgets in c:\\users\\my_pc\\anaconda3\\envs\\minh-ai\\lib\\site-packages (from ipython-ngql) (8.1.5)\n",
            "Requirement already satisfied: pyarrow in c:\\users\\my_pc\\anaconda3\\envs\\minh-ai\\lib\\site-packages (from ipython-ngql) (16.1.0)\n",
            "Requirement already satisfied: ipython>=5.3.0 in c:\\users\\my_pc\\anaconda3\\envs\\minh-ai\\lib\\site-packages (from pyvis) (8.26.0)\n",
            "Requirement already satisfied: jsonpickle>=1.4.1 in c:\\users\\my_pc\\anaconda3\\envs\\minh-ai\\lib\\site-packages (from pyvis) (3.3.0)\n",
            "Requirement already satisfied: decorator in c:\\users\\my_pc\\anaconda3\\envs\\minh-ai\\lib\\site-packages (from ipython>=5.3.0->pyvis) (5.1.1)\n",
            "Requirement already satisfied: jedi>=0.16 in c:\\users\\my_pc\\anaconda3\\envs\\minh-ai\\lib\\site-packages (from ipython>=5.3.0->pyvis) (0.19.1)\n",
            "Requirement already satisfied: matplotlib-inline in c:\\users\\my_pc\\anaconda3\\envs\\minh-ai\\lib\\site-packages (from ipython>=5.3.0->pyvis) (0.1.7)\n",
            "Requirement already satisfied: prompt-toolkit<3.1.0,>=3.0.41 in c:\\users\\my_pc\\anaconda3\\envs\\minh-ai\\lib\\site-packages (from ipython>=5.3.0->pyvis) (3.0.47)\n",
            "Requirement already satisfied: pygments>=2.4.0 in c:\\users\\my_pc\\anaconda3\\envs\\minh-ai\\lib\\site-packages (from ipython>=5.3.0->pyvis) (2.18.0)\n",
            "Requirement already satisfied: stack-data in c:\\users\\my_pc\\anaconda3\\envs\\minh-ai\\lib\\site-packages (from ipython>=5.3.0->pyvis) (0.6.2)\n",
            "Requirement already satisfied: traitlets>=5.13.0 in c:\\users\\my_pc\\anaconda3\\envs\\minh-ai\\lib\\site-packages (from ipython>=5.3.0->pyvis) (5.14.3)\n",
            "Requirement already satisfied: colorama in c:\\users\\my_pc\\anaconda3\\envs\\minh-ai\\lib\\site-packages (from ipython>=5.3.0->pyvis) (0.4.6)\n",
            "Requirement already satisfied: MarkupSafe>=2.0 in c:\\users\\my_pc\\anaconda3\\envs\\minh-ai\\lib\\site-packages (from Jinja2->ipython-ngql) (2.1.5)\n",
            "Requirement already satisfied: future>=0.18.0 in c:\\users\\my_pc\\anaconda3\\envs\\minh-ai\\lib\\site-packages (from nebula3-python>=3.8.0->ipython-ngql) (1.0.0)\n",
            "Requirement already satisfied: httplib2>=0.20.0 in c:\\users\\my_pc\\anaconda3\\envs\\minh-ai\\lib\\site-packages (from nebula3-python>=3.8.0->ipython-ngql) (0.22.0)\n",
            "Requirement already satisfied: pytz>=2021.1 in c:\\users\\my_pc\\anaconda3\\envs\\minh-ai\\lib\\site-packages (from nebula3-python>=3.8.0->ipython-ngql) (2024.1)\n",
            "Requirement already satisfied: six>=1.16.0 in c:\\users\\my_pc\\anaconda3\\envs\\minh-ai\\lib\\site-packages (from nebula3-python>=3.8.0->ipython-ngql) (1.16.0)\n",
            "Requirement already satisfied: httpx>=0.22.0 in c:\\users\\my_pc\\anaconda3\\envs\\minh-ai\\lib\\site-packages (from httpx[http2]>=0.22.0->nebula3-python>=3.8.0->ipython-ngql) (0.24.1)\n",
            "Requirement already satisfied: comm>=0.1.3 in c:\\users\\my_pc\\anaconda3\\envs\\minh-ai\\lib\\site-packages (from ipywidgets->ipython-ngql) (0.2.2)\n",
            "Requirement already satisfied: widgetsnbextension~=4.0.12 in c:\\users\\my_pc\\anaconda3\\envs\\minh-ai\\lib\\site-packages (from ipywidgets->ipython-ngql) (4.0.13)\n",
            "Requirement already satisfied: jupyterlab-widgets~=3.0.12 in c:\\users\\my_pc\\anaconda3\\envs\\minh-ai\\lib\\site-packages (from ipywidgets->ipython-ngql) (3.0.13)\n",
            "Requirement already satisfied: numpy>=1.26.0 in c:\\users\\my_pc\\anaconda3\\envs\\minh-ai\\lib\\site-packages (from pandas->ipython-ngql) (1.26.4)\n",
            "Requirement already satisfied: python-dateutil>=2.8.2 in c:\\users\\my_pc\\anaconda3\\envs\\minh-ai\\lib\\site-packages (from pandas->ipython-ngql) (2.9.0)\n",
            "Requirement already satisfied: tzdata>=2022.7 in c:\\users\\my_pc\\anaconda3\\envs\\minh-ai\\lib\\site-packages (from pandas->ipython-ngql) (2024.1)\n",
            "Requirement already satisfied: annotated-types>=0.4.0 in c:\\users\\my_pc\\anaconda3\\envs\\minh-ai\\lib\\site-packages (from pydantic->ipython-ngql) (0.7.0)\n",
            "Requirement already satisfied: pydantic-core==2.20.1 in c:\\users\\my_pc\\anaconda3\\envs\\minh-ai\\lib\\site-packages (from pydantic->ipython-ngql) (2.20.1)\n",
            "Requirement already satisfied: typing-extensions>=4.6.1 in c:\\users\\my_pc\\anaconda3\\envs\\minh-ai\\lib\\site-packages (from pydantic->ipython-ngql) (4.12.2)\n",
            "Requirement already satisfied: charset-normalizer<4,>=2 in c:\\users\\my_pc\\anaconda3\\envs\\minh-ai\\lib\\site-packages (from requests->ipython-ngql) (3.3.2)\n",
            "Requirement already satisfied: idna<4,>=2.5 in c:\\users\\my_pc\\anaconda3\\envs\\minh-ai\\lib\\site-packages (from requests->ipython-ngql) (2.10)\n",
            "Requirement already satisfied: urllib3<3,>=1.21.1 in c:\\users\\my_pc\\anaconda3\\envs\\minh-ai\\lib\\site-packages (from requests->ipython-ngql) (2.2.2)\n",
            "Requirement already satisfied: certifi>=2017.4.17 in c:\\users\\my_pc\\anaconda3\\envs\\minh-ai\\lib\\site-packages (from requests->ipython-ngql) (2024.7.4)\n",
            "Requirement already satisfied: pyparsing!=3.0.0,!=3.0.1,!=3.0.2,!=3.0.3,<4,>=2.4.2 in c:\\users\\my_pc\\anaconda3\\envs\\minh-ai\\lib\\site-packages (from httplib2>=0.20.0->nebula3-python>=3.8.0->ipython-ngql) (3.1.2)\n",
            "Requirement already satisfied: httpcore<0.18.0,>=0.15.0 in c:\\users\\my_pc\\anaconda3\\envs\\minh-ai\\lib\\site-packages (from httpx>=0.22.0->httpx[http2]>=0.22.0->nebula3-python>=3.8.0->ipython-ngql) (0.17.3)\n",
            "Requirement already satisfied: sniffio in c:\\users\\my_pc\\anaconda3\\envs\\minh-ai\\lib\\site-packages (from httpx>=0.22.0->httpx[http2]>=0.22.0->nebula3-python>=3.8.0->ipython-ngql) (1.3.1)\n",
            "Requirement already satisfied: h2<5,>=3 in c:\\users\\my_pc\\anaconda3\\envs\\minh-ai\\lib\\site-packages (from httpx[http2]>=0.22.0->nebula3-python>=3.8.0->ipython-ngql) (3.2.0)\n",
            "Requirement already satisfied: parso<0.9.0,>=0.8.3 in c:\\users\\my_pc\\anaconda3\\envs\\minh-ai\\lib\\site-packages (from jedi>=0.16->ipython>=5.3.0->pyvis) (0.8.4)\n",
            "Requirement already satisfied: wcwidth in c:\\users\\my_pc\\anaconda3\\envs\\minh-ai\\lib\\site-packages (from prompt-toolkit<3.1.0,>=3.0.41->ipython>=5.3.0->pyvis) (0.2.13)\n",
            "Requirement already satisfied: executing>=1.2.0 in c:\\users\\my_pc\\anaconda3\\envs\\minh-ai\\lib\\site-packages (from stack-data->ipython>=5.3.0->pyvis) (2.0.1)\n",
            "Requirement already satisfied: asttokens>=2.1.0 in c:\\users\\my_pc\\anaconda3\\envs\\minh-ai\\lib\\site-packages (from stack-data->ipython>=5.3.0->pyvis) (2.4.1)\n",
            "Requirement already satisfied: pure-eval in c:\\users\\my_pc\\anaconda3\\envs\\minh-ai\\lib\\site-packages (from stack-data->ipython>=5.3.0->pyvis) (0.2.2)\n",
            "Requirement already satisfied: hyperframe<6,>=5.2.0 in c:\\users\\my_pc\\anaconda3\\envs\\minh-ai\\lib\\site-packages (from h2<5,>=3->httpx[http2]>=0.22.0->nebula3-python>=3.8.0->ipython-ngql) (5.2.0)\n",
            "Requirement already satisfied: hpack<4,>=3.0 in c:\\users\\my_pc\\anaconda3\\envs\\minh-ai\\lib\\site-packages (from h2<5,>=3->httpx[http2]>=0.22.0->nebula3-python>=3.8.0->ipython-ngql) (3.0.0)\n",
            "Requirement already satisfied: h11<0.15,>=0.13 in c:\\users\\my_pc\\anaconda3\\envs\\minh-ai\\lib\\site-packages (from httpcore<0.18.0,>=0.15.0->httpx>=0.22.0->httpx[http2]>=0.22.0->nebula3-python>=3.8.0->ipython-ngql) (0.14.0)\n",
            "Requirement already satisfied: anyio<5.0,>=3.0 in c:\\users\\my_pc\\anaconda3\\envs\\minh-ai\\lib\\site-packages (from httpcore<0.18.0,>=0.15.0->httpx>=0.22.0->httpx[http2]>=0.22.0->nebula3-python>=3.8.0->ipython-ngql) (3.7.1)\n",
            "Note: you may need to restart the kernel to use updated packages.\n",
            "\u001b[1;3;38;2;0;135;107m[OK] Connection Pool Created\u001b[0m\n",
            "INFO:nebula3.logger:Get connection to ('127.0.0.1', 9669)\n"
          ]
        },
        {
          "data": {
            "text/html": [
              "<div>\n",
              "<style scoped>\n",
              "    .dataframe tbody tr th:only-of-type {\n",
              "        vertical-align: middle;\n",
              "    }\n",
              "\n",
              "    .dataframe tbody tr th {\n",
              "        vertical-align: top;\n",
              "    }\n",
              "\n",
              "    .dataframe thead th {\n",
              "        text-align: right;\n",
              "    }\n",
              "</style>\n",
              "<table border=\"1\" class=\"dataframe\">\n",
              "  <thead>\n",
              "    <tr style=\"text-align: right;\">\n",
              "      <th></th>\n",
              "      <th>Name</th>\n",
              "    </tr>\n",
              "  </thead>\n",
              "  <tbody>\n",
              "    <tr>\n",
              "      <th>0</th>\n",
              "      <td>quocminhdb</td>\n",
              "    </tr>\n",
              "    <tr>\n",
              "      <th>1</th>\n",
              "      <td>tvpl_ccpls</td>\n",
              "    </tr>\n",
              "    <tr>\n",
              "      <th>2</th>\n",
              "      <td>tvpl_graph</td>\n",
              "    </tr>\n",
              "    <tr>\n",
              "      <th>3</th>\n",
              "      <td>tvpl_graph_final</td>\n",
              "    </tr>\n",
              "  </tbody>\n",
              "</table>\n",
              "</div>"
            ],
            "text/plain": [
              "               Name\n",
              "0        quocminhdb\n",
              "1        tvpl_ccpls\n",
              "2        tvpl_graph\n",
              "3  tvpl_graph_final"
            ]
          },
          "execution_count": 7,
          "metadata": {},
          "output_type": "execute_result"
        }
      ],
      "source": [
        "# install related packages, password is nebula by default\n",
        "%pip install ipython-ngql networkx pyvis\n",
        "%load_ext ngql\n",
        "%ngql --address 127.0.0.1 --port 9669 --user root --password <nebula>"
      ]
    },
    {
      "cell_type": "code",
      "execution_count": 8,
      "metadata": {
        "id": "pGuNQxUWJZNC",
        "outputId": "bccbe84a-152b-4f0d-c20f-85bddb97d845"
      },
      "outputs": [
        {
          "name": "stdout",
          "output_type": "stream",
          "text": [
            "INFO:nebula3.logger:Get connection to ('127.0.0.1', 9669)\n",
            "INFO:nebula3.logger:Get connection to ('127.0.0.1', 9669)\n"
          ]
        },
        {
          "data": {
            "text/html": [
              "<div>\n",
              "<style scoped>\n",
              "    .dataframe tbody tr th:only-of-type {\n",
              "        vertical-align: middle;\n",
              "    }\n",
              "\n",
              "    .dataframe tbody tr th {\n",
              "        vertical-align: top;\n",
              "    }\n",
              "\n",
              "    .dataframe thead th {\n",
              "        text-align: right;\n",
              "    }\n",
              "</style>\n",
              "<table border=\"1\" class=\"dataframe\">\n",
              "  <thead>\n",
              "    <tr style=\"text-align: right;\">\n",
              "      <th></th>\n",
              "      <th>e</th>\n",
              "    </tr>\n",
              "  </thead>\n",
              "  <tbody>\n",
              "    <tr>\n",
              "      <th>0</th>\n",
              "      <td>(\"Bộ lao động - thương binh và xã hội\")-[:relationship@6674116680599171975{relationship: \"Hướng dẫn về kinh phí\"}]-&gt;(\"Quy định tại khoản 5 điều này\")</td>\n",
              "    </tr>\n",
              "    <tr>\n",
              "      <th>1</th>\n",
              "      <td>(\"Bộ tài chính\")-[:relationship@6674116680599171975{relationship: \"Hướng dẫn về kinh phí\"}]-&gt;(\"Quy định tại khoản 5 điều này\")</td>\n",
              "    </tr>\n",
              "    <tr>\n",
              "      <th>2</th>\n",
              "      <td>(\"Chính phủ\")-[:relationship@2430196491825356717{relationship: \"Quy định\"}]-&gt;(\"Mức trợ cấp xã hội hàng tháng\")</td>\n",
              "    </tr>\n",
              "    <tr>\n",
              "      <th>3</th>\n",
              "      <td>(\"Con bạn\")-[:relationship@8320799937296828072{relationship: \"Thuộc diện khuyết tật nặng\"}]-&gt;(\"Được hưởng bhyt theo quy định\")</td>\n",
              "    </tr>\n",
              "    <tr>\n",
              "      <th>4</th>\n",
              "      <td>(\"Cấp thẻ bảo hiểm y tế\")-[:relationship@2430196491825356717{relationship: \"Quy định\"}]-&gt;(\"Pháp luật về bảo hiểm y tế\")</td>\n",
              "    </tr>\n",
              "    <tr>\n",
              "      <th>5</th>\n",
              "      <td>(\"Gia đình có người khuyết tật đặc biệt nặng\")-[:relationship@1996260917724520936{relationship: \"Được hỗ trợ\"}]-&gt;(\"Kinh phí chăm sóc hàng tháng\")</td>\n",
              "    </tr>\n",
              "    <tr>\n",
              "      <th>6</th>\n",
              "      <td>(\"Giấy xác nhận khuyết tật\")-[:relationship@-7744571359366948951{relationship: \"Cấp\"}]-&gt;(\"Theo quy định của ngân sách nhà nước\")</td>\n",
              "    </tr>\n",
              "    <tr>\n",
              "      <th>7</th>\n",
              "      <td>(\"Hội đồng\")-[:relationship@508125737386925613{relationship: \"Thực hiện\"}]-&gt;(\"Quan sát trực tiếp người khuyết tật\")</td>\n",
              "    </tr>\n",
              "    <tr>\n",
              "      <th>8</th>\n",
              "      <td>(\"Hội đồng\")-[:relationship@508125737386925613{relationship: \"Thực hiện\"}]-&gt;(\"Sử dụng phương pháp khác theo quy định\")</td>\n",
              "    </tr>\n",
              "    <tr>\n",
              "      <th>9</th>\n",
              "      <td>(\"Hội đồng\")-[:relationship@2105189237134172629{relationship: \"Quan sát người khuyết tật\"}]-&gt;(\"Thông qua thực hiện hoạt động đơn giản phục vụ nhu cầu sinh hoạt cá nhân hàng ngày\")</td>\n",
              "    </tr>\n",
              "  </tbody>\n",
              "</table>\n",
              "</div>"
            ],
            "text/plain": [
              "                                                                                                                                                                                     e\n",
              "0                                (\"Bộ lao động - thương binh và xã hội\")-[:relationship@6674116680599171975{relationship: \"Hướng dẫn về kinh phí\"}]->(\"Quy định tại khoản 5 điều này\")\n",
              "1                                                       (\"Bộ tài chính\")-[:relationship@6674116680599171975{relationship: \"Hướng dẫn về kinh phí\"}]->(\"Quy định tại khoản 5 điều này\")\n",
              "2                                                                       (\"Chính phủ\")-[:relationship@2430196491825356717{relationship: \"Quy định\"}]->(\"Mức trợ cấp xã hội hàng tháng\")\n",
              "3                                                       (\"Con bạn\")-[:relationship@8320799937296828072{relationship: \"Thuộc diện khuyết tật nặng\"}]->(\"Được hưởng bhyt theo quy định\")\n",
              "4                                                              (\"Cấp thẻ bảo hiểm y tế\")-[:relationship@2430196491825356717{relationship: \"Quy định\"}]->(\"Pháp luật về bảo hiểm y tế\")\n",
              "5                                    (\"Gia đình có người khuyết tật đặc biệt nặng\")-[:relationship@1996260917724520936{relationship: \"Được hỗ trợ\"}]->(\"Kinh phí chăm sóc hàng tháng\")\n",
              "6                                                     (\"Giấy xác nhận khuyết tật\")-[:relationship@-7744571359366948951{relationship: \"Cấp\"}]->(\"Theo quy định của ngân sách nhà nước\")\n",
              "7                                                                  (\"Hội đồng\")-[:relationship@508125737386925613{relationship: \"Thực hiện\"}]->(\"Quan sát trực tiếp người khuyết tật\")\n",
              "8                                                               (\"Hội đồng\")-[:relationship@508125737386925613{relationship: \"Thực hiện\"}]->(\"Sử dụng phương pháp khác theo quy định\")\n",
              "9  (\"Hội đồng\")-[:relationship@2105189237134172629{relationship: \"Quan sát người khuyết tật\"}]->(\"Thông qua thực hiện hoạt động đơn giản phục vụ nhu cầu sinh hoạt cá nhân hàng ngày\")"
            ]
          },
          "execution_count": 8,
          "metadata": {},
          "output_type": "execute_result"
        }
      ],
      "source": [
        "# Query some random Relationships with Cypher\n",
        "%ngql USE tvpl_graph;\n",
        "%ngql MATCH ()-[e]->() RETURN e LIMIT 10"
      ]
    },
    {
      "cell_type": "markdown",
      "metadata": {
        "id": "onW8ng8CJZND"
      },
      "source": [
        "## Asking the Knowledge Graph\n",
        "\n",
        "Finally, let's demo how to Query Knowledge Graph with Natural language!\n",
        "\n",
        "Here, we will leverage the `KnowledgeGraphQueryEngine`, with `NebulaGraphStore` as the `storage_context.graph_store`."
      ]
    },
    {
      "cell_type": "code",
      "execution_count": 9,
      "metadata": {},
      "outputs": [
        {
          "ename": "NameError",
          "evalue": "name 'KnowledgeGraphIndex' is not defined",
          "output_type": "error",
          "traceback": [
            "\u001b[1;31m---------------------------------------------------------------------------\u001b[0m",
            "\u001b[1;31mNameError\u001b[0m                                 Traceback (most recent call last)",
            "Cell \u001b[1;32mIn[9], line 11\u001b[0m\n\u001b[0;32m      8\u001b[0m storage_context \u001b[38;5;241m=\u001b[39m StorageContext\u001b[38;5;241m.\u001b[39mfrom_defaults(graph_store\u001b[38;5;241m=\u001b[39mgraph_store)\n\u001b[0;32m     10\u001b[0m \u001b[38;5;66;03m# NOTE: can take a while!\u001b[39;00m\n\u001b[1;32m---> 11\u001b[0m index \u001b[38;5;241m=\u001b[39m \u001b[43mKnowledgeGraphIndex\u001b[49m\u001b[38;5;241m.\u001b[39mfrom_documents(\n\u001b[0;32m     12\u001b[0m     documents,\n\u001b[0;32m     13\u001b[0m     storage_context\u001b[38;5;241m=\u001b[39mstorage_context,\n\u001b[0;32m     14\u001b[0m     max_triplets_per_chunk\u001b[38;5;241m=\u001b[39m\u001b[38;5;241m10\u001b[39m,\n\u001b[0;32m     15\u001b[0m     space_name\u001b[38;5;241m=\u001b[39mspace_name,\n\u001b[0;32m     16\u001b[0m     edge_types\u001b[38;5;241m=\u001b[39medge_types,\n\u001b[0;32m     17\u001b[0m     rel_prop_names\u001b[38;5;241m=\u001b[39mrel_prop_names,\n\u001b[0;32m     18\u001b[0m     tags\u001b[38;5;241m=\u001b[39mtags,\n\u001b[0;32m     19\u001b[0m )\n",
            "\u001b[1;31mNameError\u001b[0m: name 'KnowledgeGraphIndex' is not defined"
          ]
        }
      ],
      "source": [
        "graph_store = NebulaGraphStore(\n",
        "    space_name=space_name,\n",
        "    edge_types=edge_types,\n",
        "    rel_prop_names=rel_prop_names,\n",
        "    tags=tags,\n",
        ")\n",
        "\n",
        "storage_context = StorageContext.from_defaults(graph_store=graph_store)\n",
        "\n",
        "# NOTE: can take a while!\n",
        "index = KnowledgeGraphIndex.from_documents(\n",
        "    documents,\n",
        "    storage_context=storage_context,\n",
        "    max_triplets_per_chunk=10,\n",
        "    space_name=space_name,\n",
        "    edge_types=edge_types,\n",
        "    rel_prop_names=rel_prop_names,\n",
        "    tags=tags,\n",
        ")"
      ]
    },
    {
      "cell_type": "code",
      "execution_count": 155,
      "metadata": {},
      "outputs": [
        {
          "name": "stdout",
          "output_type": "stream",
          "text": [
            "INFO:httpx:HTTP Request: POST https://api.openai.com/v1/chat/completions \"HTTP/1.1 200 OK\"\n",
            "WARNING:llama_index.core.indices.knowledge_graph.retrievers:Index was not constructed with embeddings, skipping embedding usage...\n",
            "INFO:llama_index.core.indices.knowledge_graph.retrievers:> No relationships found, returning nodes found by keywords.\n",
            "INFO:llama_index.core.indices.knowledge_graph.retrievers:> No nodes found by keywords, returning empty response.\n",
            "INFO:httpx:HTTP Request: POST https://api.openai.com/v1/chat/completions \"HTTP/1.1 200 OK\"\n"
          ]
        }
      ],
      "source": [
        "query_engine = index.as_query_engine()\n",
        "\n",
        "response = query_engine.query(\"Mức lương hưu hằng tháng được tính như thế nào\")"
      ]
    },
    {
      "cell_type": "code",
      "execution_count": 50,
      "metadata": {},
      "outputs": [
        {
          "name": "stdout",
          "output_type": "stream",
          "text": [
            "INFO:httpx:HTTP Request: POST https://api.openai.com/v1/chat/completions \"HTTP/1.1 200 OK\"\n",
            "INFO:httpx:HTTP Request: POST https://api.openai.com/v1/embeddings \"HTTP/1.1 200 OK\"\n",
            "INFO:httpx:HTTP Request: POST https://api.openai.com/v1/chat/completions \"HTTP/1.1 200 OK\"\n",
            "INFO:httpx:HTTP Request: POST https://api.openai.com/v1/embeddings \"HTTP/1.1 200 OK\"\n",
            "INFO:httpx:HTTP Request: POST https://api.openai.com/v1/chat/completions \"HTTP/1.1 200 OK\"\n",
            "INFO:httpx:HTTP Request: POST https://api.openai.com/v1/embeddings \"HTTP/1.1 200 OK\"\n",
            "INFO:httpx:HTTP Request: POST https://api.openai.com/v1/chat/completions \"HTTP/1.1 200 OK\"\n",
            "INFO:httpx:HTTP Request: POST https://api.openai.com/v1/embeddings \"HTTP/1.1 200 OK\"\n",
            "INFO:httpx:HTTP Request: POST https://api.openai.com/v1/chat/completions \"HTTP/1.1 200 OK\"\n",
            "INFO:httpx:HTTP Request: POST https://api.openai.com/v1/embeddings \"HTTP/1.1 200 OK\"\n",
            "INFO:httpx:HTTP Request: POST https://api.openai.com/v1/chat/completions \"HTTP/1.1 200 OK\"\n",
            "INFO:httpx:HTTP Request: POST https://api.openai.com/v1/embeddings \"HTTP/1.1 200 OK\"\n"
          ]
        },
        {
          "ename": "NameError",
          "evalue": "name 'index' is not defined",
          "output_type": "error",
          "traceback": [
            "\u001b[1;31m---------------------------------------------------------------------------\u001b[0m",
            "\u001b[1;31mNameError\u001b[0m                                 Traceback (most recent call last)",
            "Cell \u001b[1;32mIn[50], line 9\u001b[0m\n\u001b[0;32m      2\u001b[0m new_index \u001b[38;5;241m=\u001b[39m KnowledgeGraphIndex\u001b[38;5;241m.\u001b[39mfrom_documents(\n\u001b[0;32m      3\u001b[0m     documents,\n\u001b[0;32m      4\u001b[0m     max_triplets_per_chunk\u001b[38;5;241m=\u001b[39m\u001b[38;5;241m10\u001b[39m,\n\u001b[0;32m      5\u001b[0m     include_embeddings\u001b[38;5;241m=\u001b[39m\u001b[38;5;28;01mTrue\u001b[39;00m,\n\u001b[0;32m      6\u001b[0m )\n\u001b[0;32m      8\u001b[0m \u001b[38;5;66;03m# query using top 3 triplets plus keywords (duplicate triplets are removed)\u001b[39;00m\n\u001b[1;32m----> 9\u001b[0m query_engine \u001b[38;5;241m=\u001b[39m \u001b[43mindex\u001b[49m\u001b[38;5;241m.\u001b[39mas_query_engine(\n\u001b[0;32m     10\u001b[0m     include_text\u001b[38;5;241m=\u001b[39m\u001b[38;5;28;01mTrue\u001b[39;00m,\n\u001b[0;32m     11\u001b[0m     response_mode\u001b[38;5;241m=\u001b[39m\u001b[38;5;124m\"\u001b[39m\u001b[38;5;124mtree_summarize\u001b[39m\u001b[38;5;124m\"\u001b[39m,\n\u001b[0;32m     12\u001b[0m     embedding_mode\u001b[38;5;241m=\u001b[39m\u001b[38;5;124m\"\u001b[39m\u001b[38;5;124mhybrid\u001b[39m\u001b[38;5;124m\"\u001b[39m,\n\u001b[0;32m     13\u001b[0m     similarity_top_k\u001b[38;5;241m=\u001b[39m\u001b[38;5;241m5\u001b[39m,\n\u001b[0;32m     14\u001b[0m )\n\u001b[0;32m     15\u001b[0m response \u001b[38;5;241m=\u001b[39m query_engine\u001b[38;5;241m.\u001b[39mquery(\n\u001b[0;32m     16\u001b[0m     \u001b[38;5;124m\"\u001b[39m\u001b[38;5;124mhãy cho tôi biết về cách xác định mức độ khuyết tật\u001b[39m\u001b[38;5;124m\"\u001b[39m,\n\u001b[0;32m     17\u001b[0m )\n",
            "\u001b[1;31mNameError\u001b[0m: name 'index' is not defined"
          ]
        }
      ],
      "source": [
        "# NOTE: can take a while!\n",
        "new_index = KnowledgeGraphIndex.from_documents(\n",
        "    documents,\n",
        "    max_triplets_per_chunk=10,\n",
        "    include_embeddings=True,\n",
        ")\n",
        "\n"
      ]
    },
    {
      "cell_type": "code",
      "execution_count": 77,
      "metadata": {},
      "outputs": [
        {
          "name": "stdout",
          "output_type": "stream",
          "text": [
            "INFO:httpx:HTTP Request: POST https://api.openai.com/v1/chat/completions \"HTTP/1.1 200 OK\"\n",
            "INFO:httpx:HTTP Request: POST https://api.openai.com/v1/embeddings \"HTTP/1.1 200 OK\"\n",
            "INFO:llama_index.core.indices.knowledge_graph.retrievers:> Querying with idx: 699e537b-7c44-428f-9fa8-06e6369da132: - Hội đồng giám định y khoa xác định, kết luận về dạng tật và mức độ khuyết t...\n",
            "INFO:llama_index.core.indices.knowledge_graph.retrievers:> Querying with idx: d374e6f3-1c6e-426a-a53d-f5b5ec39bd5c: Có phải người khuyết tật nào cũng được hưởng trợ cấp xã hội hàng tháng?\n",
            "Căn ...\n",
            "INFO:llama_index.core.indices.knowledge_graph.retrievers:> Querying with idx: 70fe1e33-68da-484a-81c7-a4be3d9c9ddb: Người khuyết tật có được cấp thẻ bảo hiểm y tế miễn phí?\n",
            "Căn cứ Điều 9 Nghị ...\n",
            "INFO:llama_index.core.indices.knowledge_graph.retrievers:> Querying with idx: 94f6b128-4630-4d1b-98b0-e6b3c0433d64: - Trường hợp văn bản của Hội đồng giám định y khoa trước ngày Nghị định này c...\n",
            "INFO:httpx:HTTP Request: POST https://api.openai.com/v1/chat/completions \"HTTP/1.1 200 OK\"\n"
          ]
        }
      ],
      "source": [
        "# query using top 3 triplets plus keywords (duplicate triplets are removed)\n",
        "query_engine = new_index.as_query_engine(\n",
        "    include_text=True,\n",
        "    response_mode=\"tree_summarize\",\n",
        "    embedding_mode=\"hybrid\",\n",
        "    similarity_top_k=5,\n",
        ")\n",
        "response = query_engine.query(\n",
        "    \"Người khuyết tật đặc biệt nặng\",\n",
        ")"
      ]
    },
    {
      "cell_type": "code",
      "execution_count": 78,
      "metadata": {},
      "outputs": [
        {
          "data": {
            "text/plain": [
              "Response(response='Người khuyết tật đặc biệt nặng là những người được Hội đồng giám định y khoa kết luận không còn khả năng tự phục vụ hoặc có mức suy giảm khả năng lao động từ 81% trở lên. Họ được hưởng trợ cấp xã hội hàng tháng và có quyền được cấp thẻ bảo hiểm y tế miễn phí.', source_nodes=[NodeWithScore(node=TextNode(id_='699e537b-7c44-428f-9fa8-06e6369da132', embedding=None, metadata={'file_path': 'C:\\\\Users\\\\My_Pc\\\\Desktop\\\\sample_test\\\\THPL_MHLH_PhapLuat_8084_3.txt', 'file_name': 'THPL_MHLH_PhapLuat_8084_3.txt', 'file_type': 'text/plain', 'file_size': 3211, 'creation_date': '2024-10-30', 'last_modified_date': '2024-10-30'}, excluded_embed_metadata_keys=['file_name', 'file_type', 'file_size', 'creation_date', 'last_modified_date', 'last_accessed_date'], excluded_llm_metadata_keys=['file_name', 'file_type', 'file_size', 'creation_date', 'last_modified_date', 'last_accessed_date'], relationships={<NodeRelationship.SOURCE: '1'>: RelatedNodeInfo(node_id='7cb14352-b022-4d04-b1f1-9db8899e8afc', node_type=<ObjectType.DOCUMENT: '4'>, metadata={'file_path': 'C:\\\\Users\\\\My_Pc\\\\Desktop\\\\sample_test\\\\THPL_MHLH_PhapLuat_8084_3.txt', 'file_name': 'THPL_MHLH_PhapLuat_8084_3.txt', 'file_type': 'text/plain', 'file_size': 3211, 'creation_date': '2024-10-30', 'last_modified_date': '2024-10-30'}, hash='34745d6ce9743c1a67d354ecb00c2d434e1848d4d0320d1ac2abbec41c351177'), <NodeRelationship.PREVIOUS: '2'>: RelatedNodeInfo(node_id='c48e8684-2951-4622-a645-dff04bebbbf1', node_type=<ObjectType.TEXT: '1'>, metadata={'file_path': 'C:\\\\Users\\\\My_Pc\\\\Desktop\\\\sample_test\\\\THPL_MHLH_PhapLuat_8084_3.txt', 'file_name': 'THPL_MHLH_PhapLuat_8084_3.txt', 'file_type': 'text/plain', 'file_size': 3211, 'creation_date': '2024-10-30', 'last_modified_date': '2024-10-30'}, hash='c76b3d709873e3812a8bc1812679cd05f45cb5e0cc7f0fb8c56bd6c161067912'), <NodeRelationship.NEXT: '3'>: RelatedNodeInfo(node_id='94f6b128-4630-4d1b-98b0-e6b3c0433d64', node_type=<ObjectType.TEXT: '1'>, metadata={}, hash='6137be0123cd13ec4d3461c83c97f3a6a71490ec9dfea17963e96513e1b4c395')}, text='- Hội đồng giám định y khoa xác định, kết luận về dạng tật và mức độ khuyết tật đối với trường hợp quy định tại Khoản 2 Điều 15 Luật người khuyết tật.\\r\\n- Người khuyết tật đã có kết luận của Hội đồng giám định y khoa về khả năng tự phục vụ, mức độ suy giảm khả năng lao động trước ngày Nghị định này có hiệu lực thì Hội đồng xác định mức độ khuyết tật căn cứ kết luận của Hội đồng giám định y khoa để xác định mức độ khuyết tật như sau:\\r\\n+ Người khuyết tật đặc biệt nặng khi được Hội đồng giám định y khoa kết luận không còn khả năng tự phục vụ hoặc suy giảm khả năng lao động từ 81% trở lên;\\r\\n+ Người khuyết tật nặng khi được Hội đồng giám định y khoa kết luận có khả năng tự phục vụ sinh hoạt nếu có người, phương tiện trợ giúp một phần hoặc suy giảm khả năng lao động từ 61% đến 80%;\\r\\n+ Người khuyết tật nhẹ khi được Hội đồng giám định y khoa kết luận có khả năng tự phục vụ sinh hoạt hoặc suy giảm khả năng lao động dưới 61%.', mimetype='text/plain', start_char_idx=584, end_char_idx=1512, text_template='{metadata_str}\\n\\n{content}', metadata_template='{key}: {value}', metadata_seperator='\\n'), score=1000.0), NodeWithScore(node=TextNode(id_='d374e6f3-1c6e-426a-a53d-f5b5ec39bd5c', embedding=None, metadata={'file_path': 'C:\\\\Users\\\\My_Pc\\\\Desktop\\\\sample_test\\\\THPL_MHLH_PhapLuat_8084_1.txt', 'file_name': 'THPL_MHLH_PhapLuat_8084_1.txt', 'file_type': 'text/plain', 'file_size': 1461, 'creation_date': '2024-10-30', 'last_modified_date': '2024-10-30'}, excluded_embed_metadata_keys=['file_name', 'file_type', 'file_size', 'creation_date', 'last_modified_date', 'last_accessed_date'], excluded_llm_metadata_keys=['file_name', 'file_type', 'file_size', 'creation_date', 'last_modified_date', 'last_accessed_date'], relationships={<NodeRelationship.SOURCE: '1'>: RelatedNodeInfo(node_id='1f81bfad-45bc-4e30-83ca-5bfdf22d333f', node_type=<ObjectType.DOCUMENT: '4'>, metadata={'file_path': 'C:\\\\Users\\\\My_Pc\\\\Desktop\\\\sample_test\\\\THPL_MHLH_PhapLuat_8084_1.txt', 'file_name': 'THPL_MHLH_PhapLuat_8084_1.txt', 'file_type': 'text/plain', 'file_size': 1461, 'creation_date': '2024-10-30', 'last_modified_date': '2024-10-30'}, hash='46e4fa438ac64ec7052c622be04887741f954461673320a95c558e9061bad2e9'), <NodeRelationship.NEXT: '3'>: RelatedNodeInfo(node_id='0ff8165a-7c57-44ef-b38f-71d2cad7fed1', node_type=<ObjectType.TEXT: '1'>, metadata={}, hash='b53209ac75d0653f44061e3b159ab6046016d5796c34a69e3e1a6bfba17b0ffd')}, text='Có phải người khuyết tật nào cũng được hưởng trợ cấp xã hội hàng tháng?\\r\\nCăn cứ Điều 44 Luật Người khuyết tật 2010 quy định về đối tượng được hưởng trợ cấp xã hội như sau:\\r\\n- Đối tượng hưởng trợ cấp xã hội hàng tháng bao gồm:\\r\\n+ Người khuyết tật đặc biệt nặng, trừ trường hợp quy định tại Điều 45 của Luật này;\\r\\n+ Người khuyết tật nặng.\\r\\n- Đối tượng được hỗ trợ kinh phí chăm sóc hàng tháng bao gồm:\\r\\n+ Gia đình có người khuyết tật đặc biệt nặng đang trực tiếp nuôi dưỡng, chăm sóc người đó;\\r\\n+ Người nhận nuôi dưỡng, chăm sóc người khuyết tật đặc biệt nặng;\\r\\n+ Người khuyết tật quy định tại khoản 1 Điều này đang mang thai hoặc nuôi con dưới 36 tháng tuổi.\\r\\n- Người khuyết tật quy định tại khoản 1 Điều này là trẻ em, người cao tuổi được hưởng mức trợ cấp cao hơn đối tượng khác cùng mức độ khuyết tật.\\r\\n- Mức trợ cấp xã hội hàng tháng, mức hỗ trợ kinh phí chăm sóc hàng tháng đối với từng loại đối tượng theo quy định tại Điều này do Chính phủ quy định.', mimetype='text/plain', start_char_idx=0, end_char_idx=955, text_template='{metadata_str}\\n\\n{content}', metadata_template='{key}: {value}', metadata_seperator='\\n'), score=1000.0), NodeWithScore(node=TextNode(id_='70fe1e33-68da-484a-81c7-a4be3d9c9ddb', embedding=None, metadata={'file_path': 'C:\\\\Users\\\\My_Pc\\\\Desktop\\\\sample_test\\\\THPL_MHLH_PhapLuat_8084_2.txt', 'file_name': 'THPL_MHLH_PhapLuat_8084_2.txt', 'file_type': 'text/plain', 'file_size': 951, 'creation_date': '2024-10-30', 'last_modified_date': '2024-10-30'}, excluded_embed_metadata_keys=['file_name', 'file_type', 'file_size', 'creation_date', 'last_modified_date', 'last_accessed_date'], excluded_llm_metadata_keys=['file_name', 'file_type', 'file_size', 'creation_date', 'last_modified_date', 'last_accessed_date'], relationships={<NodeRelationship.SOURCE: '1'>: RelatedNodeInfo(node_id='fbcad50b-a8d0-454f-953b-22c6c4748530', node_type=<ObjectType.DOCUMENT: '4'>, metadata={'file_path': 'C:\\\\Users\\\\My_Pc\\\\Desktop\\\\sample_test\\\\THPL_MHLH_PhapLuat_8084_2.txt', 'file_name': 'THPL_MHLH_PhapLuat_8084_2.txt', 'file_type': 'text/plain', 'file_size': 951, 'creation_date': '2024-10-30', 'last_modified_date': '2024-10-30'}, hash='dcd71cfed2eae2da04b149b40bf9d7dde22057f3bd1a20c68367743d39256813')}, text='Người khuyết tật có được cấp thẻ bảo hiểm y tế miễn phí?\\r\\nCăn cứ Điều 9 Nghị định số 20/2021/NĐ-CP quy định về cấp thẻ bảo hiểm y tế cho người khuyết tật như sau:\\r\\n- Đối tượng bảo trợ xã hội đang hưởng trợ cấp xã hội hàng tháng được cấp thẻ bảo hiểm y tế theo quy định của pháp luật về bảo hiểm y tế.\\r\\n- Trường hợp đối tượng quy định tại khoản 1 Điều này thuộc diện được cấp nhiều loại thẻ bảo hiểm y tế thì chỉ được cấp một thẻ bảo hiểm y tế có quyền lợi bảo hiểm y tế cao nhất.\\r\\nNhư vậy, cá đối tưởng nêu trên được hưởng bảo trợ xã hội mới được cấp thẻ bảo hiểm y tế bạn nhé. Cho nên trong trường hợp của con bạn là dạng khuyết tật nặng cho nên sẽ được hưởng bảo hiểm y tế.', mimetype='text/plain', start_char_idx=0, end_char_idx=675, text_template='{metadata_str}\\n\\n{content}', metadata_template='{key}: {value}', metadata_seperator='\\n'), score=1000.0), NodeWithScore(node=TextNode(id_='94f6b128-4630-4d1b-98b0-e6b3c0433d64', embedding=None, metadata={'file_path': 'C:\\\\Users\\\\My_Pc\\\\Desktop\\\\sample_test\\\\THPL_MHLH_PhapLuat_8084_3.txt', 'file_name': 'THPL_MHLH_PhapLuat_8084_3.txt', 'file_type': 'text/plain', 'file_size': 3211, 'creation_date': '2024-10-30', 'last_modified_date': '2024-10-30'}, excluded_embed_metadata_keys=['file_name', 'file_type', 'file_size', 'creation_date', 'last_modified_date', 'last_accessed_date'], excluded_llm_metadata_keys=['file_name', 'file_type', 'file_size', 'creation_date', 'last_modified_date', 'last_accessed_date'], relationships={<NodeRelationship.SOURCE: '1'>: RelatedNodeInfo(node_id='7cb14352-b022-4d04-b1f1-9db8899e8afc', node_type=<ObjectType.DOCUMENT: '4'>, metadata={'file_path': 'C:\\\\Users\\\\My_Pc\\\\Desktop\\\\sample_test\\\\THPL_MHLH_PhapLuat_8084_3.txt', 'file_name': 'THPL_MHLH_PhapLuat_8084_3.txt', 'file_type': 'text/plain', 'file_size': 3211, 'creation_date': '2024-10-30', 'last_modified_date': '2024-10-30'}, hash='34745d6ce9743c1a67d354ecb00c2d434e1848d4d0320d1ac2abbec41c351177'), <NodeRelationship.PREVIOUS: '2'>: RelatedNodeInfo(node_id='699e537b-7c44-428f-9fa8-06e6369da132', node_type=<ObjectType.TEXT: '1'>, metadata={'file_path': 'C:\\\\Users\\\\My_Pc\\\\Desktop\\\\sample_test\\\\THPL_MHLH_PhapLuat_8084_3.txt', 'file_name': 'THPL_MHLH_PhapLuat_8084_3.txt', 'file_type': 'text/plain', 'file_size': 3211, 'creation_date': '2024-10-30', 'last_modified_date': '2024-10-30'}, hash='d45c37fb78d59a8412d1deb1e1cb881e83c2556e380849748fee5508fab165e4')}, text='- Trường hợp văn bản của Hội đồng giám định y khoa trước ngày Nghị định này có hiệu lực kết luận chưa rõ về khả năng tự phục vụ, mức độ suy giảm khả năng lao động thì Hội đồng xác định mức độ khuyết tật thực hiện việc xác định mức độ khuyết tật cho người khuyết tật theo quy định tại Khoản 1 Điều này.\\r\\n- Ngân sách nhà nước bảo đảm kinh phí thực hiện việc xác định mức độ khuyết tật và cấp Giấy xác nhận khuyết tật theo phân cấp quản lý ngân sách nhà nước.\\r\\n- Bộ Tài chính, Bộ Lao động - Thương binh và Xã hội hướng dẫn về kinh phí quy định tại khoản 5 Điều này.\\r\\nCho nên, theo quy định trên bạn yên tâm rằng con bạn đang thuộc diện khuyết tật nặng và được hưởng BHYT theo quy định trên.\\r\\nTải về mẫu Giấy giới thiệu đề nghị giám định mới nhất 2023: [Tại Đây](https://cdn.thuvienphapluat.vn/phap-luat/2022-2/MH/Giay-gioi-thieu-de-nghi-giam-dinh.doc)', mimetype='text/plain', start_char_idx=1514, end_char_idx=2362, text_template='{metadata_str}\\n\\n{content}', metadata_template='{key}: {value}', metadata_seperator='\\n'), score=1000.0), NodeWithScore(node=TextNode(id_='34e8de39-eebf-492f-b5ed-eaf449fbf2d1', embedding=None, metadata={'kg_rel_texts': [\"['Hội đồng giám định y khoa', 'Xác định mức độ khuyết tật', 'Theo quy định tại khoản 2 điều 15 luật người khuyết tật']\", \"['Người khuyết tật', 'Đang mang thai hoặc nuôi con dưới 36 tháng tuổi', 'Được hưởng trợ cấp xã hội']\", \"('Người khuyết tật nặng', 'Được kết luận', 'Có khả năng tự phục vụ sinh hoạt nếu có trợ giúp')\", \"('Người khuyết tật đặc biệt nặng', 'Được kết luận', 'Không còn khả năng tự phục vụ')\", \"('Người khuyết tật đặc biệt nặng', 'Suy giảm khả năng lao động', 'Từ 81% trở lên')\", \"['Trẻ em và người cao tuổi', 'Được hưởng', 'Mức trợ cấp cao hơn đối tượng khác']\", \"['Hội đồng giám định y khoa', 'Xác định mức độ khuyết tật', 'Căn cứ kết luận']\", \"['Hội đồng giám định y khoa', 'Xác định', 'Dạng tật và mức độ khuyết tật']\", \"('Người khuyết tật nặng', 'Suy giảm khả năng lao động', 'Từ 61% đến 80%')\", \"['Người khuyết tật', 'Có quyền', 'Cấp thẻ bảo hiểm y tế miễn phí']\", \"['Trợ cấp xã hội hàng tháng', 'Áp dụng cho', 'Người khuyết tật']\", \"['Người khuyết tật', 'Có kết luận', 'Hội đồng giám định y khoa']\", \"['Người khuyết tật', 'Được hưởng', 'Trợ cấp xã hội hàng tháng']\", \"['Hội đồng giám định y khoa', 'Xác định', 'Mức độ khuyết tật']\", \"['Người khuyết tật', 'Bao gồm', 'Trẻ em và người cao tuổi']\", \"['Người khuyết tật', 'Quy định tại', 'Khoản 1 điều này']\", \"('Khuyết tật nặng', 'Được hưởng', 'Bhyt')\"], 'kg_rel_map': {'biệt': [], 'khuyết': [], 'Người': [], 'nặng': [], 'Người khuyết tật': [['Người khuyết tật', 'Được hưởng', 'Trợ cấp xã hội hàng tháng'], ['Trợ cấp xã hội hàng tháng', 'Áp dụng cho', 'Người khuyết tật'], ['Người khuyết tật', 'Đang mang thai hoặc nuôi con dưới 36 tháng tuổi', 'Được hưởng trợ cấp xã hội'], ['Người khuyết tật', 'Quy định tại', 'Khoản 1 điều này'], ['Người khuyết tật', 'Bao gồm', 'Trẻ em và người cao tuổi'], ['Trẻ em và người cao tuổi', 'Được hưởng', 'Mức trợ cấp cao hơn đối tượng khác'], ['Người khuyết tật', 'Có quyền', 'Cấp thẻ bảo hiểm y tế miễn phí'], ['Người khuyết tật', 'Có kết luận', 'Hội đồng giám định y khoa'], ['Hội đồng giám định y khoa', 'Xác định', 'Dạng tật và mức độ khuyết tật'], ['Hội đồng giám định y khoa', 'Xác định', 'Dạng tật và mức độ khuyết tật'], ['Hội đồng giám định y khoa', 'Xác định mức độ khuyết tật', 'Căn cứ kết luận'], ['Hội đồng giám định y khoa', 'Xác định mức độ khuyết tật', 'Theo quy định tại khoản 2 điều 15 luật người khuyết tật'], ['Hội đồng giám định y khoa', 'Xác định', 'Mức độ khuyết tật']], 'tật': [], 'đặc biệt nặng': [], 'đặc': []}}, excluded_embed_metadata_keys=['kg_rel_map', 'kg_rel_texts'], excluded_llm_metadata_keys=['kg_rel_map', 'kg_rel_texts'], relationships={}, text=\"The following are knowledge sequence in max depth 2 in the form of directed graph like:\\n`subject -[predicate]->, object, <-[predicate_next_hop]-, object_next_hop ...`\\n['Hội đồng giám định y khoa', 'Xác định mức độ khuyết tật', 'Theo quy định tại khoản 2 điều 15 luật người khuyết tật']\\n['Người khuyết tật', 'Đang mang thai hoặc nuôi con dưới 36 tháng tuổi', 'Được hưởng trợ cấp xã hội']\\n('Người khuyết tật nặng', 'Được kết luận', 'Có khả năng tự phục vụ sinh hoạt nếu có trợ giúp')\\n('Người khuyết tật đặc biệt nặng', 'Được kết luận', 'Không còn khả năng tự phục vụ')\\n('Người khuyết tật đặc biệt nặng', 'Suy giảm khả năng lao động', 'Từ 81% trở lên')\\n['Trẻ em và người cao tuổi', 'Được hưởng', 'Mức trợ cấp cao hơn đối tượng khác']\\n['Hội đồng giám định y khoa', 'Xác định mức độ khuyết tật', 'Căn cứ kết luận']\\n['Hội đồng giám định y khoa', 'Xác định', 'Dạng tật và mức độ khuyết tật']\\n('Người khuyết tật nặng', 'Suy giảm khả năng lao động', 'Từ 61% đến 80%')\\n['Người khuyết tật', 'Có quyền', 'Cấp thẻ bảo hiểm y tế miễn phí']\\n['Trợ cấp xã hội hàng tháng', 'Áp dụng cho', 'Người khuyết tật']\\n['Người khuyết tật', 'Có kết luận', 'Hội đồng giám định y khoa']\\n['Người khuyết tật', 'Được hưởng', 'Trợ cấp xã hội hàng tháng']\\n['Hội đồng giám định y khoa', 'Xác định', 'Mức độ khuyết tật']\\n['Người khuyết tật', 'Bao gồm', 'Trẻ em và người cao tuổi']\\n['Người khuyết tật', 'Quy định tại', 'Khoản 1 điều này']\\n('Khuyết tật nặng', 'Được hưởng', 'Bhyt')\", mimetype='text/plain', start_char_idx=None, end_char_idx=None, text_template='{metadata_str}\\n\\n{content}', metadata_template='{key}: {value}', metadata_seperator='\\n'), score=1000.0)], metadata={'699e537b-7c44-428f-9fa8-06e6369da132': {'file_path': 'C:\\\\Users\\\\My_Pc\\\\Desktop\\\\sample_test\\\\THPL_MHLH_PhapLuat_8084_3.txt', 'file_name': 'THPL_MHLH_PhapLuat_8084_3.txt', 'file_type': 'text/plain', 'file_size': 3211, 'creation_date': '2024-10-30', 'last_modified_date': '2024-10-30'}, 'd374e6f3-1c6e-426a-a53d-f5b5ec39bd5c': {'file_path': 'C:\\\\Users\\\\My_Pc\\\\Desktop\\\\sample_test\\\\THPL_MHLH_PhapLuat_8084_1.txt', 'file_name': 'THPL_MHLH_PhapLuat_8084_1.txt', 'file_type': 'text/plain', 'file_size': 1461, 'creation_date': '2024-10-30', 'last_modified_date': '2024-10-30'}, '70fe1e33-68da-484a-81c7-a4be3d9c9ddb': {'file_path': 'C:\\\\Users\\\\My_Pc\\\\Desktop\\\\sample_test\\\\THPL_MHLH_PhapLuat_8084_2.txt', 'file_name': 'THPL_MHLH_PhapLuat_8084_2.txt', 'file_type': 'text/plain', 'file_size': 951, 'creation_date': '2024-10-30', 'last_modified_date': '2024-10-30'}, '94f6b128-4630-4d1b-98b0-e6b3c0433d64': {'file_path': 'C:\\\\Users\\\\My_Pc\\\\Desktop\\\\sample_test\\\\THPL_MHLH_PhapLuat_8084_3.txt', 'file_name': 'THPL_MHLH_PhapLuat_8084_3.txt', 'file_type': 'text/plain', 'file_size': 3211, 'creation_date': '2024-10-30', 'last_modified_date': '2024-10-30'}, '34e8de39-eebf-492f-b5ed-eaf449fbf2d1': {'kg_rel_texts': [\"['Hội đồng giám định y khoa', 'Xác định mức độ khuyết tật', 'Theo quy định tại khoản 2 điều 15 luật người khuyết tật']\", \"['Người khuyết tật', 'Đang mang thai hoặc nuôi con dưới 36 tháng tuổi', 'Được hưởng trợ cấp xã hội']\", \"('Người khuyết tật nặng', 'Được kết luận', 'Có khả năng tự phục vụ sinh hoạt nếu có trợ giúp')\", \"('Người khuyết tật đặc biệt nặng', 'Được kết luận', 'Không còn khả năng tự phục vụ')\", \"('Người khuyết tật đặc biệt nặng', 'Suy giảm khả năng lao động', 'Từ 81% trở lên')\", \"['Trẻ em và người cao tuổi', 'Được hưởng', 'Mức trợ cấp cao hơn đối tượng khác']\", \"['Hội đồng giám định y khoa', 'Xác định mức độ khuyết tật', 'Căn cứ kết luận']\", \"['Hội đồng giám định y khoa', 'Xác định', 'Dạng tật và mức độ khuyết tật']\", \"('Người khuyết tật nặng', 'Suy giảm khả năng lao động', 'Từ 61% đến 80%')\", \"['Người khuyết tật', 'Có quyền', 'Cấp thẻ bảo hiểm y tế miễn phí']\", \"['Trợ cấp xã hội hàng tháng', 'Áp dụng cho', 'Người khuyết tật']\", \"['Người khuyết tật', 'Có kết luận', 'Hội đồng giám định y khoa']\", \"['Người khuyết tật', 'Được hưởng', 'Trợ cấp xã hội hàng tháng']\", \"['Hội đồng giám định y khoa', 'Xác định', 'Mức độ khuyết tật']\", \"['Người khuyết tật', 'Bao gồm', 'Trẻ em và người cao tuổi']\", \"['Người khuyết tật', 'Quy định tại', 'Khoản 1 điều này']\", \"('Khuyết tật nặng', 'Được hưởng', 'Bhyt')\"], 'kg_rel_map': {'biệt': [], 'khuyết': [], 'Người': [], 'nặng': [], 'Người khuyết tật': [['Người khuyết tật', 'Được hưởng', 'Trợ cấp xã hội hàng tháng'], ['Trợ cấp xã hội hàng tháng', 'Áp dụng cho', 'Người khuyết tật'], ['Người khuyết tật', 'Đang mang thai hoặc nuôi con dưới 36 tháng tuổi', 'Được hưởng trợ cấp xã hội'], ['Người khuyết tật', 'Quy định tại', 'Khoản 1 điều này'], ['Người khuyết tật', 'Bao gồm', 'Trẻ em và người cao tuổi'], ['Trẻ em và người cao tuổi', 'Được hưởng', 'Mức trợ cấp cao hơn đối tượng khác'], ['Người khuyết tật', 'Có quyền', 'Cấp thẻ bảo hiểm y tế miễn phí'], ['Người khuyết tật', 'Có kết luận', 'Hội đồng giám định y khoa'], ['Hội đồng giám định y khoa', 'Xác định', 'Dạng tật và mức độ khuyết tật'], ['Hội đồng giám định y khoa', 'Xác định', 'Dạng tật và mức độ khuyết tật'], ['Hội đồng giám định y khoa', 'Xác định mức độ khuyết tật', 'Căn cứ kết luận'], ['Hội đồng giám định y khoa', 'Xác định mức độ khuyết tật', 'Theo quy định tại khoản 2 điều 15 luật người khuyết tật'], ['Hội đồng giám định y khoa', 'Xác định', 'Mức độ khuyết tật']], 'tật': [], 'đặc biệt nặng': [], 'đặc': []}}})"
            ]
          },
          "execution_count": 78,
          "metadata": {},
          "output_type": "execute_result"
        }
      ],
      "source": [
        "response"
      ]
    },
    {
      "cell_type": "code",
      "execution_count": 80,
      "metadata": {},
      "outputs": [
        {
          "data": {
            "text/plain": [
              "{'cfe5b90b-63ef-439c-943c-a7d98de9e1f2': {'kg_rel_texts': [\"('Người khuyết tật đặc biệt nặng', 'Được kết luận', 'Không còn khả năng tự phục vụ')\",\n",
              "   \"('Người khuyết tật đặc biệt nặng', 'Suy giảm khả năng lao động', 'Từ 81% trở lên')\"],\n",
              "  'kg_rel_map': {},\n",
              "  'kg_schema': {'schema': \"Node properties: [{'tag': 'entity', 'properties': [('name', 'string')]}]\\nEdge properties: [{'edge': 'relationship', 'properties': [('relationship', 'string')]}]\\nRelationships: ['(:entity)-[:relationship]->(:entity)']\\n\"}}}"
            ]
          },
          "execution_count": 80,
          "metadata": {},
          "output_type": "execute_result"
        }
      ],
      "source": [
        "response1.metadata"
      ]
    },
    {
      "cell_type": "code",
      "execution_count": 81,
      "metadata": {},
      "outputs": [
        {
          "data": {
            "text/plain": [
              "{'699e537b-7c44-428f-9fa8-06e6369da132': {'file_path': 'C:\\\\Users\\\\My_Pc\\\\Desktop\\\\sample_test\\\\THPL_MHLH_PhapLuat_8084_3.txt',\n",
              "  'file_name': 'THPL_MHLH_PhapLuat_8084_3.txt',\n",
              "  'file_type': 'text/plain',\n",
              "  'file_size': 3211,\n",
              "  'creation_date': '2024-10-30',\n",
              "  'last_modified_date': '2024-10-30'},\n",
              " 'd374e6f3-1c6e-426a-a53d-f5b5ec39bd5c': {'file_path': 'C:\\\\Users\\\\My_Pc\\\\Desktop\\\\sample_test\\\\THPL_MHLH_PhapLuat_8084_1.txt',\n",
              "  'file_name': 'THPL_MHLH_PhapLuat_8084_1.txt',\n",
              "  'file_type': 'text/plain',\n",
              "  'file_size': 1461,\n",
              "  'creation_date': '2024-10-30',\n",
              "  'last_modified_date': '2024-10-30'},\n",
              " '70fe1e33-68da-484a-81c7-a4be3d9c9ddb': {'file_path': 'C:\\\\Users\\\\My_Pc\\\\Desktop\\\\sample_test\\\\THPL_MHLH_PhapLuat_8084_2.txt',\n",
              "  'file_name': 'THPL_MHLH_PhapLuat_8084_2.txt',\n",
              "  'file_type': 'text/plain',\n",
              "  'file_size': 951,\n",
              "  'creation_date': '2024-10-30',\n",
              "  'last_modified_date': '2024-10-30'},\n",
              " '94f6b128-4630-4d1b-98b0-e6b3c0433d64': {'file_path': 'C:\\\\Users\\\\My_Pc\\\\Desktop\\\\sample_test\\\\THPL_MHLH_PhapLuat_8084_3.txt',\n",
              "  'file_name': 'THPL_MHLH_PhapLuat_8084_3.txt',\n",
              "  'file_type': 'text/plain',\n",
              "  'file_size': 3211,\n",
              "  'creation_date': '2024-10-30',\n",
              "  'last_modified_date': '2024-10-30'},\n",
              " '34e8de39-eebf-492f-b5ed-eaf449fbf2d1': {'kg_rel_texts': [\"['Hội đồng giám định y khoa', 'Xác định mức độ khuyết tật', 'Theo quy định tại khoản 2 điều 15 luật người khuyết tật']\",\n",
              "   \"['Người khuyết tật', 'Đang mang thai hoặc nuôi con dưới 36 tháng tuổi', 'Được hưởng trợ cấp xã hội']\",\n",
              "   \"('Người khuyết tật nặng', 'Được kết luận', 'Có khả năng tự phục vụ sinh hoạt nếu có trợ giúp')\",\n",
              "   \"('Người khuyết tật đặc biệt nặng', 'Được kết luận', 'Không còn khả năng tự phục vụ')\",\n",
              "   \"('Người khuyết tật đặc biệt nặng', 'Suy giảm khả năng lao động', 'Từ 81% trở lên')\",\n",
              "   \"['Trẻ em và người cao tuổi', 'Được hưởng', 'Mức trợ cấp cao hơn đối tượng khác']\",\n",
              "   \"['Hội đồng giám định y khoa', 'Xác định mức độ khuyết tật', 'Căn cứ kết luận']\",\n",
              "   \"['Hội đồng giám định y khoa', 'Xác định', 'Dạng tật và mức độ khuyết tật']\",\n",
              "   \"('Người khuyết tật nặng', 'Suy giảm khả năng lao động', 'Từ 61% đến 80%')\",\n",
              "   \"['Người khuyết tật', 'Có quyền', 'Cấp thẻ bảo hiểm y tế miễn phí']\",\n",
              "   \"['Trợ cấp xã hội hàng tháng', 'Áp dụng cho', 'Người khuyết tật']\",\n",
              "   \"['Người khuyết tật', 'Có kết luận', 'Hội đồng giám định y khoa']\",\n",
              "   \"['Người khuyết tật', 'Được hưởng', 'Trợ cấp xã hội hàng tháng']\",\n",
              "   \"['Hội đồng giám định y khoa', 'Xác định', 'Mức độ khuyết tật']\",\n",
              "   \"['Người khuyết tật', 'Bao gồm', 'Trẻ em và người cao tuổi']\",\n",
              "   \"['Người khuyết tật', 'Quy định tại', 'Khoản 1 điều này']\",\n",
              "   \"('Khuyết tật nặng', 'Được hưởng', 'Bhyt')\"],\n",
              "  'kg_rel_map': {'biệt': [],\n",
              "   'khuyết': [],\n",
              "   'Người': [],\n",
              "   'nặng': [],\n",
              "   'Người khuyết tật': [['Người khuyết tật',\n",
              "     'Được hưởng',\n",
              "     'Trợ cấp xã hội hàng tháng'],\n",
              "    ['Trợ cấp xã hội hàng tháng', 'Áp dụng cho', 'Người khuyết tật'],\n",
              "    ['Người khuyết tật',\n",
              "     'Đang mang thai hoặc nuôi con dưới 36 tháng tuổi',\n",
              "     'Được hưởng trợ cấp xã hội'],\n",
              "    ['Người khuyết tật', 'Quy định tại', 'Khoản 1 điều này'],\n",
              "    ['Người khuyết tật', 'Bao gồm', 'Trẻ em và người cao tuổi'],\n",
              "    ['Trẻ em và người cao tuổi',\n",
              "     'Được hưởng',\n",
              "     'Mức trợ cấp cao hơn đối tượng khác'],\n",
              "    ['Người khuyết tật', 'Có quyền', 'Cấp thẻ bảo hiểm y tế miễn phí'],\n",
              "    ['Người khuyết tật', 'Có kết luận', 'Hội đồng giám định y khoa'],\n",
              "    ['Hội đồng giám định y khoa', 'Xác định', 'Dạng tật và mức độ khuyết tật'],\n",
              "    ['Hội đồng giám định y khoa', 'Xác định', 'Dạng tật và mức độ khuyết tật'],\n",
              "    ['Hội đồng giám định y khoa',\n",
              "     'Xác định mức độ khuyết tật',\n",
              "     'Căn cứ kết luận'],\n",
              "    ['Hội đồng giám định y khoa',\n",
              "     'Xác định mức độ khuyết tật',\n",
              "     'Theo quy định tại khoản 2 điều 15 luật người khuyết tật'],\n",
              "    ['Hội đồng giám định y khoa', 'Xác định', 'Mức độ khuyết tật']],\n",
              "   'tật': [],\n",
              "   'đặc biệt nặng': [],\n",
              "   'đặc': []}}}"
            ]
          },
          "execution_count": 81,
          "metadata": {},
          "output_type": "execute_result"
        }
      ],
      "source": [
        "response.metadata"
      ]
    },
    {
      "cell_type": "code",
      "execution_count": 157,
      "metadata": {
        "id": "6fJxdr5-JZND",
        "outputId": "bcfda6c5-0d22-4dd2-8b2c-0e6ed84d1355"
      },
      "outputs": [
        {
          "ename": "AttributeError",
          "evalue": "'RetrieverQueryEngine' object has no attribute 'generate_query'",
          "output_type": "error",
          "traceback": [
            "\u001b[1;31m---------------------------------------------------------------------------\u001b[0m",
            "\u001b[1;31mAttributeError\u001b[0m                            Traceback (most recent call last)",
            "Cell \u001b[1;32mIn[157], line 1\u001b[0m\n\u001b[1;32m----> 1\u001b[0m graph_query \u001b[38;5;241m=\u001b[39m \u001b[43mquery_engine\u001b[49m\u001b[38;5;241;43m.\u001b[39;49m\u001b[43mgenerate_query\u001b[49m(\n\u001b[0;32m      2\u001b[0m     \u001b[38;5;124m\"\u001b[39m\u001b[38;5;124mTell me about Peter Quill?\u001b[39m\u001b[38;5;124m\"\u001b[39m,\n\u001b[0;32m      3\u001b[0m )\n\u001b[0;32m      5\u001b[0m graph_query \u001b[38;5;241m=\u001b[39m graph_query\u001b[38;5;241m.\u001b[39mreplace(\u001b[38;5;124m\"\u001b[39m\u001b[38;5;124mWHERE\u001b[39m\u001b[38;5;124m\"\u001b[39m, \u001b[38;5;124m\"\u001b[39m\u001b[38;5;130;01m\\n\u001b[39;00m\u001b[38;5;124m  WHERE\u001b[39m\u001b[38;5;124m\"\u001b[39m)\u001b[38;5;241m.\u001b[39mreplace(\n\u001b[0;32m      6\u001b[0m     \u001b[38;5;124m\"\u001b[39m\u001b[38;5;124mRETURN\u001b[39m\u001b[38;5;124m\"\u001b[39m, \u001b[38;5;124m\"\u001b[39m\u001b[38;5;130;01m\\n\u001b[39;00m\u001b[38;5;124mRETURN\u001b[39m\u001b[38;5;124m\"\u001b[39m\n\u001b[0;32m      7\u001b[0m )\n\u001b[0;32m      9\u001b[0m display(\n\u001b[0;32m     10\u001b[0m     Markdown(\n\u001b[0;32m     11\u001b[0m         \u001b[38;5;124mf\u001b[39m\u001b[38;5;124m\"\"\"\u001b[39m\n\u001b[1;32m   (...)\u001b[0m\n\u001b[0;32m     16\u001b[0m     )\n\u001b[0;32m     17\u001b[0m )\n",
            "\u001b[1;31mAttributeError\u001b[0m: 'RetrieverQueryEngine' object has no attribute 'generate_query'"
          ]
        }
      ],
      "source": [
        "graph_query = query_engine.generate_query(\n",
        "    \"Tell me about Peter Quill?\",\n",
        ")\n",
        "\n",
        "graph_query = graph_query.replace(\"WHERE\", \"\\n  WHERE\").replace(\n",
        "    \"RETURN\", \"\\nRETURN\"\n",
        ")\n",
        "\n",
        "display(\n",
        "    Markdown(\n",
        "        f\"\"\"\n",
        "```cypher\n",
        "{graph_query}\n",
        "```\n",
        "\"\"\"\n",
        "    )\n",
        ")"
      ]
    },
    {
      "cell_type": "markdown",
      "metadata": {
        "id": "VbKbzhM9JZND"
      },
      "source": [
        "We could see it helps generate the Graph query:\n",
        "\n",
        "```cypher\n",
        "MATCH (p:`entity`)-[:relationship]->(e:`entity`)\n",
        "  WHERE p.`entity`.`name` == 'Peter Quill'\n",
        "RETURN e.`entity`.`name`;\n",
        "```\n",
        "And synthese the question based on its result:\n",
        "\n",
        "```json\n",
        "{'e2.entity.name': ['grandfather', 'alternate version of Gamora', 'Guardians of the Galaxy']}\n",
        "```"
      ]
    },
    {
      "cell_type": "markdown",
      "metadata": {
        "id": "ZxyD-FyVJZNE"
      },
      "source": [
        "Of course we still could query it, too! And this query engine could be our best Graph Query Language learning bot, then :)."
      ]
    },
    {
      "cell_type": "code",
      "execution_count": null,
      "metadata": {
        "id": "GOy_a3mYJZNE",
        "outputId": "d20b737c-6d4c-48a9-9294-eebde1ce4db0"
      },
      "outputs": [
        {
          "name": "stdout",
          "output_type": "stream",
          "text": [
            "INFO:nebula3.logger:Get connection to ('127.0.0.1', 9669)\n"
          ]
        },
        {
          "data": {
            "text/html": [
              "<div>\n",
              "<style scoped>\n",
              "    .dataframe tbody tr th:only-of-type {\n",
              "        vertical-align: middle;\n",
              "    }\n",
              "\n",
              "    .dataframe tbody tr th {\n",
              "        vertical-align: top;\n",
              "    }\n",
              "\n",
              "    .dataframe thead th {\n",
              "        text-align: right;\n",
              "    }\n",
              "</style>\n",
              "<table border=\"1\" class=\"dataframe\">\n",
              "  <thead>\n",
              "    <tr style=\"text-align: right;\">\n",
              "      <th></th>\n",
              "      <th>p.entity.name</th>\n",
              "      <th>e.relationship</th>\n",
              "      <th>m.entity.name</th>\n",
              "    </tr>\n",
              "  </thead>\n",
              "  <tbody>\n",
              "    <tr>\n",
              "      <th>0</th>\n",
              "      <td>Peter Quill</td>\n",
              "      <td>would return to the MCU</td>\n",
              "      <td>May 2021</td>\n",
              "    </tr>\n",
              "    <tr>\n",
              "      <th>1</th>\n",
              "      <td>Peter Quill</td>\n",
              "      <td>was abducted from Earth</td>\n",
              "      <td>as a child</td>\n",
              "    </tr>\n",
              "    <tr>\n",
              "      <th>2</th>\n",
              "      <td>Peter Quill</td>\n",
              "      <td>is leader of</td>\n",
              "      <td>Guardians of the Galaxy</td>\n",
              "    </tr>\n",
              "    <tr>\n",
              "      <th>3</th>\n",
              "      <td>Peter Quill</td>\n",
              "      <td>was raised by</td>\n",
              "      <td>a group of alien thieves and smugglers</td>\n",
              "    </tr>\n",
              "    <tr>\n",
              "      <th>4</th>\n",
              "      <td>Peter Quill</td>\n",
              "      <td>is half-human</td>\n",
              "      <td>half-Celestial</td>\n",
              "    </tr>\n",
              "  </tbody>\n",
              "</table>\n",
              "</div>"
            ],
            "text/plain": [
              "  p.entity.name           e.relationship  \\\n",
              "0   Peter Quill  would return to the MCU   \n",
              "1   Peter Quill  was abducted from Earth   \n",
              "2   Peter Quill             is leader of   \n",
              "3   Peter Quill            was raised by   \n",
              "4   Peter Quill            is half-human   \n",
              "\n",
              "                            m.entity.name  \n",
              "0                                May 2021  \n",
              "1                              as a child  \n",
              "2                 Guardians of the Galaxy  \n",
              "3  a group of alien thieves and smugglers  \n",
              "4                          half-Celestial  "
            ]
          },
          "execution_count": null,
          "metadata": {},
          "output_type": "execute_result"
        }
      ],
      "source": [
        "%%ngql\n",
        "MATCH (p:`entity`)-[e:relationship]->(m:`entity`)\n",
        "  WHERE p.`entity`.`name` == 'Peter Quill'\n",
        "RETURN p.`entity`.`name`, e.relationship, m.`entity`.`name`;"
      ]
    },
    {
      "cell_type": "markdown",
      "metadata": {
        "id": "E2TLZnfGJZNE"
      },
      "source": [
        "And change the query to be rendered"
      ]
    },
    {
      "cell_type": "code",
      "execution_count": null,
      "metadata": {
        "id": "kjaM7sHAJZNE",
        "outputId": "9c7b59f5-b9c4-433b-880b-c0f2a0366eec"
      },
      "outputs": [
        {
          "name": "stdout",
          "output_type": "stream",
          "text": [
            "INFO:nebula3.logger:Get connection to ('127.0.0.1', 9669)\n"
          ]
        },
        {
          "data": {
            "text/html": [
              "<div>\n",
              "<style scoped>\n",
              "    .dataframe tbody tr th:only-of-type {\n",
              "        vertical-align: middle;\n",
              "    }\n",
              "\n",
              "    .dataframe tbody tr th {\n",
              "        vertical-align: top;\n",
              "    }\n",
              "\n",
              "    .dataframe thead th {\n",
              "        text-align: right;\n",
              "    }\n",
              "</style>\n",
              "<table border=\"1\" class=\"dataframe\">\n",
              "  <thead>\n",
              "    <tr style=\"text-align: right;\">\n",
              "      <th></th>\n",
              "      <th>p</th>\n",
              "      <th>e</th>\n",
              "      <th>m</th>\n",
              "    </tr>\n",
              "  </thead>\n",
              "  <tbody>\n",
              "    <tr>\n",
              "      <th>0</th>\n",
              "      <td>(\"Peter Quill\" :entity{name: \"Peter Quill\"})</td>\n",
              "      <td>(\"Peter Quill\")-[:relationship@-84437522554765...</td>\n",
              "      <td>(\"May 2021\" :entity{name: \"May 2021\"})</td>\n",
              "    </tr>\n",
              "    <tr>\n",
              "      <th>1</th>\n",
              "      <td>(\"Peter Quill\" :entity{name: \"Peter Quill\"})</td>\n",
              "      <td>(\"Peter Quill\")-[:relationship@-11770408155938...</td>\n",
              "      <td>(\"as a child\" :entity{name: \"as a child\"})</td>\n",
              "    </tr>\n",
              "    <tr>\n",
              "      <th>2</th>\n",
              "      <td>(\"Peter Quill\" :entity{name: \"Peter Quill\"})</td>\n",
              "      <td>(\"Peter Quill\")-[:relationship@-79394488349732...</td>\n",
              "      <td>(\"Guardians of the Galaxy\" :entity{name: \"Guar...</td>\n",
              "    </tr>\n",
              "    <tr>\n",
              "      <th>3</th>\n",
              "      <td>(\"Peter Quill\" :entity{name: \"Peter Quill\"})</td>\n",
              "      <td>(\"Peter Quill\")-[:relationship@325695233021653...</td>\n",
              "      <td>(\"a group of alien thieves and smugglers\" :ent...</td>\n",
              "    </tr>\n",
              "    <tr>\n",
              "      <th>4</th>\n",
              "      <td>(\"Peter Quill\" :entity{name: \"Peter Quill\"})</td>\n",
              "      <td>(\"Peter Quill\")-[:relationship@555553046209276...</td>\n",
              "      <td>(\"half-Celestial\" :entity{name: \"half-Celestia...</td>\n",
              "    </tr>\n",
              "  </tbody>\n",
              "</table>\n",
              "</div>"
            ],
            "text/plain": [
              "                                              p  \\\n",
              "0  (\"Peter Quill\" :entity{name: \"Peter Quill\"})   \n",
              "1  (\"Peter Quill\" :entity{name: \"Peter Quill\"})   \n",
              "2  (\"Peter Quill\" :entity{name: \"Peter Quill\"})   \n",
              "3  (\"Peter Quill\" :entity{name: \"Peter Quill\"})   \n",
              "4  (\"Peter Quill\" :entity{name: \"Peter Quill\"})   \n",
              "\n",
              "                                                   e  \\\n",
              "0  (\"Peter Quill\")-[:relationship@-84437522554765...   \n",
              "1  (\"Peter Quill\")-[:relationship@-11770408155938...   \n",
              "2  (\"Peter Quill\")-[:relationship@-79394488349732...   \n",
              "3  (\"Peter Quill\")-[:relationship@325695233021653...   \n",
              "4  (\"Peter Quill\")-[:relationship@555553046209276...   \n",
              "\n",
              "                                                   m  \n",
              "0             (\"May 2021\" :entity{name: \"May 2021\"})  \n",
              "1         (\"as a child\" :entity{name: \"as a child\"})  \n",
              "2  (\"Guardians of the Galaxy\" :entity{name: \"Guar...  \n",
              "3  (\"a group of alien thieves and smugglers\" :ent...  \n",
              "4  (\"half-Celestial\" :entity{name: \"half-Celestia...  "
            ]
          },
          "execution_count": null,
          "metadata": {},
          "output_type": "execute_result"
        }
      ],
      "source": [
        "%%ngql\n",
        "MATCH (p:`entity`)-[e:relationship]->(m:`entity`)\n",
        "  WHERE p.`entity`.`name` == 'Peter Quill'\n",
        "RETURN p, e, m;"
      ]
    },
    {
      "cell_type": "code",
      "execution_count": null,
      "metadata": {
        "id": "1U7dsdhcJZNE",
        "outputId": "f06b0b40-bafe-4330-9fd0-8b1723dac243"
      },
      "outputs": [
        {
          "name": "stdout",
          "output_type": "stream",
          "text": [
            "nebulagraph_draw.html\n"
          ]
        },
        {
          "data": {
            "text/html": [
              "\n",
              "        <iframe\n",
              "            width=\"100%\"\n",
              "            height=\"500px\"\n",
              "            src=\"nebulagraph_draw.html\"\n",
              "            frameborder=\"0\"\n",
              "            allowfullscreen\n",
              "            \n",
              "        ></iframe>\n",
              "        "
            ],
            "text/plain": [
              "<IPython.lib.display.IFrame at 0x2ae69fdf0>"
            ]
          },
          "execution_count": null,
          "metadata": {},
          "output_type": "execute_result"
        }
      ],
      "source": [
        "%ng_draw"
      ]
    },
    {
      "cell_type": "markdown",
      "metadata": {
        "id": "rQAZXQ5jJZNE"
      },
      "source": [
        "The results of this knowledge-fetching query could not be more clear from the renderred graph then."
      ]
    }
  ],
  "metadata": {
    "colab": {
      "provenance": []
    },
    "kernelspec": {
      "display_name": "Minh-AI",
      "language": "python",
      "name": "python3"
    },
    "language_info": {
      "codemirror_mode": {
        "name": "ipython",
        "version": 3
      },
      "file_extension": ".py",
      "mimetype": "text/x-python",
      "name": "python",
      "nbconvert_exporter": "python",
      "pygments_lexer": "ipython3",
      "version": "3.12.4"
    }
  },
  "nbformat": 4,
  "nbformat_minor": 0
}
