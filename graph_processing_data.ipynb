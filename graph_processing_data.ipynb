{
 "cells": [
  {
   "cell_type": "code",
   "execution_count": 82,
   "metadata": {},
   "outputs": [],
   "source": [
    "# My OpenAI Key\n",
    "import os\n",
    "\n",
    "os.environ[\"OPENAI_API_KEY\"] = \"sk-a0khYUHBaQOMhZkcr5pNgNEcl6i9-4cmpmjKxIShyLT3BlbkFJxt6vnTi02sQ7JSk_39KIv9j4JoRS8tCO3mZ-3V8cQA\""
   ]
  },
  {
   "cell_type": "code",
   "execution_count": 83,
   "metadata": {},
   "outputs": [],
   "source": [
    "import logging\n",
    "import sys\n",
    "\n",
    "logging.basicConfig(stream=sys.stdout, level=logging.INFO)"
   ]
  },
  {
   "cell_type": "code",
   "execution_count": 84,
   "metadata": {},
   "outputs": [],
   "source": [
    "from llama_index.core import SimpleDirectoryReader, KnowledgeGraphIndex\n",
    "from llama_index.core.graph_stores import SimpleGraphStore\n",
    "\n",
    "from llama_index.llms.openai import OpenAI\n",
    "from llama_index.core import Settings\n",
    "from IPython.display import Markdown, display"
   ]
  },
  {
   "cell_type": "code",
   "execution_count": 85,
   "metadata": {},
   "outputs": [],
   "source": [
    "documents = SimpleDirectoryReader(\n",
    "    r\"C:\\Users\\My_Pc\\Desktop\\Thư Viện Pháp Luật final\\Tool TVPL AI\\Graph_rag\\cong_thuc_tinh_thue\"\n",
    ").load_data()"
   ]
  },
  {
   "cell_type": "code",
   "execution_count": 102,
   "metadata": {},
   "outputs": [
    {
     "data": {
      "text/plain": [
       "[Document(id_='b8880aa1-3427-42da-bcc1-b725621914f0', embedding=None, metadata={'page_label': '1', 'file_name': 'CÔNG THỨC TÍNH THUẾ THU NHẬP CÁ NHÂN MỚI NHẤT.pdf', 'file_path': 'C:\\\\Users\\\\My_Pc\\\\Desktop\\\\Thư Viện Pháp Luật final\\\\Tool TVPL AI\\\\Graph_rag\\\\cong_thuc_tinh_thue\\\\CÔNG THỨC TÍNH THUẾ THU NHẬP CÁ NHÂN MỚI NHẤT.pdf', 'file_type': 'application/pdf', 'file_size': 194162, 'creation_date': '2024-10-01', 'last_modified_date': '2024-09-25'}, excluded_embed_metadata_keys=['file_name', 'file_type', 'file_size', 'creation_date', 'last_modified_date', 'last_accessed_date'], excluded_llm_metadata_keys=['file_name', 'file_type', 'file_size', 'creation_date', 'last_modified_date', 'last_accessed_date'], relationships={}, text='CÔNG TH ỨC TÍNH THU Ế THU NH ẬP CÁ NHÂN  MỚI NH ẤT \\n1. Mức thu ế suất thu ế thu nh ập cá nhân  \\nViệc xác nh ận mức đóng thu ế thu nh ập cá nhân đư ợc chia làm 2 d ạng là  biểu thu ế \\nlũy ti ến từng ph ần và bi ểu thu ế toàn ph ần. \\nBiểu thu ế lũy t ừng ph ần là ph ần áp d ụng cho thu nh ập tính thu ế tiền công, ti ền \\nlương, kinh doanh c ủa cá nhân và t ổ chức. M ức đóng thu ế được quy đ ịnh ở biểu \\nthuế lũy ti ến từng ph ần như sau:  \\nBậc \\nthuế Phần thu nh ập tính \\nthuế/năm  \\n(triệu đồng) Phần thu nh ập tính \\nthuế/tháng  \\n(triệu đồng) Thuế suất \\n(%) \\n1 Đến 60  Đến 5 5 \\n2 Trên 60 đ ến 120  Trên 5 đ ến 10  10 \\n3 Trên 120 đ ến 216  Trên 10 đ ến 18  15 \\n4 Trên 216 đ ến 384  Trên 18 đ ến 32  20 \\n5 Trên 384 đ ến 624  Trên 32 đ ến 52  25 \\n6 Trên 624 đ ến 960  Trên 52 đ ến 80  30 \\n7 Trên 960   Trên 80  35 \\nBiểu thu ế toàn ph ần là áp dụng cho thu nh ập tính thu ế từ những ho ạt động đ ầu \\ntư, chuy ển như ợng vốn, chuy ển như ợng b ất động sản, chuy ển như ợng thương \\nmại, trúng gi ải thư ởng, b ản quy ền, nh ận tài s ản thừa kế, quà t ặng. M ức đóng  thuế \\nTNCN  được quy đ ịnh ở biểu thu ế toàn ph ần như sau:  \\nThu nh ập tính thu ế Thuế suất \\n(%) \\nThu nh ập từ đầu tư v ốn 5 \\nThu nh ập từ bản quy ền, như ợng quy ền thương m ại 5 ', mimetype='text/plain', start_char_idx=None, end_char_idx=None, text_template='{metadata_str}\\n\\n{content}', metadata_template='{key}: {value}', metadata_seperator='\\n'),\n",
       " Document(id_='b5d04c81-c160-4f4c-95b9-a93ec357bcc2', embedding=None, metadata={'page_label': '2', 'file_name': 'CÔNG THỨC TÍNH THUẾ THU NHẬP CÁ NHÂN MỚI NHẤT.pdf', 'file_path': 'C:\\\\Users\\\\My_Pc\\\\Desktop\\\\Thư Viện Pháp Luật final\\\\Tool TVPL AI\\\\Graph_rag\\\\cong_thuc_tinh_thue\\\\CÔNG THỨC TÍNH THUẾ THU NHẬP CÁ NHÂN MỚI NHẤT.pdf', 'file_type': 'application/pdf', 'file_size': 194162, 'creation_date': '2024-10-01', 'last_modified_date': '2024-09-25'}, excluded_embed_metadata_keys=['file_name', 'file_type', 'file_size', 'creation_date', 'last_modified_date', 'last_accessed_date'], excluded_llm_metadata_keys=['file_name', 'file_type', 'file_size', 'creation_date', 'last_modified_date', 'last_accessed_date'], relationships={}, text='Thu nh ập từ trúng thư ởng  10 \\nThu nh ập từ thừa kế, quà t ặng 10 \\nThu nh ập từ chuy ển như ợng vốn quy đ ịnh tại kho ản 1 Đi ều 13 c ủa Luật \\nnày 20 \\nThu nh ập từ chuy ển như ợng ch ứng khoán quy đ ịnh tại kho ản 1 Đi ều 13 \\ncủa Luật này  0,1 \\nThu nh ập từ chuy ển như ợng b ất động sản 2 \\n \\n \\n \\n \\n2. Mức lương bao nhiêu ph ải nộp thu ế TNCN trong năm 2024?  \\nCăn c ứ theo Đi ều 1 Ngh ị quyết 954/2020/UBTVQH14 quy đ ịnh v ề mức giảm tr ừ \\ngia c ảnh cụ thể như sau:  \\nĐiều chỉnh m ức giảm tr ừ gia c ảnh quy đ ịnh tại kho ản 1 Đi ều 19 c ủa Luật Thu ế thu \\nnhập cá nhân s ố 04/2007/QH12 đã đư ợc sửa đổi, bổ sung m ột số điều theo Lu ật \\nsố 26/2012/QH13 như sau:  \\n• Mức giảm tr ừ đối với đối tượng n ộp thu ế là 11 tri ệu đồng/tháng (132 tri ệu \\nđồng/năm);  \\n• Mức giảm tr ừ đối với mỗi ngư ời phụ thuộc là 4,4 tri ệu đồng/tháng.  \\nDo đó, đ ối với ngư ời có m ức lương trên 11 tri ệu đồng/tháng (132 tri ệu \\nđồng/năm) thì s ẽ phải nộp thu ế thu nh ập cá nhân.  \\n3.  Cách t ự tính thu ế thu nh ập cá nhân  \\nCách tính thu ế thu nh ập cá nhân đ ối với từng nhóm đ ối tượng là hoàn toàn khác \\nnhau, tuy nhiên đ ều ph ụ thuộc vào công thức tính thu ế thu nh ập cá nhân như \\nsau: \\n3.1. Cách tính thu ế TNCN đ ối với cá nhân cư trú  ', mimetype='text/plain', start_char_idx=None, end_char_idx=None, text_template='{metadata_str}\\n\\n{content}', metadata_template='{key}: {value}', metadata_seperator='\\n'),\n",
       " Document(id_='5cb35455-2214-4a60-a1c3-a35492f41a46', embedding=None, metadata={'page_label': '3', 'file_name': 'CÔNG THỨC TÍNH THUẾ THU NHẬP CÁ NHÂN MỚI NHẤT.pdf', 'file_path': 'C:\\\\Users\\\\My_Pc\\\\Desktop\\\\Thư Viện Pháp Luật final\\\\Tool TVPL AI\\\\Graph_rag\\\\cong_thuc_tinh_thue\\\\CÔNG THỨC TÍNH THUẾ THU NHẬP CÁ NHÂN MỚI NHẤT.pdf', 'file_type': 'application/pdf', 'file_size': 194162, 'creation_date': '2024-10-01', 'last_modified_date': '2024-09-25'}, excluded_embed_metadata_keys=['file_name', 'file_type', 'file_size', 'creation_date', 'last_modified_date', 'last_accessed_date'], excluded_llm_metadata_keys=['file_name', 'file_type', 'file_size', 'creation_date', 'last_modified_date', 'last_accessed_date'], relationships={}, text='Trường h ợp 1: Cách tính thu ế TNCN đ ối với cá nhân cư trú có h ợp đồng lao đ ộng \\ntrên 03 tháng và có ngu ồn thu nh ập từ tiền công, ti ền lương  \\n \\nNhững công th ức áp d ụng đ ể tính thu ế TNCN  \\n(1): Thu ế TNCN c ần nộp = Thu nh ập tính thu ế x Thu ế suất. \\n(2): Thu nh ập tính thu ế = Thu nh ập ph ải chịu thu ế – các kho ản giảm tr ừ. \\n(3): Thu nh ập ph ải chịu thu ế = Tổng ti ền lương nh ận đư ợc – Các kho ản đư ợc miễn \\nthuế. \\n \\nSử dụng công th ức trên theo th ứ tự (3) (2) ( 1) để tính thu ế thu nh ập cá nhân theo \\ncác bư ớc như sau:  \\nBước 1: Tính t ổng thu nh ập cá nhân đ ến từ tiền lương, ti ền công nh ận đư ợc. \\nBước 2: Tính nh ững kho ản đư ợc miễn thu ế   \\nNhững kho ản thu nh ập từ tiền lương c ủa cá nhân đư ợc miễn thu ế là: \\n• Khoản tiền lương tăng ca ngoài gi ờ, làm vi ệc ban đêm có m ức lương \\ncao hơn gi ờ hành chính.  \\n• Thu nh ập của thuy ền viên là ngư ời Việt Nam làm vi ệc cho hãng tàu \\nViệt Nam v ận tải quốc tế hoặc làm vi ệc tại hãng tàu nư ớc ngoài.  \\nBước 3: Tính thu nh ập ph ải chịu thu ế theo công th ức số (3) \\nBước 4: Tính các kho ản giảm tr ừ  \\nNhững kho ản đư ợc giảm tr ừ được quy đ ịnh bao g ồm: \\n• Giảm tr ừ gia c ảnh đ ối với cá nhân n ộp thu ế với mức 123 tri ệu đồng/năm \\ntương đương 11 tri ệu đồng/tháng và đ ối với ngư ời phụ thuộc là 4.4 \\ntriệu đồng/tháng.  \\n• Giảm tr ừ những kho ản đóng ti ền tự nguy ện bao g ồm: ti ền đóng b ảo \\nhiểm, từ thiện, khuy ến học, đóng góp qu ỹ nhân đ ạo và hưu trí.  \\nBước 5: Tính thu nh ập tính thu ế (2) ', mimetype='text/plain', start_char_idx=None, end_char_idx=None, text_template='{metadata_str}\\n\\n{content}', metadata_template='{key}: {value}', metadata_seperator='\\n'),\n",
       " Document(id_='d266b042-9075-4977-8299-9dc9551d6518', embedding=None, metadata={'page_label': '4', 'file_name': 'CÔNG THỨC TÍNH THUẾ THU NHẬP CÁ NHÂN MỚI NHẤT.pdf', 'file_path': 'C:\\\\Users\\\\My_Pc\\\\Desktop\\\\Thư Viện Pháp Luật final\\\\Tool TVPL AI\\\\Graph_rag\\\\cong_thuc_tinh_thue\\\\CÔNG THỨC TÍNH THUẾ THU NHẬP CÁ NHÂN MỚI NHẤT.pdf', 'file_type': 'application/pdf', 'file_size': 194162, 'creation_date': '2024-10-01', 'last_modified_date': '2024-09-25'}, excluded_embed_metadata_keys=['file_name', 'file_type', 'file_size', 'creation_date', 'last_modified_date', 'last_accessed_date'], excluded_llm_metadata_keys=['file_name', 'file_type', 'file_size', 'creation_date', 'last_modified_date', 'last_accessed_date'], relationships={}, text='Để tính thu ế suất cần đóng, b ạn nên áp d ụng b ảng bi ểu thu ế lũy ti ến từng \\nphần đối với ngư ời có thu nh ập từ tiền lương, ti ền công, kinh doanh ở mục \\n“mức đóng thu ế thu nh ập cá nhân”. Sau khi b ạn đã bi ết đư ợc thu nh ập tính \\nthuế và thu ế suất, bạn áp d ụng công th ức tính s ố (1) s ẽ ra đư ợc tiền thu ế \\nthu nh ập cá nhân c ần ph ải đóng.  \\nNhư v ậy chúng ta có th ể thấy sau khi đã bi ết đư ợc hai bi ến là “thu nh ập tính thu ế” \\nvà “thu ế suất” sẽ tính đư ợc mức thu ế thu nh ập cá nhân c ần đóng theo phương \\npháp lũy ti ến. Ngoài ra, b ạn cũng có th ể áp d ụng phương pháp rút g ọn bằng cách \\ntính “thu nh ập tính thu ế” và áp d ụng b ảng dư ới đây đ ể ra m ức thu ế TNCN c ần \\nphải đóng.  \\nBậc  Thu nh ập tính \\nthuế  Thuế \\nsuất Cách tính s ố thuế TNCN ph ải nộp \\nCách tính 1  Cách tính 2  \\n1 Đến 5 tri ệu  5% 0 triệu + 5% thu nh ập tính \\nthuế  5% thu nh ập tính thu ế \\n2 Trên 5 tri ệu – \\n10 tri ệu 10%  0,25 triệu + 10% thu nh ập \\ntính thu ế trên 5 tri ệu 10% thu nh ập tính \\nthuế – 0,25 tri ệu \\n3 Trên 10 tri ệu – \\n18 tri ệu 15%  0,75 tri ệu + 15% thu nh ập \\ntính thu ế trên 10 tri ệu 15% thu nh ập tính \\nthuế – 0,75 tri ệu \\n4 Trên 18 tri ệu – \\n32 tri ệu 20%  1,95 tri ệu + 20% thu nhập \\ntính thu ế trên 18 tri ệu 20% thu nh ập tính \\nthuế – 1,65 tri ệu \\n5 Trên 32 tri ệu – \\n52 tri ệu 25%  4,75 tri ệu + 25% thu nh ập \\ntính thu ế trên 32 tri ệu 25% thu nh ập tính \\nthuế – 3,25 tri ệu \\n6 Trên 52 tri ệu – \\n80 tri ệu 30%  9,75 tri ệu + 30% thu nh ập \\ntính thu ế trên 52 tri ệu 30 % thu nh ập tính \\nthuế – 5,85 tri ệu \\n7 Trên 80 tri ệu 35%  18,15 tri ệu + 35% TNTT trên \\n80 tri ệu 35% TNTT – 9,85 tri ệu \\n \\n ', mimetype='text/plain', start_char_idx=None, end_char_idx=None, text_template='{metadata_str}\\n\\n{content}', metadata_template='{key}: {value}', metadata_seperator='\\n'),\n",
       " Document(id_='0a11f0f8-0b2c-4086-8e42-c0a46e6547f5', embedding=None, metadata={'page_label': '1', 'file_name': 'CÔNG THỨC TÍNH THUẾ THU NHẬP CÁ NHÂN.pdf', 'file_path': 'C:\\\\Users\\\\My_Pc\\\\Desktop\\\\Thư Viện Pháp Luật final\\\\Tool TVPL AI\\\\Graph_rag\\\\cong_thuc_tinh_thue\\\\CÔNG THỨC TÍNH THUẾ THU NHẬP CÁ NHÂN.pdf', 'file_type': 'application/pdf', 'file_size': 232617, 'creation_date': '2024-10-01', 'last_modified_date': '2024-09-23'}, excluded_embed_metadata_keys=['file_name', 'file_type', 'file_size', 'creation_date', 'last_modified_date', 'last_accessed_date'], excluded_llm_metadata_keys=['file_name', 'file_type', 'file_size', 'creation_date', 'last_modified_date', 'last_accessed_date'], relationships={}, text='CÔNG TH ỨC TÍNH THU Ế THU NH ẬP CÁ NH ÂN \\n1. Mức thu ế suất thu ế thu nh ập cá nhân  \\nViệc xác nh ận mức đóng thu ế thu nh ập cá nhân đư ợc chia làm 2 d ạng là  biểu thu ế \\nlũy ti ến từng ph ần và bi ểu thu ế toàn ph ần. \\nBiểu thu ế lũy t ừng ph ần là ph ần áp d ụng cho thu nh ập tính thu ế tiền công, ti ền \\nlương, kinh doanh c ủa cá nhân và t ổ chức. M ức đóng thu ế được quy đ ịnh ở biểu \\nthuế lũy ti ến từng ph ần như sau:  \\nBậc \\nthuế Phần thu nh ập tính \\nthuế/năm  \\n(triệu đồng) Phần thu nh ập tính \\nthuế/tháng  \\n(triệu đồng) Thuế suất \\n(%) \\n1 Đến 60  Đến 5 5 \\n2 Trên 60 đ ến 120  Trên 5 đ ến 10  10 \\n3 Trên 120 đ ến 216  Trên 10 đ ến 18  15 \\n4 Trên 216 đ ến 384  Trên 18 đ ến 32  20 \\n5 Trên 384 đ ến 624  Trên 32 đ ến 52  25 \\n6 Trên 624 đ ến 960  Trên 52 đ ến 80  30 \\n7 Trên 960   Trên 80  35 \\nBiểu thu ế toàn ph ần là áp d ụng cho thu nh ập tính thu ế từ những ho ạt động đ ầu \\ntư, chuy ển như ợng vốn, chuy ển như ợng b ất động sản, chuy ển như ợng thương \\nmại, trúng gi ải thư ởng, b ản quy ền, nh ận tài s ản thừa kế, quà t ặng. M ức đóng  thuế \\nTNCN  được quy đ ịnh ở biểu thu ế toàn ph ần như sau:  \\nThu nh ập tính thu ế Thuế suất \\n(%) \\nThu nh ập từ đầu tư v ốn 5 \\nThu nh ập từ bản quy ền, như ợng quy ền thương m ại 5 ', mimetype='text/plain', start_char_idx=None, end_char_idx=None, text_template='{metadata_str}\\n\\n{content}', metadata_template='{key}: {value}', metadata_seperator='\\n'),\n",
       " Document(id_='a5595132-272b-4a79-88cd-caf3bed98229', embedding=None, metadata={'page_label': '2', 'file_name': 'CÔNG THỨC TÍNH THUẾ THU NHẬP CÁ NHÂN.pdf', 'file_path': 'C:\\\\Users\\\\My_Pc\\\\Desktop\\\\Thư Viện Pháp Luật final\\\\Tool TVPL AI\\\\Graph_rag\\\\cong_thuc_tinh_thue\\\\CÔNG THỨC TÍNH THUẾ THU NHẬP CÁ NHÂN.pdf', 'file_type': 'application/pdf', 'file_size': 232617, 'creation_date': '2024-10-01', 'last_modified_date': '2024-09-23'}, excluded_embed_metadata_keys=['file_name', 'file_type', 'file_size', 'creation_date', 'last_modified_date', 'last_accessed_date'], excluded_llm_metadata_keys=['file_name', 'file_type', 'file_size', 'creation_date', 'last_modified_date', 'last_accessed_date'], relationships={}, text='Thu nh ập từ trúng thư ởng  10 \\nThu nh ập từ thừa kế, quà t ặng 10 \\nThu nh ập từ chuy ển như ợng vốn quy đ ịnh tại kho ản 1 Đi ều 13 c ủa Luật \\nnày 20 \\nThu nh ập từ chuy ển như ợng ch ứng khoán quy đ ịnh tại kho ản 1 Đi ều 13 \\ncủa Luật này  0,1 \\nThu nh ập từ chuy ển như ợng b ất động sản 2 \\n \\n \\n \\n \\n2. Mức lương bao nhiêu ph ải nộp thu ế TNCN trong năm 2024?  \\nCăn c ứ theo Đi ều 1 Ngh ị quyết 954/2020/UBTVQH14 quy đ ịnh v ề mức giảm tr ừ \\ngia c ảnh cụ thể như sau:  \\nĐiều chỉnh m ức giảm tr ừ gia c ảnh quy đ ịnh tại kho ản 1 Đi ều 19 c ủa Luật Thu ế thu \\nnhập cá nhân s ố 04/2007/QH12 đã đư ợc sửa đổi, bổ sung m ột số điều theo Lu ật \\nsố 26/2012/QH13 như sau:  \\n• Mức giảm tr ừ đối với đối tượng n ộp thu ế là 11 tri ệu đồng/tháng (132 tri ệu \\nđồng/năm);  \\n• Mức giảm tr ừ đối với mỗi ngư ời phụ thuộc là 4,4 tri ệu đồng/tháng.  \\nDo đó, đ ối với ngư ời có m ức lương trên 11 tri ệu đồng/tháng (132 tri ệu \\nđồng/năm) thì s ẽ phải nộp thu ế thu nh ập cá nhân.  \\n3.  Cách t ự tính thu ế thu nh ập cá nhân  \\nCách tính thu ế thu nh ập cá nhân đ ối với từng nhóm đ ối tượng là hoàn toàn khác \\nnhau, tuy nhiên đ ều ph ụ thuộc vào công th ức tính thu ế thu nh ập cá nhân như \\nsau: \\n3.1. Cách tính thu ế TNCN đ ối với cá nhân cư trú  ', mimetype='text/plain', start_char_idx=None, end_char_idx=None, text_template='{metadata_str}\\n\\n{content}', metadata_template='{key}: {value}', metadata_seperator='\\n'),\n",
       " Document(id_='633f6b34-812e-4e0b-8e4b-4370f1789c07', embedding=None, metadata={'page_label': '3', 'file_name': 'CÔNG THỨC TÍNH THUẾ THU NHẬP CÁ NHÂN.pdf', 'file_path': 'C:\\\\Users\\\\My_Pc\\\\Desktop\\\\Thư Viện Pháp Luật final\\\\Tool TVPL AI\\\\Graph_rag\\\\cong_thuc_tinh_thue\\\\CÔNG THỨC TÍNH THUẾ THU NHẬP CÁ NHÂN.pdf', 'file_type': 'application/pdf', 'file_size': 232617, 'creation_date': '2024-10-01', 'last_modified_date': '2024-09-23'}, excluded_embed_metadata_keys=['file_name', 'file_type', 'file_size', 'creation_date', 'last_modified_date', 'last_accessed_date'], excluded_llm_metadata_keys=['file_name', 'file_type', 'file_size', 'creation_date', 'last_modified_date', 'last_accessed_date'], relationships={}, text='Trường h ợp 1: Cách tính thu ế TNCN đ ối với cá nhân cư trú có h ợp đồng lao đ ộng \\ntrên 03 tháng và có ngu ồn thu nh ập từ tiền công, ti ền lương  \\n \\nNhững công th ức áp d ụng đ ể tính thu ế TNCN  \\n(1): Thu ế TNCN c ần nộp = Thu nh ập tính thu ế x Thu ế suất. \\n(2): Thu nh ập tính thu ế = Thu nh ập ph ải chịu thu ế – các kho ản giảm tr ừ. \\n(3): Thu nh ập ph ải chịu thu ế = Tổng ti ền lương nh ận đư ợc – Các kho ản đư ợc miễn \\nthuế. \\n \\nSử dụng công th ức trên theo th ứ tự (1) (2) (3) đ ể tính thu ế thu nh ập cá nhân theo \\ncác bư ớc như sau:  \\nBước 1: Tính t ổng thu nh ập cá nhân đ ến từ tiền lương, ti ền công nh ận đư ợc. \\nBước 2: Tính nh ững kho ản đư ợc miễn thu ế   \\nNhững kho ản thu nh ập từ tiền lương c ủa cá nhân đư ợc miễn thu ế là: \\n• Khoản tiền lương tăng ca ngoài gi ờ, làm vi ệc ban đêm có m ức lương \\ncao hơn gi ờ hành chính.  \\n• Thu nh ập của thuy ền viên là ngư ời Việt Nam làm vi ệc cho hãng tàu \\nViệt Nam v ận tải quốc tế hoặc làm vi ệc tại hãng tàu nư ớc ngoài.  \\nBước 3: Tính thu nh ập ph ải chịu thu ế theo công th ức số (3) \\nBước 4: Tính các kho ản giảm tr ừ  \\nNhững kho ản đư ợc giảm tr ừ được quy đ ịnh bao g ồm: \\n• Giảm tr ừ gia c ảnh đ ối với cá nhân n ộp thu ế với mức 123 tri ệu đồng/năm \\ntương đương 11 tri ệu đồng/tháng và đ ối với ngư ời phụ thuộc là 4.4 \\ntriệu đồng/tháng.  \\n• Giảm tr ừ những kho ản đóng ti ền tự nguy ện bao g ồm: ti ền đóng b ảo \\nhiểm, từ thiện, khuy ến học, đóng góp qu ỹ nhân đ ạo và hưu trí.  \\nBước 5: Tính thu nh ập tính thu ế (2) ', mimetype='text/plain', start_char_idx=None, end_char_idx=None, text_template='{metadata_str}\\n\\n{content}', metadata_template='{key}: {value}', metadata_seperator='\\n'),\n",
       " Document(id_='07ccd096-d059-4e38-93d5-593ab4f0face', embedding=None, metadata={'page_label': '4', 'file_name': 'CÔNG THỨC TÍNH THUẾ THU NHẬP CÁ NHÂN.pdf', 'file_path': 'C:\\\\Users\\\\My_Pc\\\\Desktop\\\\Thư Viện Pháp Luật final\\\\Tool TVPL AI\\\\Graph_rag\\\\cong_thuc_tinh_thue\\\\CÔNG THỨC TÍNH THUẾ THU NHẬP CÁ NHÂN.pdf', 'file_type': 'application/pdf', 'file_size': 232617, 'creation_date': '2024-10-01', 'last_modified_date': '2024-09-23'}, excluded_embed_metadata_keys=['file_name', 'file_type', 'file_size', 'creation_date', 'last_modified_date', 'last_accessed_date'], excluded_llm_metadata_keys=['file_name', 'file_type', 'file_size', 'creation_date', 'last_modified_date', 'last_accessed_date'], relationships={}, text='Để tính thu ế suất cần đóng, b ạn nên áp d ụng b ảng bi ểu thu ế lũy ti ến từng \\nphần đối với ngư ời có thu nh ập từ tiền lương, ti ền công, kinh doanh ở mục \\n“mức đóng thu ế thu nh ập cá nhân”. Sau khi b ạn đã bi ết đư ợc thu nh ập tính \\nthuế và thu ế suất, bạn áp d ụng công th ức tính s ố (1) s ẽ ra đư ợc tiền thu ế \\nthu nh ập cá nhân c ần ph ải đóng.  \\nNhư v ậy chúng ta có th ể thấy sau khi đã bi ết đư ợc hai bi ến là “thu nh ập tính thu ế” \\nvà “thu ế suất” sẽ tính đư ợc mức thu ế thu nh ập cá nhân c ần đóng theo phương \\npháp lũy ti ến. Ngoài ra, b ạn cũng có th ể áp d ụng phương pháp rút g ọn bằng cách \\ntính “thu nh ập tính thu ế” và áp d ụng b ảng dư ới đây đ ể ra m ức thu ế TNCN c ần \\nphải đóng.  \\nBậc  Thu nh ập tính \\nthuế  Thuế \\nsuất Cách tính s ố thuế TNCN ph ải nộp \\nCách tính 1  Cách tính 2  \\n1 Đến 5 tri ệu  5% 0 triệu + 5% thu nh ập tính \\nthuế  5% thu nh ập tính thu ế \\n2 Trên 5 tri ệu – \\n10 tri ệu 10%  0,25 tri ệu + 10% thu nh ập \\ntính thu ế trên 5 tri ệu 10% thu nh ập tính \\nthuế – 0,25 tri ệu \\n3 Trên 10 tri ệu – \\n18 tri ệu 15%  0,75 tri ệu + 15% thu nh ập \\ntính thu ế trên 10 tri ệu 15% thu nh ập tính \\nthuế – 0,75 tri ệu \\n4 Trên 18 tri ệu – \\n32 tri ệu 20%  1,95 tri ệu + 20% thu nh ập \\ntính thu ế trên 18 tri ệu 20% thu nh ập tính \\nthuế – 1,65 tri ệu \\n5 Trên 32 tri ệu – \\n52 tri ệu 25%  4,75 tri ệu + 25% thu nh ập \\ntính thu ế trên 32 tri ệu 25% thu nh ập tính \\nthuế – 3,25 tri ệu \\n6 Trên 52 tri ệu – \\n80 tri ệu 30%  9,75 tri ệu + 30% thu nh ập \\ntính thu ế trên 52 tri ệu 30 % thu nh ập tính \\nthuế – 5,85 tri ệu \\n7 Trên 80 tri ệu 35%  18,15 tri ệu + 35% TNTT trên \\n80 tri ệu 35% TNTT – 9,85 tri ệu \\n ', mimetype='text/plain', start_char_idx=None, end_char_idx=None, text_template='{metadata_str}\\n\\n{content}', metadata_template='{key}: {value}', metadata_seperator='\\n'),\n",
       " Document(id_='a7ceaa6a-3804-4382-8264-9418d7937fcb', embedding=None, metadata={'page_label': '5', 'file_name': 'CÔNG THỨC TÍNH THUẾ THU NHẬP CÁ NHÂN.pdf', 'file_path': 'C:\\\\Users\\\\My_Pc\\\\Desktop\\\\Thư Viện Pháp Luật final\\\\Tool TVPL AI\\\\Graph_rag\\\\cong_thuc_tinh_thue\\\\CÔNG THỨC TÍNH THUẾ THU NHẬP CÁ NHÂN.pdf', 'file_type': 'application/pdf', 'file_size': 232617, 'creation_date': '2024-10-01', 'last_modified_date': '2024-09-23'}, excluded_embed_metadata_keys=['file_name', 'file_type', 'file_size', 'creation_date', 'last_modified_date', 'last_accessed_date'], excluded_llm_metadata_keys=['file_name', 'file_type', 'file_size', 'creation_date', 'last_modified_date', 'last_accessed_date'], relationships={}, text='Ví dụ: Để giúp b ạn dễ hình dung dư ới đây là cách tính thu ế TNCN đ ối với ông A \\nhiện có h ợp đồng lao đ ộng trên 3 tháng t ại một công ty ở Hà N ội cùng các thông \\ntin sau:  \\n• Mức lương nh ận theo h ợp đồng lao đ ộng: 30.000.000đ/tháng;  \\n• Phụ cấp tiền ăn trưa: 700.000đ;  \\n• Số người phụ thuộc: 1 ngư ời \\nTrong th ời gian này ông A không tham gia b ất cứ khoản nào liên quan đ ến từ \\nthiện, nhân đ ạo nào.  \\nCách tính thu ế TNCN c ủa ông A trong 1 tháng như sau:  \\n• Tổng thu nh ập = 30.000.000 + 700.000 = 30.700.000đ;  \\n• Các kho ản thu nh ập đư ợc miễn thu ế = 700.000 (ph ụ cấp tiền ăn trưa).  \\n• Thu nh ập ph ải chịu thu ế = Tổng ti ền lương nh ận đư ợc – Các kho ản đư ợc \\nmiễn thu ế = 30.700.000đ – 700.000đ = 30.000.000đ  \\n• Các kho ản giảm tr ừ bảo hiểm = 2.400.000đ + 450.000đ + 300.000đ = \\n3.150.000đ.  \\no BHXH (8%) = 30.000.000 x 8%   = 2.400.000đ;  \\no BHYT (1,5%) = 30.000.000 x 1,5% = 450.000đ;  \\no BHTN (1%) = 30.000.000 x 1% = 300.000đ;  \\n• Các kho ản giảm tr ừ bản thân và ngư ời phụ thuộc = 11.000.000đ + \\n4.400.000đ = 15.400.000đ.  \\no Bản thân ông A = 11.000.000đ;  \\no 1 ngư ời phụ thuộc = 4.400.000đ;  \\n>> V ậy, thu nh ập tính thu ế của ông A là:  \\nThu nh ập tính thu ế = Thu nh ập ph ải chịu thu ế – các kho ản giảm tr ừ = 30.500.000đ \\n– (3.150.000đ + 15.400.000đ) = 11.450.000đ  \\nCó th ể thấy, thu nh ập tính thu ế của ông A đang ở bậc 3 (trên 10 tri ệu đồng), áp \\nvào công th ức cho b ậc 3 trong b ảng bi ểu thu ế lũy ti ến từng ph ần, sẽ có: ', mimetype='text/plain', start_char_idx=None, end_char_idx=None, text_template='{metadata_str}\\n\\n{content}', metadata_template='{key}: {value}', metadata_seperator='\\n'),\n",
       " Document(id_='0b3436fc-43d8-463f-aa4c-e2c67935b3d0', embedding=None, metadata={'page_label': '6', 'file_name': 'CÔNG THỨC TÍNH THUẾ THU NHẬP CÁ NHÂN.pdf', 'file_path': 'C:\\\\Users\\\\My_Pc\\\\Desktop\\\\Thư Viện Pháp Luật final\\\\Tool TVPL AI\\\\Graph_rag\\\\cong_thuc_tinh_thue\\\\CÔNG THỨC TÍNH THUẾ THU NHẬP CÁ NHÂN.pdf', 'file_type': 'application/pdf', 'file_size': 232617, 'creation_date': '2024-10-01', 'last_modified_date': '2024-09-23'}, excluded_embed_metadata_keys=['file_name', 'file_type', 'file_size', 'creation_date', 'last_modified_date', 'last_accessed_date'], excluded_llm_metadata_keys=['file_name', 'file_type', 'file_size', 'creation_date', 'last_modified_date', 'last_accessed_date'], relationships={}, text='➞ Số thuế TNCN ph ải nộp = 15% thu nh ập tính thu ế – 0,75 tri ệu = 15% x \\n11.450.000đ – 0,75 tri ệu = 967.500đ  \\nTrường h ợp 2: Cách tính thu ế TNCN đ ối với cá nhân không ký h ợp đồng lao đ ộng \\nhoặc ký k ết hợp đồng lao đ ộng dư ới 03 tháng.  \\nCăn c ứ điểm i kho ản 1 Đi ều 25 Thông tư 111/2013/TT -BTC quy đ ịnh v ới nội dung \\nlà cá nhân cư trú ký k ết hợp đồng lao đ ộng dư ới 03 tháng ho ặc không ký k ết hợp \\nđồng lao đ ộng có m ức thu nh ập dư ới 2.000.000 đ ồng/tháng thì không c ần chịu \\nthuế với mức 10%. Trư ờng h ợp cá nhân cư trú ký k ết hợp đồng lao đ ộng dư ới 03 \\ntháng ho ặc không ký k ết hợp đồng lao đ ộng có m ức thu nh ập từ tiền lương, ti ền \\ncông trên 2.000.000 đ ồng/tháng thì ph ải khấu trừ là 10%.  \\n ', mimetype='text/plain', start_char_idx=None, end_char_idx=None, text_template='{metadata_str}\\n\\n{content}', metadata_template='{key}: {value}', metadata_seperator='\\n'),\n",
       " Document(id_='7ebb46a8-38ff-458b-96b3-d469655f2b2c', embedding=None, metadata={'page_label': '1', 'file_name': 'Công thức và kịch bản tính thuế TNCN về tiền công-tiền lương.pdf', 'file_path': 'C:\\\\Users\\\\My_Pc\\\\Desktop\\\\Thư Viện Pháp Luật final\\\\Tool TVPL AI\\\\Graph_rag\\\\cong_thuc_tinh_thue\\\\Công thức và kịch bản tính thuế TNCN về tiền công-tiền lương.pdf', 'file_type': 'application/pdf', 'file_size': 82452, 'creation_date': '2024-10-01', 'last_modified_date': '2024-09-26'}, excluded_embed_metadata_keys=['file_name', 'file_type', 'file_size', 'creation_date', 'last_modified_date', 'last_accessed_date'], excluded_llm_metadata_keys=['file_name', 'file_type', 'file_size', 'creation_date', 'last_modified_date', 'last_accessed_date'], relationships={}, text='p\\nCác thông tin có trong câu h ỏi\\nk ịch b ản trong tr ường h ợp\\nCâu h ỏi Câu tr ả l ời c ần có\\nCác thông tin có trong câu h ỏi: T ổng thu nh ập + M ức l ương làm c ăn c ứ đóng b ảo hi ểm + S ố ng ười ph ụ thu ộc + Vùng \\nK ịch b ản trong tr ường h ợp: Đầy \\nđủ các thông tin, trong đó m ức \\nl ương làm c ăn c ứ đóng b ảo \\nhi ểm < 46,800,000\\n=> Không c ần đưa thông tin v ề \\n[M ức l ương t ối đa để đóng b ảo \\nhi ểm th ất nghi ệp là 99.200.000 \\nđồng, t ương đươ ng t ối đa 20 \\nl ần m ức l ương t ối thi ểu vùng][Xác nh ận l ại thông tin] Theo thông tin b ạn cung c ấp có t ổng thu nh ập là [A] đồng, m ức l ương làm c ăn \\nc ứ đóng b ảo hi ểm là [B] đồng, có [C] ng ười ph ụ thu ộc và b ạn đang ở [...] thu ộc vùng [D].\\n[Cách tính] ...\\n1. T ổng thu nh ập: [A] đồng\\n2. Các kho ản gi ảm tr ừ:\\n- B ảo hi ểm b ắt bu ộc: \\nCông th ức tính b ảo hi ểm b ắt bu ộc cho m ột m ức l ương [B] đồng s ẽ nh ư sau:\\nB ảo hi ểm xã h ội: [B] x 8% = ... đồng\\nB ảo hi ểm y t ế: [B] x 1.5% = ... đồng\\nB ảo hi ểm th ất nghi ệp: [B] x 1% = ... đồng\\nT ổng c ộng là: ... đồng\\n- Gi ảm tr ừ b ản thân: 11.000.000 đồng\\n- Gi ảm tr ừ ng ười ph ụ thu ộc: ... đồng\\n3. Thu nh ập tính thu ế: ... đồng\\n4. M ức thu ế áp d ụng cho kho ản thu nh ập này là ... \\n[K ết lu ận] Thu ế TNCN c ần đóng là ... đồng\\n[Câu k ết]...', mimetype='text/plain', start_char_idx=None, end_char_idx=None, text_template='{metadata_str}\\n\\n{content}', metadata_template='{key}: {value}', metadata_seperator='\\n'),\n",
       " Document(id_='054b5937-ebf2-4eb3-998e-87c96453128f', embedding=None, metadata={'page_label': '2', 'file_name': 'Công thức và kịch bản tính thuế TNCN về tiền công-tiền lương.pdf', 'file_path': 'C:\\\\Users\\\\My_Pc\\\\Desktop\\\\Thư Viện Pháp Luật final\\\\Tool TVPL AI\\\\Graph_rag\\\\cong_thuc_tinh_thue\\\\Công thức và kịch bản tính thuế TNCN về tiền công-tiền lương.pdf', 'file_type': 'application/pdf', 'file_size': 82452, 'creation_date': '2024-10-01', 'last_modified_date': '2024-09-26'}, excluded_embed_metadata_keys=['file_name', 'file_type', 'file_size', 'creation_date', 'last_modified_date', 'last_accessed_date'], excluded_llm_metadata_keys=['file_name', 'file_type', 'file_size', 'creation_date', 'last_modified_date', 'last_accessed_date'], relationships={}, text='Giúp tôi tính thu ế thu nh ập cá nhân,t ổng thu nh ập 12 tri ệu đồng/tháng, đóng \\nb ảo hi ểm 6 tri ệu đồng/tháng và có 1 ng ười ph ụ thu ộc. Tôi đang s ống ở qu ận 1, \\nthành ph ố H ồ Chí Minh.c ần đưa ra các đầu m ục rõ ràng h ơn, ví d ụ:\\n1. T ổng thu nh ập: [A] đồng\\n2. Các kho ản gi ảm tr ừ:\\n- B ảo hi ểm b ắt bu ộc: ... đồng\\n- Gi ảm tr ừ b ản thân: ... đồng\\n- Gi ảm tr ừ ng ười ph ụ thu ộc: ... đồng\\n3. Thu nh ập tính thu ế: ... đồng\\n4. M ức thu ế áp d ụng cho kho ản thu nh ập này là ... \\n5. Thu ế TNCN c ần n ộp là ... đồng\\nK ịch b ản trong tr ường h ợp: Đầy \\nđủ các thông tin, trong đó m ức \\nl ương làm c ăn c ứ đóng b ảo \\nhi ểm >= 46,800,000[Xác nh ận l ại thông tin] Theo thông tin b ạn cung c ấp có t ổng thu nh ập là [A] đồng, m ức l ương làm c ăn \\nc ứ đóng b ảo hi ểm là [B] đồng, có [C] ng ười ph ụ thu ộc và b ạn đang ở [...] thu ộc vùng [D].\\n[Cách tính] ...\\n1. T ổng thu nh ập: [A] đồng\\n2. Các kho ản gi ảm tr ừ:\\n- B ảo hi ểm b ắt bu ộc: \\nCông th ức tính b ảo hi ểm b ắt bu ộc cho m ột m ức l ương [B] đồng s ẽ nh ư sau:\\nB ảo hi ểm xã h ội: 46,800,000 x 8% = ... đồng\\nB ảo hi ểm y t ế: 46,800,000 x 1.5% = ... đồng\\nB ảo hi ểm th ất nghi ệp: [B] x 1% = ... đồng\\nT ổng c ộng là: ... đồng\\n- Gi ảm tr ừ b ản thân: 11.000.000 đồng\\n- Gi ảm tr ừ ng ười ph ụ thu ộc: ... đồng\\n3. Thu nh ập tính thu ế: ... đồng\\n4. M ức thu ế áp d ụng cho kho ản thu nh ập này là ... \\n[K ết lu ận] Thu ế TNCN c ần đóng là ... đồng\\n[Câu k ết]...\\nHãy giúp tôi tính thu ế thu nh ập cá nhân v ới m ức l ương 100 tri ệu, m ức l ương \\nđóng b ảo hi ểm 100 tri ệu và có 2 ng ười ph ụ thu ộc. Tôi đang s ống ở Huy ện Châu \\nĐức, BR-VTc ần đưa ra các đầu m ục rõ ràng \\nCác thông tin có trong câu h ỏi: T ổng thu nh ập + M ức l ương làm c ăn c ứ đóng b ảo hi ểm + S ố ng ười ph ụ thu ộc', mimetype='text/plain', start_char_idx=None, end_char_idx=None, text_template='{metadata_str}\\n\\n{content}', metadata_template='{key}: {value}', metadata_seperator='\\n'),\n",
       " Document(id_='b1f16497-0d9e-42cf-84e7-020fc2e1646f', embedding=None, metadata={'page_label': '3', 'file_name': 'Công thức và kịch bản tính thuế TNCN về tiền công-tiền lương.pdf', 'file_path': 'C:\\\\Users\\\\My_Pc\\\\Desktop\\\\Thư Viện Pháp Luật final\\\\Tool TVPL AI\\\\Graph_rag\\\\cong_thuc_tinh_thue\\\\Công thức và kịch bản tính thuế TNCN về tiền công-tiền lương.pdf', 'file_type': 'application/pdf', 'file_size': 82452, 'creation_date': '2024-10-01', 'last_modified_date': '2024-09-26'}, excluded_embed_metadata_keys=['file_name', 'file_type', 'file_size', 'creation_date', 'last_modified_date', 'last_accessed_date'], excluded_llm_metadata_keys=['file_name', 'file_type', 'file_size', 'creation_date', 'last_modified_date', 'last_accessed_date'], relationships={}, text='K ịch b ản trong tr ường h ợp: \\nKhông có Vùng[Xác nh ận l ại thông tin] Theo thông tin b ạn cung c ấp có t ổng thu nh ập là [A] đồng, m ức l ương làm c ăn \\nc ứ đóng b ảo hi ểm là [B] đồng, có [C] ng ười ph ụ thu ộc.\\n[Gi ả s ử các thông tin không có] : Gi ả s ử b ạn thu ộc Vùng 1 thì thu ế TNCN đượ c tính nh ư sau:\\n[Cách tính] ...\\n[K ết lu ận] Thu ế TNCN c ần đóng là ... đồng\\n[Câu k ết]...\\nTính thu ế thu nh ập cá nhân, m ức l ương c ủa tôi là 25 tri ệu đồng/tháng, m ức \\nl ương đóng b ảo hi ểm là 12 tri ệu đồng/tháng và không có ng ười ph ụ thu ộc.\\nKhông có Vùng nên m ặc định là Vùng I thì c ần ph ải [Gi ả \\ns ử b ạn thu ộc Vùng I] để khi khách hàng nhìn vào n ếu \\nh ọ thu ộc Vùng khác thì bi ết đườ ng mà h ọ h ỏi l ại.\\nCác thông tin có trong câu h ỏi: T ổng thu nh ập + M ức l ương làm c ăn c ứ đóng b ảo hi ểm\\nK ịch b ản trong tr ường h ợp: \\nKhông có S ố ng ười ph ụ thu ộc + \\nVùng[Xác nh ận l ại thông tin] Theo thông tin b ạn cung c ấp có t ổng thu nh ập là [A] đồng, m ức l ương làm c ăn \\nc ứ đóng b ảo hi ểm là [B] đồng.\\n[Gi ả s ử các thông tin không có] : Gi ả s ử b ạn thu ộc Vùng 1 và không có ng ười ph ụ thu ộc thì thu ế TNCN \\nđượ c tính nh ư sau:\\n[Cách tính] ...\\n[K ết lu ận] Thu ế TNCN c ần đóng là ... đồng\\n[Câu k ết]...\\nTính thu ế TNCN, thu nh ập 22 tri ệu/tháng, m ức l ương đóng b ảo hi ểm 7 tri ệuPh ải [Gi ả s ử b ạn thu ộc Vùng I và không có ng ười ph ụ \\nthu ộc]\\nN ếu m ức l ương đóng b ảo hi ểm  < 46,800,000 thì không \\nc ần Vùng\\nCác thông tin có trong câu h ỏi: T ổng thu nh ập\\nK ịch b ản trong tr ường h ợp: \\nKhông có M ức l ương làm c ăn \\nc ứ đóng b ảo hi ểm + S ố ng ười \\nph ụ thu ộc + Vùng[Xác nh ận l ại thông tin] Theo thông tin b ạn cung c ấp có t ổng thu nh ập là [A] đồng.\\n[Gi ả s ử các thông tin không có] : Gi ả s ử b ạn thu ộc Vùng 1 và không có ng ười ph ụ thu ộc, m ức l ương làm \\nc ăn c ứ đóng b ảo hi ểm là ... đồng thì thu ế TNCN đượ c tính nh ư sau:\\n[Cách tính] ...\\n[K ết lu ận] Thu ế TNCN c ần đóng là ... đồng\\n[Câu k ết]...', mimetype='text/plain', start_char_idx=None, end_char_idx=None, text_template='{metadata_str}\\n\\n{content}', metadata_template='{key}: {value}', metadata_seperator='\\n'),\n",
       " Document(id_='7a7e9588-e34d-4aee-b14d-eb2c9c4c393d', embedding=None, metadata={'page_label': '4', 'file_name': 'Công thức và kịch bản tính thuế TNCN về tiền công-tiền lương.pdf', 'file_path': 'C:\\\\Users\\\\My_Pc\\\\Desktop\\\\Thư Viện Pháp Luật final\\\\Tool TVPL AI\\\\Graph_rag\\\\cong_thuc_tinh_thue\\\\Công thức và kịch bản tính thuế TNCN về tiền công-tiền lương.pdf', 'file_type': 'application/pdf', 'file_size': 82452, 'creation_date': '2024-10-01', 'last_modified_date': '2024-09-26'}, excluded_embed_metadata_keys=['file_name', 'file_type', 'file_size', 'creation_date', 'last_modified_date', 'last_accessed_date'], excluded_llm_metadata_keys=['file_name', 'file_type', 'file_size', 'creation_date', 'last_modified_date', 'last_accessed_date'], relationships={}, text='Đối v ới m ức l ương để đóng b ảo hi ểm, có 2 tr ường h ợp:\\n1. C ần gi ải thích do không cung c ấp m ức l ương đóng b ảo hi ểm nên gi ả s ử v ới m ức l ương đóng b ảo \\nhi ểm là 5.000.000\\n2. Không đóng b ảo hi ểm\\n T ổng thu nh ập là 50 tri ệu, đóng thu ế bao nhiêu?\\nTr ường h ợp này tr ước c ần gi ả s ử tr ước:\\n[Gi ả s ử b ạn thu ộc Vùng 1 và không có ng ười ph ụ thu ộc, \\nm ức l ương làm c ăn c ứ đóng b ảo hi ểm là ... tri ệu đồng]\\n...\\n[Câu k ết] Xin vui lòng cung c ấp thêm thông tin c ủa b ạn \\nđể tôi có th ể tính toán chính xác h ơn.', mimetype='text/plain', start_char_idx=None, end_char_idx=None, text_template='{metadata_str}\\n\\n{content}', metadata_template='{key}: {value}', metadata_seperator='\\n'),\n",
       " Document(id_='c38f01f0-9567-4b58-afe7-bf04d7b40d0b', embedding=None, metadata={'page_label': '1', 'file_name': 'kịch bản tính thuế TNCN MỚI NHẤT.pdf', 'file_path': 'C:\\\\Users\\\\My_Pc\\\\Desktop\\\\Thư Viện Pháp Luật final\\\\Tool TVPL AI\\\\Graph_rag\\\\cong_thuc_tinh_thue\\\\kịch bản tính thuế TNCN MỚI NHẤT.pdf', 'file_type': 'application/pdf', 'file_size': 82998, 'creation_date': '2024-10-01', 'last_modified_date': '2024-09-25'}, excluded_embed_metadata_keys=['file_name', 'file_type', 'file_size', 'creation_date', 'last_modified_date', 'last_accessed_date'], excluded_llm_metadata_keys=['file_name', 'file_type', 'file_size', 'creation_date', 'last_modified_date', 'last_accessed_date'], relationships={}, text='p\\nCác thông tin có trong câu h ỏi\\nk ịch b ản trong tr ường h ợp\\nCâu h ỏi Câu tr ả l ời c ần có\\nCác thông tin có trong câu h ỏi: T ổng thu nh ập + M ức l ương làm c ăn c ứ đóng b ảo hi ểm + S ố ng ười ph ụ thu ộc + Vùng \\nK ịch b ản trong tr ường h ợp: Đầy \\nđủ các thông tin, trong đó m ức \\nl ương làm c ăn c ứ đóng b ảo \\nhi ểm < 46,800,000\\n=> Không c ần đưa thông tin v ề \\n[M ức l ương t ối đa để đóng b ảo \\nhi ểm th ất nghi ệp là 99.200.000 \\nđồng, t ương đươ ng t ối đa 20 \\nl ần m ức l ương t ối thi ểu vùng][Xác nh ận l ại thông tin] Theo thông tin b ạn cung c ấp có t ổng thu nh ập là [A] đồng, m ức l ương làm c ăn \\nc ứ đóng b ảo hi ểm là [B] đồng, có [C] ng ười ph ụ thu ộc và b ạn đang ở [...] thu ộc vùng [D].\\n[Cách tính] ...\\n1. T ổng thu nh ập: [A] đồng\\n2. Các kho ản gi ảm tr ừ:\\n- B ảo hi ểm b ắt bu ộc: \\nCông th ức tính b ảo hi ểm b ắt bu ộc cho m ột m ức l ương [B] đồng s ẽ nh ư sau:\\nB ảo hi ểm xã h ội: [B] x 8% = ... đồng\\nB ảo hi ểm y t ế: [B] x 1.5% = ... đồng\\nB ảo hi ểm th ất nghi ệp: [B] x 1% = ... đồng\\nT ổng c ộng là: ... đồng\\n- Gi ảm tr ừ b ản thân: 11.000.000 đồng\\n- Gi ảm tr ừ ng ười ph ụ thu ộc: ... đồng\\n3. Thu nh ập tính thu ế: ... đồng\\n4. M ức thu ế áp d ụng cho kho ản thu nh ập này là ... \\n[K ết lu ận] Thu ế TNCN c ần đóng là ... đồng\\n[Câu k ết]...', mimetype='text/plain', start_char_idx=None, end_char_idx=None, text_template='{metadata_str}\\n\\n{content}', metadata_template='{key}: {value}', metadata_seperator='\\n'),\n",
       " Document(id_='09ee4ccf-ab00-4c8f-ad0d-d9b24fc00c83', embedding=None, metadata={'page_label': '2', 'file_name': 'kịch bản tính thuế TNCN MỚI NHẤT.pdf', 'file_path': 'C:\\\\Users\\\\My_Pc\\\\Desktop\\\\Thư Viện Pháp Luật final\\\\Tool TVPL AI\\\\Graph_rag\\\\cong_thuc_tinh_thue\\\\kịch bản tính thuế TNCN MỚI NHẤT.pdf', 'file_type': 'application/pdf', 'file_size': 82998, 'creation_date': '2024-10-01', 'last_modified_date': '2024-09-25'}, excluded_embed_metadata_keys=['file_name', 'file_type', 'file_size', 'creation_date', 'last_modified_date', 'last_accessed_date'], excluded_llm_metadata_keys=['file_name', 'file_type', 'file_size', 'creation_date', 'last_modified_date', 'last_accessed_date'], relationships={}, text='Giúp tôi tính thu ế thu nh ập cá \\nnhân,t ổng thu nh ập 12 tri ệu \\nđồng/tháng, đóng b ảo hi ểm 6 \\ntri ệu đồng/tháng và có 1 ng ười \\nph ụ thu ộc. Tôi đang s ống ở \\nqu ận 1, thành ph ố H ồ Chí Minh.c ần đưa ra các đầu m ục rõ ràng h ơn, ví d ụ:\\n1. T ổng thu nh ập: [A] đồng\\n2. Các kho ản gi ảm tr ừ:\\n- B ảo hi ểm b ắt bu ộc: ... đồng\\n- Gi ảm tr ừ b ản thân: ... đồng\\n- Gi ảm tr ừ ng ười ph ụ thu ộc: ... đồng\\n3. Thu nh ập tính thu ế: ... đồng\\n4. M ức thu ế áp d ụng cho kho ản thu nh ập này là ... \\n5. Thu ế TNCN c ần n ộp là ... đồng\\nK ịch b ản trong tr ường h ợp: Đầy \\nđủ các thông tin, trong đó m ức \\nl ương làm c ăn c ứ đóng b ảo \\nhi ểm >= 46,800,000[Xác nh ận l ại thông tin] Theo thông tin b ạn cung c ấp có t ổng thu nh ập là [A] đồng, m ức l ương làm c ăn \\nc ứ đóng b ảo hi ểm là [B] đồng, có [C] ng ười ph ụ thu ộc và b ạn đang ở [...] thu ộc vùng [D].\\n[Cách tính] ...\\n1. T ổng thu nh ập: [A] đồng\\n2. Các kho ản gi ảm tr ừ:\\n- B ảo hi ểm b ắt bu ộc: \\nCông th ức tính b ảo hi ểm b ắt bu ộc cho m ột m ức l ương [B] đồng s ẽ nh ư sau:\\nB ảo hi ểm xã h ội: 46,800,000 x 8% = ... đồng\\nB ảo hi ểm y t ế: 46,800,000 x 1.5% = ... đồng\\nB ảo hi ểm th ất nghi ệp: [B] x 1% = ... đồng\\nT ổng c ộng là: ... đồng\\n- Gi ảm tr ừ b ản thân: 11.000.000 đồng\\n- Gi ảm tr ừ ng ười ph ụ thu ộc: ... đồng\\n3. Thu nh ập tính thu ế: ... đồng\\n4. M ức thu ế áp d ụng cho kho ản thu nh ập này là ... \\n[K ết lu ận] Thu ế TNCN c ần đóng là ... đồng\\n[Câu k ết]...\\nHãy giúp tôi tính thu ế thu nh ập \\ncá nhân v ới m ức l ương 100 \\ntri ệu, m ức l ương đóng b ảo \\nhi ểm 100 tri ệu và có 2 ng ười \\nph ụ thu ộc. Tôi đang s ống ở \\nHuy ện Châu Đức, BR-VTc ần đưa ra các đầu m ục rõ ràng ', mimetype='text/plain', start_char_idx=None, end_char_idx=None, text_template='{metadata_str}\\n\\n{content}', metadata_template='{key}: {value}', metadata_seperator='\\n'),\n",
       " Document(id_='53ecaaf3-e27f-413e-a756-3589fb7424e4', embedding=None, metadata={'page_label': '3', 'file_name': 'kịch bản tính thuế TNCN MỚI NHẤT.pdf', 'file_path': 'C:\\\\Users\\\\My_Pc\\\\Desktop\\\\Thư Viện Pháp Luật final\\\\Tool TVPL AI\\\\Graph_rag\\\\cong_thuc_tinh_thue\\\\kịch bản tính thuế TNCN MỚI NHẤT.pdf', 'file_type': 'application/pdf', 'file_size': 82998, 'creation_date': '2024-10-01', 'last_modified_date': '2024-09-25'}, excluded_embed_metadata_keys=['file_name', 'file_type', 'file_size', 'creation_date', 'last_modified_date', 'last_accessed_date'], excluded_llm_metadata_keys=['file_name', 'file_type', 'file_size', 'creation_date', 'last_modified_date', 'last_accessed_date'], relationships={}, text='Các thông tin có trong câu h ỏi: T ổng thu nh ập + M ức l ương làm c ăn c ứ đóng b ảo hi ểm + S ố ng ười ph ụ thu ộc\\nK ịch b ản trong tr ường h ợp: \\nKhông có Vùng[Xác nh ận l ại thông tin] Theo thông tin b ạn cung c ấp có t ổng thu nh ập là [A] đồng, m ức l ương làm c ăn \\nc ứ đóng b ảo hi ểm là [B] đồng, có [C] ng ười ph ụ thu ộc.\\n[Gi ả s ử các thông tin không có] : Gi ả s ử b ạn thu ộc Vùng 1 thì thu ế TNCN đượ c tính nh ư sau:\\n[Cách tính] ...\\n[K ết lu ận] Thu ế TNCN c ần đóng là ... đồng\\n[Câu k ết]...\\nTính thu ế thu nh ập cá nhân, \\nm ức l ương c ủa tôi là 25 tri ệu \\nđồng/tháng, m ức l ương đóng \\nb ảo hi ểm là 12 tri ệu đồng/tháng \\nvà không có ng ười ph ụ thu ộc.\\nKhông có Vùng nên m ặc định là Vùng I thì c ần ph ải [Gi ả \\ns ử b ạn thu ộc Vùng I] để khi khách hàng nhìn vào n ếu \\nh ọ thu ộc Vùng khác thì bi ết đườ ng mà h ọ h ỏi l ại.\\nCác thông tin có trong câu h ỏi: T ổng thu nh ập + M ức l ương làm c ăn c ứ đóng b ảo hi ểm\\nK ịch b ản trong tr ường h ợp: \\nKhông có S ố ng ười ph ụ thu ộc + \\nVùng[Xác nh ận l ại thông tin] Theo thông tin b ạn cung c ấp có t ổng thu nh ập là [A] đồng, m ức l ương làm c ăn \\nc ứ đóng b ảo hi ểm là [B] đồng.\\n[Gi ả s ử các thông tin không có] : Gi ả s ử b ạn thu ộc Vùng 1 và không có ng ười ph ụ thu ộc thì thu ế TNCN \\nđượ c tính nh ư sau:\\n[Cách tính] ...\\n[K ết lu ận] Thu ế TNCN c ần đóng là ... đồng\\n[Câu k ết]...\\nTính thu ế TNCN, thu nh ập 22 \\ntri ệu/tháng, m ức l ương đóng \\nb ảo hi ểm 7 tri ệuPh ải [Gi ả s ử b ạn thu ộc Vùng I và không có ng ười ph ụ \\nthu ộc]\\nN ếu m ức l ương đóng b ảo hi ểm  < 46,800,000 thì không \\nc ần Vùng\\nCác thông tin có trong câu h ỏi: T ổng thu nh ập', mimetype='text/plain', start_char_idx=None, end_char_idx=None, text_template='{metadata_str}\\n\\n{content}', metadata_template='{key}: {value}', metadata_seperator='\\n'),\n",
       " Document(id_='0b608d76-bace-4d35-8fb2-87a3862e1db9', embedding=None, metadata={'page_label': '4', 'file_name': 'kịch bản tính thuế TNCN MỚI NHẤT.pdf', 'file_path': 'C:\\\\Users\\\\My_Pc\\\\Desktop\\\\Thư Viện Pháp Luật final\\\\Tool TVPL AI\\\\Graph_rag\\\\cong_thuc_tinh_thue\\\\kịch bản tính thuế TNCN MỚI NHẤT.pdf', 'file_type': 'application/pdf', 'file_size': 82998, 'creation_date': '2024-10-01', 'last_modified_date': '2024-09-25'}, excluded_embed_metadata_keys=['file_name', 'file_type', 'file_size', 'creation_date', 'last_modified_date', 'last_accessed_date'], excluded_llm_metadata_keys=['file_name', 'file_type', 'file_size', 'creation_date', 'last_modified_date', 'last_accessed_date'], relationships={}, text='K ịch b ản trong tr ường h ợp: \\nKhông có M ức l ương làm c ăn \\nc ứ đóng b ảo hi ểm + S ố ng ười \\nph ụ thu ộc + Vùng[Xác nh ận l ại thông tin] Theo thông tin b ạn cung c ấp có t ổng thu nh ập là [A] đồng.\\n[Gi ả s ử các thông tin không có] : Gi ả s ử b ạn thu ộc Vùng 1 và không có ng ười ph ụ thu ộc, m ức l ương làm \\nc ăn c ứ đóng b ảo hi ểm là ... đồng thì thu ế TNCN đượ c tính nh ư sau:\\n[Cách tính] ...\\n[K ết lu ận] Thu ế TNCN c ần đóng là ... đồng\\n[Câu k ết]...\\nĐối v ới m ức l ương để đóng b ảo hi ểm, có 2 tr ường h ợp:\\n1. C ần gi ải thích do không cung c ấp m ức l ương đóng b ảo hi ểm nên gi ả s ử v ới m ức l ương đóng b ảo \\nhi ểm là 5.000.000\\n2. Không đóng b ảo hi ểm\\n T ổng thu nh ập là 50 tri ệu, đóng \\nthu ế bao nhiêu?\\nTr ường h ợp này tr ước c ần gi ả s ử tr ước:\\n[Gi ả s ử b ạn thu ộc Vùng 1 và không có ng ười ph ụ thu ộc, \\nm ức l ương làm c ăn c ứ đóng b ảo hi ểm là ... tri ệu đồng]\\n...\\n[Câu k ết] Xin vui lòng cung c ấp thêm thông tin c ủa b ạn \\nđể tôi có th ể tính toán chính xác h ơn.', mimetype='text/plain', start_char_idx=None, end_char_idx=None, text_template='{metadata_str}\\n\\n{content}', metadata_template='{key}: {value}', metadata_seperator='\\n'),\n",
       " Document(id_='472e13ae-c9ae-41bf-af5d-d59a756f156a', embedding=None, metadata={'page_label': '1', 'file_name': 'Tính thuế TNCN _ còn lại - Bản quyền, nhượng quyền TM (1).pdf', 'file_path': 'C:\\\\Users\\\\My_Pc\\\\Desktop\\\\Thư Viện Pháp Luật final\\\\Tool TVPL AI\\\\Graph_rag\\\\cong_thuc_tinh_thue\\\\Tính thuế TNCN _ còn lại - Bản quyền, nhượng quyền TM (1).pdf', 'file_type': 'application/pdf', 'file_size': 88363, 'creation_date': '2024-10-01', 'last_modified_date': '2024-09-23'}, excluded_embed_metadata_keys=['file_name', 'file_type', 'file_size', 'creation_date', 'last_modified_date', 'last_accessed_date'], excluded_llm_metadata_keys=['file_name', 'file_type', 'file_size', 'creation_date', 'last_modified_date', 'last_accessed_date'], relationships={}, text='Thuế TNCN t ừ bản quy ền, nh ượng quy ền thương mại (chung công th ức nên để chung)\\nCÔNG TH ỨC: Số thuế TNCN ph ải nộp = Thu nh ập tính thu ế * 5% Thu nhập tính thuế: thu nhập vượt trên 10 triệu đồng theo từng hợp đồng.\\nCác thông tin c ần khai thác\\n + Đối với thu nhập từ bản quyền:\\nNếu cùng một đối tượng của quyền sở hữu trí tuệ, chuyển giao công nghệ \\nnhưng làm nhiều hợp đồng chuyển giao với một đối tượng sử dụng thì thu nhập \\ntính thuế là phần thu nhập vượt trên 10 triệu đồng tính trên tổng các hợp đồng\\nNếu đối tượng chuyển giao, chuyển quyền là đồng sở hữu thì thu nhập tính thuế \\nđược phân chia cho từng cá nhân sở hữu theo tỷ lệ sở hữu trên giấy chứng \\nnhận\\n+ Đối với nhượng quyền thương mại:\\nNếu cùng là một đối tượng của quyền thương mại nhưng việc chuyển nhượng \\nthực hiện thành nhiều hợp đồng thì tính trên tổng các hợp đồng.Khoản thu nh ập nhận đượ c300.000.000\\nCác b ước để tính\\nKhoản thu nh ập nhận đượ c AVND\\nThu nh ập tính thu ế (A - 10 tri ệu)VND\\nThuế suất 5%\\nSố thuế phải nộp  (A-10 tri ệu)* 5% \\nThông tin có th ể xuất ra\\nSố thuế phải nộp 14.500.000\\nVí dụ Kịch bản:\\ntôi có ký h ợp đồng chuy ển nhượng quy ền sở hữu trí tu ệ nhãn hi ệu với công ty B giá 100 tri ệu thì n ộp thu ế thu nh ập cá nhân bao nhiêu\\nNếu bạn chuy ển nhượng nhãn hi ệu cho công ty B v ới giá 100 tri ệu, thu nh ập tính thu ế sẽ là ph ần thu nh ập vượt trên 10 tri ệu đồng.\\nCách tính thu ế thu nh ập cá nhân ph ải nộp sẽ đượ c thực hiện như sau:\\n1. Thu nh ập tính thu ế: \\n100 tri ệu - 10 tri ệu = 90 tri ệu\\n2. Thu ế suất thuế thu nh ập cá nhân: 5%.\\nThuế thu nh ập cá nhân ph ải nộp = 90.000.000 x 5% = 4.500.000 đồng.                                        \\ntôi ký hai h ợp đồng chuy ển nhượng nhãn hi ệu B giá 100 tri ệu và nhãn hi ệu C giá 50 tri ệu cho công ty D thì ph ải nộp thu ế thu nh ập cá nhân bao nhiêu\\nNếu bạn chuy ển nhượng nhãn hi ệu B giá 100 tri ệu, nhãn hi ệu C giá 50 tri ệu cho công ty D, thu nh ập tính thu ế sẽ là ph ần thu nh ập vượt trên 10 tri ệu đồng.\\nCách tính thu ế thu nh ập cá nhân ph ải nộp sẽ đượ c thực hiện như sau:\\n1. Thu nh ập tính thu ế: \\n(100 tri ệu + 50 tri ệu) - 10 tri ệu = 140 tri ệu\\n2. Thu ế suất thuế thu nh ập cá nhân: 5%.\\nThuế thu nh ập cá nhân ph ải nộp = 140.000.000 x 5% = 7.500.000 đồng. \\ntôi ký hai h ợp đồng chuy ển nhượng nhãn hi ệu B giá 100 tri ệu cho công ty D và nhãn hi ệu C giá 50 tri ệu cho công ty E thì ph ải nộp thu ế thu nh ập cá nhân là?\\nNếu bạn chuy ển nhượng nhãn hi ệu B giá 100 tri ệu cho công ty D, nhãn hi ệu C giá 50 tri ệu cho công ty E, thu nh ập tính thu ế sẽ là ph ần thu nh ập vượt trên 10 tri ệu đồng mỗi hợp đồng.\\nCách tính thu ế thu nh ập cá nhân ph ải nộp sẽ đượ c thực hiện như sau:\\n1. Thu nh ập tính thu ế: \\n(100 tri ệu - 10 tri ệu) + (50 tri ệu - 10 tri ệu) = 130 tri ệu\\n2. Thu ế suất thuế thu nh ập cá nhân: 5%.\\nThuế thu nh ập cá nhân ph ải nộp = 130.000.000 x 5% = 6.500.000 đồng. ', mimetype='text/plain', start_char_idx=None, end_char_idx=None, text_template='{metadata_str}\\n\\n{content}', metadata_template='{key}: {value}', metadata_seperator='\\n'),\n",
       " Document(id_='2987d0c3-324c-4e7c-b4d0-ef698f724ed5', embedding=None, metadata={'page_label': '1', 'file_name': 'Tính thuế TNCN _ còn lại - Chuyển nhượng BĐS.pdf', 'file_path': 'C:\\\\Users\\\\My_Pc\\\\Desktop\\\\Thư Viện Pháp Luật final\\\\Tool TVPL AI\\\\Graph_rag\\\\cong_thuc_tinh_thue\\\\Tính thuế TNCN _ còn lại - Chuyển nhượng BĐS.pdf', 'file_type': 'application/pdf', 'file_size': 69286, 'creation_date': '2024-10-01', 'last_modified_date': '2024-09-23'}, excluded_embed_metadata_keys=['file_name', 'file_type', 'file_size', 'creation_date', 'last_modified_date', 'last_accessed_date'], excluded_llm_metadata_keys=['file_name', 'file_type', 'file_size', 'creation_date', 'last_modified_date', 'last_accessed_date'], relationships={}, text='Thuế TNCN t ừ chuy ển nhượng bất động sản\\nCÔNG TH ỨC: Số thuế TNCN ph ải nộp = Giá chuy ển nhượng x Thu ế suất 2%\\nCác thông tin c ần khai thác\\nGiá chuy ển nh ượng2.000.000.000 VND\\nCác b ước để tính\\nGiá chuy ển nh ượng100.000.000 VND\\nThu ế su ất 2%\\nThông tin có th ể xu ất ra\\nS ố thu ế ph ải n ộp 40000000\\nVí dụ Kịch bản:\\ntôi bán c ăn hộ chung c ư có giá 2 t ỷ thì n ộp thu ế thu nh ập cá nhân bao nhiêu\\nN ếu b ạn bán c ăn h ộ v ới giá là 2 t ỷ đồng, cách tính thu ế thu nh ập cá nhân ph ải n ộp s ẽ đượ c th ực hi ện nh ư sau:\\n1. Thu nh ập tính thu ế: 2 t ỷ\\n2. Thu ế su ất thu ế thu nh ập cá nhân: 2%.\\nThu ế thu nh ập cá nhân ph ải n ộp = 2.000.000.000 x 2% = 40.000.000 đồng.', mimetype='text/plain', start_char_idx=None, end_char_idx=None, text_template='{metadata_str}\\n\\n{content}', metadata_template='{key}: {value}', metadata_seperator='\\n'),\n",
       " Document(id_='71e87078-26f8-4e66-9502-e6d9b281d54d', embedding=None, metadata={'page_label': '1', 'file_name': 'Tính thuế TNCN _ còn lại - HKD, cá nhân kinh doanh.pdf', 'file_path': 'C:\\\\Users\\\\My_Pc\\\\Desktop\\\\Thư Viện Pháp Luật final\\\\Tool TVPL AI\\\\Graph_rag\\\\cong_thuc_tinh_thue\\\\Tính thuế TNCN _ còn lại - HKD, cá nhân kinh doanh.pdf', 'file_type': 'application/pdf', 'file_size': 293897, 'creation_date': '2024-10-01', 'last_modified_date': '2024-09-23'}, excluded_embed_metadata_keys=['file_name', 'file_type', 'file_size', 'creation_date', 'last_modified_date', 'last_accessed_date'], excluded_llm_metadata_keys=['file_name', 'file_type', 'file_size', 'creation_date', 'last_modified_date', 'last_accessed_date'], relationships={}, text='Thuế TNCN đối với hộ kinh doanh, cá nhân kinh doanh (theo hình th ức kê khai theo Tháng ho ặc Quý) (Ch ưa tính thu ế GTGT)\\nCÔNG TH ỨC: Số thuế TNCN ph ải nộp = Doanh thu x Thu ế suất\\nSTT Lĩnh vực Thuế suất Các thông tin c ần khai thác\\nDoanh thu (Ti ền bán hàng; Ti ền gia công; Ti ền hoa h ồng; Ti ền cung ứng dịch vụ) theo tháng ho ặc quý 100.000.000 VND 1Phân phối, cung cấp hàng \\nhóa 0,5%\\nNgành ngh ề kinh doanh Cắt tóc 2Dịch vụ, xây dựng không bao \\nthầu nguyên vật liệu 2%\\n3Thuê tài sản, đại lý bảo hiểm, \\nđại lý xổ số, đại lý bán hàng \\nđa cấp 5%\\n4Sản xuất, vận tải, dịch vụ có \\ngắn với hàng hoá, xây dựng \\ncó bao thầu nguyên vật liệu 1,5%\\nCác b ước để tính 5 Hoạt động kinh doanh khác 1%\\nDoanh thu (Ti ền bán hàng; Ti ền gia công; Ti ền hoa h ồng; Ti ền cung ứng dịch vụ) theo tháng ho ặc quý A\\nThuế suất 2,0%\\nSố thuế TNCN ph ải nộp  A x Thu ế suất \\nThông tin có th ể xuất ra\\nSố thuế TNCN ph ải nộp 2000000\\n(H ộ kinh doanh, cá nhân kinh doanh có doanh thu t ừ ho ạt động s ản xu ất, kinh doanh trong n ăm d ương l ịch t ừ 100 tri ệu đồng tr ở xu ống thì thu ộc tr ường h ợp không ph ải n ộp \\nthu ế GTGT và không ph ải n ộp thu ế TNCN)\\nThuế phải nộp đối với hộ kinh doanh, cá nhân kinh doanh (theo hình th ức kê khai theo Tháng ho ặc Quý) (G ồm Thu ế GTGT + Thu ế TNCN)\\nCÔNG TH ỨC: Số thuế phải nộp = Doanh thu x T ỷ lệ thuế\\nCác thông tin c ần khai thác\\nDoanh thu (Ti ền bán hàng; Ti ền gia công; Ti ền hoa h ồng; Ti ền cung ứng dịch vụ) 100.000.000 VND\\nNgành ngh ề kinh doanh Cắt tóc\\nCác b ước để tính\\nDoanh thu (Ti ền bán hàng; Ti ền gia công; Ti ền hoa h ồng; Ti ền cung ứng dịch vụ) theo tháng ho ặc quý A\\nTỉ lệ tính thu ế GTGT 5,0%\\nThuế suất Thu ế TNCN 2%\\nSố thuế phải nộp  A x (T ỉ lệ GTGT+Thu ế suất TNCN) \\nThông tin có th ể xuất ra\\nSố thuế phải nộp 7000000\\n(H ộ kinh doanh, cá nhân kinh doanh có doanh thu t ừ ho ạt động s ản xu ất, kinh doanh trong n ăm d ương l ịch t ừ 100 tri ệu đồng tr ở xu ống thì thu ộc tr ường h ợp không ph ải n ộp \\nthu ế GTGT và không ph ải n ộp thu ế TNCN)\\nVí dụ Kịch bản:\\nVí dụ 1: Chỉ hỏi thuế TNCN\\nDoanh thu 1 tháng tiệm cắt tóc của tôi là 100 triệu thì tôi phải nộp thuế thu nhập cá nhân bao nhiêu\\nNếu bạn kinh doanh dịch vụ cắt tóc, doanh thu 1 tháng của bạn là 100 triệu đồng, cách tính thuế thu nhập cá nhân phải nộp sẽ được thực hiện như sau:\\n1. Ngành nghề kinh doanh: Cắt tóc\\n2. Doanh thu: 100 triệu\\n3. Thuế suất thuế thu nhập cá nhân: 2%.\\nThuế thu nhập cá nhân phải nộp = 100.000.000 x 2% = 2.000.000 đồng.\\nVí dụ 2: Hỏi thuế phải nộp (khi này rơi vào trường hợp 2, trả lời số thuế phải nộp bao gồm thuế GTGT và thuế TNCN)\\nDoanh thu 1 tháng tiệm cắt tóc của tôi là 100 triệu thì tôi phải nộp thuế bao nhiêu\\n', mimetype='text/plain', start_char_idx=None, end_char_idx=None, text_template='{metadata_str}\\n\\n{content}', metadata_template='{key}: {value}', metadata_seperator='\\n'),\n",
       " Document(id_='685a792a-cb3a-4499-a8d1-66fbb897fdbe', embedding=None, metadata={'page_label': '2', 'file_name': 'Tính thuế TNCN _ còn lại - HKD, cá nhân kinh doanh.pdf', 'file_path': 'C:\\\\Users\\\\My_Pc\\\\Desktop\\\\Thư Viện Pháp Luật final\\\\Tool TVPL AI\\\\Graph_rag\\\\cong_thuc_tinh_thue\\\\Tính thuế TNCN _ còn lại - HKD, cá nhân kinh doanh.pdf', 'file_type': 'application/pdf', 'file_size': 293897, 'creation_date': '2024-10-01', 'last_modified_date': '2024-09-23'}, excluded_embed_metadata_keys=['file_name', 'file_type', 'file_size', 'creation_date', 'last_modified_date', 'last_accessed_date'], excluded_llm_metadata_keys=['file_name', 'file_type', 'file_size', 'creation_date', 'last_modified_date', 'last_accessed_date'], relationships={}, text='Nếu bạn kinh doanh dịch vụ cắt tóc, doanh thu 1 tháng của bạn là 100 triệu đồng, cách tính thuế thu nhập cá nhân phải nộp sẽ được thực hiện như sau:\\n1. Ngành nghề kinh doanh: Cắt tóc\\n2. Doanh thu: 100 triệu\\n3. Thuế suất thuế thu nhập cá nhân: 2%.\\n4. Tỉ lệ tính thuế GTGT: 5%\\nThuế thu nhập cá nhân phải nộp = 100.000.000 x 2% = 2.000.000 đồng.\\nThuế GTGT phải nộp = 100.000.000 x 5% = 5.000.000 đồng\\nSố thuế bạn phải nộp bao gồm thuế GTGT và thuế TNCN là 7.000.000 đồng.\\n', mimetype='text/plain', start_char_idx=None, end_char_idx=None, text_template='{metadata_str}\\n\\n{content}', metadata_template='{key}: {value}', metadata_seperator='\\n'),\n",
       " Document(id_='bb149779-f9fd-4e4e-be79-646f4eaa2165', embedding=None, metadata={'page_label': '1', 'file_name': 'Tính thuế TNCN _ còn lại - Thừa kế, quà tặng.pdf', 'file_path': 'C:\\\\Users\\\\My_Pc\\\\Desktop\\\\Thư Viện Pháp Luật final\\\\Tool TVPL AI\\\\Graph_rag\\\\cong_thuc_tinh_thue\\\\Tính thuế TNCN _ còn lại - Thừa kế, quà tặng.pdf', 'file_type': 'application/pdf', 'file_size': 102707, 'creation_date': '2024-10-01', 'last_modified_date': '2024-09-23'}, excluded_embed_metadata_keys=['file_name', 'file_type', 'file_size', 'creation_date', 'last_modified_date', 'last_accessed_date'], excluded_llm_metadata_keys=['file_name', 'file_type', 'file_size', 'creation_date', 'last_modified_date', 'last_accessed_date'], relationships={}, text='Thuế TNCN t ừ thừa kế, quà t ặng\\nCÔNG TH ỨC: Số thuế TNCN ph ải nộp = Thu nh ập tính thu ế * 10%\\nCác thông tin c ần khai thác\\nGiá tr ị tài s ản nh ận đượ c 2.000.000.000\\nCác b ước để tính\\nGiá tr ị tài s ản nh ận đượ c AVND\\nThu nh ập tính thu ế (A - 10 tri ệu)VND\\nThu ế su ất 10%\\nS ố thu ế ph ải n ộp  (A-10 tri ệu)* 10% \\nThông tin có th ể xu ất ra\\nS ố thu ế ph ải n ộp 199.000.000\\nT ải s ản đượ c th ừa k ế, đượ c t ặng là ch ứng khoán; ph ần v ốn trong các t ổ ch ức kinh t ế, \\nc ơ s ở kinh doanh; b ất động s ản; các tài s ản khác ph ải đăng ký quy ền s ở h ữu ho ặc \\nquy ền s ử d ụng thì ph ải n ộp thu ế TNCN.\\nNh ận th ừa k ế, quà t ặng là b ất động s ản (bao g ồm c ả nhà ở, công trình xây d ựng hình \\nthành trong t ương lai theo quy định c ủa pháp lu ật v ề kinh doanh b ất động s ản) gi ữa: v ợ \\nv ới ch ồng; cha đẻ, m ẹ đẻ v ới con đẻ; cha nuôi, m ẹ nuôi v ới con nuôi; cha ch ồng, m ẹ \\nch ồng v ới con dâu; cha v ợ, m ẹ v ợ v ới con r ể; ông n ội, bà n ội v ới cháu n ội, ông ngo ại, bà \\nngo ại v ới cháu ngo ại; anh ch ị em ru ột v ới nhau thì đượ c mi ễn thu ế TNCN.', mimetype='text/plain', start_char_idx=None, end_char_idx=None, text_template='{metadata_str}\\n\\n{content}', metadata_template='{key}: {value}', metadata_seperator='\\n'),\n",
       " Document(id_='3d2a4d58-58df-4845-8d87-708bf07c3708', embedding=None, metadata={'page_label': '2', 'file_name': 'Tính thuế TNCN _ còn lại - Thừa kế, quà tặng.pdf', 'file_path': 'C:\\\\Users\\\\My_Pc\\\\Desktop\\\\Thư Viện Pháp Luật final\\\\Tool TVPL AI\\\\Graph_rag\\\\cong_thuc_tinh_thue\\\\Tính thuế TNCN _ còn lại - Thừa kế, quà tặng.pdf', 'file_type': 'application/pdf', 'file_size': 102707, 'creation_date': '2024-10-01', 'last_modified_date': '2024-09-23'}, excluded_embed_metadata_keys=['file_name', 'file_type', 'file_size', 'creation_date', 'last_modified_date', 'last_accessed_date'], excluded_llm_metadata_keys=['file_name', 'file_type', 'file_size', 'creation_date', 'last_modified_date', 'last_accessed_date'], relationships={}, text='Ví dụ Kịch bản:\\ntôi đượ c dì tặng căn hộ 2 tỷ thì ph ải nộp thu ế bao nhiêu\\nN ếu b ạn đượ c t ặng c ăn h ộ có giá 2 t ỷ, thu nh ập tính thu ế s ẽ là ph ần thu nh ập v ượt trên 10 tri ệu đồng.\\nCách tính thu ế thu nh ập cá nhân ph ải n ộp s ẽ đượ c th ực hi ện nh ư sau:\\n1. Thu nh ập tính thu ế: 2 t ỷ - 10 tri ệu = 1 t ỷ 9\\n2. Thu ế su ất thu ế thu nh ập cá nhân: 10%.\\nThu ế thu nh ập cá nhân ph ải n ộp = 1.900.000.000 x 10% = 199.000.000 đồng.\\nL ưu ý: Nh ận th ừa k ế, quà t ặng là b ất động s ản gi ữa: v ợ v ới ch ồng; cha đẻ, m ẹ đẻ v ới con đẻ; cha nuôi, m ẹ nuôi v ới con nuôi; \\ncha ch ồng, m ẹ ch ồng v ới con dâu; cha v ợ, m ẹ v ợ v ới con r ể; ông n ội, bà n ội v ới cháu n ội, ông ngo ại, bà ngo ại v ới cháu ngo ại; \\nanh ch ị em ru ột v ới nhau thì đượ c mi ễn thu ế TNCN.', mimetype='text/plain', start_char_idx=None, end_char_idx=None, text_template='{metadata_str}\\n\\n{content}', metadata_template='{key}: {value}', metadata_seperator='\\n'),\n",
       " Document(id_='d2222362-17f0-4b76-84cd-e3782786da2c', embedding=None, metadata={'page_label': '1', 'file_name': 'Tính thuế TNCN _ còn lại - Trúng thưởng.pdf', 'file_path': 'C:\\\\Users\\\\My_Pc\\\\Desktop\\\\Thư Viện Pháp Luật final\\\\Tool TVPL AI\\\\Graph_rag\\\\cong_thuc_tinh_thue\\\\Tính thuế TNCN _ còn lại - Trúng thưởng.pdf', 'file_type': 'application/pdf', 'file_size': 125624, 'creation_date': '2024-10-01', 'last_modified_date': '2024-09-23'}, excluded_embed_metadata_keys=['file_name', 'file_type', 'file_size', 'creation_date', 'last_modified_date', 'last_accessed_date'], excluded_llm_metadata_keys=['file_name', 'file_type', 'file_size', 'creation_date', 'last_modified_date', 'last_accessed_date'], relationships={}, text='Thuế TNCN t ừ trúng th ưởng\\nCÔNG TH ỨC: Số thuế TNCN ph ải nộp = Thu nh ập tính thu ế * 10% Thu nh ập tính thu ế:\\nThu nhập tính thuế từ trúng thưởng là phần giá trị giải thưởng \\nvượt trên 10 triệu đồng mà người nộp thuế nhận được theo từng \\nlần trúng thưởng không phụ thuộc vào số lần nhận tiền thưởng.\\nĐối với trúng thưởng xổ số là toàn bộ giá trị tiền thưởng vượt trên \\n10 triệu đồng trên một (01) vé xổ số nhận được trong một đợt \\nquay thưởng.Các thông tin c ần khai thác\\nGiá tr ị giải thưởng 30.000.000 VND\\nSố vé đượ c thưởng (Tr ường hợp mua vé s ố) 1Tờ\\nCác b ước để tính\\nGiá tr ị giải thưởng AVND\\nThu nh ập tính thu ế (A - 10 tri ệu)VND\\nThuế suất 10%\\nSố thuế phải nộp  (A-10 tri ệu)* 10% + (B-10 tri ệu)*10% \\nThông tin có th ể xuất ra\\nSố thuế phải nộp 2.000.000\\nVí dụ Kịch bản:\\nVí d ụ 1:\\ntôi trúng vé s ố 30 tri ệu thì n ộp thu ế bao nhiêu\\nXin lỗi, nhưng tôi c ần thông tin v ề số lượng tờ vé số và giá tr ị mỗi tờ bạn trúng.\\n1 tờ\\nNếu bạn trúng vé s ố 30 tri ệu đồng, thu nh ập tính thu ế sẽ là ph ần giá tr ị tiền thưởng vượt trên 10 tri ệu đồng trên m ột (01) vé x ổ số.\\nCách tính thu ế thu nh ập cá nhân ph ải nộp sẽ đượ c thực hiện như sau:\\n1. Thu nh ập tính thu ế: \\n30.000.000 đồng - 10.000.000 đồng = 20.000.000 đồng\\n2. Thu ế suất thuế thu nh ập cá nhân: 10%.\\nThuế thu nh ập cá nhân ph ải nộp = 20.000.000 x 10% = 2.000.000 đồng.\\ntôi trúng 2 t ờ vé số', mimetype='text/plain', start_char_idx=None, end_char_idx=None, text_template='{metadata_str}\\n\\n{content}', metadata_template='{key}: {value}', metadata_seperator='\\n'),\n",
       " Document(id_='6c7e683f-af44-4675-8eed-bde7d61cd2a0', embedding=None, metadata={'page_label': '2', 'file_name': 'Tính thuế TNCN _ còn lại - Trúng thưởng.pdf', 'file_path': 'C:\\\\Users\\\\My_Pc\\\\Desktop\\\\Thư Viện Pháp Luật final\\\\Tool TVPL AI\\\\Graph_rag\\\\cong_thuc_tinh_thue\\\\Tính thuế TNCN _ còn lại - Trúng thưởng.pdf', 'file_type': 'application/pdf', 'file_size': 125624, 'creation_date': '2024-10-01', 'last_modified_date': '2024-09-23'}, excluded_embed_metadata_keys=['file_name', 'file_type', 'file_size', 'creation_date', 'last_modified_date', 'last_accessed_date'], excluded_llm_metadata_keys=['file_name', 'file_type', 'file_size', 'creation_date', 'last_modified_date', 'last_accessed_date'], relationships={}, text='Nếu bạn trúng 2 t ờ vé số đượ c 30 tri ệu đồng, m ỗi tờ đượ c 15 tri ệu đồng, thu nh ập tính thu ế sẽ là ph ần giá tr ị tiền thưởng vượt trên 10 tri ệu đồng trên m ột (01) vé x ổ số.\\nCách tính thu ế thu nh ập cá nhân ph ải nộp sẽ đượ c thực hiện như sau:\\n1. Thu nh ập tính thu ế: \\n(15.000.000-10.000.000) + (15.000.000-10.000.000) = 10.000.000 đồng\\n2. Thu ế suất thuế thu nh ập cá nhân: 10%.\\nThuế thu nh ập cá nhân ph ải nộp = 10.000.000 x 10% = 1.000.000 đồng.\\nVí d ụ 2:\\ntôi trúng vé s ố đượ c 34 tri ệu thì n ộp thu ế bao nhiêu\\nXin lỗi, nhưng tôi c ần thông tin v ề số lượng tờ vé số và giá tr ị mỗi tờ bạn trúng.\\n2 tờ 15 tri ệu, 4 t ờ 1 triệu\\nNếu bạn trúng vé s ố 34 tri ệu đồng, 2 t ờ 15 tri ệu, 4 tờ 1 triệu, thu nh ập tính thu ế sẽ là ph ần giá tr ị tiền thưởng vượt trên 10 tri ệu đồng trên m ột (01) vé x ổ số.\\nNhững tờ vé số trúng mà có giá tr ị giải thưởng dưới 10 tri ệu đồng thì không ph ải nộp thu ế thu nh ập cá nhân.\\nCách tính thu ế thu nh ập cá nhân ph ải nộp sẽ đượ c thực hiện như sau:\\n1. Thu nh ập tính thu ế: \\n(15.000.000 đồng - 10.000.000 đồng) + (15.000.000 đồng - 10.000.000 đồng) = 10.000.000 đồng\\n2. Thu ế suất thuế thu nh ập cá nhân: 10%.\\nThuế thu nh ập cá nhân ph ải nộp = 10.000.000 x 10% = 1.000.000 đồng.', mimetype='text/plain', start_char_idx=None, end_char_idx=None, text_template='{metadata_str}\\n\\n{content}', metadata_template='{key}: {value}', metadata_seperator='\\n'),\n",
       " Document(id_='4e7830b1-e7c6-43da-8fa7-faf8a4dfb768', embedding=None, metadata={'page_label': '1', 'file_name': 'Tính thuế TNCN về Bản quyền, nhượng quyền TM.pdf', 'file_path': 'C:\\\\Users\\\\My_Pc\\\\Desktop\\\\Thư Viện Pháp Luật final\\\\Tool TVPL AI\\\\Graph_rag\\\\cong_thuc_tinh_thue\\\\Tính thuế TNCN về Bản quyền, nhượng quyền TM.pdf', 'file_type': 'application/pdf', 'file_size': 88363, 'creation_date': '2024-10-01', 'last_modified_date': '2024-09-23'}, excluded_embed_metadata_keys=['file_name', 'file_type', 'file_size', 'creation_date', 'last_modified_date', 'last_accessed_date'], excluded_llm_metadata_keys=['file_name', 'file_type', 'file_size', 'creation_date', 'last_modified_date', 'last_accessed_date'], relationships={}, text='Thuế TNCN t ừ bản quy ền, nh ượng quy ền thương mại (chung công th ức nên để chung)\\nCÔNG TH ỨC: Số thuế TNCN ph ải nộp = Thu nh ập tính thu ế * 5% Thu nhập tính thuế: thu nhập vượt trên 10 triệu đồng theo từng hợp đồng.\\nCác thông tin c ần khai thác\\n + Đối với thu nhập từ bản quyền:\\nNếu cùng một đối tượng của quyền sở hữu trí tuệ, chuyển giao công nghệ \\nnhưng làm nhiều hợp đồng chuyển giao với một đối tượng sử dụng thì thu nhập \\ntính thuế là phần thu nhập vượt trên 10 triệu đồng tính trên tổng các hợp đồng\\nNếu đối tượng chuyển giao, chuyển quyền là đồng sở hữu thì thu nhập tính thuế \\nđược phân chia cho từng cá nhân sở hữu theo tỷ lệ sở hữu trên giấy chứng \\nnhận\\n+ Đối với nhượng quyền thương mại:\\nNếu cùng là một đối tượng của quyền thương mại nhưng việc chuyển nhượng \\nthực hiện thành nhiều hợp đồng thì tính trên tổng các hợp đồng.Khoản thu nh ập nhận đượ c300.000.000\\nCác b ước để tính\\nKhoản thu nh ập nhận đượ c AVND\\nThu nh ập tính thu ế (A - 10 tri ệu)VND\\nThuế suất 5%\\nSố thuế phải nộp  (A-10 tri ệu)* 5% \\nThông tin có th ể xuất ra\\nSố thuế phải nộp 14.500.000\\nVí dụ Kịch bản:\\ntôi có ký h ợp đồng chuy ển nhượng quy ền sở hữu trí tu ệ nhãn hi ệu với công ty B giá 100 tri ệu thì n ộp thu ế thu nh ập cá nhân bao nhiêu\\nNếu bạn chuy ển nhượng nhãn hi ệu cho công ty B v ới giá 100 tri ệu, thu nh ập tính thu ế sẽ là ph ần thu nh ập vượt trên 10 tri ệu đồng.\\nCách tính thu ế thu nh ập cá nhân ph ải nộp sẽ đượ c thực hiện như sau:\\n1. Thu nh ập tính thu ế: \\n100 tri ệu - 10 tri ệu = 90 tri ệu\\n2. Thu ế suất thuế thu nh ập cá nhân: 5%.\\nThuế thu nh ập cá nhân ph ải nộp = 90.000.000 x 5% = 4.500.000 đồng.                                        \\ntôi ký hai h ợp đồng chuy ển nhượng nhãn hi ệu B giá 100 tri ệu và nhãn hi ệu C giá 50 tri ệu cho công ty D thì ph ải nộp thu ế thu nh ập cá nhân bao nhiêu\\nNếu bạn chuy ển nhượng nhãn hi ệu B giá 100 tri ệu, nhãn hi ệu C giá 50 tri ệu cho công ty D, thu nh ập tính thu ế sẽ là ph ần thu nh ập vượt trên 10 tri ệu đồng.\\nCách tính thu ế thu nh ập cá nhân ph ải nộp sẽ đượ c thực hiện như sau:\\n1. Thu nh ập tính thu ế: \\n(100 tri ệu + 50 tri ệu) - 10 tri ệu = 140 tri ệu\\n2. Thu ế suất thuế thu nh ập cá nhân: 5%.\\nThuế thu nh ập cá nhân ph ải nộp = 140.000.000 x 5% = 7.500.000 đồng. \\ntôi ký hai h ợp đồng chuy ển nhượng nhãn hi ệu B giá 100 tri ệu cho công ty D và nhãn hi ệu C giá 50 tri ệu cho công ty E thì ph ải nộp thu ế thu nh ập cá nhân là?\\nNếu bạn chuy ển nhượng nhãn hi ệu B giá 100 tri ệu cho công ty D, nhãn hi ệu C giá 50 tri ệu cho công ty E, thu nh ập tính thu ế sẽ là ph ần thu nh ập vượt trên 10 tri ệu đồng mỗi hợp đồng.\\nCách tính thu ế thu nh ập cá nhân ph ải nộp sẽ đượ c thực hiện như sau:\\n1. Thu nh ập tính thu ế: \\n(100 tri ệu - 10 tri ệu) + (50 tri ệu - 10 tri ệu) = 130 tri ệu\\n2. Thu ế suất thuế thu nh ập cá nhân: 5%.\\nThuế thu nh ập cá nhân ph ải nộp = 130.000.000 x 5% = 6.500.000 đồng. ', mimetype='text/plain', start_char_idx=None, end_char_idx=None, text_template='{metadata_str}\\n\\n{content}', metadata_template='{key}: {value}', metadata_seperator='\\n'),\n",
       " Document(id_='304f1576-acda-4301-84fd-7be3c6a53d97', embedding=None, metadata={'page_label': '1', 'file_name': 'Tính thuế TNCN về Chuyển nhượng BĐS.pdf', 'file_path': 'C:\\\\Users\\\\My_Pc\\\\Desktop\\\\Thư Viện Pháp Luật final\\\\Tool TVPL AI\\\\Graph_rag\\\\cong_thuc_tinh_thue\\\\Tính thuế TNCN về Chuyển nhượng BĐS.pdf', 'file_type': 'application/pdf', 'file_size': 69286, 'creation_date': '2024-10-01', 'last_modified_date': '2024-09-23'}, excluded_embed_metadata_keys=['file_name', 'file_type', 'file_size', 'creation_date', 'last_modified_date', 'last_accessed_date'], excluded_llm_metadata_keys=['file_name', 'file_type', 'file_size', 'creation_date', 'last_modified_date', 'last_accessed_date'], relationships={}, text='Thuế TNCN t ừ chuy ển nhượng bất động sản\\nCÔNG TH ỨC: Số thuế TNCN ph ải nộp = Giá chuy ển nhượng x Thu ế suất 2%\\nCác thông tin c ần khai thác\\nGiá chuy ển nh ượng2.000.000.000 VND\\nCác b ước để tính\\nGiá chuy ển nh ượng100.000.000 VND\\nThu ế su ất 2%\\nThông tin có th ể xu ất ra\\nS ố thu ế ph ải n ộp 40000000\\nVí dụ Kịch bản:\\ntôi bán c ăn hộ chung c ư có giá 2 t ỷ thì n ộp thu ế thu nh ập cá nhân bao nhiêu\\nN ếu b ạn bán c ăn h ộ v ới giá là 2 t ỷ đồng, cách tính thu ế thu nh ập cá nhân ph ải n ộp s ẽ đượ c th ực hi ện nh ư sau:\\n1. Thu nh ập tính thu ế: 2 t ỷ\\n2. Thu ế su ất thu ế thu nh ập cá nhân: 2%.\\nThu ế thu nh ập cá nhân ph ải n ộp = 2.000.000.000 x 2% = 40.000.000 đồng.', mimetype='text/plain', start_char_idx=None, end_char_idx=None, text_template='{metadata_str}\\n\\n{content}', metadata_template='{key}: {value}', metadata_seperator='\\n'),\n",
       " Document(id_='0e72abd0-b120-411c-9213-d50e6652336e', embedding=None, metadata={'page_label': '1', 'file_name': 'Tính thuế TNCN về HKD, cá nhân kinh doanh.pdf', 'file_path': 'C:\\\\Users\\\\My_Pc\\\\Desktop\\\\Thư Viện Pháp Luật final\\\\Tool TVPL AI\\\\Graph_rag\\\\cong_thuc_tinh_thue\\\\Tính thuế TNCN về HKD, cá nhân kinh doanh.pdf', 'file_type': 'application/pdf', 'file_size': 293897, 'creation_date': '2024-10-01', 'last_modified_date': '2024-09-23'}, excluded_embed_metadata_keys=['file_name', 'file_type', 'file_size', 'creation_date', 'last_modified_date', 'last_accessed_date'], excluded_llm_metadata_keys=['file_name', 'file_type', 'file_size', 'creation_date', 'last_modified_date', 'last_accessed_date'], relationships={}, text='Thuế TNCN đối với hộ kinh doanh, cá nhân kinh doanh (theo hình th ức kê khai theo Tháng ho ặc Quý) (Ch ưa tính thu ế GTGT)\\nCÔNG TH ỨC: Số thuế TNCN ph ải nộp = Doanh thu x Thu ế suất\\nSTT Lĩnh vực Thuế suất Các thông tin c ần khai thác\\nDoanh thu (Ti ền bán hàng; Ti ền gia công; Ti ền hoa h ồng; Ti ền cung ứng dịch vụ) theo tháng ho ặc quý 100.000.000 VND 1Phân phối, cung cấp hàng \\nhóa 0,5%\\nNgành ngh ề kinh doanh Cắt tóc 2Dịch vụ, xây dựng không bao \\nthầu nguyên vật liệu 2%\\n3Thuê tài sản, đại lý bảo hiểm, \\nđại lý xổ số, đại lý bán hàng \\nđa cấp 5%\\n4Sản xuất, vận tải, dịch vụ có \\ngắn với hàng hoá, xây dựng \\ncó bao thầu nguyên vật liệu 1,5%\\nCác b ước để tính 5 Hoạt động kinh doanh khác 1%\\nDoanh thu (Ti ền bán hàng; Ti ền gia công; Ti ền hoa h ồng; Ti ền cung ứng dịch vụ) theo tháng ho ặc quý A\\nThuế suất 2,0%\\nSố thuế TNCN ph ải nộp  A x Thu ế suất \\nThông tin có th ể xuất ra\\nSố thuế TNCN ph ải nộp 2000000\\n(H ộ kinh doanh, cá nhân kinh doanh có doanh thu t ừ ho ạt động s ản xu ất, kinh doanh trong n ăm d ương l ịch t ừ 100 tri ệu đồng tr ở xu ống thì thu ộc tr ường h ợp không ph ải n ộp \\nthu ế GTGT và không ph ải n ộp thu ế TNCN)\\nThuế phải nộp đối với hộ kinh doanh, cá nhân kinh doanh (theo hình th ức kê khai theo Tháng ho ặc Quý) (G ồm Thu ế GTGT + Thu ế TNCN)\\nCÔNG TH ỨC: Số thuế phải nộp = Doanh thu x T ỷ lệ thuế\\nCác thông tin c ần khai thác\\nDoanh thu (Ti ền bán hàng; Ti ền gia công; Ti ền hoa h ồng; Ti ền cung ứng dịch vụ) 100.000.000 VND\\nNgành ngh ề kinh doanh Cắt tóc\\nCác b ước để tính\\nDoanh thu (Ti ền bán hàng; Ti ền gia công; Ti ền hoa h ồng; Ti ền cung ứng dịch vụ) theo tháng ho ặc quý A\\nTỉ lệ tính thu ế GTGT 5,0%\\nThuế suất Thu ế TNCN 2%\\nSố thuế phải nộp  A x (T ỉ lệ GTGT+Thu ế suất TNCN) \\nThông tin có th ể xuất ra\\nSố thuế phải nộp 7000000\\n(H ộ kinh doanh, cá nhân kinh doanh có doanh thu t ừ ho ạt động s ản xu ất, kinh doanh trong n ăm d ương l ịch t ừ 100 tri ệu đồng tr ở xu ống thì thu ộc tr ường h ợp không ph ải n ộp \\nthu ế GTGT và không ph ải n ộp thu ế TNCN)\\nVí dụ Kịch bản:\\nVí dụ 1: Chỉ hỏi thuế TNCN\\nDoanh thu 1 tháng tiệm cắt tóc của tôi là 100 triệu thì tôi phải nộp thuế thu nhập cá nhân bao nhiêu\\nNếu bạn kinh doanh dịch vụ cắt tóc, doanh thu 1 tháng của bạn là 100 triệu đồng, cách tính thuế thu nhập cá nhân phải nộp sẽ được thực hiện như sau:\\n1. Ngành nghề kinh doanh: Cắt tóc\\n2. Doanh thu: 100 triệu\\n3. Thuế suất thuế thu nhập cá nhân: 2%.\\nThuế thu nhập cá nhân phải nộp = 100.000.000 x 2% = 2.000.000 đồng.\\nVí dụ 2: Hỏi thuế phải nộp (khi này rơi vào trường hợp 2, trả lời số thuế phải nộp bao gồm thuế GTGT và thuế TNCN)\\nDoanh thu 1 tháng tiệm cắt tóc của tôi là 100 triệu thì tôi phải nộp thuế bao nhiêu\\n', mimetype='text/plain', start_char_idx=None, end_char_idx=None, text_template='{metadata_str}\\n\\n{content}', metadata_template='{key}: {value}', metadata_seperator='\\n'),\n",
       " Document(id_='e0c3956d-bc00-4cb0-80f9-761d69386f71', embedding=None, metadata={'page_label': '2', 'file_name': 'Tính thuế TNCN về HKD, cá nhân kinh doanh.pdf', 'file_path': 'C:\\\\Users\\\\My_Pc\\\\Desktop\\\\Thư Viện Pháp Luật final\\\\Tool TVPL AI\\\\Graph_rag\\\\cong_thuc_tinh_thue\\\\Tính thuế TNCN về HKD, cá nhân kinh doanh.pdf', 'file_type': 'application/pdf', 'file_size': 293897, 'creation_date': '2024-10-01', 'last_modified_date': '2024-09-23'}, excluded_embed_metadata_keys=['file_name', 'file_type', 'file_size', 'creation_date', 'last_modified_date', 'last_accessed_date'], excluded_llm_metadata_keys=['file_name', 'file_type', 'file_size', 'creation_date', 'last_modified_date', 'last_accessed_date'], relationships={}, text='Nếu bạn kinh doanh dịch vụ cắt tóc, doanh thu 1 tháng của bạn là 100 triệu đồng, cách tính thuế thu nhập cá nhân phải nộp sẽ được thực hiện như sau:\\n1. Ngành nghề kinh doanh: Cắt tóc\\n2. Doanh thu: 100 triệu\\n3. Thuế suất thuế thu nhập cá nhân: 2%.\\n4. Tỉ lệ tính thuế GTGT: 5%\\nThuế thu nhập cá nhân phải nộp = 100.000.000 x 2% = 2.000.000 đồng.\\nThuế GTGT phải nộp = 100.000.000 x 5% = 5.000.000 đồng\\nSố thuế bạn phải nộp bao gồm thuế GTGT và thuế TNCN là 7.000.000 đồng.\\n', mimetype='text/plain', start_char_idx=None, end_char_idx=None, text_template='{metadata_str}\\n\\n{content}', metadata_template='{key}: {value}', metadata_seperator='\\n'),\n",
       " Document(id_='fa6173b5-fc7f-48ec-a09a-321c2df1c99c', embedding=None, metadata={'page_label': '1', 'file_name': 'Tính thuế TNCN về Thừa kế, quà tặng.pdf', 'file_path': 'C:\\\\Users\\\\My_Pc\\\\Desktop\\\\Thư Viện Pháp Luật final\\\\Tool TVPL AI\\\\Graph_rag\\\\cong_thuc_tinh_thue\\\\Tính thuế TNCN về Thừa kế, quà tặng.pdf', 'file_type': 'application/pdf', 'file_size': 102707, 'creation_date': '2024-10-01', 'last_modified_date': '2024-09-23'}, excluded_embed_metadata_keys=['file_name', 'file_type', 'file_size', 'creation_date', 'last_modified_date', 'last_accessed_date'], excluded_llm_metadata_keys=['file_name', 'file_type', 'file_size', 'creation_date', 'last_modified_date', 'last_accessed_date'], relationships={}, text='Thuế TNCN t ừ thừa kế, quà t ặng\\nCÔNG TH ỨC: Số thuế TNCN ph ải nộp = Thu nh ập tính thu ế * 10%\\nCác thông tin c ần khai thác\\nGiá tr ị tài s ản nh ận đượ c 2.000.000.000\\nCác b ước để tính\\nGiá tr ị tài s ản nh ận đượ c AVND\\nThu nh ập tính thu ế (A - 10 tri ệu)VND\\nThu ế su ất 10%\\nS ố thu ế ph ải n ộp  (A-10 tri ệu)* 10% \\nThông tin có th ể xu ất ra\\nS ố thu ế ph ải n ộp 199.000.000\\nT ải s ản đượ c th ừa k ế, đượ c t ặng là ch ứng khoán; ph ần v ốn trong các t ổ ch ức kinh t ế, \\nc ơ s ở kinh doanh; b ất động s ản; các tài s ản khác ph ải đăng ký quy ền s ở h ữu ho ặc \\nquy ền s ử d ụng thì ph ải n ộp thu ế TNCN.\\nNh ận th ừa k ế, quà t ặng là b ất động s ản (bao g ồm c ả nhà ở, công trình xây d ựng hình \\nthành trong t ương lai theo quy định c ủa pháp lu ật v ề kinh doanh b ất động s ản) gi ữa: v ợ \\nv ới ch ồng; cha đẻ, m ẹ đẻ v ới con đẻ; cha nuôi, m ẹ nuôi v ới con nuôi; cha ch ồng, m ẹ \\nch ồng v ới con dâu; cha v ợ, m ẹ v ợ v ới con r ể; ông n ội, bà n ội v ới cháu n ội, ông ngo ại, bà \\nngo ại v ới cháu ngo ại; anh ch ị em ru ột v ới nhau thì đượ c mi ễn thu ế TNCN.', mimetype='text/plain', start_char_idx=None, end_char_idx=None, text_template='{metadata_str}\\n\\n{content}', metadata_template='{key}: {value}', metadata_seperator='\\n'),\n",
       " Document(id_='c104ee74-cd96-46cf-bf8c-b49d85258eee', embedding=None, metadata={'page_label': '2', 'file_name': 'Tính thuế TNCN về Thừa kế, quà tặng.pdf', 'file_path': 'C:\\\\Users\\\\My_Pc\\\\Desktop\\\\Thư Viện Pháp Luật final\\\\Tool TVPL AI\\\\Graph_rag\\\\cong_thuc_tinh_thue\\\\Tính thuế TNCN về Thừa kế, quà tặng.pdf', 'file_type': 'application/pdf', 'file_size': 102707, 'creation_date': '2024-10-01', 'last_modified_date': '2024-09-23'}, excluded_embed_metadata_keys=['file_name', 'file_type', 'file_size', 'creation_date', 'last_modified_date', 'last_accessed_date'], excluded_llm_metadata_keys=['file_name', 'file_type', 'file_size', 'creation_date', 'last_modified_date', 'last_accessed_date'], relationships={}, text='Ví dụ Kịch bản:\\ntôi đượ c dì tặng căn hộ 2 tỷ thì ph ải nộp thu ế bao nhiêu\\nN ếu b ạn đượ c t ặng c ăn h ộ có giá 2 t ỷ, thu nh ập tính thu ế s ẽ là ph ần thu nh ập v ượt trên 10 tri ệu đồng.\\nCách tính thu ế thu nh ập cá nhân ph ải n ộp s ẽ đượ c th ực hi ện nh ư sau:\\n1. Thu nh ập tính thu ế: 2 t ỷ - 10 tri ệu = 1 t ỷ 9\\n2. Thu ế su ất thu ế thu nh ập cá nhân: 10%.\\nThu ế thu nh ập cá nhân ph ải n ộp = 1.900.000.000 x 10% = 199.000.000 đồng.\\nL ưu ý: Nh ận th ừa k ế, quà t ặng là b ất động s ản gi ữa: v ợ v ới ch ồng; cha đẻ, m ẹ đẻ v ới con đẻ; cha nuôi, m ẹ nuôi v ới con nuôi; \\ncha ch ồng, m ẹ ch ồng v ới con dâu; cha v ợ, m ẹ v ợ v ới con r ể; ông n ội, bà n ội v ới cháu n ội, ông ngo ại, bà ngo ại v ới cháu ngo ại; \\nanh ch ị em ru ột v ới nhau thì đượ c mi ễn thu ế TNCN.', mimetype='text/plain', start_char_idx=None, end_char_idx=None, text_template='{metadata_str}\\n\\n{content}', metadata_template='{key}: {value}', metadata_seperator='\\n'),\n",
       " Document(id_='5f17fb20-b18d-4a5c-8ed0-c75d63174ab0', embedding=None, metadata={'page_label': '1', 'file_name': 'Tính thuế TNCN về Trúng thưởng.pdf', 'file_path': 'C:\\\\Users\\\\My_Pc\\\\Desktop\\\\Thư Viện Pháp Luật final\\\\Tool TVPL AI\\\\Graph_rag\\\\cong_thuc_tinh_thue\\\\Tính thuế TNCN về Trúng thưởng.pdf', 'file_type': 'application/pdf', 'file_size': 125624, 'creation_date': '2024-10-01', 'last_modified_date': '2024-09-23'}, excluded_embed_metadata_keys=['file_name', 'file_type', 'file_size', 'creation_date', 'last_modified_date', 'last_accessed_date'], excluded_llm_metadata_keys=['file_name', 'file_type', 'file_size', 'creation_date', 'last_modified_date', 'last_accessed_date'], relationships={}, text='Thuế TNCN t ừ trúng th ưởng\\nCÔNG TH ỨC: Số thuế TNCN ph ải nộp = Thu nh ập tính thu ế * 10% Thu nh ập tính thu ế:\\nThu nhập tính thuế từ trúng thưởng là phần giá trị giải thưởng \\nvượt trên 10 triệu đồng mà người nộp thuế nhận được theo từng \\nlần trúng thưởng không phụ thuộc vào số lần nhận tiền thưởng.\\nĐối với trúng thưởng xổ số là toàn bộ giá trị tiền thưởng vượt trên \\n10 triệu đồng trên một (01) vé xổ số nhận được trong một đợt \\nquay thưởng.Các thông tin c ần khai thác\\nGiá tr ị giải thưởng 30.000.000 VND\\nSố vé đượ c thưởng (Tr ường hợp mua vé s ố) 1Tờ\\nCác b ước để tính\\nGiá tr ị giải thưởng AVND\\nThu nh ập tính thu ế (A - 10 tri ệu)VND\\nThuế suất 10%\\nSố thuế phải nộp  (A-10 tri ệu)* 10% + (B-10 tri ệu)*10% \\nThông tin có th ể xuất ra\\nSố thuế phải nộp 2.000.000\\nVí dụ Kịch bản:\\nVí d ụ 1:\\ntôi trúng vé s ố 30 tri ệu thì n ộp thu ế bao nhiêu\\nXin lỗi, nhưng tôi c ần thông tin v ề số lượng tờ vé số và giá tr ị mỗi tờ bạn trúng.\\n1 tờ\\nNếu bạn trúng vé s ố 30 tri ệu đồng, thu nh ập tính thu ế sẽ là ph ần giá tr ị tiền thưởng vượt trên 10 tri ệu đồng trên m ột (01) vé x ổ số.\\nCách tính thu ế thu nh ập cá nhân ph ải nộp sẽ đượ c thực hiện như sau:\\n1. Thu nh ập tính thu ế: \\n30.000.000 đồng - 10.000.000 đồng = 20.000.000 đồng\\n2. Thu ế suất thuế thu nh ập cá nhân: 10%.\\nThuế thu nh ập cá nhân ph ải nộp = 20.000.000 x 10% = 2.000.000 đồng.\\ntôi trúng 2 t ờ vé số', mimetype='text/plain', start_char_idx=None, end_char_idx=None, text_template='{metadata_str}\\n\\n{content}', metadata_template='{key}: {value}', metadata_seperator='\\n'),\n",
       " Document(id_='9c5bc14f-5175-462f-8aac-0470bcf2349f', embedding=None, metadata={'page_label': '2', 'file_name': 'Tính thuế TNCN về Trúng thưởng.pdf', 'file_path': 'C:\\\\Users\\\\My_Pc\\\\Desktop\\\\Thư Viện Pháp Luật final\\\\Tool TVPL AI\\\\Graph_rag\\\\cong_thuc_tinh_thue\\\\Tính thuế TNCN về Trúng thưởng.pdf', 'file_type': 'application/pdf', 'file_size': 125624, 'creation_date': '2024-10-01', 'last_modified_date': '2024-09-23'}, excluded_embed_metadata_keys=['file_name', 'file_type', 'file_size', 'creation_date', 'last_modified_date', 'last_accessed_date'], excluded_llm_metadata_keys=['file_name', 'file_type', 'file_size', 'creation_date', 'last_modified_date', 'last_accessed_date'], relationships={}, text='Nếu bạn trúng 2 t ờ vé số đượ c 30 tri ệu đồng, m ỗi tờ đượ c 15 tri ệu đồng, thu nh ập tính thu ế sẽ là ph ần giá tr ị tiền thưởng vượt trên 10 tri ệu đồng trên m ột (01) vé x ổ số.\\nCách tính thu ế thu nh ập cá nhân ph ải nộp sẽ đượ c thực hiện như sau:\\n1. Thu nh ập tính thu ế: \\n(15.000.000-10.000.000) + (15.000.000-10.000.000) = 10.000.000 đồng\\n2. Thu ế suất thuế thu nh ập cá nhân: 10%.\\nThuế thu nh ập cá nhân ph ải nộp = 10.000.000 x 10% = 1.000.000 đồng.\\nVí d ụ 2:\\ntôi trúng vé s ố đượ c 34 tri ệu thì n ộp thu ế bao nhiêu\\nXin lỗi, nhưng tôi c ần thông tin v ề số lượng tờ vé số và giá tr ị mỗi tờ bạn trúng.\\n2 tờ 15 tri ệu, 4 t ờ 1 triệu\\nNếu bạn trúng vé s ố 34 tri ệu đồng, 2 t ờ 15 tri ệu, 4 tờ 1 triệu, thu nh ập tính thu ế sẽ là ph ần giá tr ị tiền thưởng vượt trên 10 tri ệu đồng trên m ột (01) vé x ổ số.\\nNhững tờ vé số trúng mà có giá tr ị giải thưởng dưới 10 tri ệu đồng thì không ph ải nộp thu ế thu nh ập cá nhân.\\nCách tính thu ế thu nh ập cá nhân ph ải nộp sẽ đượ c thực hiện như sau:\\n1. Thu nh ập tính thu ế: \\n(15.000.000 đồng - 10.000.000 đồng) + (15.000.000 đồng - 10.000.000 đồng) = 10.000.000 đồng\\n2. Thu ế suất thuế thu nh ập cá nhân: 10%.\\nThuế thu nh ập cá nhân ph ải nộp = 10.000.000 x 10% = 1.000.000 đồng.', mimetype='text/plain', start_char_idx=None, end_char_idx=None, text_template='{metadata_str}\\n\\n{content}', metadata_template='{key}: {value}', metadata_seperator='\\n'),\n",
       " Document(id_='2ac8b02c-e3f6-441f-ab14-8c6448925b2a', embedding=None, metadata={'page_label': '1', 'file_name': 'Tính thuế TNCN về Đầu tư vốn.pdf', 'file_path': 'C:\\\\Users\\\\My_Pc\\\\Desktop\\\\Thư Viện Pháp Luật final\\\\Tool TVPL AI\\\\Graph_rag\\\\cong_thuc_tinh_thue\\\\Tính thuế TNCN về Đầu tư vốn.pdf', 'file_type': 'application/pdf', 'file_size': 100301, 'creation_date': '2024-10-01', 'last_modified_date': '2024-09-23'}, excluded_embed_metadata_keys=['file_name', 'file_type', 'file_size', 'creation_date', 'last_modified_date', 'last_accessed_date'], excluded_llm_metadata_keys=['file_name', 'file_type', 'file_size', 'creation_date', 'last_modified_date', 'last_accessed_date'], relationships={}, text='Thuế TNCN t ừ đầu tư vốn \\nCÔNG TH ỨC: Số thuế TNCN ph ải nộp = Thu nh ập tính thu ế * 5%\\nThu nh ập t ừ đầu t ư v ốn bao g ồm:\\nCác thông tin c ần khai thác\\nKhoản thu nh ập nhận đượ c100.000.000\\n + Tiền lãi nhận được từ việc cho các tổ chức, doanh nghiệp, hộ gia đình, cá nhân kinh doanh, nhóm cá nhân kinh doanh vay\\n+ Cổ tức nhận được từ việc góp vốn mua cổ phần\\n+ Lợi tức nhận được do tham gia góp vốn vào công ty trách nhiệm hữu hạn, công ty hợp danh, hợp tác xã, liên doanh, hợp đồng hợp tác kinh \\ndoanh và các hình thức kinh doanh khác; do tham gia góp vốn thành lập tổ chức tín dụng; do góp vốn vào Quỹ đầu tư chứng khoán và quỹ \\nđầu tư khác;\\n+ Phần tăng thêm của giá trị vốn góp nhận được khi giải thể doanh nghiệp, chuyển đổi mô hình hoạt động, chia, tách, sáp nhập, hợp nhất \\ndoanh nghiệp hoặc khi rút vốn\\n+ Thu nhập nhận được từ lãi trái phiếu, tín phiếu và các giấy tờ có giá khác do các tổ chức trong nước phát hành\\n+ Các khoản thu nhập nhận được từ đầu tư vốn dưới các hình thức khác kể cả trường hợp góp vốn đầu tư bằng hiện vật, bằng danh tiếng, \\nbằng quyền sử dụng đất, bằng phát minh, sáng chế\\n+ Thu nhập từ cổ tức trả bằng cổ phiếu, thu nhập từ lợi tức ghi tăng vốnCác b ước để tính\\nKhoản thu nh ập nhận đượ c AVND\\nThu nh ập tính thu ế AVND\\nThuế suất 5%\\nSố thuế phải nộp  A* 5% \\nThông tin có th ể xuất ra\\nSố thuế phải nộp 5.000.000\\nVí dụ Kịch bản:\\nTôi đượ c công ty chia c ổ tức là 100 tri ệu thì n ộp thu ế thu nh ập cá nhân bao nhiêu\\nNếu bạn đượ c trả cổ tức 100 tri ệu cách tính thu ế thu nh ập cá nhân ph ải nộp sẽ đượ c thực hiện như sau:\\n1. Thu nh ập tính thu ế: 100 tri ệu\\n2. Thu ế suất thuế thu nh ập cá nhân: 5%.\\nThuế thu nh ập cá nhân ph ải nộp = 100.000.000 x 5% = 5.000.000 đồng.', mimetype='text/plain', start_char_idx=None, end_char_idx=None, text_template='{metadata_str}\\n\\n{content}', metadata_template='{key}: {value}', metadata_seperator='\\n')]"
      ]
     },
     "execution_count": 102,
     "metadata": {},
     "output_type": "execute_result"
    }
   ],
   "source": [
    "documents"
   ]
  },
  {
   "cell_type": "code",
   "execution_count": 86,
   "metadata": {},
   "outputs": [],
   "source": [
    "import unicodedata\n",
    "\n",
    "# Chuẩn hóa từng tài liệu về dạng NFC\n",
    "normalized_documents = [\n",
    "    unicodedata.normalize(\"NFC\", str(doc)) for doc in documents\n",
    "]"
   ]
  },
  {
   "cell_type": "code",
   "execution_count": 87,
   "metadata": {},
   "outputs": [],
   "source": [
    "# define LLM\n",
    "# NOTE: at the time of demo, text-davinci-002 did not have rate-limit errors\n",
    "\n",
    "llm = OpenAI(temperature=0, model=\"gpt-4o-mini\")\n",
    "Settings.llm = llm\n",
    "Settings.chunk_size = 512"
   ]
  },
  {
   "cell_type": "code",
   "execution_count": 91,
   "metadata": {},
   "outputs": [
    {
     "name": "stdout",
     "output_type": "stream",
     "text": [
      "INFO:httpx:HTTP Request: POST https://api.openai.com/v1/chat/completions \"HTTP/1.1 200 OK\"\n",
      "INFO:httpx:HTTP Request: POST https://api.openai.com/v1/chat/completions \"HTTP/1.1 200 OK\"\n",
      "INFO:httpx:HTTP Request: POST https://api.openai.com/v1/chat/completions \"HTTP/1.1 200 OK\"\n",
      "INFO:httpx:HTTP Request: POST https://api.openai.com/v1/chat/completions \"HTTP/1.1 200 OK\"\n",
      "INFO:httpx:HTTP Request: POST https://api.openai.com/v1/chat/completions \"HTTP/1.1 200 OK\"\n",
      "INFO:httpx:HTTP Request: POST https://api.openai.com/v1/chat/completions \"HTTP/1.1 200 OK\"\n",
      "INFO:httpx:HTTP Request: POST https://api.openai.com/v1/chat/completions \"HTTP/1.1 200 OK\"\n",
      "INFO:httpx:HTTP Request: POST https://api.openai.com/v1/chat/completions \"HTTP/1.1 200 OK\"\n",
      "INFO:httpx:HTTP Request: POST https://api.openai.com/v1/chat/completions \"HTTP/1.1 200 OK\"\n",
      "INFO:httpx:HTTP Request: POST https://api.openai.com/v1/chat/completions \"HTTP/1.1 200 OK\"\n",
      "INFO:httpx:HTTP Request: POST https://api.openai.com/v1/chat/completions \"HTTP/1.1 200 OK\"\n",
      "INFO:httpx:HTTP Request: POST https://api.openai.com/v1/chat/completions \"HTTP/1.1 200 OK\"\n",
      "INFO:httpx:HTTP Request: POST https://api.openai.com/v1/chat/completions \"HTTP/1.1 200 OK\"\n",
      "INFO:httpx:HTTP Request: POST https://api.openai.com/v1/chat/completions \"HTTP/1.1 200 OK\"\n",
      "INFO:httpx:HTTP Request: POST https://api.openai.com/v1/chat/completions \"HTTP/1.1 200 OK\"\n",
      "INFO:httpx:HTTP Request: POST https://api.openai.com/v1/chat/completions \"HTTP/1.1 200 OK\"\n",
      "INFO:httpx:HTTP Request: POST https://api.openai.com/v1/chat/completions \"HTTP/1.1 200 OK\"\n",
      "INFO:httpx:HTTP Request: POST https://api.openai.com/v1/chat/completions \"HTTP/1.1 200 OK\"\n",
      "INFO:httpx:HTTP Request: POST https://api.openai.com/v1/chat/completions \"HTTP/1.1 200 OK\"\n",
      "INFO:httpx:HTTP Request: POST https://api.openai.com/v1/chat/completions \"HTTP/1.1 200 OK\"\n",
      "INFO:httpx:HTTP Request: POST https://api.openai.com/v1/chat/completions \"HTTP/1.1 200 OK\"\n",
      "INFO:httpx:HTTP Request: POST https://api.openai.com/v1/chat/completions \"HTTP/1.1 200 OK\"\n",
      "INFO:httpx:HTTP Request: POST https://api.openai.com/v1/chat/completions \"HTTP/1.1 200 OK\"\n",
      "INFO:httpx:HTTP Request: POST https://api.openai.com/v1/chat/completions \"HTTP/1.1 200 OK\"\n",
      "INFO:httpx:HTTP Request: POST https://api.openai.com/v1/chat/completions \"HTTP/1.1 200 OK\"\n",
      "INFO:httpx:HTTP Request: POST https://api.openai.com/v1/chat/completions \"HTTP/1.1 200 OK\"\n",
      "INFO:httpx:HTTP Request: POST https://api.openai.com/v1/chat/completions \"HTTP/1.1 200 OK\"\n",
      "INFO:httpx:HTTP Request: POST https://api.openai.com/v1/chat/completions \"HTTP/1.1 200 OK\"\n",
      "INFO:httpx:HTTP Request: POST https://api.openai.com/v1/chat/completions \"HTTP/1.1 200 OK\"\n",
      "INFO:httpx:HTTP Request: POST https://api.openai.com/v1/chat/completions \"HTTP/1.1 200 OK\"\n",
      "INFO:httpx:HTTP Request: POST https://api.openai.com/v1/chat/completions \"HTTP/1.1 200 OK\"\n",
      "INFO:httpx:HTTP Request: POST https://api.openai.com/v1/chat/completions \"HTTP/1.1 200 OK\"\n",
      "INFO:httpx:HTTP Request: POST https://api.openai.com/v1/chat/completions \"HTTP/1.1 200 OK\"\n",
      "INFO:httpx:HTTP Request: POST https://api.openai.com/v1/chat/completions \"HTTP/1.1 200 OK\"\n",
      "INFO:httpx:HTTP Request: POST https://api.openai.com/v1/chat/completions \"HTTP/1.1 200 OK\"\n",
      "INFO:httpx:HTTP Request: POST https://api.openai.com/v1/chat/completions \"HTTP/1.1 200 OK\"\n",
      "INFO:httpx:HTTP Request: POST https://api.openai.com/v1/chat/completions \"HTTP/1.1 200 OK\"\n",
      "INFO:httpx:HTTP Request: POST https://api.openai.com/v1/chat/completions \"HTTP/1.1 200 OK\"\n",
      "INFO:httpx:HTTP Request: POST https://api.openai.com/v1/chat/completions \"HTTP/1.1 200 OK\"\n",
      "INFO:httpx:HTTP Request: POST https://api.openai.com/v1/chat/completions \"HTTP/1.1 200 OK\"\n",
      "INFO:httpx:HTTP Request: POST https://api.openai.com/v1/chat/completions \"HTTP/1.1 200 OK\"\n",
      "INFO:httpx:HTTP Request: POST https://api.openai.com/v1/chat/completions \"HTTP/1.1 200 OK\"\n",
      "INFO:httpx:HTTP Request: POST https://api.openai.com/v1/chat/completions \"HTTP/1.1 200 OK\"\n",
      "INFO:httpx:HTTP Request: POST https://api.openai.com/v1/chat/completions \"HTTP/1.1 200 OK\"\n",
      "INFO:httpx:HTTP Request: POST https://api.openai.com/v1/chat/completions \"HTTP/1.1 200 OK\"\n",
      "INFO:httpx:HTTP Request: POST https://api.openai.com/v1/chat/completions \"HTTP/1.1 200 OK\"\n",
      "INFO:httpx:HTTP Request: POST https://api.openai.com/v1/chat/completions \"HTTP/1.1 200 OK\"\n",
      "INFO:httpx:HTTP Request: POST https://api.openai.com/v1/chat/completions \"HTTP/1.1 200 OK\"\n",
      "INFO:httpx:HTTP Request: POST https://api.openai.com/v1/chat/completions \"HTTP/1.1 200 OK\"\n",
      "INFO:httpx:HTTP Request: POST https://api.openai.com/v1/chat/completions \"HTTP/1.1 200 OK\"\n",
      "INFO:httpx:HTTP Request: POST https://api.openai.com/v1/chat/completions \"HTTP/1.1 200 OK\"\n",
      "INFO:httpx:HTTP Request: POST https://api.openai.com/v1/chat/completions \"HTTP/1.1 200 OK\"\n",
      "INFO:httpx:HTTP Request: POST https://api.openai.com/v1/chat/completions \"HTTP/1.1 200 OK\"\n",
      "INFO:httpx:HTTP Request: POST https://api.openai.com/v1/chat/completions \"HTTP/1.1 200 OK\"\n",
      "INFO:httpx:HTTP Request: POST https://api.openai.com/v1/chat/completions \"HTTP/1.1 200 OK\"\n",
      "INFO:httpx:HTTP Request: POST https://api.openai.com/v1/chat/completions \"HTTP/1.1 200 OK\"\n",
      "INFO:httpx:HTTP Request: POST https://api.openai.com/v1/chat/completions \"HTTP/1.1 200 OK\"\n",
      "INFO:httpx:HTTP Request: POST https://api.openai.com/v1/chat/completions \"HTTP/1.1 200 OK\"\n",
      "INFO:httpx:HTTP Request: POST https://api.openai.com/v1/chat/completions \"HTTP/1.1 200 OK\"\n",
      "INFO:httpx:HTTP Request: POST https://api.openai.com/v1/chat/completions \"HTTP/1.1 200 OK\"\n",
      "INFO:httpx:HTTP Request: POST https://api.openai.com/v1/chat/completions \"HTTP/1.1 200 OK\"\n",
      "INFO:httpx:HTTP Request: POST https://api.openai.com/v1/chat/completions \"HTTP/1.1 200 OK\"\n",
      "INFO:httpx:HTTP Request: POST https://api.openai.com/v1/chat/completions \"HTTP/1.1 200 OK\"\n",
      "INFO:httpx:HTTP Request: POST https://api.openai.com/v1/chat/completions \"HTTP/1.1 200 OK\"\n",
      "INFO:httpx:HTTP Request: POST https://api.openai.com/v1/chat/completions \"HTTP/1.1 200 OK\"\n",
      "INFO:httpx:HTTP Request: POST https://api.openai.com/v1/chat/completions \"HTTP/1.1 200 OK\"\n",
      "INFO:httpx:HTTP Request: POST https://api.openai.com/v1/chat/completions \"HTTP/1.1 200 OK\"\n",
      "INFO:httpx:HTTP Request: POST https://api.openai.com/v1/chat/completions \"HTTP/1.1 200 OK\"\n",
      "INFO:httpx:HTTP Request: POST https://api.openai.com/v1/chat/completions \"HTTP/1.1 200 OK\"\n",
      "INFO:httpx:HTTP Request: POST https://api.openai.com/v1/chat/completions \"HTTP/1.1 200 OK\"\n",
      "INFO:httpx:HTTP Request: POST https://api.openai.com/v1/chat/completions \"HTTP/1.1 200 OK\"\n",
      "INFO:httpx:HTTP Request: POST https://api.openai.com/v1/chat/completions \"HTTP/1.1 200 OK\"\n",
      "INFO:httpx:HTTP Request: POST https://api.openai.com/v1/chat/completions \"HTTP/1.1 200 OK\"\n",
      "INFO:httpx:HTTP Request: POST https://api.openai.com/v1/chat/completions \"HTTP/1.1 200 OK\"\n",
      "INFO:httpx:HTTP Request: POST https://api.openai.com/v1/chat/completions \"HTTP/1.1 200 OK\"\n",
      "INFO:httpx:HTTP Request: POST https://api.openai.com/v1/chat/completions \"HTTP/1.1 200 OK\"\n",
      "INFO:httpx:HTTP Request: POST https://api.openai.com/v1/chat/completions \"HTTP/1.1 200 OK\"\n",
      "INFO:httpx:HTTP Request: POST https://api.openai.com/v1/chat/completions \"HTTP/1.1 200 OK\"\n",
      "INFO:httpx:HTTP Request: POST https://api.openai.com/v1/chat/completions \"HTTP/1.1 200 OK\"\n",
      "INFO:httpx:HTTP Request: POST https://api.openai.com/v1/chat/completions \"HTTP/1.1 200 OK\"\n",
      "INFO:httpx:HTTP Request: POST https://api.openai.com/v1/chat/completions \"HTTP/1.1 200 OK\"\n",
      "INFO:httpx:HTTP Request: POST https://api.openai.com/v1/chat/completions \"HTTP/1.1 200 OK\"\n",
      "INFO:httpx:HTTP Request: POST https://api.openai.com/v1/chat/completions \"HTTP/1.1 200 OK\"\n",
      "INFO:httpx:HTTP Request: POST https://api.openai.com/v1/chat/completions \"HTTP/1.1 200 OK\"\n",
      "INFO:httpx:HTTP Request: POST https://api.openai.com/v1/chat/completions \"HTTP/1.1 200 OK\"\n",
      "INFO:httpx:HTTP Request: POST https://api.openai.com/v1/chat/completions \"HTTP/1.1 200 OK\"\n",
      "INFO:httpx:HTTP Request: POST https://api.openai.com/v1/chat/completions \"HTTP/1.1 200 OK\"\n",
      "INFO:httpx:HTTP Request: POST https://api.openai.com/v1/chat/completions \"HTTP/1.1 200 OK\"\n",
      "INFO:httpx:HTTP Request: POST https://api.openai.com/v1/chat/completions \"HTTP/1.1 200 OK\"\n",
      "INFO:httpx:HTTP Request: POST https://api.openai.com/v1/chat/completions \"HTTP/1.1 200 OK\"\n",
      "INFO:httpx:HTTP Request: POST https://api.openai.com/v1/chat/completions \"HTTP/1.1 200 OK\"\n",
      "INFO:httpx:HTTP Request: POST https://api.openai.com/v1/chat/completions \"HTTP/1.1 200 OK\"\n",
      "INFO:httpx:HTTP Request: POST https://api.openai.com/v1/chat/completions \"HTTP/1.1 200 OK\"\n",
      "INFO:httpx:HTTP Request: POST https://api.openai.com/v1/chat/completions \"HTTP/1.1 200 OK\"\n",
      "INFO:httpx:HTTP Request: POST https://api.openai.com/v1/chat/completions \"HTTP/1.1 200 OK\"\n",
      "INFO:httpx:HTTP Request: POST https://api.openai.com/v1/chat/completions \"HTTP/1.1 200 OK\"\n",
      "INFO:httpx:HTTP Request: POST https://api.openai.com/v1/chat/completions \"HTTP/1.1 200 OK\"\n"
     ]
    }
   ],
   "source": [
    "from llama_index.core import StorageContext\n",
    "\n",
    "graph_store = SimpleGraphStore()\n",
    "storage_context = StorageContext.from_defaults(graph_store=graph_store)\n",
    "\n",
    "# NOTE: can take a while!\n",
    "index = KnowledgeGraphIndex.from_documents(\n",
    "    documents,\n",
    "    max_triplets_per_chunk=2,\n",
    "    storage_context=storage_context,\n",
    ")"
   ]
  },
  {
   "cell_type": "code",
   "execution_count": 92,
   "metadata": {},
   "outputs": [
    {
     "name": "stdout",
     "output_type": "stream",
     "text": [
      "INFO:httpx:HTTP Request: POST https://api.openai.com/v1/chat/completions \"HTTP/1.1 200 OK\"\n",
      "WARNING:llama_index.core.indices.knowledge_graph.retrievers:Index was not constructed with embeddings, skipping embedding usage...\n",
      "INFO:llama_index.core.indices.knowledge_graph.retrievers:> No relationships found, returning nodes found by keywords.\n",
      "INFO:llama_index.core.indices.knowledge_graph.retrievers:> No nodes found by keywords, returning empty response.\n",
      "INFO:httpx:HTTP Request: POST https://api.openai.com/v1/chat/completions \"HTTP/1.1 200 OK\"\n"
     ]
    }
   ],
   "source": [
    "query_engine = index.as_query_engine(\n",
    "    include_text=False, response_mode=\"tree_summarize\"\n",
    ")\n",
    "response = query_engine.query(\n",
    "    \"tôi ký hai hợp đồng chuyển nhượng nhãn hiệu B giá 100 triệu và nhãn hiệu C giá 50 triệu cho công ty D thì phải nộp thuế thu nhập cá nhân bao nhiêu\",\n",
    ")"
   ]
  },
  {
   "cell_type": "code",
   "execution_count": 34,
   "metadata": {},
   "outputs": [
    {
     "data": {
      "text/markdown": [
       "Để tính thuế thu nhập cá nhân từ việc chuyển nhượng nhãn hiệu, bạn cần xác định tổng thu nhập từ việc chuyển nhượng. Trong trường hợp này, tổng thu nhập là 100 triệu (nhãn hiệu B) + 50 triệu (nhãn hiệu C) = 150 triệu.\n",
       "\n",
       "Theo quy định, thuế thu nhập cá nhân từ chuyển nhượng tài sản thường được tính theo tỷ lệ phần trăm trên thu nhập chịu thuế. Tỷ lệ này có thể thay đổi tùy theo quy định của pháp luật hiện hành. Bạn nên tham khảo mức thuế suất cụ thể để tính toán số thuế phải nộp.\n",
       "\n",
       "Ngoài ra, có thể có các khoản chi phí hợp lệ được trừ vào thu nhập chịu thuế, vì vậy bạn cũng cần xem xét các chi phí liên quan đến việc chuyển nhượng nhãn hiệu.\n",
       "\n",
       "Để có thông tin chính xác và đầy đủ, bạn nên liên hệ với cơ quan thuế hoặc một chuyên gia tư vấn thuế."
      ],
      "text/plain": [
       "<IPython.core.display.Markdown object>"
      ]
     },
     "metadata": {},
     "output_type": "display_data"
    }
   ],
   "source": [
    "display(Markdown(f\"{response}\"))"
   ]
  },
  {
   "cell_type": "code",
   "execution_count": 35,
   "metadata": {},
   "outputs": [],
   "source": [
    "# # NOTE: can take a while!\n",
    "# new_index = KnowledgeGraphIndex.from_documents(\n",
    "#     documents,\n",
    "#     max_triplets_per_chunk=2,\n",
    "#     include_embeddings=True,\n",
    "# )"
   ]
  },
  {
   "cell_type": "code",
   "execution_count": 71,
   "metadata": {},
   "outputs": [
    {
     "name": "stdout",
     "output_type": "stream",
     "text": [
      "INFO:httpx:HTTP Request: POST https://api.openai.com/v1/chat/completions \"HTTP/1.1 200 OK\"\n",
      "WARNING:llama_index.core.indices.knowledge_graph.retrievers:Index was not constructed with embeddings, skipping embedding usage...\n",
      "INFO:llama_index.core.indices.knowledge_graph.retrievers:> No relationships found, returning nodes found by keywords.\n",
      "INFO:llama_index.core.indices.knowledge_graph.retrievers:> No nodes found by keywords, returning empty response.\n",
      "INFO:httpx:HTTP Request: POST https://api.openai.com/v1/chat/completions \"HTTP/1.1 200 OK\"\n",
      "Thuế thu nhập cá nhân đối với người lao động Lào được áp dụng theo các bậc thuế khác nhau, tùy thuộc vào mức thu nhập. Mức thuế có thể dao động từ 0% đến 24%, với các bậc thuế cụ thể được xác định dựa trên thu nhập hàng tháng. Để biết chính xác mức thuế áp dụng cho từng trường hợp, người lao động nên tham khảo quy định cụ thể từ cơ quan thuế địa phương hoặc các nguồn thông tin chính thức.\n"
     ]
    }
   ],
   "source": [
    "# query using top 3 triplets plus keywords (duplicate triplets are removed)\n",
    "query_engine = index.as_query_engine(\n",
    "    include_text=True,\n",
    "    response_mode=\"tree_summarize\",\n",
    "    embedding_mode=\"hybrid\",\n",
    "    similarity_top_k=5,\n",
    ")\n",
    "response = query_engine.query(\n",
    "    \"thuế thu nhập cá nhân đối với người lao động lào bao nhiêu\",\n",
    ")\n",
    "print(response)"
   ]
  },
  {
   "cell_type": "code",
   "execution_count": 70,
   "metadata": {},
   "outputs": [
    {
     "data": {
      "text/markdown": [
       "Thuế thu nhập cá nhân đối với người lao động Lào là 24% trên thu nhập chịu thuế."
      ],
      "text/plain": [
       "<IPython.core.display.Markdown object>"
      ]
     },
     "metadata": {},
     "output_type": "display_data"
    }
   ],
   "source": [
    "display(Markdown(f\"{response}\"))\n"
   ]
  },
  {
   "cell_type": "code",
   "execution_count": 81,
   "metadata": {},
   "outputs": [
    {
     "name": "stdout",
     "output_type": "stream",
     "text": [
      "example.html\n",
      "Knowledge graph đã được lưu dưới dạng JSON trong file 'knowledge_graph.json'.\n"
     ]
    }
   ],
   "source": [
    "from networkx.readwrite import json_graph\n",
    "## create graph\n",
    "import json\n",
    "from pyvis.network import Network\n",
    "\n",
    "g = index.get_networkx_graph()\n",
    "net = Network(notebook=True, cdn_resources=\"in_line\", directed=True)\n",
    "net.from_nx(g)\n",
    "net.show(\"example.html\")\n",
    "# Chuyển đổi đồ thị sang định dạng JSON\n",
    "data = json_graph.node_link_data(g)  # hoặc json_graph.adjacency_data(g) nếu muốn định dạng adjacency\n",
    "\n",
    "# Lưu đồ thị JSON vào file\n",
    "with open(\"knowledge_graph.json\", \"w\") as f:\n",
    "    json.dump(data, f, indent=4)"
   ]
  },
  {
   "cell_type": "code",
   "execution_count": null,
   "metadata": {},
   "outputs": [],
   "source": [
    "# import json\n",
    "# import unicodedata\n",
    "# from pyvis.network import Network\n",
    "# from networkx.readwrite import json_graph\n",
    "\n",
    "# # Giả sử bạn đã có một đồ thị NetworkX từ index.get_networkx_graph()\n",
    "# g = index.get_networkx_graph()\n",
    "\n",
    "# # Chuẩn hóa các nhãn của nút và cạnh về dạng NFC (Normalization Form C)\n",
    "# for node in g.nodes:\n",
    "#     g.nodes[node]['label'] = unicodedata.normalize(\"NFC\", str(g.nodes[node].get('label', node)))\n",
    "\n",
    "# for u, v in g.edges:\n",
    "#     g.edges[u, v]['label'] = unicodedata.normalize(\"NFC\", str(g.edges[u, v].get('label', '')))\n",
    "\n",
    "# # Tạo một network visualization từ pyvis\n",
    "# net = Network(notebook=True, cdn_resources=\"in_line\", directed=True)\n",
    "# net.from_nx(g)\n",
    "# net.show(\"example.html\")\n",
    "\n",
    "# # Chuyển đổi đồ thị sang định dạng JSON\n",
    "# data = json_graph.node_link_data(g)  # hoặc json_graph.adjacency_data(g) nếu muốn định dạng adjacency\n",
    "\n",
    "# # Lưu đồ thị JSON vào file với dữ liệu đã chuẩn hóa\n",
    "# with open(\"knowledge_graph.json\", \"w\", encoding=\"utf-8\") as f:\n",
    "#     json.dump(data, f, ensure_ascii=False, indent=4)\n",
    "\n",
    "# print(\"Knowledge graph đã được lưu dưới dạng JSON trong file 'knowledge_graph.json'.\")\n"
   ]
  },
  {
   "cell_type": "code",
   "execution_count": 93,
   "metadata": {},
   "outputs": [],
   "source": [
    "import json\n",
    "\n",
    "with open(\"knowledge_graph.json\", \"r\", encoding=\"utf-8\") as f:\n",
    "    data = json.load(f)\n"
   ]
  },
  {
   "cell_type": "code",
   "execution_count": 95,
   "metadata": {},
   "outputs": [
    {
     "name": "stdout",
     "output_type": "stream",
     "text": [
      "INFO:sentence_transformers.SentenceTransformer:Use pytorch device_name: cpu\n",
      "INFO:sentence_transformers.SentenceTransformer:Load pretrained SentenceTransformer: paraphrase-MiniLM-L6-v2\n"
     ]
    },
    {
     "data": {
      "application/vnd.jupyter.widget-view+json": {
       "model_id": "7f14a968061949a59d9db4b031968af4",
       "version_major": 2,
       "version_minor": 0
      },
      "text/plain": [
       "Batches:   0%|          | 0/2 [00:00<?, ?it/s]"
      ]
     },
     "metadata": {},
     "output_type": "display_data"
    }
   ],
   "source": [
    "from sentence_transformers import SentenceTransformer\n",
    "\n",
    "# Khởi tạo mô hình embedding\n",
    "model = SentenceTransformer('paraphrase-MiniLM-L6-v2')\n",
    "\n",
    "# Giả sử dữ liệu của bạn là một danh sách các node\n",
    "embeddings = model.encode([item['label'] for item in data['nodes']], convert_to_tensor=True)\n"
   ]
  },
  {
   "cell_type": "code",
   "execution_count": 98,
   "metadata": {},
   "outputs": [
    {
     "data": {
      "text/plain": [
       "tensor([[-0.2668,  0.6118, -0.2426,  ..., -0.1038,  0.4315,  0.7688],\n",
       "        [-0.2943,  0.7634, -0.0041,  ...,  0.2589, -0.2701,  0.3883],\n",
       "        [-0.2240,  0.7925, -0.0354,  ...,  0.1444, -0.0019,  0.4355],\n",
       "        ...,\n",
       "        [-0.2814,  0.9668, -0.1443,  ..., -0.2458, -0.0783, -0.1400],\n",
       "        [-0.8129, -0.0435,  0.0689,  ..., -0.0326, -0.2745, -0.2463],\n",
       "        [-0.2404,  0.4015, -0.1668,  ...,  0.1951,  0.0040,  0.9403]])"
      ]
     },
     "execution_count": 98,
     "metadata": {},
     "output_type": "execute_result"
    }
   ],
   "source": [
    "embeddings"
   ]
  },
  {
   "cell_type": "code",
   "execution_count": 101,
   "metadata": {},
   "outputs": [
    {
     "ename": "AssertionError",
     "evalue": "",
     "output_type": "error",
     "traceback": [
      "\u001b[1;31m---------------------------------------------------------------------------\u001b[0m",
      "\u001b[1;31mAssertionError\u001b[0m                            Traceback (most recent call last)",
      "Cell \u001b[1;32mIn[101], line 2\u001b[0m\n\u001b[0;32m      1\u001b[0m \u001b[38;5;28;01mfrom\u001b[39;00m \u001b[38;5;21;01mllama_index\u001b[39;00m\u001b[38;5;21;01m.\u001b[39;00m\u001b[38;5;21;01mcore\u001b[39;00m \u001b[38;5;28;01mimport\u001b[39;00m GPTVectorStoreIndex\n\u001b[1;32m----> 2\u001b[0m index \u001b[38;5;241m=\u001b[39m \u001b[43mGPTVectorStoreIndex\u001b[49m\u001b[43m(\u001b[49m\u001b[43mdata\u001b[49m\u001b[43m,\u001b[49m\u001b[43m \u001b[49m\u001b[43membed_model\u001b[49m\u001b[38;5;241;43m=\u001b[39;49m\u001b[43mmodel\u001b[49m\u001b[43m)\u001b[49m\n",
      "File \u001b[1;32mc:\\Users\\My_Pc\\anaconda3\\envs\\Minh-AI\\Lib\\site-packages\\llama_index\\core\\indices\\vector_store\\base.py:69\u001b[0m, in \u001b[0;36mVectorStoreIndex.__init__\u001b[1;34m(self, nodes, use_async, store_nodes_override, embed_model, insert_batch_size, objects, index_struct, storage_context, callback_manager, transformations, show_progress, **kwargs)\u001b[0m\n\u001b[0;32m     66\u001b[0m \u001b[38;5;28mself\u001b[39m\u001b[38;5;241m.\u001b[39m_use_async \u001b[38;5;241m=\u001b[39m use_async\n\u001b[0;32m     67\u001b[0m \u001b[38;5;28mself\u001b[39m\u001b[38;5;241m.\u001b[39m_store_nodes_override \u001b[38;5;241m=\u001b[39m store_nodes_override\n\u001b[0;32m     68\u001b[0m \u001b[38;5;28mself\u001b[39m\u001b[38;5;241m.\u001b[39m_embed_model \u001b[38;5;241m=\u001b[39m (\n\u001b[1;32m---> 69\u001b[0m     \u001b[43mresolve_embed_model\u001b[49m\u001b[43m(\u001b[49m\u001b[43membed_model\u001b[49m\u001b[43m,\u001b[49m\u001b[43m \u001b[49m\u001b[43mcallback_manager\u001b[49m\u001b[38;5;241;43m=\u001b[39;49m\u001b[43mcallback_manager\u001b[49m\u001b[43m)\u001b[49m\n\u001b[0;32m     70\u001b[0m     \u001b[38;5;28;01mif\u001b[39;00m embed_model\n\u001b[0;32m     71\u001b[0m     \u001b[38;5;28;01melse\u001b[39;00m Settings\u001b[38;5;241m.\u001b[39membed_model\n\u001b[0;32m     72\u001b[0m )\n\u001b[0;32m     74\u001b[0m \u001b[38;5;28mself\u001b[39m\u001b[38;5;241m.\u001b[39m_insert_batch_size \u001b[38;5;241m=\u001b[39m insert_batch_size\n\u001b[0;32m     75\u001b[0m \u001b[38;5;28msuper\u001b[39m()\u001b[38;5;241m.\u001b[39m\u001b[38;5;21m__init__\u001b[39m(\n\u001b[0;32m     76\u001b[0m     nodes\u001b[38;5;241m=\u001b[39mnodes,\n\u001b[0;32m     77\u001b[0m     index_struct\u001b[38;5;241m=\u001b[39mindex_struct,\n\u001b[1;32m   (...)\u001b[0m\n\u001b[0;32m     83\u001b[0m     \u001b[38;5;241m*\u001b[39m\u001b[38;5;241m*\u001b[39mkwargs,\n\u001b[0;32m     84\u001b[0m )\n",
      "File \u001b[1;32mc:\\Users\\My_Pc\\anaconda3\\envs\\Minh-AI\\Lib\\site-packages\\llama_index\\core\\embeddings\\utils.py:136\u001b[0m, in \u001b[0;36mresolve_embed_model\u001b[1;34m(embed_model, callback_manager)\u001b[0m\n\u001b[0;32m    133\u001b[0m     \u001b[38;5;28mprint\u001b[39m(\u001b[38;5;124m\"\u001b[39m\u001b[38;5;124mEmbeddings have been explicitly disabled. Using MockEmbedding.\u001b[39m\u001b[38;5;124m\"\u001b[39m)\n\u001b[0;32m    134\u001b[0m     embed_model \u001b[38;5;241m=\u001b[39m MockEmbedding(embed_dim\u001b[38;5;241m=\u001b[39m\u001b[38;5;241m1\u001b[39m)\n\u001b[1;32m--> 136\u001b[0m \u001b[38;5;28;01massert\u001b[39;00m \u001b[38;5;28misinstance\u001b[39m(embed_model, BaseEmbedding)\n\u001b[0;32m    138\u001b[0m embed_model\u001b[38;5;241m.\u001b[39mcallback_manager \u001b[38;5;241m=\u001b[39m callback_manager \u001b[38;5;129;01mor\u001b[39;00m Settings\u001b[38;5;241m.\u001b[39mcallback_manager\n\u001b[0;32m    140\u001b[0m \u001b[38;5;28;01mreturn\u001b[39;00m embed_model\n",
      "\u001b[1;31mAssertionError\u001b[0m: "
     ]
    }
   ],
   "source": [
    "from llama_index.core import GPTVectorStoreIndex\n",
    "index = GPTVectorStoreIndex(data, embed_model=model)"
   ]
  }
 ],
 "metadata": {
  "kernelspec": {
   "display_name": "Minh-AI",
   "language": "python",
   "name": "python3"
  },
  "language_info": {
   "codemirror_mode": {
    "name": "ipython",
    "version": 3
   },
   "file_extension": ".py",
   "mimetype": "text/x-python",
   "name": "python",
   "nbconvert_exporter": "python",
   "pygments_lexer": "ipython3",
   "version": "3.12.4"
  }
 },
 "nbformat": 4,
 "nbformat_minor": 2
}
