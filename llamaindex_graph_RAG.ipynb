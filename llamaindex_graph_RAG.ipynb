{
 "cells": [
  {
   "cell_type": "code",
   "execution_count": 67,
   "metadata": {},
   "outputs": [],
   "source": [
    "# For OpenAI\n",
    "import openai\n",
    "\n",
    "openai.api_key  = \"sk-a0khYUHBaQOMhZkcr5pNgNEcl6i9-4cmpmjKxIShyLT3BlbkFJxt6vnTi02sQ7JSk_39KIv9j4JoRS8tCO3mZ-3V8cQA\"\n",
    "\n",
    "import os\n",
    "\n",
    "# os.environ[\"OPENAI_API_KEY\"] = \"sk-a0khYUHBaQOMhZkcr5pNgNEcl6i9-4cmpmjKxIShyLT3BlbkFJxt6vnTi02sQ7JSk_39KIv9j4JoRS8tCO3mZ-3V8cQA\"\n",
    "\n",
    "import logging\n",
    "import sys\n",
    "\n",
    "logging.basicConfig(\n",
    "    stream=sys.stdout, level=logging.INFO\n",
    ")  # logging.DEBUG for more verbose output\n",
    "\n",
    "\n",
    "# define LLM\n",
    "from llama_index.llms.openai import OpenAI\n",
    "from llama_index.core import Settings\n",
    "\n",
    "Settings.llm = OpenAI(temperature=0, model=\"gpt-3.5-turbo\")\n",
    "Settings.chunk_size = 512\n",
    "Settings.chunk_overlap =32"
   ]
  },
  {
   "cell_type": "code",
   "execution_count": 60,
   "metadata": {},
   "outputs": [],
   "source": []
  },
  {
   "cell_type": "code",
   "execution_count": 68,
   "metadata": {},
   "outputs": [
    {
     "name": "stdout",
     "output_type": "stream",
     "text": [
      "Requirement already satisfied: ipython-ngql in c:\\users\\my_pc\\anaconda3\\envs\\minh-ai\\lib\\site-packages (0.14.3)\n",
      "Requirement already satisfied: nebula3-python in c:\\users\\my_pc\\anaconda3\\envs\\minh-ai\\lib\\site-packages (3.8.2)\n",
      "Requirement already satisfied: Jinja2 in c:\\users\\my_pc\\anaconda3\\envs\\minh-ai\\lib\\site-packages (from ipython-ngql) (3.1.4)\n",
      "Requirement already satisfied: pandas in c:\\users\\my_pc\\anaconda3\\envs\\minh-ai\\lib\\site-packages (from ipython-ngql) (2.2.2)\n",
      "Requirement already satisfied: tqdm in c:\\users\\my_pc\\anaconda3\\envs\\minh-ai\\lib\\site-packages (from ipython-ngql) (4.66.4)\n",
      "Requirement already satisfied: pyvis in c:\\users\\my_pc\\anaconda3\\envs\\minh-ai\\lib\\site-packages (from ipython-ngql) (0.3.2)\n",
      "Requirement already satisfied: requests in c:\\users\\my_pc\\anaconda3\\envs\\minh-ai\\lib\\site-packages (from ipython-ngql) (2.32.3)\n",
      "Requirement already satisfied: pydantic in c:\\users\\my_pc\\anaconda3\\envs\\minh-ai\\lib\\site-packages (from ipython-ngql) (2.8.2)\n",
      "Requirement already satisfied: scipy in c:\\users\\my_pc\\anaconda3\\envs\\minh-ai\\lib\\site-packages (from ipython-ngql) (1.14.0)\n",
      "Requirement already satisfied: ipywidgets in c:\\users\\my_pc\\anaconda3\\envs\\minh-ai\\lib\\site-packages (from ipython-ngql) (8.1.5)\n",
      "Requirement already satisfied: pyarrow in c:\\users\\my_pc\\anaconda3\\envs\\minh-ai\\lib\\site-packages (from ipython-ngql) (16.1.0)\n",
      "Requirement already satisfied: future>=0.18.0 in c:\\users\\my_pc\\anaconda3\\envs\\minh-ai\\lib\\site-packages (from nebula3-python) (1.0.0)\n",
      "Requirement already satisfied: httplib2>=0.20.0 in c:\\users\\my_pc\\anaconda3\\envs\\minh-ai\\lib\\site-packages (from nebula3-python) (0.22.0)\n",
      "Requirement already satisfied: pytz>=2021.1 in c:\\users\\my_pc\\anaconda3\\envs\\minh-ai\\lib\\site-packages (from nebula3-python) (2024.1)\n",
      "Requirement already satisfied: six>=1.16.0 in c:\\users\\my_pc\\anaconda3\\envs\\minh-ai\\lib\\site-packages (from nebula3-python) (1.16.0)\n",
      "Requirement already satisfied: httpx>=0.22.0 in c:\\users\\my_pc\\anaconda3\\envs\\minh-ai\\lib\\site-packages (from httpx[http2]>=0.22.0->nebula3-python) (0.27.0)\n",
      "Requirement already satisfied: pyparsing!=3.0.0,!=3.0.1,!=3.0.2,!=3.0.3,<4,>=2.4.2 in c:\\users\\my_pc\\anaconda3\\envs\\minh-ai\\lib\\site-packages (from httplib2>=0.20.0->nebula3-python) (3.1.2)\n",
      "Requirement already satisfied: anyio in c:\\users\\my_pc\\anaconda3\\envs\\minh-ai\\lib\\site-packages (from httpx>=0.22.0->httpx[http2]>=0.22.0->nebula3-python) (4.4.0)\n",
      "Requirement already satisfied: certifi in c:\\users\\my_pc\\anaconda3\\envs\\minh-ai\\lib\\site-packages (from httpx>=0.22.0->httpx[http2]>=0.22.0->nebula3-python) (2024.7.4)\n",
      "Requirement already satisfied: httpcore==1.* in c:\\users\\my_pc\\anaconda3\\envs\\minh-ai\\lib\\site-packages (from httpx>=0.22.0->httpx[http2]>=0.22.0->nebula3-python) (1.0.5)\n",
      "Requirement already satisfied: idna in c:\\users\\my_pc\\anaconda3\\envs\\minh-ai\\lib\\site-packages (from httpx>=0.22.0->httpx[http2]>=0.22.0->nebula3-python) (3.7)\n",
      "Requirement already satisfied: sniffio in c:\\users\\my_pc\\anaconda3\\envs\\minh-ai\\lib\\site-packages (from httpx>=0.22.0->httpx[http2]>=0.22.0->nebula3-python) (1.3.1)\n",
      "Requirement already satisfied: h11<0.15,>=0.13 in c:\\users\\my_pc\\anaconda3\\envs\\minh-ai\\lib\\site-packages (from httpcore==1.*->httpx>=0.22.0->httpx[http2]>=0.22.0->nebula3-python) (0.14.0)\n",
      "Requirement already satisfied: h2<5,>=3 in c:\\users\\my_pc\\anaconda3\\envs\\minh-ai\\lib\\site-packages (from httpx[http2]>=0.22.0->nebula3-python) (4.1.0)\n",
      "Requirement already satisfied: comm>=0.1.3 in c:\\users\\my_pc\\anaconda3\\envs\\minh-ai\\lib\\site-packages (from ipywidgets->ipython-ngql) (0.2.2)\n",
      "Requirement already satisfied: ipython>=6.1.0 in c:\\users\\my_pc\\anaconda3\\envs\\minh-ai\\lib\\site-packages (from ipywidgets->ipython-ngql) (8.26.0)\n",
      "Requirement already satisfied: traitlets>=4.3.1 in c:\\users\\my_pc\\anaconda3\\envs\\minh-ai\\lib\\site-packages (from ipywidgets->ipython-ngql) (5.14.3)\n",
      "Requirement already satisfied: widgetsnbextension~=4.0.12 in c:\\users\\my_pc\\anaconda3\\envs\\minh-ai\\lib\\site-packages (from ipywidgets->ipython-ngql) (4.0.13)\n",
      "Requirement already satisfied: jupyterlab-widgets~=3.0.12 in c:\\users\\my_pc\\anaconda3\\envs\\minh-ai\\lib\\site-packages (from ipywidgets->ipython-ngql) (3.0.13)\n",
      "Requirement already satisfied: MarkupSafe>=2.0 in c:\\users\\my_pc\\anaconda3\\envs\\minh-ai\\lib\\site-packages (from Jinja2->ipython-ngql) (2.1.5)\n",
      "Requirement already satisfied: numpy>=1.26.0 in c:\\users\\my_pc\\anaconda3\\envs\\minh-ai\\lib\\site-packages (from pandas->ipython-ngql) (1.26.4)\n",
      "Requirement already satisfied: python-dateutil>=2.8.2 in c:\\users\\my_pc\\anaconda3\\envs\\minh-ai\\lib\\site-packages (from pandas->ipython-ngql) (2.9.0)\n",
      "Requirement already satisfied: tzdata>=2022.7 in c:\\users\\my_pc\\anaconda3\\envs\\minh-ai\\lib\\site-packages (from pandas->ipython-ngql) (2024.1)\n",
      "Requirement already satisfied: annotated-types>=0.4.0 in c:\\users\\my_pc\\anaconda3\\envs\\minh-ai\\lib\\site-packages (from pydantic->ipython-ngql) (0.7.0)\n",
      "Requirement already satisfied: pydantic-core==2.20.1 in c:\\users\\my_pc\\anaconda3\\envs\\minh-ai\\lib\\site-packages (from pydantic->ipython-ngql) (2.20.1)\n",
      "Requirement already satisfied: typing-extensions>=4.6.1 in c:\\users\\my_pc\\anaconda3\\envs\\minh-ai\\lib\\site-packages (from pydantic->ipython-ngql) (4.12.2)\n",
      "Requirement already satisfied: jsonpickle>=1.4.1 in c:\\users\\my_pc\\anaconda3\\envs\\minh-ai\\lib\\site-packages (from pyvis->ipython-ngql) (3.3.0)\n",
      "Requirement already satisfied: networkx>=1.11 in c:\\users\\my_pc\\anaconda3\\envs\\minh-ai\\lib\\site-packages (from pyvis->ipython-ngql) (3.3)\n",
      "Requirement already satisfied: charset-normalizer<4,>=2 in c:\\users\\my_pc\\anaconda3\\envs\\minh-ai\\lib\\site-packages (from requests->ipython-ngql) (3.3.2)\n",
      "Requirement already satisfied: urllib3<3,>=1.21.1 in c:\\users\\my_pc\\anaconda3\\envs\\minh-ai\\lib\\site-packages (from requests->ipython-ngql) (2.2.2)\n",
      "Requirement already satisfied: colorama in c:\\users\\my_pc\\anaconda3\\envs\\minh-ai\\lib\\site-packages (from tqdm->ipython-ngql) (0.4.6)\n",
      "Requirement already satisfied: hyperframe<7,>=6.0 in c:\\users\\my_pc\\anaconda3\\envs\\minh-ai\\lib\\site-packages (from h2<5,>=3->httpx[http2]>=0.22.0->nebula3-python) (6.0.1)\n",
      "Requirement already satisfied: hpack<5,>=4.0 in c:\\users\\my_pc\\anaconda3\\envs\\minh-ai\\lib\\site-packages (from h2<5,>=3->httpx[http2]>=0.22.0->nebula3-python) (4.0.0)\n",
      "Requirement already satisfied: decorator in c:\\users\\my_pc\\anaconda3\\envs\\minh-ai\\lib\\site-packages (from ipython>=6.1.0->ipywidgets->ipython-ngql) (5.1.1)\n",
      "Requirement already satisfied: jedi>=0.16 in c:\\users\\my_pc\\anaconda3\\envs\\minh-ai\\lib\\site-packages (from ipython>=6.1.0->ipywidgets->ipython-ngql) (0.19.1)\n",
      "Requirement already satisfied: matplotlib-inline in c:\\users\\my_pc\\anaconda3\\envs\\minh-ai\\lib\\site-packages (from ipython>=6.1.0->ipywidgets->ipython-ngql) (0.1.7)\n",
      "Requirement already satisfied: prompt-toolkit<3.1.0,>=3.0.41 in c:\\users\\my_pc\\anaconda3\\envs\\minh-ai\\lib\\site-packages (from ipython>=6.1.0->ipywidgets->ipython-ngql) (3.0.47)\n",
      "Requirement already satisfied: pygments>=2.4.0 in c:\\users\\my_pc\\anaconda3\\envs\\minh-ai\\lib\\site-packages (from ipython>=6.1.0->ipywidgets->ipython-ngql) (2.18.0)\n",
      "Requirement already satisfied: stack-data in c:\\users\\my_pc\\anaconda3\\envs\\minh-ai\\lib\\site-packages (from ipython>=6.1.0->ipywidgets->ipython-ngql) (0.6.2)\n",
      "Requirement already satisfied: parso<0.9.0,>=0.8.3 in c:\\users\\my_pc\\anaconda3\\envs\\minh-ai\\lib\\site-packages (from jedi>=0.16->ipython>=6.1.0->ipywidgets->ipython-ngql) (0.8.4)\n",
      "Requirement already satisfied: wcwidth in c:\\users\\my_pc\\anaconda3\\envs\\minh-ai\\lib\\site-packages (from prompt-toolkit<3.1.0,>=3.0.41->ipython>=6.1.0->ipywidgets->ipython-ngql) (0.2.13)\n",
      "Requirement already satisfied: executing>=1.2.0 in c:\\users\\my_pc\\anaconda3\\envs\\minh-ai\\lib\\site-packages (from stack-data->ipython>=6.1.0->ipywidgets->ipython-ngql) (2.0.1)\n",
      "Requirement already satisfied: asttokens>=2.1.0 in c:\\users\\my_pc\\anaconda3\\envs\\minh-ai\\lib\\site-packages (from stack-data->ipython>=6.1.0->ipywidgets->ipython-ngql) (2.4.1)\n",
      "Requirement already satisfied: pure-eval in c:\\users\\my_pc\\anaconda3\\envs\\minh-ai\\lib\\site-packages (from stack-data->ipython>=6.1.0->ipywidgets->ipython-ngql) (0.2.2)\n",
      "Note: you may need to restart the kernel to use updated packages.\n"
     ]
    }
   ],
   "source": [
    "# Create a NebulaGraph (version 3.5.0 or newer) cluster with:\n",
    "# Option 0 for machines with Docker: `curl -fsSL nebula-up.siwei.io/install.sh | bash`\n",
    "# Option 1 for Desktop: NebulaGraph Docker Extension https://hub.docker.com/extensions/weygu/nebulagraph-dd-ext\n",
    "\n",
    "# If not, create it with the following commands from NebulaGraph's console:\n",
    "# CREATE SPACE llamaindex(vid_type=FIXED_STRING(256), partition_num=1, replica_factor=1);\n",
    "# :sleep 10;\n",
    "# USE llamaindex;\n",
    "# CREATE TAG entity(name string);\n",
    "# CREATE EDGE relationship(relationship string);\n",
    "# :sleep 10;\n",
    "# CREATE TAG INDEX entity_index ON entity(name(256));\n",
    "\n",
    "%pip install ipython-ngql nebula3-python\n",
    "\n",
    "os.environ[\"NEBULA_USER\"] = \"root\"\n",
    "os.environ[\"NEBULA_PASSWORD\"] = \"nebula\"  # default is \"nebula\"\n",
    "os.environ[\n",
    "    \"NEBULA_ADDRESS\"\n",
    "] = \"127.0.0.1:9669\"  # assumed we have NebulaGraph installed locally\n",
    "\n",
    "space_name = \"quocminhdb\"\n",
    "edge_types, rel_prop_names = [\"cong_thuc\"], [\n",
    "    \"cong_thuc\"\n",
    "]  # default, could be omit if create from an empty kg\n",
    "tags = [\"entity\"]  # default, could be omit if create from an empty kg"
   ]
  },
  {
   "cell_type": "code",
   "execution_count": 69,
   "metadata": {},
   "outputs": [],
   "source": [
    "from llama_index.core import StorageContext\n",
    "from llama_index.graph_stores.nebula import NebulaGraphStore\n",
    "\n",
    "graph_store = NebulaGraphStore(\n",
    "    space_name=space_name,\n",
    "    edge_types=edge_types,\n",
    "    rel_prop_names=rel_prop_names,\n",
    "    tags=tags,\n",
    ")\n",
    "storage_context = StorageContext.from_defaults(graph_store=graph_store)"
   ]
  },
  {
   "cell_type": "code",
   "execution_count": 70,
   "metadata": {},
   "outputs": [
    {
     "name": "stderr",
     "output_type": "stream",
     "text": [
      "C:\\Users\\My_Pc\\AppData\\Local\\Temp\\ipykernel_19612\\833418821.py:4: DeprecationWarning: Call to deprecated class KnowledgeGraphRAGRetriever. (KnowledgeGraphRAGRetriever is deprecated, it is recommended to use PropertyGraphIndex and associated retrievers instead.) -- Deprecated since version 0.10.53.\n",
      "  graph_rag_retriever = KnowledgeGraphRAGRetriever(\n"
     ]
    }
   ],
   "source": [
    "from llama_index.core.query_engine import RetrieverQueryEngine\n",
    "from llama_index.core.retrievers import KnowledgeGraphRAGRetriever\n",
    "\n",
    "graph_rag_retriever = KnowledgeGraphRAGRetriever(\n",
    "    storage_context=storage_context,\n",
    "    verbose=True,\n",
    ")\n",
    "\n",
    "query_engine = RetrieverQueryEngine.from_args(\n",
    "    graph_rag_retriever,\n",
    ")"
   ]
  },
  {
   "cell_type": "code",
   "execution_count": 71,
   "metadata": {},
   "outputs": [
    {
     "name": "stdout",
     "output_type": "stream",
     "text": [
      "INFO:httpx:HTTP Request: POST https://api.openai.com/v1/chat/completions \"HTTP/1.1 200 OK\"\n",
      "INFO:httpx:HTTP Request: POST https://api.openai.com/v1/chat/completions \"HTTP/1.1 200 OK\"\n",
      "ERROR:llama_index.graph_stores.nebula.nebula_graph_store:Query failed. Query: WITH map{`true`: '-[', `false`: '<-['} AS arrow_l,     map{`true`: ']->', `false`: ']-'} AS arrow_r,     map{`cong_thuc`: \"cong_thuc\"} AS edge_type_map MATCH p=(start)-[e:`cong_thuc`*..2]-()   WHERE id(start) IN $subjs WITH start, id(start) AS vid, nodes(p) AS nodes, e AS rels,  length(p) AS rel_count, arrow_l, arrow_r, edge_type_map WITH   REDUCE(s = vid + '{', key IN [key_ in ['', 'name']     WHERE properties(start)[key_] IS NOT NULL]  | s + key + ': ' +       COALESCE(TOSTRING(properties(start)[key]), 'null') + ', ')      + '}'    AS subj,  [item in [i IN RANGE(0, rel_count - 1)|[nodes[i], nodes[i + 1],      rels[i], typeid(rels[i]) > 0, type(rels[i]) ]] | [    arrow_l[tostring(item[3])] +      item[4] + ':' +      REDUCE(s = '{', key IN SPLIT(edge_type_map[item[4]], ',') |         s + key + ': ' + COALESCE(TOSTRING(properties(item[2])[key]),        'null') + ', ') + '}'      +    arrow_r[tostring(item[3])],    REDUCE(s = id(item[1]) + '{', key IN [key_ in         ['', 'name'] WHERE properties(item[1])[key_]         IS NOT NULL]  | s + key + ': ' +         COALESCE(TOSTRING(properties(item[1])[key]), 'null') + ', ')        + '}'    ]  ] AS rels WITH   REPLACE(subj, ', }', '}') AS subj,  REDUCE(acc = collect(NULL), l in rels | acc + l) AS flattened_rels RETURN   subj,  REPLACE(REDUCE(acc = subj, l in flattened_rels | acc + ' ' + l),     ', }', '}')     AS flattened_rels  LIMIT 30, Param: {'subjs': Value(\n",
      "    lVal=NList(\n",
      "         values=[Value(\n",
      "             sVal='Peter Quill'),\n",
      "         Value(\n",
      "             sVal='Peter'),\n",
      "         Value(\n",
      "             sVal='Quill')]))}Error message: Query failed. Query: WITH map{`true`: '-[', `false`: '<-['} AS arrow_l,     map{`true`: ']->', `false`: ']-'} AS arrow_r,     map{`cong_thuc`: \"cong_thuc\"} AS edge_type_map MATCH p=(start)-[e:`cong_thuc`*..2]-()   WHERE id(start) IN $subjs WITH start, id(start) AS vid, nodes(p) AS nodes, e AS rels,  length(p) AS rel_count, arrow_l, arrow_r, edge_type_map WITH   REDUCE(s = vid + '{', key IN [key_ in ['', 'name']     WHERE properties(start)[key_] IS NOT NULL]  | s + key + ': ' +       COALESCE(TOSTRING(properties(start)[key]), 'null') + ', ')      + '}'    AS subj,  [item in [i IN RANGE(0, rel_count - 1)|[nodes[i], nodes[i + 1],      rels[i], typeid(rels[i]) > 0, type(rels[i]) ]] | [    arrow_l[tostring(item[3])] +      item[4] + ':' +      REDUCE(s = '{', key IN SPLIT(edge_type_map[item[4]], ',') |         s + key + ': ' + COALESCE(TOSTRING(properties(item[2])[key]),        'null') + ', ') + '}'      +    arrow_r[tostring(item[3])],    REDUCE(s = id(item[1]) + '{', key IN [key_ in         ['', 'name'] WHERE properties(item[1])[key_]         IS NOT NULL]  | s + key + ': ' +         COALESCE(TOSTRING(properties(item[1])[key]), 'null') + ', ')        + '}'    ]  ] AS rels WITH   REPLACE(subj, ', }', '}') AS subj,  REDUCE(acc = collect(NULL), l in rels | acc + l) AS flattened_rels RETURN   subj,  REPLACE(REDUCE(acc = subj, l in flattened_rels | acc + ' ' + l),     ', }', '}')     AS flattened_rels  LIMIT 30, Param: {'subjs': Value(\n",
      "    lVal=NList(\n",
      "         values=[Value(\n",
      "             sVal='Peter Quill'),\n",
      "         Value(\n",
      "             sVal='Peter'),\n",
      "         Value(\n",
      "             sVal='Quill')]))}Error message: SemanticError: `cong_thuc': Unknown edge type\n",
      "ERROR:llama_index.graph_stores.nebula.nebula_graph_store:Query failed. Query: WITH map{`true`: '-[', `false`: '<-['} AS arrow_l,     map{`true`: ']->', `false`: ']-'} AS arrow_r,     map{`cong_thuc`: \"cong_thuc\"} AS edge_type_map MATCH p=(start)-[e:`cong_thuc`*..2]-()   WHERE id(start) IN $subjs WITH start, id(start) AS vid, nodes(p) AS nodes, e AS rels,  length(p) AS rel_count, arrow_l, arrow_r, edge_type_map WITH   REDUCE(s = vid + '{', key IN [key_ in ['', 'name']     WHERE properties(start)[key_] IS NOT NULL]  | s + key + ': ' +       COALESCE(TOSTRING(properties(start)[key]), 'null') + ', ')      + '}'    AS subj,  [item in [i IN RANGE(0, rel_count - 1)|[nodes[i], nodes[i + 1],      rels[i], typeid(rels[i]) > 0, type(rels[i]) ]] | [    arrow_l[tostring(item[3])] +      item[4] + ':' +      REDUCE(s = '{', key IN SPLIT(edge_type_map[item[4]], ',') |         s + key + ': ' + COALESCE(TOSTRING(properties(item[2])[key]),        'null') + ', ') + '}'      +    arrow_r[tostring(item[3])],    REDUCE(s = id(item[1]) + '{', key IN [key_ in         ['', 'name'] WHERE properties(item[1])[key_]         IS NOT NULL]  | s + key + ': ' +         COALESCE(TOSTRING(properties(item[1])[key]), 'null') + ', ')        + '}'    ]  ] AS rels WITH   REPLACE(subj, ', }', '}') AS subj,  REDUCE(acc = collect(NULL), l in rels | acc + l) AS flattened_rels RETURN   subj,  REPLACE(REDUCE(acc = subj, l in flattened_rels | acc + ' ' + l),     ', }', '}')     AS flattened_rels  LIMIT 30, Param: {'subjs': Value(\n",
      "    lVal=NList(\n",
      "         values=[Value(\n",
      "             sVal='Peter Quill'),\n",
      "         Value(\n",
      "             sVal='Peter'),\n",
      "         Value(\n",
      "             sVal='Quill')]))}Error message: Query failed. Query: WITH map{`true`: '-[', `false`: '<-['} AS arrow_l,     map{`true`: ']->', `false`: ']-'} AS arrow_r,     map{`cong_thuc`: \"cong_thuc\"} AS edge_type_map MATCH p=(start)-[e:`cong_thuc`*..2]-()   WHERE id(start) IN $subjs WITH start, id(start) AS vid, nodes(p) AS nodes, e AS rels,  length(p) AS rel_count, arrow_l, arrow_r, edge_type_map WITH   REDUCE(s = vid + '{', key IN [key_ in ['', 'name']     WHERE properties(start)[key_] IS NOT NULL]  | s + key + ': ' +       COALESCE(TOSTRING(properties(start)[key]), 'null') + ', ')      + '}'    AS subj,  [item in [i IN RANGE(0, rel_count - 1)|[nodes[i], nodes[i + 1],      rels[i], typeid(rels[i]) > 0, type(rels[i]) ]] | [    arrow_l[tostring(item[3])] +      item[4] + ':' +      REDUCE(s = '{', key IN SPLIT(edge_type_map[item[4]], ',') |         s + key + ': ' + COALESCE(TOSTRING(properties(item[2])[key]),        'null') + ', ') + '}'      +    arrow_r[tostring(item[3])],    REDUCE(s = id(item[1]) + '{', key IN [key_ in         ['', 'name'] WHERE properties(item[1])[key_]         IS NOT NULL]  | s + key + ': ' +         COALESCE(TOSTRING(properties(item[1])[key]), 'null') + ', ')        + '}'    ]  ] AS rels WITH   REPLACE(subj, ', }', '}') AS subj,  REDUCE(acc = collect(NULL), l in rels | acc + l) AS flattened_rels RETURN   subj,  REPLACE(REDUCE(acc = subj, l in flattened_rels | acc + ' ' + l),     ', }', '}')     AS flattened_rels  LIMIT 30, Param: {'subjs': Value(\n",
      "    lVal=NList(\n",
      "         values=[Value(\n",
      "             sVal='Peter Quill'),\n",
      "         Value(\n",
      "             sVal='Peter'),\n",
      "         Value(\n",
      "             sVal='Quill')]))}Error message: SemanticError: `cong_thuc': Unknown edge type\n",
      "ERROR:llama_index.graph_stores.nebula.nebula_graph_store:Query failed. Query: WITH map{`true`: '-[', `false`: '<-['} AS arrow_l,     map{`true`: ']->', `false`: ']-'} AS arrow_r,     map{`cong_thuc`: \"cong_thuc\"} AS edge_type_map MATCH p=(start)-[e:`cong_thuc`*..2]-()   WHERE id(start) IN $subjs WITH start, id(start) AS vid, nodes(p) AS nodes, e AS rels,  length(p) AS rel_count, arrow_l, arrow_r, edge_type_map WITH   REDUCE(s = vid + '{', key IN [key_ in ['', 'name']     WHERE properties(start)[key_] IS NOT NULL]  | s + key + ': ' +       COALESCE(TOSTRING(properties(start)[key]), 'null') + ', ')      + '}'    AS subj,  [item in [i IN RANGE(0, rel_count - 1)|[nodes[i], nodes[i + 1],      rels[i], typeid(rels[i]) > 0, type(rels[i]) ]] | [    arrow_l[tostring(item[3])] +      item[4] + ':' +      REDUCE(s = '{', key IN SPLIT(edge_type_map[item[4]], ',') |         s + key + ': ' + COALESCE(TOSTRING(properties(item[2])[key]),        'null') + ', ') + '}'      +    arrow_r[tostring(item[3])],    REDUCE(s = id(item[1]) + '{', key IN [key_ in         ['', 'name'] WHERE properties(item[1])[key_]         IS NOT NULL]  | s + key + ': ' +         COALESCE(TOSTRING(properties(item[1])[key]), 'null') + ', ')        + '}'    ]  ] AS rels WITH   REPLACE(subj, ', }', '}') AS subj,  REDUCE(acc = collect(NULL), l in rels | acc + l) AS flattened_rels RETURN   subj,  REPLACE(REDUCE(acc = subj, l in flattened_rels | acc + ' ' + l),     ', }', '}')     AS flattened_rels  LIMIT 30, Param: {'subjs': Value(\n",
      "    lVal=NList(\n",
      "         values=[Value(\n",
      "             sVal='Peter Quill'),\n",
      "         Value(\n",
      "             sVal='Peter'),\n",
      "         Value(\n",
      "             sVal='Quill')]))}Error message: Query failed. Query: WITH map{`true`: '-[', `false`: '<-['} AS arrow_l,     map{`true`: ']->', `false`: ']-'} AS arrow_r,     map{`cong_thuc`: \"cong_thuc\"} AS edge_type_map MATCH p=(start)-[e:`cong_thuc`*..2]-()   WHERE id(start) IN $subjs WITH start, id(start) AS vid, nodes(p) AS nodes, e AS rels,  length(p) AS rel_count, arrow_l, arrow_r, edge_type_map WITH   REDUCE(s = vid + '{', key IN [key_ in ['', 'name']     WHERE properties(start)[key_] IS NOT NULL]  | s + key + ': ' +       COALESCE(TOSTRING(properties(start)[key]), 'null') + ', ')      + '}'    AS subj,  [item in [i IN RANGE(0, rel_count - 1)|[nodes[i], nodes[i + 1],      rels[i], typeid(rels[i]) > 0, type(rels[i]) ]] | [    arrow_l[tostring(item[3])] +      item[4] + ':' +      REDUCE(s = '{', key IN SPLIT(edge_type_map[item[4]], ',') |         s + key + ': ' + COALESCE(TOSTRING(properties(item[2])[key]),        'null') + ', ') + '}'      +    arrow_r[tostring(item[3])],    REDUCE(s = id(item[1]) + '{', key IN [key_ in         ['', 'name'] WHERE properties(item[1])[key_]         IS NOT NULL]  | s + key + ': ' +         COALESCE(TOSTRING(properties(item[1])[key]), 'null') + ', ')        + '}'    ]  ] AS rels WITH   REPLACE(subj, ', }', '}') AS subj,  REDUCE(acc = collect(NULL), l in rels | acc + l) AS flattened_rels RETURN   subj,  REPLACE(REDUCE(acc = subj, l in flattened_rels | acc + ' ' + l),     ', }', '}')     AS flattened_rels  LIMIT 30, Param: {'subjs': Value(\n",
      "    lVal=NList(\n",
      "         values=[Value(\n",
      "             sVal='Peter Quill'),\n",
      "         Value(\n",
      "             sVal='Peter'),\n",
      "         Value(\n",
      "             sVal='Quill')]))}Error message: SemanticError: `cong_thuc': Unknown edge type\n"
     ]
    },
    {
     "ename": "RetryError",
     "evalue": "RetryError[<Future at 0x1f5f81fac00 state=finished raised ValueError>]",
     "output_type": "error",
     "traceback": [
      "\u001b[1;31m---------------------------------------------------------------------------\u001b[0m",
      "\u001b[1;31mValueError\u001b[0m                                Traceback (most recent call last)",
      "File \u001b[1;32mc:\\Users\\My_Pc\\anaconda3\\envs\\Minh-AI\\Lib\\site-packages\\tenacity\\__init__.py:478\u001b[0m, in \u001b[0;36mRetrying.__call__\u001b[1;34m(self, fn, *args, **kwargs)\u001b[0m\n\u001b[0;32m    477\u001b[0m \u001b[38;5;28;01mtry\u001b[39;00m:\n\u001b[1;32m--> 478\u001b[0m     result \u001b[38;5;241m=\u001b[39m \u001b[43mfn\u001b[49m\u001b[43m(\u001b[49m\u001b[38;5;241;43m*\u001b[39;49m\u001b[43margs\u001b[49m\u001b[43m,\u001b[49m\u001b[43m \u001b[49m\u001b[38;5;241;43m*\u001b[39;49m\u001b[38;5;241;43m*\u001b[39;49m\u001b[43mkwargs\u001b[49m\u001b[43m)\u001b[49m\n\u001b[0;32m    479\u001b[0m \u001b[38;5;28;01mexcept\u001b[39;00m \u001b[38;5;167;01mBaseException\u001b[39;00m:  \u001b[38;5;66;03m# noqa: B902\u001b[39;00m\n",
      "File \u001b[1;32mc:\\Users\\My_Pc\\anaconda3\\envs\\Minh-AI\\Lib\\site-packages\\llama_index\\graph_stores\\nebula\\nebula_graph_store.py:266\u001b[0m, in \u001b[0;36mNebulaGraphStore.execute\u001b[1;34m(self, query, param_map)\u001b[0m\n\u001b[0;32m    265\u001b[0m \u001b[38;5;28;01mif\u001b[39;00m \u001b[38;5;129;01mnot\u001b[39;00m result\u001b[38;5;241m.\u001b[39mis_succeeded():\n\u001b[1;32m--> 266\u001b[0m     \u001b[38;5;28;01mraise\u001b[39;00m \u001b[38;5;167;01mValueError\u001b[39;00m(\n\u001b[0;32m    267\u001b[0m         \u001b[38;5;124mf\u001b[39m\u001b[38;5;124m\"\u001b[39m\u001b[38;5;124mQuery failed. Query: \u001b[39m\u001b[38;5;132;01m{\u001b[39;00mquery\u001b[38;5;132;01m}\u001b[39;00m\u001b[38;5;124m, Param: \u001b[39m\u001b[38;5;132;01m{\u001b[39;00mparam_map\u001b[38;5;132;01m}\u001b[39;00m\u001b[38;5;124m\"\u001b[39m\n\u001b[0;32m    268\u001b[0m         \u001b[38;5;124mf\u001b[39m\u001b[38;5;124m\"\u001b[39m\u001b[38;5;124mError message: \u001b[39m\u001b[38;5;132;01m{\u001b[39;00mresult\u001b[38;5;241m.\u001b[39merror_msg()\u001b[38;5;132;01m}\u001b[39;00m\u001b[38;5;124m\"\u001b[39m\n\u001b[0;32m    269\u001b[0m     )\n\u001b[0;32m    270\u001b[0m \u001b[38;5;28;01mreturn\u001b[39;00m result\n",
      "\u001b[1;31mValueError\u001b[0m: Query failed. Query: WITH map{`true`: '-[', `false`: '<-['} AS arrow_l,     map{`true`: ']->', `false`: ']-'} AS arrow_r,     map{`cong_thuc`: \"cong_thuc\"} AS edge_type_map MATCH p=(start)-[e:`cong_thuc`*..2]-()   WHERE id(start) IN $subjs WITH start, id(start) AS vid, nodes(p) AS nodes, e AS rels,  length(p) AS rel_count, arrow_l, arrow_r, edge_type_map WITH   REDUCE(s = vid + '{', key IN [key_ in ['', 'name']     WHERE properties(start)[key_] IS NOT NULL]  | s + key + ': ' +       COALESCE(TOSTRING(properties(start)[key]), 'null') + ', ')      + '}'    AS subj,  [item in [i IN RANGE(0, rel_count - 1)|[nodes[i], nodes[i + 1],      rels[i], typeid(rels[i]) > 0, type(rels[i]) ]] | [    arrow_l[tostring(item[3])] +      item[4] + ':' +      REDUCE(s = '{', key IN SPLIT(edge_type_map[item[4]], ',') |         s + key + ': ' + COALESCE(TOSTRING(properties(item[2])[key]),        'null') + ', ') + '}'      +    arrow_r[tostring(item[3])],    REDUCE(s = id(item[1]) + '{', key IN [key_ in         ['', 'name'] WHERE properties(item[1])[key_]         IS NOT NULL]  | s + key + ': ' +         COALESCE(TOSTRING(properties(item[1])[key]), 'null') + ', ')        + '}'    ]  ] AS rels WITH   REPLACE(subj, ', }', '}') AS subj,  REDUCE(acc = collect(NULL), l in rels | acc + l) AS flattened_rels RETURN   subj,  REPLACE(REDUCE(acc = subj, l in flattened_rels | acc + ' ' + l),     ', }', '}')     AS flattened_rels  LIMIT 30, Param: {'subjs': Value(\n    lVal=NList(\n         values=[Value(\n             sVal='Peter Quill'),\n         Value(\n             sVal='Peter'),\n         Value(\n             sVal='Quill')]))}Error message: SemanticError: `cong_thuc': Unknown edge type",
      "\nThe above exception was the direct cause of the following exception:\n",
      "\u001b[1;31mRetryError\u001b[0m                                Traceback (most recent call last)",
      "Cell \u001b[1;32mIn[71], line 3\u001b[0m\n\u001b[0;32m      1\u001b[0m \u001b[38;5;28;01mfrom\u001b[39;00m \u001b[38;5;21;01mIPython\u001b[39;00m\u001b[38;5;21;01m.\u001b[39;00m\u001b[38;5;21;01mdisplay\u001b[39;00m \u001b[38;5;28;01mimport\u001b[39;00m display, Markdown\n\u001b[1;32m----> 3\u001b[0m response \u001b[38;5;241m=\u001b[39m \u001b[43mquery_engine\u001b[49m\u001b[38;5;241;43m.\u001b[39;49m\u001b[43mquery\u001b[49m\u001b[43m(\u001b[49m\n\u001b[0;32m      4\u001b[0m \u001b[43m    \u001b[49m\u001b[38;5;124;43m\"\u001b[39;49m\u001b[38;5;124;43mTell me about Peter Quill?\u001b[39;49m\u001b[38;5;124;43m\"\u001b[39;49m\u001b[43m,\u001b[49m\n\u001b[0;32m      5\u001b[0m \u001b[43m)\u001b[49m\n\u001b[0;32m      6\u001b[0m display(Markdown(\u001b[38;5;124mf\u001b[39m\u001b[38;5;124m\"\u001b[39m\u001b[38;5;124m<b>\u001b[39m\u001b[38;5;132;01m{\u001b[39;00mresponse\u001b[38;5;132;01m}\u001b[39;00m\u001b[38;5;124m</b>\u001b[39m\u001b[38;5;124m\"\u001b[39m))\n",
      "File \u001b[1;32mc:\\Users\\My_Pc\\anaconda3\\envs\\Minh-AI\\Lib\\site-packages\\llama_index\\core\\instrumentation\\dispatcher.py:265\u001b[0m, in \u001b[0;36mDispatcher.span.<locals>.wrapper\u001b[1;34m(func, instance, args, kwargs)\u001b[0m\n\u001b[0;32m    257\u001b[0m \u001b[38;5;28mself\u001b[39m\u001b[38;5;241m.\u001b[39mspan_enter(\n\u001b[0;32m    258\u001b[0m     id_\u001b[38;5;241m=\u001b[39mid_,\n\u001b[0;32m    259\u001b[0m     bound_args\u001b[38;5;241m=\u001b[39mbound_args,\n\u001b[1;32m   (...)\u001b[0m\n\u001b[0;32m    262\u001b[0m     tags\u001b[38;5;241m=\u001b[39mtags,\n\u001b[0;32m    263\u001b[0m )\n\u001b[0;32m    264\u001b[0m \u001b[38;5;28;01mtry\u001b[39;00m:\n\u001b[1;32m--> 265\u001b[0m     result \u001b[38;5;241m=\u001b[39m \u001b[43mfunc\u001b[49m\u001b[43m(\u001b[49m\u001b[38;5;241;43m*\u001b[39;49m\u001b[43margs\u001b[49m\u001b[43m,\u001b[49m\u001b[43m \u001b[49m\u001b[38;5;241;43m*\u001b[39;49m\u001b[38;5;241;43m*\u001b[39;49m\u001b[43mkwargs\u001b[49m\u001b[43m)\u001b[49m\n\u001b[0;32m    266\u001b[0m \u001b[38;5;28;01mexcept\u001b[39;00m \u001b[38;5;167;01mBaseException\u001b[39;00m \u001b[38;5;28;01mas\u001b[39;00m e:\n\u001b[0;32m    267\u001b[0m     \u001b[38;5;28mself\u001b[39m\u001b[38;5;241m.\u001b[39mevent(SpanDropEvent(span_id\u001b[38;5;241m=\u001b[39mid_, err_str\u001b[38;5;241m=\u001b[39m\u001b[38;5;28mstr\u001b[39m(e)))\n",
      "File \u001b[1;32mc:\\Users\\My_Pc\\anaconda3\\envs\\Minh-AI\\Lib\\site-packages\\llama_index\\core\\base\\base_query_engine.py:52\u001b[0m, in \u001b[0;36mBaseQueryEngine.query\u001b[1;34m(self, str_or_query_bundle)\u001b[0m\n\u001b[0;32m     50\u001b[0m     \u001b[38;5;28;01mif\u001b[39;00m \u001b[38;5;28misinstance\u001b[39m(str_or_query_bundle, \u001b[38;5;28mstr\u001b[39m):\n\u001b[0;32m     51\u001b[0m         str_or_query_bundle \u001b[38;5;241m=\u001b[39m QueryBundle(str_or_query_bundle)\n\u001b[1;32m---> 52\u001b[0m     query_result \u001b[38;5;241m=\u001b[39m \u001b[38;5;28;43mself\u001b[39;49m\u001b[38;5;241;43m.\u001b[39;49m\u001b[43m_query\u001b[49m\u001b[43m(\u001b[49m\u001b[43mstr_or_query_bundle\u001b[49m\u001b[43m)\u001b[49m\n\u001b[0;32m     53\u001b[0m dispatcher\u001b[38;5;241m.\u001b[39mevent(\n\u001b[0;32m     54\u001b[0m     QueryEndEvent(query\u001b[38;5;241m=\u001b[39mstr_or_query_bundle, response\u001b[38;5;241m=\u001b[39mquery_result)\n\u001b[0;32m     55\u001b[0m )\n\u001b[0;32m     56\u001b[0m \u001b[38;5;28;01mreturn\u001b[39;00m query_result\n",
      "File \u001b[1;32mc:\\Users\\My_Pc\\anaconda3\\envs\\Minh-AI\\Lib\\site-packages\\llama_index\\core\\instrumentation\\dispatcher.py:265\u001b[0m, in \u001b[0;36mDispatcher.span.<locals>.wrapper\u001b[1;34m(func, instance, args, kwargs)\u001b[0m\n\u001b[0;32m    257\u001b[0m \u001b[38;5;28mself\u001b[39m\u001b[38;5;241m.\u001b[39mspan_enter(\n\u001b[0;32m    258\u001b[0m     id_\u001b[38;5;241m=\u001b[39mid_,\n\u001b[0;32m    259\u001b[0m     bound_args\u001b[38;5;241m=\u001b[39mbound_args,\n\u001b[1;32m   (...)\u001b[0m\n\u001b[0;32m    262\u001b[0m     tags\u001b[38;5;241m=\u001b[39mtags,\n\u001b[0;32m    263\u001b[0m )\n\u001b[0;32m    264\u001b[0m \u001b[38;5;28;01mtry\u001b[39;00m:\n\u001b[1;32m--> 265\u001b[0m     result \u001b[38;5;241m=\u001b[39m \u001b[43mfunc\u001b[49m\u001b[43m(\u001b[49m\u001b[38;5;241;43m*\u001b[39;49m\u001b[43margs\u001b[49m\u001b[43m,\u001b[49m\u001b[43m \u001b[49m\u001b[38;5;241;43m*\u001b[39;49m\u001b[38;5;241;43m*\u001b[39;49m\u001b[43mkwargs\u001b[49m\u001b[43m)\u001b[49m\n\u001b[0;32m    266\u001b[0m \u001b[38;5;28;01mexcept\u001b[39;00m \u001b[38;5;167;01mBaseException\u001b[39;00m \u001b[38;5;28;01mas\u001b[39;00m e:\n\u001b[0;32m    267\u001b[0m     \u001b[38;5;28mself\u001b[39m\u001b[38;5;241m.\u001b[39mevent(SpanDropEvent(span_id\u001b[38;5;241m=\u001b[39mid_, err_str\u001b[38;5;241m=\u001b[39m\u001b[38;5;28mstr\u001b[39m(e)))\n",
      "File \u001b[1;32mc:\\Users\\My_Pc\\anaconda3\\envs\\Minh-AI\\Lib\\site-packages\\llama_index\\core\\query_engine\\retriever_query_engine.py:177\u001b[0m, in \u001b[0;36mRetrieverQueryEngine._query\u001b[1;34m(self, query_bundle)\u001b[0m\n\u001b[0;32m    173\u001b[0m \u001b[38;5;250m\u001b[39m\u001b[38;5;124;03m\"\"\"Answer a query.\"\"\"\u001b[39;00m\n\u001b[0;32m    174\u001b[0m \u001b[38;5;28;01mwith\u001b[39;00m \u001b[38;5;28mself\u001b[39m\u001b[38;5;241m.\u001b[39mcallback_manager\u001b[38;5;241m.\u001b[39mevent(\n\u001b[0;32m    175\u001b[0m     CBEventType\u001b[38;5;241m.\u001b[39mQUERY, payload\u001b[38;5;241m=\u001b[39m{EventPayload\u001b[38;5;241m.\u001b[39mQUERY_STR: query_bundle\u001b[38;5;241m.\u001b[39mquery_str}\n\u001b[0;32m    176\u001b[0m ) \u001b[38;5;28;01mas\u001b[39;00m query_event:\n\u001b[1;32m--> 177\u001b[0m     nodes \u001b[38;5;241m=\u001b[39m \u001b[38;5;28;43mself\u001b[39;49m\u001b[38;5;241;43m.\u001b[39;49m\u001b[43mretrieve\u001b[49m\u001b[43m(\u001b[49m\u001b[43mquery_bundle\u001b[49m\u001b[43m)\u001b[49m\n\u001b[0;32m    178\u001b[0m     response \u001b[38;5;241m=\u001b[39m \u001b[38;5;28mself\u001b[39m\u001b[38;5;241m.\u001b[39m_response_synthesizer\u001b[38;5;241m.\u001b[39msynthesize(\n\u001b[0;32m    179\u001b[0m         query\u001b[38;5;241m=\u001b[39mquery_bundle,\n\u001b[0;32m    180\u001b[0m         nodes\u001b[38;5;241m=\u001b[39mnodes,\n\u001b[0;32m    181\u001b[0m     )\n\u001b[0;32m    182\u001b[0m     query_event\u001b[38;5;241m.\u001b[39mon_end(payload\u001b[38;5;241m=\u001b[39m{EventPayload\u001b[38;5;241m.\u001b[39mRESPONSE: response})\n",
      "File \u001b[1;32mc:\\Users\\My_Pc\\anaconda3\\envs\\Minh-AI\\Lib\\site-packages\\llama_index\\core\\query_engine\\retriever_query_engine.py:132\u001b[0m, in \u001b[0;36mRetrieverQueryEngine.retrieve\u001b[1;34m(self, query_bundle)\u001b[0m\n\u001b[0;32m    131\u001b[0m \u001b[38;5;28;01mdef\u001b[39;00m \u001b[38;5;21mretrieve\u001b[39m(\u001b[38;5;28mself\u001b[39m, query_bundle: QueryBundle) \u001b[38;5;241m-\u001b[39m\u001b[38;5;241m>\u001b[39m List[NodeWithScore]:\n\u001b[1;32m--> 132\u001b[0m     nodes \u001b[38;5;241m=\u001b[39m \u001b[38;5;28;43mself\u001b[39;49m\u001b[38;5;241;43m.\u001b[39;49m\u001b[43m_retriever\u001b[49m\u001b[38;5;241;43m.\u001b[39;49m\u001b[43mretrieve\u001b[49m\u001b[43m(\u001b[49m\u001b[43mquery_bundle\u001b[49m\u001b[43m)\u001b[49m\n\u001b[0;32m    133\u001b[0m     \u001b[38;5;28;01mreturn\u001b[39;00m \u001b[38;5;28mself\u001b[39m\u001b[38;5;241m.\u001b[39m_apply_node_postprocessors(nodes, query_bundle\u001b[38;5;241m=\u001b[39mquery_bundle)\n",
      "File \u001b[1;32mc:\\Users\\My_Pc\\anaconda3\\envs\\Minh-AI\\Lib\\site-packages\\llama_index\\core\\instrumentation\\dispatcher.py:265\u001b[0m, in \u001b[0;36mDispatcher.span.<locals>.wrapper\u001b[1;34m(func, instance, args, kwargs)\u001b[0m\n\u001b[0;32m    257\u001b[0m \u001b[38;5;28mself\u001b[39m\u001b[38;5;241m.\u001b[39mspan_enter(\n\u001b[0;32m    258\u001b[0m     id_\u001b[38;5;241m=\u001b[39mid_,\n\u001b[0;32m    259\u001b[0m     bound_args\u001b[38;5;241m=\u001b[39mbound_args,\n\u001b[1;32m   (...)\u001b[0m\n\u001b[0;32m    262\u001b[0m     tags\u001b[38;5;241m=\u001b[39mtags,\n\u001b[0;32m    263\u001b[0m )\n\u001b[0;32m    264\u001b[0m \u001b[38;5;28;01mtry\u001b[39;00m:\n\u001b[1;32m--> 265\u001b[0m     result \u001b[38;5;241m=\u001b[39m \u001b[43mfunc\u001b[49m\u001b[43m(\u001b[49m\u001b[38;5;241;43m*\u001b[39;49m\u001b[43margs\u001b[49m\u001b[43m,\u001b[49m\u001b[43m \u001b[49m\u001b[38;5;241;43m*\u001b[39;49m\u001b[38;5;241;43m*\u001b[39;49m\u001b[43mkwargs\u001b[49m\u001b[43m)\u001b[49m\n\u001b[0;32m    266\u001b[0m \u001b[38;5;28;01mexcept\u001b[39;00m \u001b[38;5;167;01mBaseException\u001b[39;00m \u001b[38;5;28;01mas\u001b[39;00m e:\n\u001b[0;32m    267\u001b[0m     \u001b[38;5;28mself\u001b[39m\u001b[38;5;241m.\u001b[39mevent(SpanDropEvent(span_id\u001b[38;5;241m=\u001b[39mid_, err_str\u001b[38;5;241m=\u001b[39m\u001b[38;5;28mstr\u001b[39m(e)))\n",
      "File \u001b[1;32mc:\\Users\\My_Pc\\anaconda3\\envs\\Minh-AI\\Lib\\site-packages\\llama_index\\core\\base\\base_retriever.py:245\u001b[0m, in \u001b[0;36mBaseRetriever.retrieve\u001b[1;34m(self, str_or_query_bundle)\u001b[0m\n\u001b[0;32m    240\u001b[0m \u001b[38;5;28;01mwith\u001b[39;00m \u001b[38;5;28mself\u001b[39m\u001b[38;5;241m.\u001b[39mcallback_manager\u001b[38;5;241m.\u001b[39mas_trace(\u001b[38;5;124m\"\u001b[39m\u001b[38;5;124mquery\u001b[39m\u001b[38;5;124m\"\u001b[39m):\n\u001b[0;32m    241\u001b[0m     \u001b[38;5;28;01mwith\u001b[39;00m \u001b[38;5;28mself\u001b[39m\u001b[38;5;241m.\u001b[39mcallback_manager\u001b[38;5;241m.\u001b[39mevent(\n\u001b[0;32m    242\u001b[0m         CBEventType\u001b[38;5;241m.\u001b[39mRETRIEVE,\n\u001b[0;32m    243\u001b[0m         payload\u001b[38;5;241m=\u001b[39m{EventPayload\u001b[38;5;241m.\u001b[39mQUERY_STR: query_bundle\u001b[38;5;241m.\u001b[39mquery_str},\n\u001b[0;32m    244\u001b[0m     ) \u001b[38;5;28;01mas\u001b[39;00m retrieve_event:\n\u001b[1;32m--> 245\u001b[0m         nodes \u001b[38;5;241m=\u001b[39m \u001b[38;5;28;43mself\u001b[39;49m\u001b[38;5;241;43m.\u001b[39;49m\u001b[43m_retrieve\u001b[49m\u001b[43m(\u001b[49m\u001b[43mquery_bundle\u001b[49m\u001b[43m)\u001b[49m\n\u001b[0;32m    246\u001b[0m         nodes \u001b[38;5;241m=\u001b[39m \u001b[38;5;28mself\u001b[39m\u001b[38;5;241m.\u001b[39m_handle_recursive_retrieval(query_bundle, nodes)\n\u001b[0;32m    247\u001b[0m         retrieve_event\u001b[38;5;241m.\u001b[39mon_end(\n\u001b[0;32m    248\u001b[0m             payload\u001b[38;5;241m=\u001b[39m{EventPayload\u001b[38;5;241m.\u001b[39mNODES: nodes},\n\u001b[0;32m    249\u001b[0m         )\n",
      "File \u001b[1;32mc:\\Users\\My_Pc\\anaconda3\\envs\\Minh-AI\\Lib\\site-packages\\llama_index\\core\\instrumentation\\dispatcher.py:265\u001b[0m, in \u001b[0;36mDispatcher.span.<locals>.wrapper\u001b[1;34m(func, instance, args, kwargs)\u001b[0m\n\u001b[0;32m    257\u001b[0m \u001b[38;5;28mself\u001b[39m\u001b[38;5;241m.\u001b[39mspan_enter(\n\u001b[0;32m    258\u001b[0m     id_\u001b[38;5;241m=\u001b[39mid_,\n\u001b[0;32m    259\u001b[0m     bound_args\u001b[38;5;241m=\u001b[39mbound_args,\n\u001b[1;32m   (...)\u001b[0m\n\u001b[0;32m    262\u001b[0m     tags\u001b[38;5;241m=\u001b[39mtags,\n\u001b[0;32m    263\u001b[0m )\n\u001b[0;32m    264\u001b[0m \u001b[38;5;28;01mtry\u001b[39;00m:\n\u001b[1;32m--> 265\u001b[0m     result \u001b[38;5;241m=\u001b[39m \u001b[43mfunc\u001b[49m\u001b[43m(\u001b[49m\u001b[38;5;241;43m*\u001b[39;49m\u001b[43margs\u001b[49m\u001b[43m,\u001b[49m\u001b[43m \u001b[49m\u001b[38;5;241;43m*\u001b[39;49m\u001b[38;5;241;43m*\u001b[39;49m\u001b[43mkwargs\u001b[49m\u001b[43m)\u001b[49m\n\u001b[0;32m    266\u001b[0m \u001b[38;5;28;01mexcept\u001b[39;00m \u001b[38;5;167;01mBaseException\u001b[39;00m \u001b[38;5;28;01mas\u001b[39;00m e:\n\u001b[0;32m    267\u001b[0m     \u001b[38;5;28mself\u001b[39m\u001b[38;5;241m.\u001b[39mevent(SpanDropEvent(span_id\u001b[38;5;241m=\u001b[39mid_, err_str\u001b[38;5;241m=\u001b[39m\u001b[38;5;28mstr\u001b[39m(e)))\n",
      "File \u001b[1;32mc:\\Users\\My_Pc\\anaconda3\\envs\\Minh-AI\\Lib\\site-packages\\llama_index\\core\\indices\\knowledge_graph\\retrievers.py:840\u001b[0m, in \u001b[0;36mKnowledgeGraphRAGRetriever._retrieve\u001b[1;34m(self, query_bundle)\u001b[0m\n\u001b[0;32m    837\u001b[0m     \u001b[38;5;28;01mexcept\u001b[39;00m \u001b[38;5;167;01mException\u001b[39;00m \u001b[38;5;28;01mas\u001b[39;00m e:\n\u001b[0;32m    838\u001b[0m         logger\u001b[38;5;241m.\u001b[39mwarning(\u001b[38;5;124mf\u001b[39m\u001b[38;5;124m\"\u001b[39m\u001b[38;5;124mError in retrieving from nl2graphquery: \u001b[39m\u001b[38;5;132;01m{\u001b[39;00me\u001b[38;5;132;01m}\u001b[39;00m\u001b[38;5;124m\"\u001b[39m)\n\u001b[1;32m--> 840\u001b[0m nodes\u001b[38;5;241m.\u001b[39mextend(\u001b[38;5;28;43mself\u001b[39;49m\u001b[38;5;241;43m.\u001b[39;49m\u001b[43m_retrieve_keyword\u001b[49m\u001b[43m(\u001b[49m\u001b[43mquery_bundle\u001b[49m\u001b[43m)\u001b[49m)\n\u001b[0;32m    841\u001b[0m nodes\u001b[38;5;241m.\u001b[39mextend(\u001b[38;5;28mself\u001b[39m\u001b[38;5;241m.\u001b[39m_retrieve_embedding(query_bundle))\n\u001b[0;32m    843\u001b[0m \u001b[38;5;28;01mreturn\u001b[39;00m nodes\n",
      "File \u001b[1;32mc:\\Users\\My_Pc\\anaconda3\\envs\\Minh-AI\\Lib\\site-packages\\llama_index\\core\\indices\\knowledge_graph\\retrievers.py:789\u001b[0m, in \u001b[0;36mKnowledgeGraphRAGRetriever._retrieve_keyword\u001b[1;34m(self, query_bundle)\u001b[0m\n\u001b[0;32m    786\u001b[0m     \u001b[38;5;28;01mreturn\u001b[39;00m []\n\u001b[0;32m    788\u001b[0m \u001b[38;5;66;03m# Get SubGraph from Graph Store as Knowledge Sequence\u001b[39;00m\n\u001b[1;32m--> 789\u001b[0m knowledge_sequence, rel_map \u001b[38;5;241m=\u001b[39m \u001b[38;5;28;43mself\u001b[39;49m\u001b[38;5;241;43m.\u001b[39;49m\u001b[43m_get_knowledge_sequence\u001b[49m\u001b[43m(\u001b[49m\u001b[43mentities\u001b[49m\u001b[43m)\u001b[49m\n\u001b[0;32m    791\u001b[0m \u001b[38;5;28;01mreturn\u001b[39;00m \u001b[38;5;28mself\u001b[39m\u001b[38;5;241m.\u001b[39m_build_nodes(knowledge_sequence, rel_map)\n",
      "File \u001b[1;32mc:\\Users\\My_Pc\\anaconda3\\envs\\Minh-AI\\Lib\\site-packages\\llama_index\\core\\indices\\knowledge_graph\\retrievers.py:695\u001b[0m, in \u001b[0;36mKnowledgeGraphRAGRetriever._get_knowledge_sequence\u001b[1;34m(self, entities)\u001b[0m\n\u001b[0;32m    693\u001b[0m \u001b[38;5;250m\u001b[39m\u001b[38;5;124;03m\"\"\"Get knowledge sequence from entities.\"\"\"\u001b[39;00m\n\u001b[0;32m    694\u001b[0m \u001b[38;5;66;03m# Get SubGraph from Graph Store as Knowledge Sequence\u001b[39;00m\n\u001b[1;32m--> 695\u001b[0m rel_map: Optional[Dict] \u001b[38;5;241m=\u001b[39m \u001b[38;5;28;43mself\u001b[39;49m\u001b[38;5;241;43m.\u001b[39;49m\u001b[43m_graph_store\u001b[49m\u001b[38;5;241;43m.\u001b[39;49m\u001b[43mget_rel_map\u001b[49m\u001b[43m(\u001b[49m\n\u001b[0;32m    696\u001b[0m \u001b[43m    \u001b[49m\u001b[43mentities\u001b[49m\u001b[43m,\u001b[49m\u001b[43m \u001b[49m\u001b[38;5;28;43mself\u001b[39;49m\u001b[38;5;241;43m.\u001b[39;49m\u001b[43m_graph_traversal_depth\u001b[49m\u001b[43m,\u001b[49m\u001b[43m \u001b[49m\u001b[43mlimit\u001b[49m\u001b[38;5;241;43m=\u001b[39;49m\u001b[38;5;28;43mself\u001b[39;49m\u001b[38;5;241;43m.\u001b[39;49m\u001b[43m_max_knowledge_sequence\u001b[49m\n\u001b[0;32m    697\u001b[0m \u001b[43m\u001b[49m\u001b[43m)\u001b[49m\n\u001b[0;32m    698\u001b[0m logger\u001b[38;5;241m.\u001b[39mdebug(\u001b[38;5;124mf\u001b[39m\u001b[38;5;124m\"\u001b[39m\u001b[38;5;124mrel_map: \u001b[39m\u001b[38;5;132;01m{\u001b[39;00mrel_map\u001b[38;5;132;01m}\u001b[39;00m\u001b[38;5;124m\"\u001b[39m)\n\u001b[0;32m    700\u001b[0m \u001b[38;5;66;03m# Build Knowledge Sequence\u001b[39;00m\n",
      "File \u001b[1;32mc:\\Users\\My_Pc\\anaconda3\\envs\\Minh-AI\\Lib\\site-packages\\llama_index\\graph_stores\\nebula\\nebula_graph_store.py:479\u001b[0m, in \u001b[0;36mNebulaGraphStore.get_rel_map\u001b[1;34m(self, subjs, depth, limit)\u001b[0m\n\u001b[0;32m    476\u001b[0m     \u001b[38;5;28;01mif\u001b[39;00m \u001b[38;5;28mlen\u001b[39m(subjs) \u001b[38;5;241m==\u001b[39m \u001b[38;5;241m0\u001b[39m:\n\u001b[0;32m    477\u001b[0m         \u001b[38;5;28;01mreturn\u001b[39;00m {}\n\u001b[1;32m--> 479\u001b[0m \u001b[38;5;28;01mreturn\u001b[39;00m \u001b[38;5;28;43mself\u001b[39;49m\u001b[38;5;241;43m.\u001b[39;49m\u001b[43mget_flat_rel_map\u001b[49m\u001b[43m(\u001b[49m\u001b[43msubjs\u001b[49m\u001b[43m,\u001b[49m\u001b[43m \u001b[49m\u001b[43mdepth\u001b[49m\u001b[43m,\u001b[49m\u001b[43m \u001b[49m\u001b[43mlimit\u001b[49m\u001b[43m)\u001b[49m\n",
      "File \u001b[1;32mc:\\Users\\My_Pc\\anaconda3\\envs\\Minh-AI\\Lib\\site-packages\\llama_index\\graph_stores\\nebula\\nebula_graph_store.py:448\u001b[0m, in \u001b[0;36mNebulaGraphStore.get_flat_rel_map\u001b[1;34m(self, subjs, depth, limit)\u001b[0m\n\u001b[0;32m    444\u001b[0m \u001b[38;5;28;01mif\u001b[39;00m subjs_param \u001b[38;5;241m==\u001b[39m {}:\n\u001b[0;32m    445\u001b[0m     \u001b[38;5;66;03m# This happens when subjs is None after prepare_subjs_param()\u001b[39;00m\n\u001b[0;32m    446\u001b[0m     \u001b[38;5;66;03m# Probably because vid type is INT64, but no digit string is provided.\u001b[39;00m\n\u001b[0;32m    447\u001b[0m     \u001b[38;5;28;01mreturn\u001b[39;00m rel_map\n\u001b[1;32m--> 448\u001b[0m result \u001b[38;5;241m=\u001b[39m \u001b[38;5;28;43mself\u001b[39;49m\u001b[38;5;241;43m.\u001b[39;49m\u001b[43mexecute\u001b[49m\u001b[43m(\u001b[49m\u001b[43mquery\u001b[49m\u001b[43m,\u001b[49m\u001b[43m \u001b[49m\u001b[43msubjs_param\u001b[49m\u001b[43m)\u001b[49m\n\u001b[0;32m    449\u001b[0m \u001b[38;5;28;01mif\u001b[39;00m result \u001b[38;5;129;01mis\u001b[39;00m \u001b[38;5;28;01mNone\u001b[39;00m:\n\u001b[0;32m    450\u001b[0m     \u001b[38;5;28;01mreturn\u001b[39;00m rel_map\n",
      "File \u001b[1;32mc:\\Users\\My_Pc\\anaconda3\\envs\\Minh-AI\\Lib\\site-packages\\tenacity\\__init__.py:336\u001b[0m, in \u001b[0;36mBaseRetrying.wraps.<locals>.wrapped_f\u001b[1;34m(*args, **kw)\u001b[0m\n\u001b[0;32m    334\u001b[0m copy \u001b[38;5;241m=\u001b[39m \u001b[38;5;28mself\u001b[39m\u001b[38;5;241m.\u001b[39mcopy()\n\u001b[0;32m    335\u001b[0m wrapped_f\u001b[38;5;241m.\u001b[39mstatistics \u001b[38;5;241m=\u001b[39m copy\u001b[38;5;241m.\u001b[39mstatistics  \u001b[38;5;66;03m# type: ignore[attr-defined]\u001b[39;00m\n\u001b[1;32m--> 336\u001b[0m \u001b[38;5;28;01mreturn\u001b[39;00m \u001b[43mcopy\u001b[49m\u001b[43m(\u001b[49m\u001b[43mf\u001b[49m\u001b[43m,\u001b[49m\u001b[43m \u001b[49m\u001b[38;5;241;43m*\u001b[39;49m\u001b[43margs\u001b[49m\u001b[43m,\u001b[49m\u001b[43m \u001b[49m\u001b[38;5;241;43m*\u001b[39;49m\u001b[38;5;241;43m*\u001b[39;49m\u001b[43mkw\u001b[49m\u001b[43m)\u001b[49m\n",
      "File \u001b[1;32mc:\\Users\\My_Pc\\anaconda3\\envs\\Minh-AI\\Lib\\site-packages\\tenacity\\__init__.py:475\u001b[0m, in \u001b[0;36mRetrying.__call__\u001b[1;34m(self, fn, *args, **kwargs)\u001b[0m\n\u001b[0;32m    473\u001b[0m retry_state \u001b[38;5;241m=\u001b[39m RetryCallState(retry_object\u001b[38;5;241m=\u001b[39m\u001b[38;5;28mself\u001b[39m, fn\u001b[38;5;241m=\u001b[39mfn, args\u001b[38;5;241m=\u001b[39margs, kwargs\u001b[38;5;241m=\u001b[39mkwargs)\n\u001b[0;32m    474\u001b[0m \u001b[38;5;28;01mwhile\u001b[39;00m \u001b[38;5;28;01mTrue\u001b[39;00m:\n\u001b[1;32m--> 475\u001b[0m     do \u001b[38;5;241m=\u001b[39m \u001b[38;5;28;43mself\u001b[39;49m\u001b[38;5;241;43m.\u001b[39;49m\u001b[43miter\u001b[49m\u001b[43m(\u001b[49m\u001b[43mretry_state\u001b[49m\u001b[38;5;241;43m=\u001b[39;49m\u001b[43mretry_state\u001b[49m\u001b[43m)\u001b[49m\n\u001b[0;32m    476\u001b[0m     \u001b[38;5;28;01mif\u001b[39;00m \u001b[38;5;28misinstance\u001b[39m(do, DoAttempt):\n\u001b[0;32m    477\u001b[0m         \u001b[38;5;28;01mtry\u001b[39;00m:\n",
      "File \u001b[1;32mc:\\Users\\My_Pc\\anaconda3\\envs\\Minh-AI\\Lib\\site-packages\\tenacity\\__init__.py:376\u001b[0m, in \u001b[0;36mBaseRetrying.iter\u001b[1;34m(self, retry_state)\u001b[0m\n\u001b[0;32m    374\u001b[0m result \u001b[38;5;241m=\u001b[39m \u001b[38;5;28;01mNone\u001b[39;00m\n\u001b[0;32m    375\u001b[0m \u001b[38;5;28;01mfor\u001b[39;00m action \u001b[38;5;129;01min\u001b[39;00m \u001b[38;5;28mself\u001b[39m\u001b[38;5;241m.\u001b[39miter_state\u001b[38;5;241m.\u001b[39mactions:\n\u001b[1;32m--> 376\u001b[0m     result \u001b[38;5;241m=\u001b[39m \u001b[43maction\u001b[49m\u001b[43m(\u001b[49m\u001b[43mretry_state\u001b[49m\u001b[43m)\u001b[49m\n\u001b[0;32m    377\u001b[0m \u001b[38;5;28;01mreturn\u001b[39;00m result\n",
      "File \u001b[1;32mc:\\Users\\My_Pc\\anaconda3\\envs\\Minh-AI\\Lib\\site-packages\\tenacity\\__init__.py:419\u001b[0m, in \u001b[0;36mBaseRetrying._post_stop_check_actions.<locals>.exc_check\u001b[1;34m(rs)\u001b[0m\n\u001b[0;32m    417\u001b[0m \u001b[38;5;28;01mif\u001b[39;00m \u001b[38;5;28mself\u001b[39m\u001b[38;5;241m.\u001b[39mreraise:\n\u001b[0;32m    418\u001b[0m     \u001b[38;5;28;01mraise\u001b[39;00m retry_exc\u001b[38;5;241m.\u001b[39mreraise()\n\u001b[1;32m--> 419\u001b[0m \u001b[38;5;28;01mraise\u001b[39;00m retry_exc \u001b[38;5;28;01mfrom\u001b[39;00m \u001b[38;5;21;01mfut\u001b[39;00m\u001b[38;5;21;01m.\u001b[39;00m\u001b[38;5;21;01mexception\u001b[39;00m()\n",
      "\u001b[1;31mRetryError\u001b[0m: RetryError[<Future at 0x1f5f81fac00 state=finished raised ValueError>]"
     ]
    }
   ],
   "source": [
    "from IPython.display import display, Markdown\n",
    "\n",
    "response = query_engine.query(\n",
    "    \"Tell me about Peter Quill?\",\n",
    ")\n",
    "display(Markdown(f\"<b>{response}</b>\"))"
   ]
  },
  {
   "cell_type": "code",
   "execution_count": 46,
   "metadata": {},
   "outputs": [
    {
     "ename": "SyntaxError",
     "evalue": "trailing comma not allowed without surrounding parentheses (1375810086.py, line 1)",
     "output_type": "error",
     "traceback": [
      "\u001b[1;36m  Cell \u001b[1;32mIn[46], line 1\u001b[1;36m\u001b[0m\n\u001b[1;33m    from llama_index.core import SimpleDirectoryReader, VectorStoreIndex,\u001b[0m\n\u001b[1;37m                                                                          ^\u001b[0m\n\u001b[1;31mSyntaxError\u001b[0m\u001b[1;31m:\u001b[0m trailing comma not allowed without surrounding parentheses\n"
     ]
    }
   ],
   "source": [
    "from llama_index.core import SimpleDirectoryReader, VectorStoreIndex, \n",
    "\n",
    "# Specify the directory containing your PDF documents\n",
    "directory_path = r'C:\\Users\\My_Pc\\Desktop\\Thư Viện Pháp Luật final\\Tool TVPL AI\\Graph_rag\\cong_thuc_tinh_thue'\n",
    "\n",
    "# Read documents from the directory\n",
    "documents = SimpleDirectoryReader(directory_path).load_data()\n"
   ]
  },
  {
   "cell_type": "code",
   "execution_count": null,
   "metadata": {},
   "outputs": [],
   "source": [
    "%pip install llama-index-readers-wikipedia\n",
    "%pip install llama-index-llms-azure-openai\n",
    "%pip install llama-index-graph-stores-nebula\n",
    "%pip install llama-index-llms-openai\n",
    "%pip install llama-index-embeddings-azure-openai"
   ]
  }
 ],
 "metadata": {
  "kernelspec": {
   "display_name": "Minh-AI",
   "language": "python",
   "name": "python3"
  },
  "language_info": {
   "codemirror_mode": {
    "name": "ipython",
    "version": 3
   },
   "file_extension": ".py",
   "mimetype": "text/x-python",
   "name": "python",
   "nbconvert_exporter": "python",
   "pygments_lexer": "ipython3",
   "version": "3.12.4"
  }
 },
 "nbformat": 4,
 "nbformat_minor": 2
}
